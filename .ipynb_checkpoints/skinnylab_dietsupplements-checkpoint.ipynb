{
 "cells": [
  {
   "cell_type": "markdown",
   "id": "f61d774d-cf67-40e4-a435-10a32ddef0b8",
   "metadata": {
    "tags": []
   },
   "source": [
    "### 스키니랩 다이어트보조제 "
   ]
  },
  {
   "cell_type": "code",
   "execution_count": 8,
   "id": "db2731cf-3bcb-4d51-b34c-c6dce2f8cb95",
   "metadata": {
    "tags": []
   },
   "outputs": [],
   "source": [
    "from selenium import webdriver\n",
    "import time\n",
    "import pandas as pd \n",
    "import pymongo as mg "
   ]
  },
  {
   "cell_type": "code",
   "execution_count": null,
   "id": "e85b73e5-d989-429b-8008-88e49111cbd3",
   "metadata": {
    "tags": []
   },
   "outputs": [],
   "source": [
    "browser = webdriver.Chrome(executable_path='../chromedriver.exe')"
   ]
  },
  {
   "cell_type": "code",
   "execution_count": null,
   "id": "8258453c-0794-4438-8828-2a5dcfa42f0d",
   "metadata": {
    "tags": []
   },
   "outputs": [],
   "source": [
    "browser.get('https://www.skinnylab.co.kr/shop/diet/cissus?JTdCJTIyY29uZGl0aW9ucyUyMiUzQSU3QiUyMmNhdGVnb3J5Q2xzZkJTZXElMjIlM0ElMjI2JTIyJTJDJTIyc2VhcmNoV29yZCUyMiUzQSUyMiUyMiUyQyUyMm1pblNhbGVQcmljZSUyMiUzQTE5NTAwJTJDJTIybWF4U2FsZVByaWNlJTIyJTNBMjM2NTAwJTdEJTJDJTIycGFnZSUyMiUzQTElMkMlMjJzaXplJTIyJTNBMTAlMkMlMjJzb3J0JTIyJTNBJTIydmlld0NvdW50JTJDREVTQyUyMiU3RA==')"
   ]
  },
  {
   "cell_type": "markdown",
   "id": "88e91052-c9d3-494b-9f63-0bc2643c3eed",
   "metadata": {
    "tags": []
   },
   "source": [
    "### 글 가져오기\n",
    "- 상품 클릭 tag: #goods > div.container-wrap > div > ul > li:nth-child(1)\n",
    "- 상품명 tag: #goodsDetail > div.content > div.head > h2 > span.main\n",
    "- 상품리뷰 클릭 tag: #content-main > div.fixed-tab-menu > div > div > ul > li:nth-child(3)\n",
    "- 리뷰 번들 tag: #review > div.review-accordion > dl:nth-child({})\n",
    "- 리뷰 작성자 tag: .name\n",
    "- 리뷰 별점 tag: .fill  / #review > div.review-accordion > dl:nth-child(1) > dt > div > p.grade-star.small\n",
    "- 리뷰 날짜 tag: .date\n",
    "- 리뷰 내용 tag: .review-contents-detail\n",
    "\n",
    "### 페이지네이션\n",
    "- next page : #review > div.common-pagination > div > a.paging-btn.next"
   ]
  },
  {
   "cell_type": "markdown",
   "id": "08276a38-3922-4fcd-bf37-e927d3b3330d",
   "metadata": {},
   "source": [
    "### 컬럼 \n",
    "product_name, review_name, review_title, review_content, review_date, review_rating"
   ]
  },
  {
   "cell_type": "code",
   "execution_count": 57,
   "id": "aa6f68f2-f4d8-4836-a1b4-ce5bc7c891e9",
   "metadata": {
    "tags": []
   },
   "outputs": [
    {
     "data": {
      "text/plain": [
       "10"
      ]
     },
     "execution_count": 57,
     "metadata": {},
     "output_type": "execute_result"
    }
   ],
   "source": [
    "#페이지당 상품 묶음 개수 체크        \n",
    "post_bundle = browser.find_elements_by_css_selector('.main')\n",
    "len(post_bundle)"
   ]
  },
  {
   "cell_type": "code",
   "execution_count": 128,
   "id": "5988beda-afe6-4554-a49f-837ff941d342",
   "metadata": {
    "tags": []
   },
   "outputs": [
    {
     "data": {
      "text/plain": [
       "'스키니랩 가벼워지는 시서스 다이어트 14포 x8박스 8주분'"
      ]
     },
     "execution_count": 128,
     "metadata": {},
     "output_type": "execute_result"
    }
   ],
   "source": [
    "#상품 이름 및 클릭 \n",
    "browser.find_element_by_css_selector('#goods > div.container-wrap > div > ul > li:nth-child({})'.format(1)).click()\n",
    "product_name = browser.find_element_by_css_selector('#goodsDetail > div.content > div.head > h2 > span.main').text\n",
    "product_name"
   ]
  },
  {
   "cell_type": "code",
   "execution_count": 134,
   "id": "c59b470a-6a83-4609-91bf-e1bf7057d8d7",
   "metadata": {
    "tags": []
   },
   "outputs": [],
   "source": [
    "#상품리뷰 클릭 \n",
    "browser.find_element_by_css_selector('#content-main > div.fixed-tab-menu > div > div > ul > li:nth-child(3)').click()"
   ]
  },
  {
   "cell_type": "code",
   "execution_count": 135,
   "id": "47e36cbe-c8f9-4666-8822-4d76332b92bd",
   "metadata": {
    "tags": []
   },
   "outputs": [],
   "source": [
    "#리뷰 번들 \n",
    "review_bundle = browser.find_element_by_css_selector('#review > div.review-accordion > dl:nth-child({})'.format(10))"
   ]
  },
  {
   "cell_type": "code",
   "execution_count": 138,
   "id": "343ffa01-a71b-4f00-a9d4-562604c85c77",
   "metadata": {
    "tags": []
   },
   "outputs": [],
   "source": [
    "#글쓴이, 내용, 날짜, 별점 \n",
    "review_name = review_bundle.find_element_by_css_selector('.name').text\n",
    "review_content = review_bundle.find_element_by_css_selector('.review-contents-detail').text\n",
    "review_date = review_bundle.find_element_by_css_selector('.date').text\n",
    "review_rating = review_bundle.find_element_by_css_selector('.fill').get_attribute('aria-label')"
   ]
  },
  {
   "cell_type": "code",
   "execution_count": 139,
   "id": "23e5a36b-8b2d-4e11-bdee-75f18e04924f",
   "metadata": {
    "tags": []
   },
   "outputs": [
    {
     "data": {
      "text/plain": [
       "['스키니랩 가벼워지는 시서스 다이어트 14포 x8박스 8주분',\n",
       " '이*정',\n",
       " '거의6**째먹고잇어요 맛은먹을만한데가격이너,무비싸네요 ㅜ ***.분해해준다길래먹고잇어요 가격이너무부담되네요',\n",
       " '2021.12.14',\n",
       " None]"
      ]
     },
     "execution_count": 139,
     "metadata": {},
     "output_type": "execute_result"
    }
   ],
   "source": [
    "[product_name, review_name, review_content, review_date, review_rating]"
   ]
  },
  {
   "cell_type": "code",
   "execution_count": 149,
   "id": "f490eed3-d602-41b1-b222-3b837e5a7e5a",
   "metadata": {
    "collapsed": true,
    "jupyter": {
     "outputs_hidden": true
    },
    "tags": []
   },
   "outputs": [
    {
     "ename": "IndentationError",
     "evalue": "expected an indented block after 'except' statement on line 32 (1546364154.py, line 33)",
     "output_type": "error",
     "traceback": [
      "\u001b[1;36m  Cell \u001b[1;32mIn[149], line 33\u001b[1;36m\u001b[0m\n\u001b[1;33m    browser.find_element_by_css_selector('.paging-btn next').click\u001b[0m\n\u001b[1;37m    ^\u001b[0m\n\u001b[1;31mIndentationError\u001b[0m\u001b[1;31m:\u001b[0m expected an indented block after 'except' statement on line 32\n"
     ]
    }
   ],
   "source": [
    "review_list =[]\n",
    "for product in range(1,10):\n",
    "    browser.find_element_by_css_selector('#goods > div.container-wrap > div > ul > li:nth-child({})'.format(product)).click()\n",
    "    time.sleep(1)\n",
    "    browser.find_element_by_css_selector('#content-main > div.fixed-tab-menu > div > div > ul > li:nth-child(3)').click()\n",
    "    try:\n",
    "        for next_page in range(1,100):\n",
    "            try:\n",
    "                time.sleep(1)\n",
    "                for number in range(1,10):\n",
    "                    try:\n",
    "                        product_columns_name = [product_name, review_name, review_content, review_date, review_rating]                                        \n",
    "                        time.sleep(1)\n",
    "                        product_name = product_name = browser.find_element_by_css_selector('.main').text                                          \n",
    "                        review_bundle = browser.find_element_by_css_selector('#review > div.review-accordion > dl:nth-child({})'.format(number))\n",
    "                        try:\n",
    "                            review_name = review_bundle.find_element_by_css_selector('.name').text\n",
    "                        except: \n",
    "                            review_name = str()\n",
    "                        try: \n",
    "                            review_content = review_bundle.find_element_by_css_selector('.review-contents-detail').text\n",
    "                        except: \n",
    "                            review_content = str()\n",
    "                        try:\n",
    "                            review_date = review_bundle.find_element_by_css_selector('.date').text     \n",
    "                        except: \n",
    "                            review_date = str()\n",
    "                        time.sleep(1)\n",
    "                        single_review_list = [product_name, review_name, review_content, review_date]\n",
    "                        print(single_review_list)\n",
    "                        review_list.append(single_review_list)\n",
    "                    except:\n",
    "                browser.find_element_by_css_selector('.paging-btn next').click\n",
    "            except:  \n",
    "    except: \n",
    "         pass                                                                                                               "
   ]
  },
  {
   "cell_type": "code",
   "execution_count": null,
   "id": "35173f18-3c1e-42ff-873c-75c4c00a6056",
   "metadata": {
    "tags": []
   },
   "outputs": [],
   "source": [
    "import time\n",
    "review_list = []\n",
    "\n",
    "for product in range(1, 10):\n",
    "    browser.find_element_by_css_selector('#goods > div.container-wrap > div > ul > li:nth-child({})'.format(product)).click()\n",
    "    time.sleep(1)\n",
    "    browser.find_element_by_css_selector('#content-main > div.fixed-tab-menu > div > div > ul > li:nth-child(3)').click()\n",
    "    try:\n",
    "        for next_page in range(2, 111):\n",
    "            try:\n",
    "                time.sleep(1)\n",
    "                for number in range(1, 10):\n",
    "                    try:\n",
    "                        product_columns_name = [product_name, review_name, review_content, review_date, review_rating]\n",
    "                        time.sleep(1)\n",
    "                        product_name = browser.find_element_by_css_selector('.main').text\n",
    "                        review_bundle = browser.find_element_by_css_selector('#review > div.review-accordion > dl:nth-child({})'.format(number))\n",
    "                        try:\n",
    "                            review_name = review_bundle.find_element_by_css_selector('.name').text\n",
    "                        except:\n",
    "                            review_name = \"\"\n",
    "                        try:\n",
    "                            review_content = review_bundle.find_element_by_css_selector('.review-contents-detail').text\n",
    "                        except:\n",
    "                            review_content = \"\"\n",
    "                        try:\n",
    "                            review_date = review_bundle.find_element_by_css_selector('.date').text\n",
    "                        except:\n",
    "                            review_date = \"\"\n",
    "                        time.sleep(1)\n",
    "                        single_review_list = [product_name, review_name, review_content, review_date]\n",
    "                        print(single_review_list)\n",
    "                        review_list.append(single_review_list)\n",
    "                    except Exception as e:\n",
    "                        print(f\"리뷰 데이터 스크래핑 중 오류 발생: {e}\")\n",
    "                \n",
    "                # 페이지네이션을 찾아서 클릭\n",
    "                next_button = driver.find_element_by_class_name(\"paging-btn\")\n",
    "                next_button.click()\n",
    "            except Exception as e:\n",
    "                print(f\"다음 페이지로 이동 중 오류 발생: {e}\")\n",
    "    except Exception as e:\n",
    "        print(f\"상품 데이터 스크래핑 중 오류 발생: {e}\")"
   ]
  },
  {
   "cell_type": "code",
   "execution_count": null,
   "id": "62ce1e69-c82e-4f90-85a8-06789d3ba7c3",
   "metadata": {},
   "outputs": [],
   "source": []
  }
 ],
 "metadata": {
  "kernelspec": {
   "display_name": "Python 3 (ipykernel)",
   "language": "python",
   "name": "python3"
  },
  "language_info": {
   "codemirror_mode": {
    "name": "ipython",
    "version": 3
   },
   "file_extension": ".py",
   "mimetype": "text/x-python",
   "name": "python",
   "nbconvert_exporter": "python",
   "pygments_lexer": "ipython3",
   "version": "3.11.3"
  }
 },
 "nbformat": 4,
 "nbformat_minor": 5
}
