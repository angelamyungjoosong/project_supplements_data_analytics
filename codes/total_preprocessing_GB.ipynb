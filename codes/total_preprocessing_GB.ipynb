{
 "cells": [
  {
   "cell_type": "markdown",
   "id": "ea61aa0e-4046-412a-b6ac-eb2456445a68",
   "metadata": {},
   "source": [
    "## 통합 데이터 전처리 진행 "
   ]
  },
  {
   "cell_type": "markdown",
   "id": "ae6678b3-3e49-459d-b1aa-ea45d74db513",
   "metadata": {
    "jp-MarkdownHeadingCollapsed": true,
    "tags": []
   },
   "source": [
    "### 데이터 불러오기 및 병합 "
   ]
  },
  {
   "cell_type": "code",
   "execution_count": 1,
   "id": "3d96eb40-123f-441b-8add-8d81e8856727",
   "metadata": {
    "tags": []
   },
   "outputs": [],
   "source": [
    "import numpy as np\n",
    "import pandas as pd"
   ]
  },
  {
   "cell_type": "code",
   "execution_count": 2,
   "id": "f786fbe3-6261-4ec8-931b-a5008ca24e9a",
   "metadata": {
    "tags": []
   },
   "outputs": [],
   "source": [
    "# 데이터 불러오기 \n",
    "df1 = pd.read_csv('../datasets/oliveyoung_wemake_data.csv', index_col= None)\n",
    "df2 = pd.read_csv('../datasets/supplements_data_reviews.csv', index_col= None)\n",
    "df1 = df1.drop(columns=['Unnamed: 0']) # 인덱스 열 삭제 \n",
    "df2 = df2.drop(columns=['Unnamed: 0'])"
   ]
  },
  {
   "cell_type": "code",
   "execution_count": 3,
   "id": "7cc30176-646d-43cb-b5f0-d38269732639",
   "metadata": {
    "tags": []
   },
   "outputs": [
    {
     "data": {
      "text/html": [
       "<div>\n",
       "<style scoped>\n",
       "    .dataframe tbody tr th:only-of-type {\n",
       "        vertical-align: middle;\n",
       "    }\n",
       "\n",
       "    .dataframe tbody tr th {\n",
       "        vertical-align: top;\n",
       "    }\n",
       "\n",
       "    .dataframe thead th {\n",
       "        text-align: right;\n",
       "    }\n",
       "</style>\n",
       "<table border=\"1\" class=\"dataframe\">\n",
       "  <thead>\n",
       "    <tr style=\"text-align: right;\">\n",
       "      <th></th>\n",
       "      <th>product_name</th>\n",
       "      <th>review_name</th>\n",
       "      <th>review_content</th>\n",
       "      <th>review_date</th>\n",
       "      <th>review_rating</th>\n",
       "    </tr>\n",
       "  </thead>\n",
       "  <tbody>\n",
       "    <tr>\n",
       "      <th>0</th>\n",
       "      <td>[주현영, 이나연 찐템]딥트 3일 피치(맛)번 30정 (30일분)</td>\n",
       "      <td>보리오빠</td>\n",
       "      <td>없으면 안될 최고의 diet템! 피치번을 추천합니당 ㅎㅎ 사진엔 없지만 4통째 먹고...</td>\n",
       "      <td>2023.08.27</td>\n",
       "      <td>5점만점에 5점</td>\n",
       "    </tr>\n",
       "    <tr>\n",
       "      <th>1</th>\n",
       "      <td>[주현영, 이나연 찐템]딥트 3일 피치(맛)번 30정 (30일분)</td>\n",
       "      <td>바보바니</td>\n",
       "      <td>알약 통통이하트 넘예뻐요. 자기전 먹고 효과있으면 얼마나 좋을까요 ㅜㅜ 나이들수록 ...</td>\n",
       "      <td>2023.09.14</td>\n",
       "      <td>5점만점에 5점</td>\n",
       "    </tr>\n",
       "  </tbody>\n",
       "</table>\n",
       "</div>"
      ],
      "text/plain": [
       "                           product_name review_name  \\\n",
       "0  [주현영, 이나연 찐템]딥트 3일 피치(맛)번 30정 (30일분)        보리오빠   \n",
       "1  [주현영, 이나연 찐템]딥트 3일 피치(맛)번 30정 (30일분)        바보바니   \n",
       "\n",
       "                                      review_content review_date review_rating  \n",
       "0  없으면 안될 최고의 diet템! 피치번을 추천합니당 ㅎㅎ 사진엔 없지만 4통째 먹고...  2023.08.27      5점만점에 5점  \n",
       "1  알약 통통이하트 넘예뻐요. 자기전 먹고 효과있으면 얼마나 좋을까요 ㅜㅜ 나이들수록 ...  2023.09.14      5점만점에 5점  "
      ]
     },
     "execution_count": 3,
     "metadata": {},
     "output_type": "execute_result"
    }
   ],
   "source": [
    "# 병합 \n",
    "data = pd.concat([df1, df2], axis=0)\n",
    "data[:2]"
   ]
  },
  {
   "cell_type": "markdown",
   "id": "514f377c-c3aa-4780-ba2a-b73460f74fa0",
   "metadata": {
    "tags": []
   },
   "source": [
    "### 전처리 진행"
   ]
  },
  {
   "cell_type": "markdown",
   "id": "2d42c576-c1ab-46bc-9c6d-78d54212bb77",
   "metadata": {},
   "source": [
    "#### 결측치 처리 "
   ]
  },
  {
   "cell_type": "code",
   "execution_count": 4,
   "id": "bb1eff8b-217d-4400-a3b7-8a49e475bf25",
   "metadata": {
    "tags": []
   },
   "outputs": [
    {
     "name": "stdout",
     "output_type": "stream",
     "text": [
      "<class 'pandas.core.frame.DataFrame'>\n",
      "Index: 7077 entries, 0 to 2487\n",
      "Data columns (total 5 columns):\n",
      " #   Column          Non-Null Count  Dtype \n",
      "---  ------          --------------  ----- \n",
      " 0   product_name    7077 non-null   object\n",
      " 1   review_name     7058 non-null   object\n",
      " 2   review_content  6388 non-null   object\n",
      " 3   review_date     6951 non-null   object\n",
      " 4   review_rating   4423 non-null   object\n",
      "dtypes: object(5)\n",
      "memory usage: 331.7+ KB\n"
     ]
    }
   ],
   "source": [
    "data.info()"
   ]
  },
  {
   "cell_type": "code",
   "execution_count": 5,
   "id": "fd6d0fc4-8c44-4bd8-96e8-c9f62362898b",
   "metadata": {
    "tags": []
   },
   "outputs": [
    {
     "data": {
      "text/plain": [
       "product_name         0\n",
       "review_name         19\n",
       "review_content     689\n",
       "review_date        126\n",
       "review_rating     2654\n",
       "dtype: int64"
      ]
     },
     "execution_count": 5,
     "metadata": {},
     "output_type": "execute_result"
    }
   ],
   "source": [
    "data.isnull().sum()"
   ]
  },
  {
   "cell_type": "code",
   "execution_count": 6,
   "id": "01061485-fd7f-4892-b1e8-5e9e582a4edd",
   "metadata": {
    "tags": []
   },
   "outputs": [],
   "source": [
    "# 특정 컬럼 값의 결측치만 제거 \n",
    "data.dropna(subset=['review_content'], inplace=True)"
   ]
  },
  {
   "cell_type": "code",
   "execution_count": 7,
   "id": "ef0a1adb-2d1a-406d-8dbf-c654f1a8fae9",
   "metadata": {
    "tags": []
   },
   "outputs": [
    {
     "data": {
      "text/plain": [
       "6388"
      ]
     },
     "execution_count": 7,
     "metadata": {},
     "output_type": "execute_result"
    }
   ],
   "source": [
    "len(data) #데이터 갯수 확인"
   ]
  },
  {
   "cell_type": "markdown",
   "id": "83de8785-7d18-4355-a865-e47d34646cbf",
   "metadata": {},
   "source": [
    "#### 형태소 분석"
   ]
  },
  {
   "cell_type": "code",
   "execution_count": 8,
   "id": "9ce4984d-aed3-4994-9427-0c6aea1032d1",
   "metadata": {
    "tags": []
   },
   "outputs": [],
   "source": [
    "from konlpy.tag import Okt\n",
    "okt = Okt()"
   ]
  },
  {
   "cell_type": "code",
   "execution_count": 9,
   "id": "a2b039ce-37ff-4493-88f7-fc43af5b30a0",
   "metadata": {
    "tags": []
   },
   "outputs": [],
   "source": [
    "content = list(data['review_content']) # 하나로 뭉치기 #데이터타입 : list"
   ]
  },
  {
   "cell_type": "code",
   "execution_count": 10,
   "id": "5b675465-91a5-4c29-a088-f89ba8b9fad7",
   "metadata": {
    "tags": []
   },
   "outputs": [],
   "source": [
    "sentence = ' '.join(content) #한줄로 만들기  #데이터 타입 : str"
   ]
  },
  {
   "cell_type": "code",
   "execution_count": 11,
   "id": "8c0090d9-2153-43cb-bc0b-6937b1cd2340",
   "metadata": {
    "tags": []
   },
   "outputs": [],
   "source": [
    "word_tokens = okt.morphs(sentence) #품사 분리 "
   ]
  },
  {
   "cell_type": "code",
   "execution_count": 12,
   "id": "934f0623-1a3f-4892-aa80-30805d1d79db",
   "metadata": {
    "tags": []
   },
   "outputs": [],
   "source": [
    "#okt.pos(sentence) #품사 종류 보기 "
   ]
  },
  {
   "cell_type": "code",
   "execution_count": 13,
   "id": "7994f451-6d8e-4cb4-8df9-356fcd676c02",
   "metadata": {
    "tags": []
   },
   "outputs": [],
   "source": [
    "# 리뷰내용 토큰화 함수 \n",
    "def tokenize_sentence(sentence):\n",
    "    tokens = okt.morphs(sentence)\n",
    "    return ' '.join(tokens)"
   ]
  },
  {
   "cell_type": "code",
   "execution_count": 14,
   "id": "d9e7d1b5-474f-4a0d-bd9f-fae0157153e3",
   "metadata": {
    "tags": []
   },
   "outputs": [
    {
     "data": {
      "text/html": [
       "<div>\n",
       "<style scoped>\n",
       "    .dataframe tbody tr th:only-of-type {\n",
       "        vertical-align: middle;\n",
       "    }\n",
       "\n",
       "    .dataframe tbody tr th {\n",
       "        vertical-align: top;\n",
       "    }\n",
       "\n",
       "    .dataframe thead th {\n",
       "        text-align: right;\n",
       "    }\n",
       "</style>\n",
       "<table border=\"1\" class=\"dataframe\">\n",
       "  <thead>\n",
       "    <tr style=\"text-align: right;\">\n",
       "      <th></th>\n",
       "      <th>product_name</th>\n",
       "      <th>review_name</th>\n",
       "      <th>review_content</th>\n",
       "      <th>review_date</th>\n",
       "      <th>review_rating</th>\n",
       "      <th>tokenized_review</th>\n",
       "    </tr>\n",
       "  </thead>\n",
       "  <tbody>\n",
       "    <tr>\n",
       "      <th>0</th>\n",
       "      <td>[주현영, 이나연 찐템]딥트 3일 피치(맛)번 30정 (30일분)</td>\n",
       "      <td>보리오빠</td>\n",
       "      <td>없으면 안될 최고의 diet템! 피치번을 추천합니당 ㅎㅎ 사진엔 없지만 4통째 먹고...</td>\n",
       "      <td>2023.08.27</td>\n",
       "      <td>5점만점에 5점</td>\n",
       "      <td>없으면 안될 최고 의 diet 템 ! 피치 번 을 추천 합니당 ㅎㅎ 사진 엔 없지만...</td>\n",
       "    </tr>\n",
       "    <tr>\n",
       "      <th>1</th>\n",
       "      <td>[주현영, 이나연 찐템]딥트 3일 피치(맛)번 30정 (30일분)</td>\n",
       "      <td>바보바니</td>\n",
       "      <td>알약 통통이하트 넘예뻐요. 자기전 먹고 효과있으면 얼마나 좋을까요 ㅜㅜ 나이들수록 ...</td>\n",
       "      <td>2023.09.14</td>\n",
       "      <td>5점만점에 5점</td>\n",
       "      <td>알약 통통이 하트 넘 예뻐요 . 자기전 먹고 효과 있으면 얼마나 좋을까요 ㅜㅜ 나이...</td>\n",
       "    </tr>\n",
       "  </tbody>\n",
       "</table>\n",
       "</div>"
      ],
      "text/plain": [
       "                           product_name review_name  \\\n",
       "0  [주현영, 이나연 찐템]딥트 3일 피치(맛)번 30정 (30일분)        보리오빠   \n",
       "1  [주현영, 이나연 찐템]딥트 3일 피치(맛)번 30정 (30일분)        바보바니   \n",
       "\n",
       "                                      review_content review_date  \\\n",
       "0  없으면 안될 최고의 diet템! 피치번을 추천합니당 ㅎㅎ 사진엔 없지만 4통째 먹고...  2023.08.27   \n",
       "1  알약 통통이하트 넘예뻐요. 자기전 먹고 효과있으면 얼마나 좋을까요 ㅜㅜ 나이들수록 ...  2023.09.14   \n",
       "\n",
       "  review_rating                                   tokenized_review  \n",
       "0      5점만점에 5점  없으면 안될 최고 의 diet 템 ! 피치 번 을 추천 합니당 ㅎㅎ 사진 엔 없지만...  \n",
       "1      5점만점에 5점  알약 통통이 하트 넘 예뻐요 . 자기전 먹고 효과 있으면 얼마나 좋을까요 ㅜㅜ 나이...  "
      ]
     },
     "execution_count": 14,
     "metadata": {},
     "output_type": "execute_result"
    }
   ],
   "source": [
    "data['tokenized_review'] = data['review_content'].apply(tokenize_sentence)\n",
    "data[:2]"
   ]
  },
  {
   "cell_type": "markdown",
   "id": "4cdf0554-dc0d-4d89-b792-40e311fc3b4a",
   "metadata": {},
   "source": [
    "#### 유사어 대치 "
   ]
  },
  {
   "cell_type": "code",
   "execution_count": 15,
   "id": "22cba5ce-d0a1-4234-9508-ab07ebada5f7",
   "metadata": {
    "tags": []
   },
   "outputs": [
    {
     "data": {
      "text/html": [
       "<div>\n",
       "<style scoped>\n",
       "    .dataframe tbody tr th:only-of-type {\n",
       "        vertical-align: middle;\n",
       "    }\n",
       "\n",
       "    .dataframe tbody tr th {\n",
       "        vertical-align: top;\n",
       "    }\n",
       "\n",
       "    .dataframe thead th {\n",
       "        text-align: right;\n",
       "    }\n",
       "</style>\n",
       "<table border=\"1\" class=\"dataframe\">\n",
       "  <thead>\n",
       "    <tr style=\"text-align: right;\">\n",
       "      <th></th>\n",
       "      <th>before_replacement</th>\n",
       "      <th>after_replacement</th>\n",
       "    </tr>\n",
       "  </thead>\n",
       "  <tbody>\n",
       "    <tr>\n",
       "      <th>0</th>\n",
       "      <td>diet</td>\n",
       "      <td>다이어트</td>\n",
       "    </tr>\n",
       "    <tr>\n",
       "      <th>1</th>\n",
       "      <td>diet템</td>\n",
       "      <td>다이어트 제품</td>\n",
       "    </tr>\n",
       "    <tr>\n",
       "      <th>2</th>\n",
       "      <td>다욧트</td>\n",
       "      <td>다이어트</td>\n",
       "    </tr>\n",
       "  </tbody>\n",
       "</table>\n",
       "</div>"
      ],
      "text/plain": [
       "  before_replacement after_replacement\n",
       "0              diet              다이어트 \n",
       "1              diet템           다이어트 제품\n",
       "2                다욧트             다이어트 "
      ]
     },
     "execution_count": 15,
     "metadata": {},
     "output_type": "execute_result"
    }
   ],
   "source": [
    "replace_list = pd.read_csv('../datasets/replace_list.csv')\n",
    "replace_list[:3]"
   ]
  },
  {
   "cell_type": "code",
   "execution_count": 16,
   "id": "6c06a1ec-78fe-4f3b-a97a-3367feecf033",
   "metadata": {
    "tags": []
   },
   "outputs": [],
   "source": [
    "# 유사어 대치를 위한 함수 \n",
    "def replace_word(tokenized_review):\n",
    "    replaced_review = []\n",
    "    for i in range(len(replace_list['before_replacement'])):\n",
    "        try:\n",
    "          # 치환할 단어가 있는 경우에만 데이터 치환 수행\n",
    "          if isinstance(tokenized_review, str) and replace_list['before_replacement'][i] in tokenized_review:\n",
    "            tokenized_review = tokenized_review.replace(replace_list['before_replacement'][i], replace_list['after_replacement'][i])\n",
    "        except Exception as e:\n",
    "            #print(f\"Error 발생 / 에러명: {e}\")\n",
    "            pass\n",
    "    return tokenized_review"
   ]
  },
  {
   "cell_type": "code",
   "execution_count": 17,
   "id": "d5ecb2c1-556f-45e1-9c04-305d39536a87",
   "metadata": {
    "tags": []
   },
   "outputs": [
    {
     "data": {
      "text/plain": [
       "'다이어트 제품 스트레스 체중 빼다 복숭아 달달하다 달달하다 빠르다 '"
      ]
     },
     "execution_count": 17,
     "metadata": {},
     "output_type": "execute_result"
    }
   ],
   "source": [
    "# 확인용 \n",
    "replace_word('diet템 stess 살이 빠지다 피치 달달 단맛 빨르다')"
   ]
  },
  {
   "cell_type": "code",
   "execution_count": 18,
   "id": "1c2040f2-3b1f-44b4-bff4-73c02fa04bb3",
   "metadata": {
    "tags": []
   },
   "outputs": [
    {
     "data": {
      "text/html": [
       "<div>\n",
       "<style scoped>\n",
       "    .dataframe tbody tr th:only-of-type {\n",
       "        vertical-align: middle;\n",
       "    }\n",
       "\n",
       "    .dataframe tbody tr th {\n",
       "        vertical-align: top;\n",
       "    }\n",
       "\n",
       "    .dataframe thead th {\n",
       "        text-align: right;\n",
       "    }\n",
       "</style>\n",
       "<table border=\"1\" class=\"dataframe\">\n",
       "  <thead>\n",
       "    <tr style=\"text-align: right;\">\n",
       "      <th></th>\n",
       "      <th>product_name</th>\n",
       "      <th>review_name</th>\n",
       "      <th>review_content</th>\n",
       "      <th>review_date</th>\n",
       "      <th>review_rating</th>\n",
       "      <th>tokenized_review</th>\n",
       "      <th>replaced_review</th>\n",
       "    </tr>\n",
       "  </thead>\n",
       "  <tbody>\n",
       "    <tr>\n",
       "      <th>0</th>\n",
       "      <td>[주현영, 이나연 찐템]딥트 3일 피치(맛)번 30정 (30일분)</td>\n",
       "      <td>보리오빠</td>\n",
       "      <td>없으면 안될 최고의 diet템! 피치번을 추천합니당 ㅎㅎ 사진엔 없지만 4통째 먹고...</td>\n",
       "      <td>2023.08.27</td>\n",
       "      <td>5점만점에 5점</td>\n",
       "      <td>없으면 안될 최고 의 diet 템 ! 피치 번 을 추천 합니당 ㅎㅎ 사진 엔 없지만...</td>\n",
       "      <td>없으면 안될 최고 의 다이어트 제품 ! 복숭아 번 을 추천 합니당 웃음 사진 엔 없...</td>\n",
       "    </tr>\n",
       "    <tr>\n",
       "      <th>1</th>\n",
       "      <td>[주현영, 이나연 찐템]딥트 3일 피치(맛)번 30정 (30일분)</td>\n",
       "      <td>바보바니</td>\n",
       "      <td>알약 통통이하트 넘예뻐요. 자기전 먹고 효과있으면 얼마나 좋을까요 ㅜㅜ 나이들수록 ...</td>\n",
       "      <td>2023.09.14</td>\n",
       "      <td>5점만점에 5점</td>\n",
       "      <td>알약 통통이 하트 넘 예뻐요 . 자기전 먹고 효과 있으면 얼마나 좋을까요 ㅜㅜ 나이...</td>\n",
       "      <td>알약 통통이 좋다넘 예뻐요 . 자기전 먹고 효과 있으면 얼마나 좋을까요 눈물눈물 나...</td>\n",
       "    </tr>\n",
       "  </tbody>\n",
       "</table>\n",
       "</div>"
      ],
      "text/plain": [
       "                           product_name review_name  \\\n",
       "0  [주현영, 이나연 찐템]딥트 3일 피치(맛)번 30정 (30일분)        보리오빠   \n",
       "1  [주현영, 이나연 찐템]딥트 3일 피치(맛)번 30정 (30일분)        바보바니   \n",
       "\n",
       "                                      review_content review_date  \\\n",
       "0  없으면 안될 최고의 diet템! 피치번을 추천합니당 ㅎㅎ 사진엔 없지만 4통째 먹고...  2023.08.27   \n",
       "1  알약 통통이하트 넘예뻐요. 자기전 먹고 효과있으면 얼마나 좋을까요 ㅜㅜ 나이들수록 ...  2023.09.14   \n",
       "\n",
       "  review_rating                                   tokenized_review  \\\n",
       "0      5점만점에 5점  없으면 안될 최고 의 diet 템 ! 피치 번 을 추천 합니당 ㅎㅎ 사진 엔 없지만...   \n",
       "1      5점만점에 5점  알약 통통이 하트 넘 예뻐요 . 자기전 먹고 효과 있으면 얼마나 좋을까요 ㅜㅜ 나이...   \n",
       "\n",
       "                                     replaced_review  \n",
       "0  없으면 안될 최고 의 다이어트 제품 ! 복숭아 번 을 추천 합니당 웃음 사진 엔 없...  \n",
       "1  알약 통통이 좋다넘 예뻐요 . 자기전 먹고 효과 있으면 얼마나 좋을까요 눈물눈물 나...  "
      ]
     },
     "execution_count": 18,
     "metadata": {},
     "output_type": "execute_result"
    }
   ],
   "source": [
    "data['replaced_review'] = data['tokenized_review'].apply(replace_word)\n",
    "data[:2]"
   ]
  },
  {
   "cell_type": "markdown",
   "id": "8a630422-8640-4f23-8fa1-6fa0a336eac8",
   "metadata": {},
   "source": [
    "#### 불용어 처리/한글자 처리 "
   ]
  },
  {
   "cell_type": "code",
   "execution_count": 19,
   "id": "a14510ca-3537-4ca0-a884-e1ef58e0506f",
   "metadata": {
    "tags": []
   },
   "outputs": [],
   "source": [
    "# 불용어 사전 불러오기\n",
    "stop_words = pd.read_csv('../datasets/stopword_list.txt', header=None, encoding ='utf-8')\n",
    "stop_words= stop_words[0].values"
   ]
  },
  {
   "cell_type": "code",
   "execution_count": 20,
   "id": "2e0ac892-ffb0-4645-815f-2d31fbab72ab",
   "metadata": {
    "tags": []
   },
   "outputs": [],
   "source": [
    "# 한글자 사전 불러오기 \n",
    "one_char_keyword = pd.read_csv('../datasets/one_char_list.txt', header=None, encoding ='utf-8')\n",
    "one_char_keyword = one_char_keyword[0].values"
   ]
  },
  {
   "cell_type": "code",
   "execution_count": 21,
   "id": "4afd7c66-e3ca-481d-a7f0-ff0d9d2a797c",
   "metadata": {
    "tags": []
   },
   "outputs": [],
   "source": [
    "from konlpy.tag import Okt\n",
    "okt = Okt()\n",
    "from mecab import MeCab\n",
    "mecab = MeCab()"
   ]
  },
  {
   "cell_type": "code",
   "execution_count": 22,
   "id": "9d637b96-2a57-428b-b329-de9d59170922",
   "metadata": {
    "tags": []
   },
   "outputs": [],
   "source": [
    "# 불용어, 한글자 처리 함수\n",
    "def remove_stopword(raw, pos=[\"Noun\",\"Alpha\",\"Verb\",\"Number\",\"Adjective\"], stopword=stop_words):\n",
    "    tokens = []\n",
    "    for word, tag in okt.pos(\n",
    "        raw, \n",
    "        norm=True,   # normalize 그랰ㅋㅏ -> 그래ㅋㅋ\n",
    "        stem=True    # stemming 바뀌나->바뀌다\n",
    "    ):\n",
    "        if len(word) > 1 and tag in pos and word not in stopword:\n",
    "            tokens.append(word)\n",
    "        elif len(word) == 1 and word in list(one_char_keyword):\n",
    "            tokens.append(word)\n",
    "    return ' '.join(tokens)  # 결과 리스트를 문자열로 결합하여 반환"
   ]
  },
  {
   "cell_type": "code",
   "execution_count": 23,
   "id": "39dbeec0-feef-42ce-b4b6-b48f901c43e0",
   "metadata": {
    "tags": []
   },
   "outputs": [
    {
     "data": {
      "text/plain": [
       "'문장 용어 처리'"
      ]
     },
     "execution_count": 23,
     "metadata": {},
     "output_type": "execute_result"
    }
   ],
   "source": [
    "# 확인용 \n",
    "test_sentence = \"이 문장은 불용어 처리가 되어야 합니다. 가다 하다 있다 되다 먹다\"\n",
    "tokens_test = remove_stopword(test_sentence)\n",
    "tokens_test"
   ]
  },
  {
   "cell_type": "code",
   "execution_count": 24,
   "id": "7155756c-e5b7-4d16-8e99-c910e8a008d3",
   "metadata": {
    "tags": []
   },
   "outputs": [
    {
     "data": {
      "text/html": [
       "<div>\n",
       "<style scoped>\n",
       "    .dataframe tbody tr th:only-of-type {\n",
       "        vertical-align: middle;\n",
       "    }\n",
       "\n",
       "    .dataframe tbody tr th {\n",
       "        vertical-align: top;\n",
       "    }\n",
       "\n",
       "    .dataframe thead th {\n",
       "        text-align: right;\n",
       "    }\n",
       "</style>\n",
       "<table border=\"1\" class=\"dataframe\">\n",
       "  <thead>\n",
       "    <tr style=\"text-align: right;\">\n",
       "      <th></th>\n",
       "      <th>product_name</th>\n",
       "      <th>review_name</th>\n",
       "      <th>review_content</th>\n",
       "      <th>review_date</th>\n",
       "      <th>review_rating</th>\n",
       "      <th>tokenized_review</th>\n",
       "      <th>replaced_review</th>\n",
       "      <th>preprocess_review</th>\n",
       "    </tr>\n",
       "  </thead>\n",
       "  <tbody>\n",
       "    <tr>\n",
       "      <th>0</th>\n",
       "      <td>[주현영, 이나연 찐템]딥트 3일 피치(맛)번 30정 (30일분)</td>\n",
       "      <td>보리오빠</td>\n",
       "      <td>없으면 안될 최고의 diet템! 피치번을 추천합니당 ㅎㅎ 사진엔 없지만 4통째 먹고...</td>\n",
       "      <td>2023.08.27</td>\n",
       "      <td>5점만점에 5점</td>\n",
       "      <td>없으면 안될 최고 의 diet 템 ! 피치 번 을 추천 합니당 ㅎㅎ 사진 엔 없지만...</td>\n",
       "      <td>없으면 안될 최고 의 다이어트 제품 ! 복숭아 번 을 추천 합니당 웃음 사진 엔 없...</td>\n",
       "      <td>최고 다이어트 제품 복숭아 추천 웃음 사진 통째 찌다 필수 제품 버리다 제품 사랑 ...</td>\n",
       "    </tr>\n",
       "    <tr>\n",
       "      <th>1</th>\n",
       "      <td>[주현영, 이나연 찐템]딥트 3일 피치(맛)번 30정 (30일분)</td>\n",
       "      <td>바보바니</td>\n",
       "      <td>알약 통통이하트 넘예뻐요. 자기전 먹고 효과있으면 얼마나 좋을까요 ㅜㅜ 나이들수록 ...</td>\n",
       "      <td>2023.09.14</td>\n",
       "      <td>5점만점에 5점</td>\n",
       "      <td>알약 통통이 하트 넘 예뻐요 . 자기전 먹고 효과 있으면 얼마나 좋을까요 ㅜㅜ 나이...</td>\n",
       "      <td>알약 통통이 좋다넘 예뻐요 . 자기전 먹고 효과 있으면 얼마나 좋을까요 눈물눈물 나...</td>\n",
       "      <td>알약 통통이 좋다 예쁘다 효과 좋다 눈물 눈물 나이 빠지다 배 쌓이네 눈물 눈물 눈...</td>\n",
       "    </tr>\n",
       "  </tbody>\n",
       "</table>\n",
       "</div>"
      ],
      "text/plain": [
       "                           product_name review_name  \\\n",
       "0  [주현영, 이나연 찐템]딥트 3일 피치(맛)번 30정 (30일분)        보리오빠   \n",
       "1  [주현영, 이나연 찐템]딥트 3일 피치(맛)번 30정 (30일분)        바보바니   \n",
       "\n",
       "                                      review_content review_date  \\\n",
       "0  없으면 안될 최고의 diet템! 피치번을 추천합니당 ㅎㅎ 사진엔 없지만 4통째 먹고...  2023.08.27   \n",
       "1  알약 통통이하트 넘예뻐요. 자기전 먹고 효과있으면 얼마나 좋을까요 ㅜㅜ 나이들수록 ...  2023.09.14   \n",
       "\n",
       "  review_rating                                   tokenized_review  \\\n",
       "0      5점만점에 5점  없으면 안될 최고 의 diet 템 ! 피치 번 을 추천 합니당 ㅎㅎ 사진 엔 없지만...   \n",
       "1      5점만점에 5점  알약 통통이 하트 넘 예뻐요 . 자기전 먹고 효과 있으면 얼마나 좋을까요 ㅜㅜ 나이...   \n",
       "\n",
       "                                     replaced_review  \\\n",
       "0  없으면 안될 최고 의 다이어트 제품 ! 복숭아 번 을 추천 합니당 웃음 사진 엔 없...   \n",
       "1  알약 통통이 좋다넘 예뻐요 . 자기전 먹고 효과 있으면 얼마나 좋을까요 눈물눈물 나...   \n",
       "\n",
       "                                   preprocess_review  \n",
       "0  최고 다이어트 제품 복숭아 추천 웃음 사진 통째 찌다 필수 제품 버리다 제품 사랑 ...  \n",
       "1  알약 통통이 좋다 예쁘다 효과 좋다 눈물 눈물 나이 빠지다 배 쌓이네 눈물 눈물 눈...  "
      ]
     },
     "execution_count": 24,
     "metadata": {},
     "output_type": "execute_result"
    }
   ],
   "source": [
    "data['preprocess_review'] = data['replaced_review'].apply(remove_stopword)\n",
    "data[:2]"
   ]
  },
  {
   "cell_type": "markdown",
   "id": "94e69c46-227c-4ffe-8406-1acdd410b4fa",
   "metadata": {},
   "source": [
    "### 긍정/부정 댓글 분리 "
   ]
  },
  {
   "cell_type": "code",
   "execution_count": 25,
   "id": "950cc6e6-0085-4069-a5cd-06b7c46cc0ea",
   "metadata": {
    "tags": []
   },
   "outputs": [],
   "source": [
    "import re"
   ]
  },
  {
   "cell_type": "code",
   "execution_count": 26,
   "id": "b3a6d958-1881-4092-a215-7a00e061762f",
   "metadata": {
    "tags": []
   },
   "outputs": [
    {
     "data": {
      "text/html": [
       "<div>\n",
       "<style scoped>\n",
       "    .dataframe tbody tr th:only-of-type {\n",
       "        vertical-align: middle;\n",
       "    }\n",
       "\n",
       "    .dataframe tbody tr th {\n",
       "        vertical-align: top;\n",
       "    }\n",
       "\n",
       "    .dataframe thead th {\n",
       "        text-align: right;\n",
       "    }\n",
       "</style>\n",
       "<table border=\"1\" class=\"dataframe\">\n",
       "  <thead>\n",
       "    <tr style=\"text-align: right;\">\n",
       "      <th></th>\n",
       "      <th>product_name</th>\n",
       "      <th>review_name</th>\n",
       "      <th>review_content</th>\n",
       "      <th>review_date</th>\n",
       "      <th>review_rating</th>\n",
       "      <th>tokenized_review</th>\n",
       "      <th>replaced_review</th>\n",
       "      <th>preprocess_review</th>\n",
       "      <th>rating</th>\n",
       "    </tr>\n",
       "  </thead>\n",
       "  <tbody>\n",
       "    <tr>\n",
       "      <th>0</th>\n",
       "      <td>[주현영, 이나연 찐템]딥트 3일 피치(맛)번 30정 (30일분)</td>\n",
       "      <td>보리오빠</td>\n",
       "      <td>없으면 안될 최고의 diet템! 피치번을 추천합니당 ㅎㅎ 사진엔 없지만 4통째 먹고...</td>\n",
       "      <td>2023.08.27</td>\n",
       "      <td>5점만점에 5점</td>\n",
       "      <td>없으면 안될 최고 의 diet 템 ! 피치 번 을 추천 합니당 ㅎㅎ 사진 엔 없지만...</td>\n",
       "      <td>없으면 안될 최고 의 다이어트 제품 ! 복숭아 번 을 추천 합니당 웃음 사진 엔 없...</td>\n",
       "      <td>최고 다이어트 제품 복숭아 추천 웃음 사진 통째 찌다 필수 제품 버리다 제품 사랑 ...</td>\n",
       "      <td>5</td>\n",
       "    </tr>\n",
       "    <tr>\n",
       "      <th>1</th>\n",
       "      <td>[주현영, 이나연 찐템]딥트 3일 피치(맛)번 30정 (30일분)</td>\n",
       "      <td>바보바니</td>\n",
       "      <td>알약 통통이하트 넘예뻐요. 자기전 먹고 효과있으면 얼마나 좋을까요 ㅜㅜ 나이들수록 ...</td>\n",
       "      <td>2023.09.14</td>\n",
       "      <td>5점만점에 5점</td>\n",
       "      <td>알약 통통이 하트 넘 예뻐요 . 자기전 먹고 효과 있으면 얼마나 좋을까요 ㅜㅜ 나이...</td>\n",
       "      <td>알약 통통이 좋다넘 예뻐요 . 자기전 먹고 효과 있으면 얼마나 좋을까요 눈물눈물 나...</td>\n",
       "      <td>알약 통통이 좋다 예쁘다 효과 좋다 눈물 눈물 나이 빠지다 배 쌓이네 눈물 눈물 눈...</td>\n",
       "      <td>5</td>\n",
       "    </tr>\n",
       "  </tbody>\n",
       "</table>\n",
       "</div>"
      ],
      "text/plain": [
       "                           product_name review_name  \\\n",
       "0  [주현영, 이나연 찐템]딥트 3일 피치(맛)번 30정 (30일분)        보리오빠   \n",
       "1  [주현영, 이나연 찐템]딥트 3일 피치(맛)번 30정 (30일분)        바보바니   \n",
       "\n",
       "                                      review_content review_date  \\\n",
       "0  없으면 안될 최고의 diet템! 피치번을 추천합니당 ㅎㅎ 사진엔 없지만 4통째 먹고...  2023.08.27   \n",
       "1  알약 통통이하트 넘예뻐요. 자기전 먹고 효과있으면 얼마나 좋을까요 ㅜㅜ 나이들수록 ...  2023.09.14   \n",
       "\n",
       "  review_rating                                   tokenized_review  \\\n",
       "0      5점만점에 5점  없으면 안될 최고 의 diet 템 ! 피치 번 을 추천 합니당 ㅎㅎ 사진 엔 없지만...   \n",
       "1      5점만점에 5점  알약 통통이 하트 넘 예뻐요 . 자기전 먹고 효과 있으면 얼마나 좋을까요 ㅜㅜ 나이...   \n",
       "\n",
       "                                     replaced_review  \\\n",
       "0  없으면 안될 최고 의 다이어트 제품 ! 복숭아 번 을 추천 합니당 웃음 사진 엔 없...   \n",
       "1  알약 통통이 좋다넘 예뻐요 . 자기전 먹고 효과 있으면 얼마나 좋을까요 눈물눈물 나...   \n",
       "\n",
       "                                   preprocess_review rating  \n",
       "0  최고 다이어트 제품 복숭아 추천 웃음 사진 통째 찌다 필수 제품 버리다 제품 사랑 ...      5  \n",
       "1  알약 통통이 좋다 예쁘다 효과 좋다 눈물 눈물 나이 빠지다 배 쌓이네 눈물 눈물 눈...      5  "
      ]
     },
     "execution_count": 26,
     "metadata": {},
     "output_type": "execute_result"
    }
   ],
   "source": [
    "data['rating'] = data['review_rating'].str.extract(r'(\\s\\d(?=점))|(\\d.\\d)').apply(lambda x: ''.join(x.dropna()), axis=1)\n",
    "data[:2]"
   ]
  },
  {
   "cell_type": "code",
   "execution_count": 27,
   "id": "5beabae9-2fa0-465f-913a-f4768e037698",
   "metadata": {
    "tags": []
   },
   "outputs": [],
   "source": [
    "# 'rating' 열을 숫자로 변환\n",
    "data['rating'] = pd.to_numeric(data['rating'])"
   ]
  },
  {
   "cell_type": "code",
   "execution_count": 28,
   "id": "4230d5c7-548c-4db4-a586-6525fc910411",
   "metadata": {
    "tags": []
   },
   "outputs": [],
   "source": [
    "# 전처리 데이터 저장\n",
    "data.to_csv('../datasets/preprocessed_total_data.csv', index=None)"
   ]
  },
  {
   "cell_type": "code",
   "execution_count": 29,
   "id": "bbe2a855-7171-4fe5-b29d-c9b3905a5cc9",
   "metadata": {},
   "outputs": [],
   "source": [
    "condition_positive =  data['rating'] >= 4 # 긍정\n",
    "condition_negative = data['rating'] <= 3  # 부정"
   ]
  },
  {
   "cell_type": "code",
   "execution_count": 30,
   "id": "8da02253-8782-4c83-828f-6565091fc4b0",
   "metadata": {
    "tags": []
   },
   "outputs": [],
   "source": [
    "review_positive = data[condition_positive]\n",
    "review_negative= data[condition_negative]"
   ]
  },
  {
   "cell_type": "code",
   "execution_count": 31,
   "id": "ea936bdd-f3c8-411e-8179-6a6dcc75d413",
   "metadata": {},
   "outputs": [],
   "source": [
    "# # 저장\n",
    "# review_positive.to_csv('../datasets/review_positive.csv')\n",
    "# review_negative.to_csv('../datasets/review_negative.csv')"
   ]
  },
  {
   "cell_type": "markdown",
   "id": "b2a5d421-2d07-40ef-89fa-cab5824402ca",
   "metadata": {
    "tags": []
   },
   "source": [
    "## wordcloud"
   ]
  },
  {
   "cell_type": "code",
   "execution_count": 33,
   "id": "c15d2733-93e0-43e3-91d8-3336d2794f77",
   "metadata": {},
   "outputs": [],
   "source": [
    "from wordcloud import WordCloud\n",
    "from collections import Counter"
   ]
  },
  {
   "cell_type": "code",
   "execution_count": 40,
   "id": "43f70630-a88b-4cdc-88d2-8eecf8b9a9a3",
   "metadata": {
    "tags": []
   },
   "outputs": [],
   "source": [
    "combined_text = ' '.join(data['preprocess_review'])"
   ]
  },
  {
   "cell_type": "code",
   "execution_count": 42,
   "id": "9a69d2ad-23e2-401c-bc95-a0b37f173515",
   "metadata": {
    "tags": []
   },
   "outputs": [],
   "source": [
    "text_regex_count = Counter(combined_text.split()) # list를 count"
   ]
  },
  {
   "cell_type": "code",
   "execution_count": 43,
   "id": "c8de89e0-51ed-44a5-87ed-92a861e67578",
   "metadata": {
    "tags": []
   },
   "outputs": [
    {
     "data": {
      "text/plain": [
       "<wordcloud.wordcloud.WordCloud at 0x2b7371adfd0>"
      ]
     },
     "execution_count": 43,
     "metadata": {},
     "output_type": "execute_result"
    }
   ],
   "source": [
    "# 한글 폰트 경로 설정 (Windows 환경에 맞게 경로 수정)\n",
    "font_path = 'C:/Windows/Fonts/malgun.ttf'\n",
    "\n",
    "wordCloud = WordCloud(font_path=font_path, background_color='white') #인스턴스화 \n",
    "wordCloud.generate_from_frequencies(text_regex_count)"
   ]
  },
  {
   "cell_type": "code",
   "execution_count": 44,
   "id": "3e8b0197-9bb5-4e59-96e6-2d95ac5a6e59",
   "metadata": {
    "collapsed": true,
    "jupyter": {
     "outputs_hidden": true
    },
    "tags": []
   },
   "outputs": [
    {
     "data": {
      "text/plain": [
       "{'좋다': 1.0,\n",
       " '웃음': 0.5394407819959082,\n",
       " '맛': 0.5255739940895658,\n",
       " '제품': 0.4794271425323937,\n",
       " '구매': 0.47260741077517615,\n",
       " '효과': 0.3675835417140259,\n",
       " '눈물': 0.3023414412366447,\n",
       " '물': 0.2896112752898386,\n",
       " '편하다': 0.23959990907024323,\n",
       " '운동': 0.23664469197544896,\n",
       " '꾸준하다': 0.2309615821777677,\n",
       " '맛있다': 0.20709252102750625,\n",
       " '빠지다': 0.17754035007956354,\n",
       " '이르다': 0.1527619913616731,\n",
       " '생각': 0.15162536940213686,\n",
       " '화장실': 0.14935212548306434,\n",
       " '느낌': 0.14685155717208456,\n",
       " '하루': 0.14639690838827008,\n",
       " '알약': 0.14616958399636282,\n",
       " '섭취': 0.14548761082064104,\n",
       " '알': 0.14275971811775404,\n",
       " '체중': 0.14162309615821778,\n",
       " '도움': 0.13571266196862924,\n",
       " '배송': 0.13503068879290747,\n",
       " '후기': 0.1316208229142987,\n",
       " '크다': 0.1245737667651739,\n",
       " '가격': 0.12434644237326666,\n",
       " '젤리': 0.12389179358945215,\n",
       " '괜찮다': 0.11298022277790407,\n",
       " '몸': 0.11070697885883156,\n",
       " '주문': 0.103887247101614,\n",
       " '포': 0.0963855421686747,\n",
       " '추천': 0.09502159581723119,\n",
       " '보조': 0.09206637872243692,\n",
       " '포장': 0.09206637872243692,\n",
       " '빠르다': 0.09206637872243692,\n",
       " '구입': 0.0902477835871789,\n",
       " '많다': 0.08592862014094112,\n",
       " '색상': 0.08592862014094112,\n",
       " '사다': 0.08411002500568311,\n",
       " '크기': 0.08365537622186861,\n",
       " '향': 0.07910888838372357,\n",
       " '찌다': 0.07069788588315526,\n",
       " '식단': 0.07069788588315526,\n",
       " '관리': 0.07069788588315526,\n",
       " '간편하다': 0.07001591270743351,\n",
       " '사랑': 0.067742668788361,\n",
       " '사과': 0.06683337122073199,\n",
       " '부담': 0.06433280290975221,\n",
       " '성분': 0.06433280290975221,\n",
       " '복용': 0.06319618095021595,\n",
       " '아침': 0.0620595589906797,\n",
       " '처럼': 0.0616049102068652,\n",
       " '유지': 0.06069561263923619,\n",
       " '병': 0.06046828824732894,\n",
       " '저렴하다': 0.058877017503978175,\n",
       " '시작': 0.057285746760627414,\n",
       " '체지방': 0.05614912480109116,\n",
       " '만족하다': 0.0559218004091839,\n",
       " '조절': 0.0554671516253694,\n",
       " '힘들다': 0.05523982723346215,\n",
       " '먹어주다': 0.05182996135485338,\n",
       " '할인': 0.051375312571038875,\n",
       " '가루': 0.05114798817913162,\n",
       " '작다': 0.050693339395317116,\n",
       " '빼다': 0.050466015003409866,\n",
       " '냄새': 0.050466015003409866,\n",
       " '저녁': 0.050238690611502615,\n",
       " '배': 0.049556717435780856,\n",
       " '박스': 0.049556717435780856,\n",
       " '병행': 0.049102068651966355,\n",
       " '항상': 0.04819277108433735,\n",
       " '기분': 0.04682882473289384,\n",
       " '사은': 0.04614685155717208,\n",
       " '식후': 0.04591952716526483,\n",
       " '구수하다': 0.04569220277335758,\n",
       " '거부': 0.04478290520572858,\n",
       " '밥': 0.04410093203000682,\n",
       " '비싸다': 0.04341895885428507,\n",
       " '달달': 0.04296431007047056,\n",
       " '좋아하다': 0.041827688110934305,\n",
       " '불편하다': 0.041145714935212546,\n",
       " '과식': 0.040236417367583543,\n",
       " '휴대': 0.039327119799954534,\n",
       " '기대': 0.03909979540804728,\n",
       " '오늘': 0.03864514662423278,\n",
       " '감소': 0.03841782223232553,\n",
       " '마시기': 0.038190497840418274,\n",
       " '삼키다': 0.03796317344851102,\n",
       " '식사': 0.03773584905660377,\n",
       " '기대하다': 0.03773584905660377,\n",
       " '사람': 0.03750852466469652,\n",
       " '건강': 0.03750852466469652,\n",
       " '음식': 0.03682655148897477,\n",
       " '가벼워지다': 0.03637190270516026,\n",
       " '간식': 0.03614457831325301,\n",
       " '재': 0.03591725392134576,\n",
       " '엄마': 0.03591725392134576,\n",
       " '광고': 0.03568992952943851,\n",
       " '쓰다': 0.03455330756990225,\n",
       " '남다': 0.03455330756990225,\n",
       " '변화': 0.034325983177995,\n",
       " '카테킨': 0.034325983177995,\n",
       " '아쉽다': 0.03409865878608775,\n",
       " '가볍다': 0.033416685610365995,\n",
       " '메타': 0.03318936121845874,\n",
       " '궁금하다': 0.03296203682655149,\n",
       " '레몬': 0.032734712434644236,\n",
       " '사용': 0.032507388042736986,\n",
       " '비타민': 0.032280063650829735,\n",
       " '식전': 0.032280063650829735,\n",
       " '패키지': 0.031143441691293475,\n",
       " '상큼': 0.031143441691293475,\n",
       " '녹다': 0.03046146851557172,\n",
       " '고민': 0.03046146851557172,\n",
       " '콜레올': 0.03046146851557172,\n",
       " '의사': 0.029552170947942713,\n",
       " '완전': 0.02909752216412821,\n",
       " '여러': 0.02887019777222096,\n",
       " '복숭아': 0.028642873380313707,\n",
       " '형태': 0.028642873380313707,\n",
       " '보리차': 0.028415548988406456,\n",
       " '3일': 0.028188224596499206,\n",
       " '시원하다': 0.028188224596499206,\n",
       " '버리다': 0.02796090020459195,\n",
       " '점심': 0.02796090020459195,\n",
       " '여름': 0.02750625142077745,\n",
       " '커피': 0.02750625142077745,\n",
       " '끄다': 0.0272789270288702,\n",
       " '유명하다': 0.0272789270288702,\n",
       " '보내다': 0.027051602636962945,\n",
       " '대신': 0.02636962946124119,\n",
       " '일주일': 0.02591498067742669,\n",
       " '건강하다': 0.02591498067742669,\n",
       " '기도': 0.025460331893612183,\n",
       " '가게': 0.024778358717890428,\n",
       " '예전': 0.024323709934075927,\n",
       " '예정': 0.024323709934075927,\n",
       " '개인': 0.024323709934075927,\n",
       " '탄수화물': 0.024096385542168676,\n",
       " 'kg': 0.024096385542168676,\n",
       " '바라다': 0.024096385542168676,\n",
       " '개별': 0.023869061150261422,\n",
       " '추출': 0.023869061150261422,\n",
       " '친구': 0.02364173675835417,\n",
       " '속이다': 0.02364173675835417,\n",
       " '딥트': 0.02341441236644692,\n",
       " '떨어지다': 0.02318708797453967,\n",
       " '갈다': 0.022959763582632416,\n",
       " '고소하다': 0.022959763582632416,\n",
       " '사이즈': 0.022732439190725165,\n",
       " '편리하다': 0.022732439190725165,\n",
       " '전혀': 0.02227779040691066,\n",
       " '야하다': 0.02227779040691066,\n",
       " '살빼다': 0.02205046601500341,\n",
       " '녹차': 0.02205046601500341,\n",
       " '음료': 0.02205046601500341,\n",
       " '선물': 0.02182314162309616,\n",
       " '걱정': 0.021141168447374403,\n",
       " '야식': 0.021141168447374403,\n",
       " '적다': 0.020913844055467153,\n",
       " '활동': 0.020913844055467153,\n",
       " '유통': 0.020913844055467153,\n",
       " '기한': 0.020913844055467153,\n",
       " '아프다': 0.0206865196635599,\n",
       " '단점': 0.0206865196635599,\n",
       " '부작용': 0.0206865196635599,\n",
       " '나쁘다': 0.0206865196635599,\n",
       " '벌써': 0.020231870879745397,\n",
       " '보틀': 0.020231870879745397,\n",
       " '추가': 0.020004546487838146,\n",
       " '달다': 0.020004546487838146,\n",
       " '방법': 0.020004546487838146,\n",
       " '타입': 0.020004546487838146,\n",
       " '성공하다': 0.020004546487838146,\n",
       " '싸다': 0.019777222095930892,\n",
       " '행사': 0.019777222095930892,\n",
       " '덕분': 0.019777222095930892,\n",
       " '다르다': 0.019777222095930892,\n",
       " '1일': 0.01954989770402364,\n",
       " '중요하다': 0.01932257331211639,\n",
       " '보이다': 0.01932257331211639,\n",
       " '변': 0.01932257331211639,\n",
       " '줄이다': 0.01932257331211639,\n",
       " '다이어트': 0.019095248920209137,\n",
       " '귀엽다': 0.019095248920209137,\n",
       " '결과': 0.019095248920209137,\n",
       " '만족': 0.019095248920209137,\n",
       " '부다': 0.019095248920209137,\n",
       " '사서': 0.019095248920209137,\n",
       " '부분': 0.018867924528301886,\n",
       " '기존': 0.018640600136394635,\n",
       " '이유': 0.018413275744487385,\n",
       " '석류': 0.018413275744487385,\n",
       " '500': 0.018413275744487385,\n",
       " '노니': 0.018413275744487385,\n",
       " '기간': 0.01818595135258013,\n",
       " '식이': 0.01818595135258013,\n",
       " '어렵다': 0.01818595135258013,\n",
       " '가성': 0.01818595135258013}"
      ]
     },
     "execution_count": 44,
     "metadata": {},
     "output_type": "execute_result"
    }
   ],
   "source": [
    "# count \n",
    "wordCloud.words_ "
   ]
  },
  {
   "cell_type": "code",
   "execution_count": 45,
   "id": "dd57134b-5489-4b74-92ab-aa8fef4c6624",
   "metadata": {
    "tags": []
   },
   "outputs": [
    {
     "data": {
      "image/png": "[encoded data removed]",
      "text/plain": [
       "<Figure size 640x480 with 1 Axes>"
      ]
     },
     "metadata": {},
     "output_type": "display_data"
    }
   ],
   "source": [
    "import matplotlib.pyplot as plt\n",
    "plt.imshow(wordCloud)\n",
    "plt.axis('off') \n",
    "plt.show()"
   ]
  },
  {
   "cell_type": "code",
   "execution_count": null,
   "id": "b9ef213f-d8a7-466d-a2f0-cd86a2a34b3c",
   "metadata": {},
   "outputs": [],
   "source": []
  }
 ],
 "metadata": {
  "kernelspec": {
   "display_name": "Python 3 (ipykernel)",
   "language": "python",
   "name": "python3"
  },
  "language_info": {
   "codemirror_mode": {
    "name": "ipython",
    "version": 3
   },
   "file_extension": ".py",
   "mimetype": "text/x-python",
   "name": "python",
   "nbconvert_exporter": "python",
   "pygments_lexer": "ipython3",
   "version": "3.11.3"
  }
 },
 "nbformat": 4,
 "nbformat_minor": 5
}
