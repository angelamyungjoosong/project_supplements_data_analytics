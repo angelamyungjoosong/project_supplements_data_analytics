{
 "cells": [
  {
   "cell_type": "markdown",
   "id": "ea61aa0e-4046-412a-b6ac-eb2456445a68",
   "metadata": {},
   "source": [
    "## 통합 데이터 전처리 진행 "
   ]
  },
  {
   "cell_type": "markdown",
   "id": "ae6678b3-3e49-459d-b1aa-ea45d74db513",
   "metadata": {},
   "source": [
    "### 데이터 불러오기 및 병합 "
   ]
  },
  {
   "cell_type": "code",
   "execution_count": 1,
   "id": "3d96eb40-123f-441b-8add-8d81e8856727",
   "metadata": {
    "tags": []
   },
   "outputs": [],
   "source": [
    "import numpy as np\n",
    "import pandas as pd"
   ]
  },
  {
   "cell_type": "code",
   "execution_count": 18,
   "id": "f786fbe3-6261-4ec8-931b-a5008ca24e9a",
   "metadata": {
    "tags": []
   },
   "outputs": [],
   "source": [
    "# 데이터 불러오기 \n",
    "df1 = pd.read_csv('../datasets/oliveyoung_wemake_data.csv', index_col= None)\n",
    "df2 = pd.read_csv('../datasets/supplements_data_reviews.csv', index_col= None)\n",
    "df1 = df1.drop(columns=['Unnamed: 0']) # 인덱스 열 삭제 \n",
    "df2 = df2.drop(columns=['Unnamed: 0'])"
   ]
  },
  {
   "cell_type": "code",
   "execution_count": 24,
   "id": "7cc30176-646d-43cb-b5f0-d38269732639",
   "metadata": {
    "tags": []
   },
   "outputs": [
    {
     "data": {
      "text/html": [
       "<div>\n",
       "<style scoped>\n",
       "    .dataframe tbody tr th:only-of-type {\n",
       "        vertical-align: middle;\n",
       "    }\n",
       "\n",
       "    .dataframe tbody tr th {\n",
       "        vertical-align: top;\n",
       "    }\n",
       "\n",
       "    .dataframe thead th {\n",
       "        text-align: right;\n",
       "    }\n",
       "</style>\n",
       "<table border=\"1\" class=\"dataframe\">\n",
       "  <thead>\n",
       "    <tr style=\"text-align: right;\">\n",
       "      <th></th>\n",
       "      <th>product_name</th>\n",
       "      <th>review_name</th>\n",
       "      <th>review_content</th>\n",
       "      <th>review_date</th>\n",
       "      <th>review_rating</th>\n",
       "    </tr>\n",
       "  </thead>\n",
       "  <tbody>\n",
       "    <tr>\n",
       "      <th>0</th>\n",
       "      <td>[주현영, 이나연 찐템]딥트 3일 피치(맛)번 30정 (30일분)</td>\n",
       "      <td>보리오빠</td>\n",
       "      <td>없으면 안될 최고의 diet템! 피치번을 추천합니당 ㅎㅎ 사진엔 없지만 4통째 먹고...</td>\n",
       "      <td>2023.08.27</td>\n",
       "      <td>5점만점에 5점</td>\n",
       "    </tr>\n",
       "    <tr>\n",
       "      <th>1</th>\n",
       "      <td>[주현영, 이나연 찐템]딥트 3일 피치(맛)번 30정 (30일분)</td>\n",
       "      <td>바보바니</td>\n",
       "      <td>알약 통통이하트 넘예뻐요. 자기전 먹고 효과있으면 얼마나 좋을까요 ㅜㅜ 나이들수록 ...</td>\n",
       "      <td>2023.09.14</td>\n",
       "      <td>5점만점에 5점</td>\n",
       "    </tr>\n",
       "  </tbody>\n",
       "</table>\n",
       "</div>"
      ],
      "text/plain": [
       "                           product_name review_name  \\\n",
       "0  [주현영, 이나연 찐템]딥트 3일 피치(맛)번 30정 (30일분)        보리오빠   \n",
       "1  [주현영, 이나연 찐템]딥트 3일 피치(맛)번 30정 (30일분)        바보바니   \n",
       "\n",
       "                                      review_content review_date review_rating  \n",
       "0  없으면 안될 최고의 diet템! 피치번을 추천합니당 ㅎㅎ 사진엔 없지만 4통째 먹고...  2023.08.27      5점만점에 5점  \n",
       "1  알약 통통이하트 넘예뻐요. 자기전 먹고 효과있으면 얼마나 좋을까요 ㅜㅜ 나이들수록 ...  2023.09.14      5점만점에 5점  "
      ]
     },
     "execution_count": 24,
     "metadata": {},
     "output_type": "execute_result"
    }
   ],
   "source": [
    "# 병합 \n",
    "data = pd.concat([df1, df2], axis=0)\n",
    "data[:2]"
   ]
  },
  {
   "cell_type": "markdown",
   "id": "514f377c-c3aa-4780-ba2a-b73460f74fa0",
   "metadata": {},
   "source": [
    "### 전처리 진행"
   ]
  },
  {
   "cell_type": "markdown",
   "id": "2d42c576-c1ab-46bc-9c6d-78d54212bb77",
   "metadata": {},
   "source": [
    "#### 결측치 처리 "
   ]
  },
  {
   "cell_type": "code",
   "execution_count": 25,
   "id": "bb1eff8b-217d-4400-a3b7-8a49e475bf25",
   "metadata": {
    "tags": []
   },
   "outputs": [
    {
     "name": "stdout",
     "output_type": "stream",
     "text": [
      "<class 'pandas.core.frame.DataFrame'>\n",
      "Index: 7077 entries, 0 to 2487\n",
      "Data columns (total 5 columns):\n",
      " #   Column          Non-Null Count  Dtype \n",
      "---  ------          --------------  ----- \n",
      " 0   product_name    7077 non-null   object\n",
      " 1   review_name     7058 non-null   object\n",
      " 2   review_content  6388 non-null   object\n",
      " 3   review_date     6951 non-null   object\n",
      " 4   review_rating   4423 non-null   object\n",
      "dtypes: object(5)\n",
      "memory usage: 331.7+ KB\n"
     ]
    }
   ],
   "source": [
    "data.info()"
   ]
  },
  {
   "cell_type": "code",
   "execution_count": 28,
   "id": "fd6d0fc4-8c44-4bd8-96e8-c9f62362898b",
   "metadata": {
    "tags": []
   },
   "outputs": [
    {
     "data": {
      "text/plain": [
       "product_name         0\n",
       "review_name          0\n",
       "review_content       0\n",
       "review_date         47\n",
       "review_rating     2575\n",
       "dtype: int64"
      ]
     },
     "execution_count": 28,
     "metadata": {},
     "output_type": "execute_result"
    }
   ],
   "source": [
    "data.isnull().sum()"
   ]
  },
  {
   "cell_type": "code",
   "execution_count": 29,
   "id": "01061485-fd7f-4892-b1e8-5e9e582a4edd",
   "metadata": {
    "tags": []
   },
   "outputs": [],
   "source": [
    "# 특정 컬럼 값의 결측치만 제거 \n",
    "data.dropna(subset=['review_content'], inplace=True)"
   ]
  },
  {
   "cell_type": "code",
   "execution_count": 33,
   "id": "ef0a1adb-2d1a-406d-8dbf-c654f1a8fae9",
   "metadata": {
    "tags": []
   },
   "outputs": [
    {
     "data": {
      "text/plain": [
       "6388"
      ]
     },
     "execution_count": 33,
     "metadata": {},
     "output_type": "execute_result"
    }
   ],
   "source": [
    "len(data) #데이터 갯수 확인"
   ]
  },
  {
   "cell_type": "markdown",
   "id": "83de8785-7d18-4355-a865-e47d34646cbf",
   "metadata": {},
   "source": [
    "#### 형태소 분석"
   ]
  },
  {
   "cell_type": "code",
   "execution_count": 34,
   "id": "9ce4984d-aed3-4994-9427-0c6aea1032d1",
   "metadata": {
    "tags": []
   },
   "outputs": [],
   "source": [
    "from konlpy.tag import Okt\n",
    "okt = Okt()"
   ]
  },
  {
   "cell_type": "code",
   "execution_count": 36,
   "id": "a2b039ce-37ff-4493-88f7-fc43af5b30a0",
   "metadata": {
    "tags": []
   },
   "outputs": [],
   "source": [
    "content = list(data['review_content']) # 하나로 뭉치기 #데이터타입 : list"
   ]
  },
  {
   "cell_type": "code",
   "execution_count": 37,
   "id": "5b675465-91a5-4c29-a088-f89ba8b9fad7",
   "metadata": {
    "tags": []
   },
   "outputs": [],
   "source": [
    "sentence = ' '.join(content) #한줄로 만들기  #데이터 타입 : str"
   ]
  },
  {
   "cell_type": "code",
   "execution_count": 38,
   "id": "8c0090d9-2153-43cb-bc0b-6937b1cd2340",
   "metadata": {
    "tags": []
   },
   "outputs": [],
   "source": [
    "word_tokens = okt.morphs(sentence) #품사 분리 "
   ]
  },
  {
   "cell_type": "code",
   "execution_count": 39,
   "id": "934f0623-1a3f-4892-aa80-30805d1d79db",
   "metadata": {
    "tags": []
   },
   "outputs": [],
   "source": [
    "#okt.pos(sentence) #품사 종류 보기 "
   ]
  },
  {
   "cell_type": "code",
   "execution_count": 40,
   "id": "7994f451-6d8e-4cb4-8df9-356fcd676c02",
   "metadata": {
    "tags": []
   },
   "outputs": [],
   "source": [
    "# 리뷰내용 토큰화 함수 \n",
    "def tokenize_sentence(sentence):\n",
    "    tokens = okt.morphs(sentence)\n",
    "    return ' '.join(tokens)"
   ]
  },
  {
   "cell_type": "code",
   "execution_count": 42,
   "id": "d9e7d1b5-474f-4a0d-bd9f-fae0157153e3",
   "metadata": {
    "tags": []
   },
   "outputs": [
    {
     "data": {
      "text/html": [
       "<div>\n",
       "<style scoped>\n",
       "    .dataframe tbody tr th:only-of-type {\n",
       "        vertical-align: middle;\n",
       "    }\n",
       "\n",
       "    .dataframe tbody tr th {\n",
       "        vertical-align: top;\n",
       "    }\n",
       "\n",
       "    .dataframe thead th {\n",
       "        text-align: right;\n",
       "    }\n",
       "</style>\n",
       "<table border=\"1\" class=\"dataframe\">\n",
       "  <thead>\n",
       "    <tr style=\"text-align: right;\">\n",
       "      <th></th>\n",
       "      <th>product_name</th>\n",
       "      <th>review_name</th>\n",
       "      <th>review_content</th>\n",
       "      <th>review_date</th>\n",
       "      <th>review_rating</th>\n",
       "      <th>tokenized_review</th>\n",
       "    </tr>\n",
       "  </thead>\n",
       "  <tbody>\n",
       "    <tr>\n",
       "      <th>0</th>\n",
       "      <td>[주현영, 이나연 찐템]딥트 3일 피치(맛)번 30정 (30일분)</td>\n",
       "      <td>보리오빠</td>\n",
       "      <td>없으면 안될 최고의 diet템! 피치번을 추천합니당 ㅎㅎ 사진엔 없지만 4통째 먹고...</td>\n",
       "      <td>2023.08.27</td>\n",
       "      <td>5점만점에 5점</td>\n",
       "      <td>없으면 안될 최고 의 diet 템 ! 피치 번 을 추천 합니당 ㅎㅎ 사진 엔 없지만...</td>\n",
       "    </tr>\n",
       "    <tr>\n",
       "      <th>1</th>\n",
       "      <td>[주현영, 이나연 찐템]딥트 3일 피치(맛)번 30정 (30일분)</td>\n",
       "      <td>바보바니</td>\n",
       "      <td>알약 통통이하트 넘예뻐요. 자기전 먹고 효과있으면 얼마나 좋을까요 ㅜㅜ 나이들수록 ...</td>\n",
       "      <td>2023.09.14</td>\n",
       "      <td>5점만점에 5점</td>\n",
       "      <td>알약 통통이 하트 넘 예뻐요 . 자기전 먹고 효과 있으면 얼마나 좋을까요 ㅜㅜ 나이...</td>\n",
       "    </tr>\n",
       "  </tbody>\n",
       "</table>\n",
       "</div>"
      ],
      "text/plain": [
       "                           product_name review_name  \\\n",
       "0  [주현영, 이나연 찐템]딥트 3일 피치(맛)번 30정 (30일분)        보리오빠   \n",
       "1  [주현영, 이나연 찐템]딥트 3일 피치(맛)번 30정 (30일분)        바보바니   \n",
       "\n",
       "                                      review_content review_date  \\\n",
       "0  없으면 안될 최고의 diet템! 피치번을 추천합니당 ㅎㅎ 사진엔 없지만 4통째 먹고...  2023.08.27   \n",
       "1  알약 통통이하트 넘예뻐요. 자기전 먹고 효과있으면 얼마나 좋을까요 ㅜㅜ 나이들수록 ...  2023.09.14   \n",
       "\n",
       "  review_rating                                   tokenized_review  \n",
       "0      5점만점에 5점  없으면 안될 최고 의 diet 템 ! 피치 번 을 추천 합니당 ㅎㅎ 사진 엔 없지만...  \n",
       "1      5점만점에 5점  알약 통통이 하트 넘 예뻐요 . 자기전 먹고 효과 있으면 얼마나 좋을까요 ㅜㅜ 나이...  "
      ]
     },
     "execution_count": 42,
     "metadata": {},
     "output_type": "execute_result"
    }
   ],
   "source": [
    "data['tokenized_review'] = data['review_content'].apply(tokenize_sentence)\n",
    "data[:2]"
   ]
  },
  {
   "cell_type": "markdown",
   "id": "4cdf0554-dc0d-4d89-b792-40e311fc3b4a",
   "metadata": {},
   "source": [
    "#### 유사어 대치 "
   ]
  },
  {
   "cell_type": "code",
   "execution_count": 43,
   "id": "22cba5ce-d0a1-4234-9508-ab07ebada5f7",
   "metadata": {
    "tags": []
   },
   "outputs": [
    {
     "data": {
      "text/html": [
       "<div>\n",
       "<style scoped>\n",
       "    .dataframe tbody tr th:only-of-type {\n",
       "        vertical-align: middle;\n",
       "    }\n",
       "\n",
       "    .dataframe tbody tr th {\n",
       "        vertical-align: top;\n",
       "    }\n",
       "\n",
       "    .dataframe thead th {\n",
       "        text-align: right;\n",
       "    }\n",
       "</style>\n",
       "<table border=\"1\" class=\"dataframe\">\n",
       "  <thead>\n",
       "    <tr style=\"text-align: right;\">\n",
       "      <th></th>\n",
       "      <th>before_replacement</th>\n",
       "      <th>after_replacement</th>\n",
       "    </tr>\n",
       "  </thead>\n",
       "  <tbody>\n",
       "    <tr>\n",
       "      <th>0</th>\n",
       "      <td>diet</td>\n",
       "      <td>다이어트</td>\n",
       "    </tr>\n",
       "    <tr>\n",
       "      <th>1</th>\n",
       "      <td>diet템</td>\n",
       "      <td>다이어트 제품</td>\n",
       "    </tr>\n",
       "    <tr>\n",
       "      <th>2</th>\n",
       "      <td>다욧트</td>\n",
       "      <td>다이어트</td>\n",
       "    </tr>\n",
       "  </tbody>\n",
       "</table>\n",
       "</div>"
      ],
      "text/plain": [
       "  before_replacement after_replacement\n",
       "0              diet              다이어트 \n",
       "1              diet템           다이어트 제품\n",
       "2                다욧트             다이어트 "
      ]
     },
     "execution_count": 43,
     "metadata": {},
     "output_type": "execute_result"
    }
   ],
   "source": [
    "replace_list = pd.read_csv('../datasets/replace_list.csv')\n",
    "replace_list[:3]"
   ]
  },
  {
   "cell_type": "code",
   "execution_count": 46,
   "id": "6c06a1ec-78fe-4f3b-a97a-3367feecf033",
   "metadata": {
    "tags": []
   },
   "outputs": [],
   "source": [
    "# 유사어 대치를 위한 함수 \n",
    "def replace_word(tokenized_review):\n",
    "    replaced_review = []\n",
    "    for i in range(len(replace_list['before_replacement'])):\n",
    "        try:\n",
    "          # 치환할 단어가 있는 경우에만 데이터 치환 수행\n",
    "          if isinstance(tokenized_review, str) and replace_list['before_replacement'][i] in tokenized_review:\n",
    "            tokenized_review = tokenized_review.replace(replace_list['before_replacement'][i], replace_list['after_replacement'][i])\n",
    "        except Exception as e:\n",
    "            #print(f\"Error 발생 / 에러명: {e}\")\n",
    "            pass\n",
    "    return tokenized_review"
   ]
  },
  {
   "cell_type": "code",
   "execution_count": 47,
   "id": "d5ecb2c1-556f-45e1-9c04-305d39536a87",
   "metadata": {
    "tags": []
   },
   "outputs": [
    {
     "data": {
      "text/plain": [
       "'다이어트 제품 스트레스 체중 빼다 복숭아 달달하다 달달하다'"
      ]
     },
     "execution_count": 47,
     "metadata": {},
     "output_type": "execute_result"
    }
   ],
   "source": [
    "# 확인용 \n",
    "replace_word('diet템 stess 살이 빠지다 피치 달달 단맛')"
   ]
  },
  {
   "cell_type": "code",
   "execution_count": 49,
   "id": "1c2040f2-3b1f-44b4-bff4-73c02fa04bb3",
   "metadata": {
    "tags": []
   },
   "outputs": [
    {
     "data": {
      "text/html": [
       "<div>\n",
       "<style scoped>\n",
       "    .dataframe tbody tr th:only-of-type {\n",
       "        vertical-align: middle;\n",
       "    }\n",
       "\n",
       "    .dataframe tbody tr th {\n",
       "        vertical-align: top;\n",
       "    }\n",
       "\n",
       "    .dataframe thead th {\n",
       "        text-align: right;\n",
       "    }\n",
       "</style>\n",
       "<table border=\"1\" class=\"dataframe\">\n",
       "  <thead>\n",
       "    <tr style=\"text-align: right;\">\n",
       "      <th></th>\n",
       "      <th>product_name</th>\n",
       "      <th>review_name</th>\n",
       "      <th>review_content</th>\n",
       "      <th>review_date</th>\n",
       "      <th>review_rating</th>\n",
       "      <th>tokenized_review</th>\n",
       "      <th>replaced_review</th>\n",
       "    </tr>\n",
       "  </thead>\n",
       "  <tbody>\n",
       "    <tr>\n",
       "      <th>0</th>\n",
       "      <td>[주현영, 이나연 찐템]딥트 3일 피치(맛)번 30정 (30일분)</td>\n",
       "      <td>보리오빠</td>\n",
       "      <td>없으면 안될 최고의 diet템! 피치번을 추천합니당 ㅎㅎ 사진엔 없지만 4통째 먹고...</td>\n",
       "      <td>2023.08.27</td>\n",
       "      <td>5점만점에 5점</td>\n",
       "      <td>없으면 안될 최고 의 diet 템 ! 피치 번 을 추천 합니당 ㅎㅎ 사진 엔 없지만...</td>\n",
       "      <td>없으면 안될 최고 의 다이어트 제품 ! 복숭아 번 을 추천 합니당 ㅎㅎ 사진 엔 없...</td>\n",
       "    </tr>\n",
       "    <tr>\n",
       "      <th>1</th>\n",
       "      <td>[주현영, 이나연 찐템]딥트 3일 피치(맛)번 30정 (30일분)</td>\n",
       "      <td>바보바니</td>\n",
       "      <td>알약 통통이하트 넘예뻐요. 자기전 먹고 효과있으면 얼마나 좋을까요 ㅜㅜ 나이들수록 ...</td>\n",
       "      <td>2023.09.14</td>\n",
       "      <td>5점만점에 5점</td>\n",
       "      <td>알약 통통이 하트 넘 예뻐요 . 자기전 먹고 효과 있으면 얼마나 좋을까요 ㅜㅜ 나이...</td>\n",
       "      <td>크기약 통통이 좋다넘 예뻐요 . 자기전 먹고 효과 있으면 얼마나 좋을까요 ㅜㅜ 나이...</td>\n",
       "    </tr>\n",
       "  </tbody>\n",
       "</table>\n",
       "</div>"
      ],
      "text/plain": [
       "                           product_name review_name  \\\n",
       "0  [주현영, 이나연 찐템]딥트 3일 피치(맛)번 30정 (30일분)        보리오빠   \n",
       "1  [주현영, 이나연 찐템]딥트 3일 피치(맛)번 30정 (30일분)        바보바니   \n",
       "\n",
       "                                      review_content review_date  \\\n",
       "0  없으면 안될 최고의 diet템! 피치번을 추천합니당 ㅎㅎ 사진엔 없지만 4통째 먹고...  2023.08.27   \n",
       "1  알약 통통이하트 넘예뻐요. 자기전 먹고 효과있으면 얼마나 좋을까요 ㅜㅜ 나이들수록 ...  2023.09.14   \n",
       "\n",
       "  review_rating                                   tokenized_review  \\\n",
       "0      5점만점에 5점  없으면 안될 최고 의 diet 템 ! 피치 번 을 추천 합니당 ㅎㅎ 사진 엔 없지만...   \n",
       "1      5점만점에 5점  알약 통통이 하트 넘 예뻐요 . 자기전 먹고 효과 있으면 얼마나 좋을까요 ㅜㅜ 나이...   \n",
       "\n",
       "                                     replaced_review  \n",
       "0  없으면 안될 최고 의 다이어트 제품 ! 복숭아 번 을 추천 합니당 ㅎㅎ 사진 엔 없...  \n",
       "1  크기약 통통이 좋다넘 예뻐요 . 자기전 먹고 효과 있으면 얼마나 좋을까요 ㅜㅜ 나이...  "
      ]
     },
     "execution_count": 49,
     "metadata": {},
     "output_type": "execute_result"
    }
   ],
   "source": [
    "data['replaced_review'] = data['tokenized_review'].apply(replace_word)\n",
    "data[:2]"
   ]
  },
  {
   "cell_type": "markdown",
   "id": "8a630422-8640-4f23-8fa1-6fa0a336eac8",
   "metadata": {},
   "source": [
    "#### 불용어 처리/한글자 처리 "
   ]
  },
  {
   "cell_type": "code",
   "execution_count": 54,
   "id": "a14510ca-3537-4ca0-a884-e1ef58e0506f",
   "metadata": {
    "tags": []
   },
   "outputs": [],
   "source": [
    "# 불용어 사전 불러오기\n",
    "stop_words = pd.read_csv('../datasets/stopword_list.txt', header=None, encoding ='utf-8')\n",
    "stop_words= stop_words[0].values"
   ]
  },
  {
   "cell_type": "code",
   "execution_count": 53,
   "id": "2e0ac892-ffb0-4645-815f-2d31fbab72ab",
   "metadata": {
    "tags": []
   },
   "outputs": [],
   "source": [
    "# 한글자 사전 불러오기 \n",
    "one_char_keyword = pd.read_csv('../datasets/one_char_list.txt', header=None, encoding ='utf-8')\n",
    "one_char_keyword = one_char_keyword[0].values"
   ]
  },
  {
   "cell_type": "code",
   "execution_count": 55,
   "id": "4afd7c66-e3ca-481d-a7f0-ff0d9d2a797c",
   "metadata": {
    "tags": []
   },
   "outputs": [],
   "source": [
    "from konlpy.tag import Okt\n",
    "okt = Okt()\n",
    "from mecab import MeCab\n",
    "mecab = MeCab()"
   ]
  },
  {
   "cell_type": "code",
   "execution_count": 56,
   "id": "9d637b96-2a57-428b-b329-de9d59170922",
   "metadata": {
    "tags": []
   },
   "outputs": [],
   "source": [
    "# 불용어, 한글자 처리 함수\n",
    "def remove_stopword(raw, pos=[\"Noun\",\"Alpha\",\"Verb\",\"Number\",\"Adjective\"], stopword=stop_words):\n",
    "    tokens = []\n",
    "    for word, tag in okt.pos(\n",
    "        raw, \n",
    "        norm=True,   # normalize 그랰ㅋㅏ -> 그래ㅋㅋ\n",
    "        stem=True    # stemming 바뀌나->바뀌다\n",
    "    ):\n",
    "        if len(word) > 1 and tag in pos and word not in stopword:\n",
    "            tokens.append(word)\n",
    "        elif len(word) == 1 and word in list(one_char_keyword):\n",
    "            tokens.append(word)\n",
    "    return ' '.join(tokens)  # 결과 리스트를 문자열로 결합하여 반환"
   ]
  },
  {
   "cell_type": "code",
   "execution_count": 58,
   "id": "39dbeec0-feef-42ce-b4b6-b48f901c43e0",
   "metadata": {
    "tags": []
   },
   "outputs": [
    {
     "data": {
      "text/plain": [
       "'문장 용어 처리'"
      ]
     },
     "execution_count": 58,
     "metadata": {},
     "output_type": "execute_result"
    }
   ],
   "source": [
    "# 확인용 \n",
    "test_sentence = \"이 문장은 불용어 처리가 되어야 합니다. 가다 하다 있다 되다 먹다\"\n",
    "tokens_test = remove_stopword(test_sentence)\n",
    "tokens_test"
   ]
  },
  {
   "cell_type": "code",
   "execution_count": 59,
   "id": "7155756c-e5b7-4d16-8e99-c910e8a008d3",
   "metadata": {
    "tags": []
   },
   "outputs": [
    {
     "data": {
      "text/html": [
       "<div>\n",
       "<style scoped>\n",
       "    .dataframe tbody tr th:only-of-type {\n",
       "        vertical-align: middle;\n",
       "    }\n",
       "\n",
       "    .dataframe tbody tr th {\n",
       "        vertical-align: top;\n",
       "    }\n",
       "\n",
       "    .dataframe thead th {\n",
       "        text-align: right;\n",
       "    }\n",
       "</style>\n",
       "<table border=\"1\" class=\"dataframe\">\n",
       "  <thead>\n",
       "    <tr style=\"text-align: right;\">\n",
       "      <th></th>\n",
       "      <th>product_name</th>\n",
       "      <th>review_name</th>\n",
       "      <th>review_content</th>\n",
       "      <th>review_date</th>\n",
       "      <th>review_rating</th>\n",
       "      <th>tokenized_review</th>\n",
       "      <th>replaced_review</th>\n",
       "      <th>preprocess_review</th>\n",
       "    </tr>\n",
       "  </thead>\n",
       "  <tbody>\n",
       "    <tr>\n",
       "      <th>0</th>\n",
       "      <td>[주현영, 이나연 찐템]딥트 3일 피치(맛)번 30정 (30일분)</td>\n",
       "      <td>보리오빠</td>\n",
       "      <td>없으면 안될 최고의 diet템! 피치번을 추천합니당 ㅎㅎ 사진엔 없지만 4통째 먹고...</td>\n",
       "      <td>2023.08.27</td>\n",
       "      <td>5점만점에 5점</td>\n",
       "      <td>없으면 안될 최고 의 diet 템 ! 피치 번 을 추천 합니당 ㅎㅎ 사진 엔 없지만...</td>\n",
       "      <td>없으면 안될 최고 의 다이어트 제품 ! 복숭아 번 을 추천 합니당 ㅎㅎ 사진 엔 없...</td>\n",
       "      <td>최고 다이어트 제품 복숭아 추천 사진 통째 찌다 필수 제품 버리다 제품 광고 구매 ...</td>\n",
       "    </tr>\n",
       "    <tr>\n",
       "      <th>1</th>\n",
       "      <td>[주현영, 이나연 찐템]딥트 3일 피치(맛)번 30정 (30일분)</td>\n",
       "      <td>바보바니</td>\n",
       "      <td>알약 통통이하트 넘예뻐요. 자기전 먹고 효과있으면 얼마나 좋을까요 ㅜㅜ 나이들수록 ...</td>\n",
       "      <td>2023.09.14</td>\n",
       "      <td>5점만점에 5점</td>\n",
       "      <td>알약 통통이 하트 넘 예뻐요 . 자기전 먹고 효과 있으면 얼마나 좋을까요 ㅜㅜ 나이...</td>\n",
       "      <td>크기약 통통이 좋다넘 예뻐요 . 자기전 먹고 효과 있으면 얼마나 좋을까요 ㅜㅜ 나이...</td>\n",
       "      <td>크기 통통이 좋다 예쁘다 효과 좋다 나이 빠지다 배 쌓이네 딥트 종류 셋트 묶이다 ...</td>\n",
       "    </tr>\n",
       "  </tbody>\n",
       "</table>\n",
       "</div>"
      ],
      "text/plain": [
       "                           product_name review_name  \\\n",
       "0  [주현영, 이나연 찐템]딥트 3일 피치(맛)번 30정 (30일분)        보리오빠   \n",
       "1  [주현영, 이나연 찐템]딥트 3일 피치(맛)번 30정 (30일분)        바보바니   \n",
       "\n",
       "                                      review_content review_date  \\\n",
       "0  없으면 안될 최고의 diet템! 피치번을 추천합니당 ㅎㅎ 사진엔 없지만 4통째 먹고...  2023.08.27   \n",
       "1  알약 통통이하트 넘예뻐요. 자기전 먹고 효과있으면 얼마나 좋을까요 ㅜㅜ 나이들수록 ...  2023.09.14   \n",
       "\n",
       "  review_rating                                   tokenized_review  \\\n",
       "0      5점만점에 5점  없으면 안될 최고 의 diet 템 ! 피치 번 을 추천 합니당 ㅎㅎ 사진 엔 없지만...   \n",
       "1      5점만점에 5점  알약 통통이 하트 넘 예뻐요 . 자기전 먹고 효과 있으면 얼마나 좋을까요 ㅜㅜ 나이...   \n",
       "\n",
       "                                     replaced_review  \\\n",
       "0  없으면 안될 최고 의 다이어트 제품 ! 복숭아 번 을 추천 합니당 ㅎㅎ 사진 엔 없...   \n",
       "1  크기약 통통이 좋다넘 예뻐요 . 자기전 먹고 효과 있으면 얼마나 좋을까요 ㅜㅜ 나이...   \n",
       "\n",
       "                                   preprocess_review  \n",
       "0  최고 다이어트 제품 복숭아 추천 사진 통째 찌다 필수 제품 버리다 제품 광고 구매 ...  \n",
       "1  크기 통통이 좋다 예쁘다 효과 좋다 나이 빠지다 배 쌓이네 딥트 종류 셋트 묶이다 ...  "
      ]
     },
     "execution_count": 59,
     "metadata": {},
     "output_type": "execute_result"
    }
   ],
   "source": [
    "data['preprocess_review'] = data['replaced_review'].apply(remove_stopword)\n",
    "data[:2]"
   ]
  },
  {
   "cell_type": "markdown",
   "id": "94e69c46-227c-4ffe-8406-1acdd410b4fa",
   "metadata": {},
   "source": [
    "### 긍정/부정 댓글 분리 "
   ]
  },
  {
   "cell_type": "code",
   "execution_count": 60,
   "id": "950cc6e6-0085-4069-a5cd-06b7c46cc0ea",
   "metadata": {
    "tags": []
   },
   "outputs": [],
   "source": [
    "import re"
   ]
  },
  {
   "cell_type": "code",
   "execution_count": 61,
   "id": "b3a6d958-1881-4092-a215-7a00e061762f",
   "metadata": {
    "tags": []
   },
   "outputs": [
    {
     "data": {
      "text/html": [
       "<div>\n",
       "<style scoped>\n",
       "    .dataframe tbody tr th:only-of-type {\n",
       "        vertical-align: middle;\n",
       "    }\n",
       "\n",
       "    .dataframe tbody tr th {\n",
       "        vertical-align: top;\n",
       "    }\n",
       "\n",
       "    .dataframe thead th {\n",
       "        text-align: right;\n",
       "    }\n",
       "</style>\n",
       "<table border=\"1\" class=\"dataframe\">\n",
       "  <thead>\n",
       "    <tr style=\"text-align: right;\">\n",
       "      <th></th>\n",
       "      <th>product_name</th>\n",
       "      <th>review_name</th>\n",
       "      <th>review_content</th>\n",
       "      <th>review_date</th>\n",
       "      <th>review_rating</th>\n",
       "      <th>tokenized_review</th>\n",
       "      <th>replaced_review</th>\n",
       "      <th>preprocess_review</th>\n",
       "      <th>rating</th>\n",
       "    </tr>\n",
       "  </thead>\n",
       "  <tbody>\n",
       "    <tr>\n",
       "      <th>0</th>\n",
       "      <td>[주현영, 이나연 찐템]딥트 3일 피치(맛)번 30정 (30일분)</td>\n",
       "      <td>보리오빠</td>\n",
       "      <td>없으면 안될 최고의 diet템! 피치번을 추천합니당 ㅎㅎ 사진엔 없지만 4통째 먹고...</td>\n",
       "      <td>2023.08.27</td>\n",
       "      <td>5점만점에 5점</td>\n",
       "      <td>없으면 안될 최고 의 diet 템 ! 피치 번 을 추천 합니당 ㅎㅎ 사진 엔 없지만...</td>\n",
       "      <td>없으면 안될 최고 의 다이어트 제품 ! 복숭아 번 을 추천 합니당 ㅎㅎ 사진 엔 없...</td>\n",
       "      <td>최고 다이어트 제품 복숭아 추천 사진 통째 찌다 필수 제품 버리다 제품 광고 구매 ...</td>\n",
       "      <td>5</td>\n",
       "    </tr>\n",
       "    <tr>\n",
       "      <th>1</th>\n",
       "      <td>[주현영, 이나연 찐템]딥트 3일 피치(맛)번 30정 (30일분)</td>\n",
       "      <td>바보바니</td>\n",
       "      <td>알약 통통이하트 넘예뻐요. 자기전 먹고 효과있으면 얼마나 좋을까요 ㅜㅜ 나이들수록 ...</td>\n",
       "      <td>2023.09.14</td>\n",
       "      <td>5점만점에 5점</td>\n",
       "      <td>알약 통통이 하트 넘 예뻐요 . 자기전 먹고 효과 있으면 얼마나 좋을까요 ㅜㅜ 나이...</td>\n",
       "      <td>크기약 통통이 좋다넘 예뻐요 . 자기전 먹고 효과 있으면 얼마나 좋을까요 ㅜㅜ 나이...</td>\n",
       "      <td>크기 통통이 좋다 예쁘다 효과 좋다 나이 빠지다 배 쌓이네 딥트 종류 셋트 묶이다 ...</td>\n",
       "      <td>5</td>\n",
       "    </tr>\n",
       "  </tbody>\n",
       "</table>\n",
       "</div>"
      ],
      "text/plain": [
       "                           product_name review_name  \\\n",
       "0  [주현영, 이나연 찐템]딥트 3일 피치(맛)번 30정 (30일분)        보리오빠   \n",
       "1  [주현영, 이나연 찐템]딥트 3일 피치(맛)번 30정 (30일분)        바보바니   \n",
       "\n",
       "                                      review_content review_date  \\\n",
       "0  없으면 안될 최고의 diet템! 피치번을 추천합니당 ㅎㅎ 사진엔 없지만 4통째 먹고...  2023.08.27   \n",
       "1  알약 통통이하트 넘예뻐요. 자기전 먹고 효과있으면 얼마나 좋을까요 ㅜㅜ 나이들수록 ...  2023.09.14   \n",
       "\n",
       "  review_rating                                   tokenized_review  \\\n",
       "0      5점만점에 5점  없으면 안될 최고 의 diet 템 ! 피치 번 을 추천 합니당 ㅎㅎ 사진 엔 없지만...   \n",
       "1      5점만점에 5점  알약 통통이 하트 넘 예뻐요 . 자기전 먹고 효과 있으면 얼마나 좋을까요 ㅜㅜ 나이...   \n",
       "\n",
       "                                     replaced_review  \\\n",
       "0  없으면 안될 최고 의 다이어트 제품 ! 복숭아 번 을 추천 합니당 ㅎㅎ 사진 엔 없...   \n",
       "1  크기약 통통이 좋다넘 예뻐요 . 자기전 먹고 효과 있으면 얼마나 좋을까요 ㅜㅜ 나이...   \n",
       "\n",
       "                                   preprocess_review rating  \n",
       "0  최고 다이어트 제품 복숭아 추천 사진 통째 찌다 필수 제품 버리다 제품 광고 구매 ...      5  \n",
       "1  크기 통통이 좋다 예쁘다 효과 좋다 나이 빠지다 배 쌓이네 딥트 종류 셋트 묶이다 ...      5  "
      ]
     },
     "execution_count": 61,
     "metadata": {},
     "output_type": "execute_result"
    }
   ],
   "source": [
    "data['rating'] = data['review_rating'].str.extract(r'(\\s\\d(?=점))|(\\d.\\d)').apply(lambda x: ''.join(x.dropna()), axis=1)\n",
    "data[:2]"
   ]
  },
  {
   "cell_type": "code",
   "execution_count": 64,
   "id": "5beabae9-2fa0-465f-913a-f4768e037698",
   "metadata": {
    "tags": []
   },
   "outputs": [],
   "source": [
    "# 'rating' 열을 숫자로 변환\n",
    "data['rating'] = pd.to_numeric(data['rating'])"
   ]
  },
  {
   "cell_type": "code",
   "execution_count": 65,
   "id": "4230d5c7-548c-4db4-a586-6525fc910411",
   "metadata": {
    "tags": []
   },
   "outputs": [],
   "source": [
    "# 전처리 데이터 저장\n",
    "data.to_csv('../datasets/preprocessed_total_data.csv', index=None)"
   ]
  },
  {
   "cell_type": "code",
   "execution_count": 67,
   "id": "bbe2a855-7171-4fe5-b29d-c9b3905a5cc9",
   "metadata": {},
   "outputs": [],
   "source": [
    "condition_positive =  data['rating'] >= 4 # 긍정\n",
    "condition_negative = data['rating'] <= 3  # 부정"
   ]
  },
  {
   "cell_type": "code",
   "execution_count": 68,
   "id": "8da02253-8782-4c83-828f-6565091fc4b0",
   "metadata": {
    "tags": []
   },
   "outputs": [],
   "source": [
    "review_positive = data[condition_positive]\n",
    "review_negative= data[condition_negative]"
   ]
  },
  {
   "cell_type": "code",
   "execution_count": null,
   "id": "ea936bdd-f3c8-411e-8179-6a6dcc75d413",
   "metadata": {},
   "outputs": [],
   "source": [
    "# # 저장\n",
    "# review_positive.to_csv('./review_positive.csv')\n",
    "# review_negative.to_csv('./review_negative.csv')"
   ]
  }
 ],
 "metadata": {
  "kernelspec": {
   "display_name": "Python 3 (ipykernel)",
   "language": "python",
   "name": "python3"
  },
  "language_info": {
   "codemirror_mode": {
    "name": "ipython",
    "version": 3
   },
   "file_extension": ".py",
   "mimetype": "text/x-python",
   "name": "python",
   "nbconvert_exporter": "python",
   "pygments_lexer": "ipython3",
   "version": "3.11.3"
  }
 },
 "nbformat": 4,
 "nbformat_minor": 5
}
