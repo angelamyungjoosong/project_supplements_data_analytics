{
 "cells": [
  {
   "cell_type": "code",
   "execution_count": 1,
   "id": "fe4b3e88-c51c-4754-8788-c21124bea9eb",
   "metadata": {
    "tags": []
   },
   "outputs": [],
   "source": [
    "from selenium import webdriver\n",
    "import pandas as pd \n",
    "import pymongo as mg\n",
    "import time"
   ]
  },
  {
   "cell_type": "markdown",
   "id": "f845d105-cdaf-46a8-beab-400971afb0e0",
   "metadata": {},
   "source": [
    "### single"
   ]
  },
  {
   "cell_type": "markdown",
   "id": "8af68319-9a98-45bb-a58d-6d4340eac71e",
   "metadata": {},
   "source": [
    "### 웹사이트 \n",
    "- 위메프 : https://front.wemakeprice.com/category/section/3100171"
   ]
  },
  {
   "cell_type": "code",
   "execution_count": 2,
   "id": "095416fc-9841-4614-81bf-91979e29ee24",
   "metadata": {
    "tags": []
   },
   "outputs": [],
   "source": [
    "wemake = 'https://front.wemakeprice.com/category/section/3100171'\n",
    "browser = webdriver.Chrome(executable_path='../../chromedriver.exe')\n",
    "browser.get(wemake)"
   ]
  },
  {
   "cell_type": "markdown",
   "id": "50a3db87-8194-40cf-bba6-5a287e929f6e",
   "metadata": {},
   "source": [
    "### 제품 정보 \n",
    "- 제품 클릭 : #list_lists > div > div:nth-child(1) > a > div > div.item_cont > div.option_txt > p\n",
    "- 제품명 : #_infoDescription > div.title_box > h3\n",
    "- 제품 묶음 : .conts_wrap"
   ]
  },
  {
   "cell_type": "markdown",
   "id": "d8551d27-d123-4885-884b-aa955f27b1f9",
   "metadata": {},
   "source": [
    "### 리뷰 정보 \n",
    "- 리뷰 클릭 : #_contents > div.content_main.items > div.dinfo_itemdetail.close > div.wrap_tab > div > ul > li:nth-child(3) > a > span.tit.buy_write_s\n",
    "- 작성자 이름 : .name\n",
    "- 리뷰 내용 : .post\n",
    "- 작성 날짜 : .time\n",
    "- 별점 : .grade\n",
    "- 리뷰 묶음 : .reviewItem"
   ]
  },
  {
   "cell_type": "code",
   "execution_count": 25,
   "id": "6cb08a2c-fd9f-4dc5-83a3-739a0dea33ba",
   "metadata": {
    "tags": []
   },
   "outputs": [],
   "source": [
    "# 한 제품 클릭 \n",
    "click_product = browser.find_element_by_css_selector('div > div.item_cont > div.option_txt > p').click()"
   ]
  },
  {
   "cell_type": "code",
   "execution_count": 4,
   "id": "59636def-5644-4316-845b-9c875f366cc2",
   "metadata": {
    "tags": []
   },
   "outputs": [
    {
     "data": {
      "text/plain": [
       "'티젠 신상 콤부차 40스틱 세트 + 보틀증정'"
      ]
     },
     "execution_count": 4,
     "metadata": {},
     "output_type": "execute_result"
    }
   ],
   "source": [
    "product_name = browser.find_element_by_css_selector('#_infoDescription > div.title_box > h3').text\n",
    "product_name"
   ]
  },
  {
   "cell_type": "code",
   "execution_count": 5,
   "id": "ee691b6f-c54e-4b7b-afb7-a1cf90f34cf8",
   "metadata": {
    "tags": []
   },
   "outputs": [
    {
     "data": {
      "text/plain": [
       "102"
      ]
     },
     "execution_count": 5,
     "metadata": {},
     "output_type": "execute_result"
    }
   ],
   "source": [
    "# 제품 리스트 가져오기 \n",
    "products_path = '.conts_wrap'\n",
    "products_number = browser.find_elements_by_css_selector(products_path)\n",
    "len(products_number)"
   ]
  },
  {
   "cell_type": "code",
   "execution_count": 24,
   "id": "1d7ddaee-411b-4a2a-ad86-f08711c51073",
   "metadata": {
    "tags": []
   },
   "outputs": [
    {
     "ename": "IndexError",
     "evalue": "list index out of range",
     "output_type": "error",
     "traceback": [
      "\u001b[1;31m---------------------------------------------------------------------------\u001b[0m",
      "\u001b[1;31mIndexError\u001b[0m                                Traceback (most recent call last)",
      "Cell \u001b[1;32mIn[24], line 7\u001b[0m\n\u001b[0;32m      4\u001b[0m \u001b[38;5;28;01mfor\u001b[39;00m i \u001b[38;5;129;01min\u001b[39;00m \u001b[38;5;28mrange\u001b[39m(\u001b[38;5;28mlen\u001b[39m(products_number)): \n\u001b[0;32m      5\u001b[0m     \u001b[38;5;66;03m# 각각의 click_product 클릭\u001b[39;00m\n\u001b[0;32m      6\u001b[0m     products_number \u001b[38;5;241m=\u001b[39m browser\u001b[38;5;241m.\u001b[39mfind_elements_by_css_selector(products_path)  \u001b[38;5;66;03m# 다시 제품 목록 가져오기\u001b[39;00m\n\u001b[1;32m----> 7\u001b[0m     product \u001b[38;5;241m=\u001b[39m products_number[i]  \u001b[38;5;66;03m# i번째 제품 선택\u001b[39;00m\n\u001b[0;32m      8\u001b[0m     product\u001b[38;5;241m.\u001b[39mclick()\n\u001b[0;32m      9\u001b[0m     time\u001b[38;5;241m.\u001b[39msleep(\u001b[38;5;241m3\u001b[39m)\n",
      "\u001b[1;31mIndexError\u001b[0m: list index out of range"
     ]
    }
   ],
   "source": [
    "# 제품 클릭 loop\n",
    "products_path = '.conts_wrap'\n",
    "products_number = browser.find_elements_by_css_selector(products_path)\n",
    "for i in range(len(products_number)): \n",
    "    # 각각의 click_product 클릭\n",
    "    products_number = browser.find_elements_by_css_selector(products_path)  # 다시 제품 목록 가져오기\n",
    "    product = products_number[i]  # i번째 제품 선택\n",
    "    product.click()\n",
    "    time.sleep(3)\n",
    "    browser.back()"
   ]
  },
  {
   "cell_type": "code",
   "execution_count": 35,
   "id": "3dd0e3a4-783e-49bb-94b1-f17c291bf67b",
   "metadata": {
    "tags": []
   },
   "outputs": [],
   "source": [
    "# 리뷰 클릭 \n",
    "review_click = browser.find_element_by_css_selector('#_contents > div.content_main.items > div.dinfo_itemdetail > div.wrap_tab > div > ul > li:nth-child(3)').click()"
   ]
  },
  {
   "cell_type": "code",
   "execution_count": 36,
   "id": "cf756797-7f3a-4d87-913a-94d9641b6cbc",
   "metadata": {
    "tags": []
   },
   "outputs": [
    {
     "data": {
      "text/plain": [
       "['hye******', '택배배송 (롯데택배)', '2021.04.16', '4.6']"
      ]
     },
     "execution_count": 36,
     "metadata": {},
     "output_type": "execute_result"
    }
   ],
   "source": [
    "# 리뷰 정보 \n",
    "review_name = browser.find_element_by_css_selector('.name').text\n",
    "review_content = browser.find_element_by_css_selector('.post').text\n",
    "review_date = browser.find_element_by_css_selector('.time').text\n",
    "review_rating = browser.find_element_by_css_selector('.grade').text  #get_attribute('review_point')\n",
    "\n",
    "[review_name, review_content, review_date, review_rating]"
   ]
  },
  {
   "cell_type": "code",
   "execution_count": 46,
   "id": "ce10159f-ab00-4132-a33e-d1a4787c44dc",
   "metadata": {
    "tags": []
   },
   "outputs": [
    {
     "data": {
      "text/plain": [
       "10"
      ]
     },
     "execution_count": 46,
     "metadata": {},
     "output_type": "execute_result"
    }
   ],
   "source": [
    "review_bundle = browser.find_elements_by_css_selector('[data-container=\"reviewItem\"]')\n",
    "len(review_bundle)"
   ]
  },
  {
   "cell_type": "code",
   "execution_count": 63,
   "id": "29a30119-17ed-4dec-b8bd-ba1809b6acf3",
   "metadata": {
    "tags": []
   },
   "outputs": [],
   "source": [
    "# 리뷰 한페이지 갖고 오기 \n",
    "review_bundle = browser.find_elements_by_css_selector('[data-container=\"reviewItem\"]')\n",
    "\n",
    "reviews_list = []\n",
    "for review in review_bundle:\n",
    "    #리뷰 클릭 \n",
    "    review_click = browser.find_element_by_css_selector('#_contents > div.content_main.items > div.dinfo_itemdetail > div.wrap_tab > div > ul > li:nth-child(3)').click()\n",
    "    #time.sleep(2) #term을 주기\n",
    "    # 리뷰 정보 \n",
    "    review_name = review.find_element_by_css_selector('.name').text\n",
    "    review_content = review.find_element_by_css_selector('.post').text\n",
    "    review_date = review.find_element_by_css_selector('.time').text\n",
    "    review_rating = review.find_element_by_css_selector('.grade').text \n",
    "    \n",
    "    review_info  = [review_name, review_content, review_date, review_rating]\n",
    "    reviews_list.append(review_info )"
   ]
  },
  {
   "cell_type": "code",
   "execution_count": 62,
   "id": "448a2d94-514f-48dc-9e38-2eb747f4dd19",
   "metadata": {
    "collapsed": true,
    "jupyter": {
     "outputs_hidden": true
    },
    "tags": []
   },
   "outputs": [
    {
     "data": {
      "text/plain": [
       "[['hye******',\n",
       "  '10포들어있는 제품3박스를 구입했는데 그중 한박스가 내용물이 터졌는지 내용물인 가루가 들어있더라구요 나머지 두박스는 괜찮아서 그냥 먹겠지만 터진 한박스는 찝찝해서 못먹겠네요 이걸 어떻게 민원을 신청해야하는지 몰라 여기에 글 남깁니다',\n",
       "  '2021.04.16',\n",
       "  '1.0'],\n",
       " ['lim********',\n",
       "  '너무 좋아요.물병이 2개나 생겼네요.오자마자 레몬 탔는데 너무 맛있어요.',\n",
       "  '2023.07.09',\n",
       "  '5.0'],\n",
       " ['eej***',\n",
       "  '오렌지망고향에 신맛이 없는 편이라 공복에도 속쓰림없이 먹을수있어요 이지컷형태라 개봉하기 쉽고 물먹는습관이 안들어 만성탈수인 분들에게 오후시간 맛있게 기분전환도 하고 물보충도 되는 1석2조의 티랍니다 색깔도 오렌지주스색이라 시각적으로도 상큼함을 주네요 또한 루테인도 섭취할수있으니 카페인없는,그러면서 건강차를 찾는 사람에겐 딱일듯합니다 맛의종류가1,2가지 더 추가면 골라먹는 ㅐ미도 쏠쏠 할듯싶네요',\n",
       "  '2021.10.06',\n",
       "  '4.0'],\n",
       " ['eej***',\n",
       "  '지난번 구매후 가격이 제일 착해서 재구매했어요. 맛은 망고와 오렌지를 섞은듯한 과일향으로 거부감없이 물마시기 습관들이기에 도움이 됐었네요. 저칼로리(17kcal)라 저녁에 입이 심심할때 마시면 수분섭취도 되고 야식도 줄이는 일석이조효과네요. 게다가 눈에 필요한 루테인도 섭취한다 생각하니 뿌듯하네요. 다만, 다음엔 보틀은 필요한분들만 추가구입하는 방식 어떨까 싶어요.',\n",
       "  '2021.11.25',\n",
       "  '4.0'],\n",
       " ['shi********',\n",
       "  '보틀 빼달라고 요청드렸는데 잘 들어주셔서 감사합니다. 콤부차 처음 먹어보는건데 그냥 물에 타먹어도 탄산음료 같아져서 정말 맛있어요. 가격도 저렴하게 사서 기분좋네용',\n",
       "  '2023.08.04',\n",
       "  '5.0'],\n",
       " ['dkd******',\n",
       "  '항상 맛있게 마시는 ~^^단 맛이 좀 강해서 개인적으로 좋아합니다. 쿠폰할인 받고 조금 저렴해서 쌓아놓고 마셔요ㅡ신랑도 이건 좋아해서 많이 샀어요 ㅋ\\n많이 사니ㅡ사은품도 주시고~~감사요😁',\n",
       "  '2023.08.03',\n",
       "  '5.0'],\n",
       " ['kmj****',\n",
       "  '레몬맛만 먹어봤는데\\n약간 인위적인 레몬맛에 아주 달달한 맛\\n탄산은 금방 없어지네요ㅠ\\n싸게 잘 샀어요\\n여름철 잘 먹을께요',\n",
       "  '2023.07.07',\n",
       "  '5.0'],\n",
       " ['0o0',\n",
       "  '텀블러가 이뻐서 구매,,\\n근데 불량이왓네요ㅡㅡ\\n물이뚝뚝 흘러요 속상허네요\\n검수좀잘해서 보내주시지,,,아휴',\n",
       "  '2023.03.23',\n",
       "  '1.0'],\n",
       " ['pyj****', '티젠 콤부차!!\\n요즘 젤 핫한! 마실때마다 건강해지는..\\n맛있어요~~♡', '2023.08.04', '5.0'],\n",
       " ['die*****', '잘받았습니다. 많이 파세요', '2023.08.02', '5.0']]"
      ]
     },
     "execution_count": 62,
     "metadata": {},
     "output_type": "execute_result"
    }
   ],
   "source": [
    "reviews_list"
   ]
  },
  {
   "cell_type": "code",
   "execution_count": 65,
   "id": "6166249c-1c92-4943-b4a7-28c58ee756d0",
   "metadata": {
    "tags": []
   },
   "outputs": [
    {
     "data": {
      "text/plain": [
       "8"
      ]
     },
     "execution_count": 65,
     "metadata": {},
     "output_type": "execute_result"
    }
   ],
   "source": [
    "#리뷰 페이지의 갯수\n",
    "page_path = browser.find_elements_by_css_selector('.link_page')\n",
    "len(page_path)"
   ]
  },
  {
   "cell_type": "code",
   "execution_count": 70,
   "id": "efc1599d-bf72-4620-a631-3a0b6300165f",
   "metadata": {
    "tags": []
   },
   "outputs": [
    {
     "name": "stdout",
     "output_type": "stream",
     "text": [
      "성공 : 1 \n",
      "성공 : 2 \n",
      "성공 : 3 \n",
      "성공 : 4 \n",
      "성공 : 5 \n",
      "성공 : 6 \n",
      "성공 : 7 \n",
      "성공 : 1 \n"
     ]
    }
   ],
   "source": [
    "#리뷰 페이지네이션 \n",
    "page_path = browser.find_elements_by_css_selector('.link_page')\n",
    "for page_number in page_path:\n",
    "    try : \n",
    "        selector = 'div.paging_comm > a:nth-child({})'.format(page_number.text)\n",
    "        page_elements = browser.find_elements_by_css_selector(selector)\n",
    "        print(\"성공 : {} \".format(page_number.text))\n",
    "    except:\n",
    "        print(\"실패 : {} \".format(page_number.text))"
   ]
  },
  {
   "cell_type": "code",
   "execution_count": 77,
   "id": "d911f592-1e1a-4d43-a44d-377bc67e6fa5",
   "metadata": {
    "tags": []
   },
   "outputs": [],
   "source": [
    "# 한 제품의 모든 리뷰 끌고 오기 \n",
    "reviews_list = []\n",
    "\n",
    "#리뷰 페이지네이션\n",
    "page_path = browser.find_elements_by_css_selector('.link_page')\n",
    "for page_number in page_path:\n",
    "    selector = 'div.paging_comm > a:nth-child({})'.format(page_number.text)\n",
    "    page_elements = browser.find_elements_by_css_selector(selector)\n",
    "    \n",
    "    # 리뷰 한페이지 갖고 오기 \n",
    "    review_bundle = browser.find_elements_by_css_selector('[data-container=\"reviewItem\"]')\n",
    "\n",
    "    for review in review_bundle:\n",
    "        \n",
    "        #리뷰 클릭 \n",
    "        #review_click = browser.find_element_by_css_selector('#_contents > div.content_main.items > div.dinfo_itemdetail > div.wrap_tab > div > ul > li:nth-child(3)').click()\n",
    "        #time.sleep(2) #term을 주기\n",
    "        \n",
    "        # 리뷰 정보 \n",
    "        review_name = review.find_element_by_css_selector('.name').text\n",
    "        review_content = review.find_element_by_css_selector('.post').text\n",
    "        review_date = review.find_element_by_css_selector('.time').text\n",
    "        review_rating = review.find_element_by_css_selector('.grade').text \n",
    "\n",
    "        review_info  = [review_name, review_content, review_date, review_rating]\n",
    "        reviews_list.append(review_info )\n",
    "browser.back()"
   ]
  },
  {
   "cell_type": "code",
   "execution_count": 79,
   "id": "e0636ede-030f-4f64-9dae-edc1b073dd32",
   "metadata": {
    "tags": []
   },
   "outputs": [
    {
     "ename": "IndexError",
     "evalue": "list index out of range",
     "output_type": "error",
     "traceback": [
      "\u001b[1;31m---------------------------------------------------------------------------\u001b[0m",
      "\u001b[1;31mIndexError\u001b[0m                                Traceback (most recent call last)",
      "Cell \u001b[1;32mIn[79], line 7\u001b[0m\n\u001b[0;32m      4\u001b[0m \u001b[38;5;28;01mfor\u001b[39;00m i \u001b[38;5;129;01min\u001b[39;00m \u001b[38;5;28mrange\u001b[39m(\u001b[38;5;28mlen\u001b[39m(products_number)): \n\u001b[0;32m      5\u001b[0m     \u001b[38;5;66;03m# 각각의 click_product 클릭\u001b[39;00m\n\u001b[0;32m      6\u001b[0m     products_number \u001b[38;5;241m=\u001b[39m browser\u001b[38;5;241m.\u001b[39mfind_elements_by_css_selector(products_path)  \u001b[38;5;66;03m# 다시 제품 목록 가져오기\u001b[39;00m\n\u001b[1;32m----> 7\u001b[0m     product \u001b[38;5;241m=\u001b[39m products_number[i]  \u001b[38;5;66;03m# i번째 제품 선택\u001b[39;00m\n\u001b[0;32m      8\u001b[0m     product\u001b[38;5;241m.\u001b[39mclick()\n\u001b[0;32m      9\u001b[0m     \u001b[38;5;66;03m#time.sleep(3)\u001b[39;00m\n\u001b[0;32m     10\u001b[0m     \n\u001b[0;32m     11\u001b[0m     \u001b[38;5;66;03m#리뷰 클릭 \u001b[39;00m\n",
      "\u001b[1;31mIndexError\u001b[0m: list index out of range"
     ]
    }
   ],
   "source": [
    "# 한 페이지에 있는 모든 제품의 리뷰를 갖고 오기 \n",
    "products_path = '.conts_wrap'\n",
    "products_number = browser.find_elements_by_css_selector(products_path)\n",
    "for i in range(len(products_number)): \n",
    "    # 각각의 click_product 클릭\n",
    "    products_number = browser.find_elements_by_css_selector(products_path)  # 다시 제품 목록 가져오기\n",
    "    product = products_number[i]  # i번째 제품 선택\n",
    "    product.click()\n",
    "    #time.sleep(3)\n",
    "    \n",
    "    #리뷰 클릭 \n",
    "    review_click = browser.find_element_by_css_selector('#_contents > div.content_main.items > div.dinfo_itemdetail > div.wrap_tab > div > ul > li:nth-child(3)').click()\n",
    "    #time.sleep(2) #term을 주기\n",
    "    \n",
    "    # 한 제품의 모든 리뷰 끌고 오기 \n",
    "    reviews_list = []\n",
    "\n",
    "    #리뷰 페이지네이션\n",
    "    page_path = browser.find_elements_by_css_selector('.link_page')\n",
    "    for page_number in page_path:\n",
    "        selector = 'div.paging_comm > a:nth-child({})'.format(page_number.text)\n",
    "        page_elements = browser.find_elements_by_css_selector(selector)\n",
    "\n",
    "        # 리뷰 한페이지 갖고 오기 \n",
    "        review_bundle = browser.find_elements_by_css_selector('[data-container=\"reviewItem\"]')\n",
    "\n",
    "        for review in review_bundle:\n",
    "\n",
    "            #리뷰 클릭 \n",
    "            #review_click = browser.find_element_by_css_selector('#_contents > div.content_main.items > div.dinfo_itemdetail > div.wrap_tab > div > ul > li:nth-child(3)').click()\n",
    "            #time.sleep(2) #term을 주기\n",
    "\n",
    "            # 리뷰 정보 \n",
    "            review_name = review.find_element_by_css_selector('.name').text\n",
    "            review_content = review.find_element_by_css_selector('.post').text\n",
    "            review_date = review.find_element_by_css_selector('.time').text\n",
    "            review_rating = review.find_element_by_css_selector('.grade').text \n",
    "\n",
    "            review_info  = [review_name, review_content, review_date, review_rating]\n",
    "            reviews_list.append(review_info )\n",
    "    browser.back()"
   ]
  },
  {
   "cell_type": "code",
   "execution_count": 80,
   "id": "79ded569-438c-4ed0-83a4-1790e35b1cb9",
   "metadata": {
    "tags": []
   },
   "outputs": [
    {
     "name": "stdout",
     "output_type": "stream",
     "text": [
      "성공 : 1 \n",
      "성공 : 2 \n",
      "성공 : 3 \n",
      "성공 : 4 \n",
      "성공 : 5 \n",
      "성공 : 6 \n",
      "성공 : 7 \n",
      "성공 : 8 \n",
      "성공 : 9 \n",
      "성공 : 10 \n",
      "성공 : 1 \n",
      "성공 : 2 \n"
     ]
    }
   ],
   "source": [
    "#제품 페이지네이션 \n",
    "producr_page_path = browser.find_elements_by_css_selector('.link_page')\n",
    "for pro_page_number in producr_page_path:\n",
    "    try : \n",
    "        selector = 'div.paging_comm > a:nth-child({})'.format(pro_page_number.text)\n",
    "        page_elements = browser.find_elements_by_css_selector(selector)\n",
    "        print(\"성공 : {} \".format(pro_page_number.text))\n",
    "    except:\n",
    "        print(\"실패 : {} \".format(pro_page_number.text))"
   ]
  },
  {
   "cell_type": "code",
   "execution_count": 84,
   "id": "3a291cee-2b50-4d6a-b355-18f91a374ada",
   "metadata": {
    "tags": []
   },
   "outputs": [
    {
     "name": "stdout",
     "output_type": "stream",
     "text": [
      "실패 : div.paging_comm > a:nth-child(2)\n",
      "실패 : div.paging_comm > a:nth-child(3)\n",
      "실패 : div.paging_comm > a:nth-child(4)\n",
      "실패 : div.paging_comm > a:nth-child(5)\n",
      "실패 : div.paging_comm > a:nth-child(6)\n",
      "실패 : div.paging_comm > a:nth-child(7)\n",
      "실패 : div.paging_comm > a:nth-child(8)\n",
      "실패 : div.paging_comm > a:nth-child(9)\n",
      "실패 : div.paging_comm > a:nth-child(10)\n"
     ]
    }
   ],
   "source": [
    "# 제품 페이지네이션 \n",
    "for page_number in range(2, 11) :\n",
    "    element_path  = 'div.paging_comm > a:nth-child({})'.format(page_number)\n",
    "    try : \n",
    "        pagination = browser.find_element_by_css_selector(element_path)\n",
    "        pagination.click()\n",
    "        # 제품 클릭 loop\n",
    "        products_path = '.conts_wrap'\n",
    "        products_number = browser.find_elements_by_css_selector(products_path)\n",
    "        for i in range(len(products_number)): \n",
    "            # 각각의 click_product 클릭\n",
    "            products_number = browser.find_elements_by_css_selector(products_path)  # 다시 제품 목록 가져오기\n",
    "            product = products_number[i]  # i번째 제품 선택\n",
    "            product.click()\n",
    "            #time.sleep(3)\n",
    "            browser.back()\n",
    "        print('성공 : {}'.format(element_path))\n",
    "        \n",
    "    except : \n",
    "        print('실패 : {}'.format(element_path))\n",
    "        pass\n",
    "    "
   ]
  },
  {
   "cell_type": "code",
   "execution_count": 103,
   "id": "902a83c6-2c41-461b-b284-89cf3dbbb6fc",
   "metadata": {
    "tags": []
   },
   "outputs": [
    {
     "name": "stdout",
     "output_type": "stream",
     "text": [
      "실패\n",
      "실패\n",
      "실패\n",
      "실패\n",
      "실패\n",
      "실패\n",
      "실패\n",
      "실패\n",
      "실패\n"
     ]
    }
   ],
   "source": [
    "client = mg.MongoClient(host='mongodb://localhost:27017')\n",
    "database = client['project_dietsupplements']\n",
    "collection = database['wemake_data']\n",
    "\n",
    "wemake_list = []\n",
    "wemake_info_name = ['product_name', 'review_name', 'review_content', 'review_date', 'review_rating']\n",
    "\n",
    "# 제품 리스트 가져오기 \n",
    "products_path = '.conts_wrap'\n",
    "products_number = browser.find_elements_by_css_selector(products_path)\n",
    "\n",
    "# 제품 페이지네이션 \n",
    "for page_number in range(2, 11) :\n",
    "    element_path  = 'div.paging_comm > a:nth-child({})'.format(page_number)\n",
    "    try : \n",
    "        pagination = browser.find_element_by_css_selector(element_path)\n",
    "        pagination.click()\n",
    "        \n",
    "        # 제품 클릭 loop\n",
    "        products_path = '.conts_wrap'\n",
    "        products_number = browser.find_elements_by_css_selector(products_path)\n",
    "        \n",
    "        for i in range(len(products_number)): \n",
    "            # 각각의 click_product 클릭\n",
    "            products_number = browser.find_elements_by_css_selector(products_path)  # 다시 제품 목록 가져오기\n",
    "            product = products_number[i]  # i번째 제품 선택\n",
    "            product.click()\n",
    "            #time.sleep(3)\n",
    "            \n",
    "            #제품명 갖고오기 \n",
    "            try : \n",
    "                product_name = browser.find_element_by_css_selector('#_infoDescription > div.title_box > h3').text\n",
    "            except:\n",
    "                product_name = str()\n",
    "            \n",
    "            # 리뷰 클릭 \n",
    "            review_click = browser.find_element_by_css_selector('#_contents > div.content_main.items > div.dinfo_itemdetail > div.wrap_tab > div > ul > li:nth-child(3)').click()\n",
    "            \n",
    "            # 한 제품의 모든 리뷰 끌고 오기 \n",
    "            #reviews_list = []\n",
    "\n",
    "            #리뷰 페이지네이션\n",
    "            page_path = browser.find_elements_by_css_selector('.link_page')\n",
    "            for page_number in page_path:\n",
    "                selector = 'div.paging_comm > a:nth-child({})'.format(page_number.text)\n",
    "                page_elements = browser.find_elements_by_css_selector(selector)\n",
    "\n",
    "                # 리뷰 한페이지 갖고 오기 \n",
    "                review_bundle = browser.find_elements_by_css_selector('[data-container=\"reviewItem\"]')\n",
    "\n",
    "                for review in review_bundle:\n",
    "\n",
    "                    # 리뷰 정보\n",
    "                    review_name = review.find_element_by_css_selector('.name').text\n",
    "                    review_content = review.find_element_by_css_selector('.post').text\n",
    "                    review_date = review.find_element_by_css_selector('.time').text\n",
    "                    review_rating = review.find_element_by_css_selector('.grade').text \n",
    "\n",
    "                    review_info  = [review_name, review_content, review_date, review_rating]\n",
    "                    reviews_list.append(review_info )\n",
    "                    \n",
    "            wemake_list.extend(reviews_list)\n",
    "            reviews_list = []\n",
    "\n",
    "            # 다음 페이지로 이동\n",
    "            pagination = browser.find_element_by_css_selector(element_path)\n",
    "            pagination.click()\n",
    "            #time.sleep(3)\n",
    "            \n",
    "             # 저장을 위한 작업 \n",
    "            df_wemake = pd.DataFrame(data=wemake_list, columns=wemake_info_name)\n",
    "            data_dict = df_wemake.to_dict(orient='records')\n",
    "            collection.insert_many(data_dict)\n",
    "            \n",
    "            # 초기화\n",
    "            wemake_list = []\n",
    "\n",
    "           \n",
    "            browser.back()\n",
    "            \n",
    "    except : \n",
    "        print('실패')\n",
    "       #pass"
   ]
  },
  {
   "cell_type": "code",
   "execution_count": 100,
   "id": "41a59e61-1b3e-45d5-b9a0-689d6d8ed70d",
   "metadata": {
    "tags": []
   },
   "outputs": [],
   "source": [
    "wemake = 'https://front.wemakeprice.com/category/section/3100171'\n",
    "browser = webdriver.Chrome(executable_path='../../chromedriver.exe')\n",
    "browser.get(wemake)"
   ]
  },
  {
   "cell_type": "code",
   "execution_count": 99,
   "id": "05f1abb8-fe9c-452a-912f-211e498e6007",
   "metadata": {
    "collapsed": true,
    "jupyter": {
     "outputs_hidden": true
    },
    "tags": []
   },
   "outputs": [
    {
     "data": {
      "text/plain": [
       "[['hye******',\n",
       "  '10포들어있는 제품3박스를 구입했는데 그중 한박스가 내용물이 터졌는지 내용물인 가루가 들어있더라구요 나머지 두박스는 괜찮아서 그냥 먹겠지만 터진 한박스는 찝찝해서 못먹겠네요 이걸 어떻게 민원을 신청해야하는지 몰라 여기에 글 남깁니다',\n",
       "  '2021.04.16',\n",
       "  '1.0'],\n",
       " ['lim********',\n",
       "  '너무 좋아요.물병이 2개나 생겼네요.오자마자 레몬 탔는데 너무 맛있어요.',\n",
       "  '2023.07.09',\n",
       "  '5.0'],\n",
       " ['eej***',\n",
       "  '오렌지망고향에 신맛이 없는 편이라 공복에도 속쓰림없이 먹을수있어요 이지컷형태라 개봉하기 쉽고 물먹는습관이 안들어 만성탈수인 분들에게 오후시간 맛있게 기분전환도 하고 물보충도 되는 1석2조의 티랍니다 색깔도 오렌지주스색이라 시각적으로도 상큼함을 주네요 또한 루테인도 섭취할수있으니 카페인없는,그러면서 건강차를 찾는 사람에겐 딱일듯합니다 맛의종류가1,2가지 더 추가면 골라먹는 ㅐ미도 쏠쏠 할듯싶네요',\n",
       "  '2021.10.06',\n",
       "  '4.0'],\n",
       " ['eej***',\n",
       "  '지난번 구매후 가격이 제일 착해서 재구매했어요. 맛은 망고와 오렌지를 섞은듯한 과일향으로 거부감없이 물마시기 습관들이기에 도움이 됐었네요. 저칼로리(17kcal)라 저녁에 입이 심심할때 마시면 수분섭취도 되고 야식도 줄이는 일석이조효과네요. 게다가 눈에 필요한 루테인도 섭취한다 생각하니 뿌듯하네요. 다만, 다음엔 보틀은 필요한분들만 추가구입하는 방식 어떨까 싶어요.',\n",
       "  '2021.11.25',\n",
       "  '4.0'],\n",
       " ['shi********',\n",
       "  '보틀 빼달라고 요청드렸는데 잘 들어주셔서 감사합니다. 콤부차 처음 먹어보는건데 그냥 물에 타먹어도 탄산음료 같아져서 정말 맛있어요. 가격도 저렴하게 사서 기분좋네용',\n",
       "  '2023.08.04',\n",
       "  '5.0'],\n",
       " ['dkd******',\n",
       "  '항상 맛있게 마시는 ~^^단 맛이 좀 강해서 개인적으로 좋아합니다. 쿠폰할인 받고 조금 저렴해서 쌓아놓고 마셔요ㅡ신랑도 이건 좋아해서 많이 샀어요 ㅋ\\n많이 사니ㅡ사은품도 주시고~~감사요😁',\n",
       "  '2023.08.03',\n",
       "  '5.0'],\n",
       " ['kmj****',\n",
       "  '레몬맛만 먹어봤는데\\n약간 인위적인 레몬맛에 아주 달달한 맛\\n탄산은 금방 없어지네요ㅠ\\n싸게 잘 샀어요\\n여름철 잘 먹을께요',\n",
       "  '2023.07.07',\n",
       "  '5.0'],\n",
       " ['0o0',\n",
       "  '텀블러가 이뻐서 구매,,\\n근데 불량이왓네요ㅡㅡ\\n물이뚝뚝 흘러요 속상허네요\\n검수좀잘해서 보내주시지,,,아휴',\n",
       "  '2023.03.23',\n",
       "  '1.0'],\n",
       " ['pyj****', '티젠 콤부차!!\\n요즘 젤 핫한! 마실때마다 건강해지는..\\n맛있어요~~♡', '2023.08.04', '5.0'],\n",
       " ['die*****', '잘받았습니다. 많이 파세요', '2023.08.02', '5.0'],\n",
       " ['hye******',\n",
       "  '10포들어있는 제품3박스를 구입했는데 그중 한박스가 내용물이 터졌는지 내용물인 가루가 들어있더라구요 나머지 두박스는 괜찮아서 그냥 먹겠지만 터진 한박스는 찝찝해서 못먹겠네요 이걸 어떻게 민원을 신청해야하는지 몰라 여기에 글 남깁니다',\n",
       "  '2021.04.16',\n",
       "  '1.0'],\n",
       " ['lim********',\n",
       "  '너무 좋아요.물병이 2개나 생겼네요.오자마자 레몬 탔는데 너무 맛있어요.',\n",
       "  '2023.07.09',\n",
       "  '5.0'],\n",
       " ['eej***',\n",
       "  '오렌지망고향에 신맛이 없는 편이라 공복에도 속쓰림없이 먹을수있어요 이지컷형태라 개봉하기 쉽고 물먹는습관이 안들어 만성탈수인 분들에게 오후시간 맛있게 기분전환도 하고 물보충도 되는 1석2조의 티랍니다 색깔도 오렌지주스색이라 시각적으로도 상큼함을 주네요 또한 루테인도 섭취할수있으니 카페인없는,그러면서 건강차를 찾는 사람에겐 딱일듯합니다 맛의종류가1,2가지 더 추가면 골라먹는 ㅐ미도 쏠쏠 할듯싶네요',\n",
       "  '2021.10.06',\n",
       "  '4.0'],\n",
       " ['eej***',\n",
       "  '지난번 구매후 가격이 제일 착해서 재구매했어요. 맛은 망고와 오렌지를 섞은듯한 과일향으로 거부감없이 물마시기 습관들이기에 도움이 됐었네요. 저칼로리(17kcal)라 저녁에 입이 심심할때 마시면 수분섭취도 되고 야식도 줄이는 일석이조효과네요. 게다가 눈에 필요한 루테인도 섭취한다 생각하니 뿌듯하네요. 다만, 다음엔 보틀은 필요한분들만 추가구입하는 방식 어떨까 싶어요.',\n",
       "  '2021.11.25',\n",
       "  '4.0'],\n",
       " ['shi********',\n",
       "  '보틀 빼달라고 요청드렸는데 잘 들어주셔서 감사합니다. 콤부차 처음 먹어보는건데 그냥 물에 타먹어도 탄산음료 같아져서 정말 맛있어요. 가격도 저렴하게 사서 기분좋네용',\n",
       "  '2023.08.04',\n",
       "  '5.0'],\n",
       " ['dkd******',\n",
       "  '항상 맛있게 마시는 ~^^단 맛이 좀 강해서 개인적으로 좋아합니다. 쿠폰할인 받고 조금 저렴해서 쌓아놓고 마셔요ㅡ신랑도 이건 좋아해서 많이 샀어요 ㅋ\\n많이 사니ㅡ사은품도 주시고~~감사요😁',\n",
       "  '2023.08.03',\n",
       "  '5.0'],\n",
       " ['kmj****',\n",
       "  '레몬맛만 먹어봤는데\\n약간 인위적인 레몬맛에 아주 달달한 맛\\n탄산은 금방 없어지네요ㅠ\\n싸게 잘 샀어요\\n여름철 잘 먹을께요',\n",
       "  '2023.07.07',\n",
       "  '5.0'],\n",
       " ['0o0',\n",
       "  '텀블러가 이뻐서 구매,,\\n근데 불량이왓네요ㅡㅡ\\n물이뚝뚝 흘러요 속상허네요\\n검수좀잘해서 보내주시지,,,아휴',\n",
       "  '2023.03.23',\n",
       "  '1.0'],\n",
       " ['pyj****', '티젠 콤부차!!\\n요즘 젤 핫한! 마실때마다 건강해지는..\\n맛있어요~~♡', '2023.08.04', '5.0'],\n",
       " ['die*****', '잘받았습니다. 많이 파세요', '2023.08.02', '5.0'],\n",
       " ['hye******',\n",
       "  '10포들어있는 제품3박스를 구입했는데 그중 한박스가 내용물이 터졌는지 내용물인 가루가 들어있더라구요 나머지 두박스는 괜찮아서 그냥 먹겠지만 터진 한박스는 찝찝해서 못먹겠네요 이걸 어떻게 민원을 신청해야하는지 몰라 여기에 글 남깁니다',\n",
       "  '2021.04.16',\n",
       "  '1.0'],\n",
       " ['lim********',\n",
       "  '너무 좋아요.물병이 2개나 생겼네요.오자마자 레몬 탔는데 너무 맛있어요.',\n",
       "  '2023.07.09',\n",
       "  '5.0'],\n",
       " ['eej***',\n",
       "  '오렌지망고향에 신맛이 없는 편이라 공복에도 속쓰림없이 먹을수있어요 이지컷형태라 개봉하기 쉽고 물먹는습관이 안들어 만성탈수인 분들에게 오후시간 맛있게 기분전환도 하고 물보충도 되는 1석2조의 티랍니다 색깔도 오렌지주스색이라 시각적으로도 상큼함을 주네요 또한 루테인도 섭취할수있으니 카페인없는,그러면서 건강차를 찾는 사람에겐 딱일듯합니다 맛의종류가1,2가지 더 추가면 골라먹는 ㅐ미도 쏠쏠 할듯싶네요',\n",
       "  '2021.10.06',\n",
       "  '4.0'],\n",
       " ['eej***',\n",
       "  '지난번 구매후 가격이 제일 착해서 재구매했어요. 맛은 망고와 오렌지를 섞은듯한 과일향으로 거부감없이 물마시기 습관들이기에 도움이 됐었네요. 저칼로리(17kcal)라 저녁에 입이 심심할때 마시면 수분섭취도 되고 야식도 줄이는 일석이조효과네요. 게다가 눈에 필요한 루테인도 섭취한다 생각하니 뿌듯하네요. 다만, 다음엔 보틀은 필요한분들만 추가구입하는 방식 어떨까 싶어요.',\n",
       "  '2021.11.25',\n",
       "  '4.0'],\n",
       " ['shi********',\n",
       "  '보틀 빼달라고 요청드렸는데 잘 들어주셔서 감사합니다. 콤부차 처음 먹어보는건데 그냥 물에 타먹어도 탄산음료 같아져서 정말 맛있어요. 가격도 저렴하게 사서 기분좋네용',\n",
       "  '2023.08.04',\n",
       "  '5.0'],\n",
       " ['dkd******',\n",
       "  '항상 맛있게 마시는 ~^^단 맛이 좀 강해서 개인적으로 좋아합니다. 쿠폰할인 받고 조금 저렴해서 쌓아놓고 마셔요ㅡ신랑도 이건 좋아해서 많이 샀어요 ㅋ\\n많이 사니ㅡ사은품도 주시고~~감사요😁',\n",
       "  '2023.08.03',\n",
       "  '5.0'],\n",
       " ['kmj****',\n",
       "  '레몬맛만 먹어봤는데\\n약간 인위적인 레몬맛에 아주 달달한 맛\\n탄산은 금방 없어지네요ㅠ\\n싸게 잘 샀어요\\n여름철 잘 먹을께요',\n",
       "  '2023.07.07',\n",
       "  '5.0'],\n",
       " ['0o0',\n",
       "  '텀블러가 이뻐서 구매,,\\n근데 불량이왓네요ㅡㅡ\\n물이뚝뚝 흘러요 속상허네요\\n검수좀잘해서 보내주시지,,,아휴',\n",
       "  '2023.03.23',\n",
       "  '1.0'],\n",
       " ['pyj****', '티젠 콤부차!!\\n요즘 젤 핫한! 마실때마다 건강해지는..\\n맛있어요~~♡', '2023.08.04', '5.0'],\n",
       " ['die*****', '잘받았습니다. 많이 파세요', '2023.08.02', '5.0'],\n",
       " ['hye******',\n",
       "  '10포들어있는 제품3박스를 구입했는데 그중 한박스가 내용물이 터졌는지 내용물인 가루가 들어있더라구요 나머지 두박스는 괜찮아서 그냥 먹겠지만 터진 한박스는 찝찝해서 못먹겠네요 이걸 어떻게 민원을 신청해야하는지 몰라 여기에 글 남깁니다',\n",
       "  '2021.04.16',\n",
       "  '1.0'],\n",
       " ['lim********',\n",
       "  '너무 좋아요.물병이 2개나 생겼네요.오자마자 레몬 탔는데 너무 맛있어요.',\n",
       "  '2023.07.09',\n",
       "  '5.0'],\n",
       " ['eej***',\n",
       "  '오렌지망고향에 신맛이 없는 편이라 공복에도 속쓰림없이 먹을수있어요 이지컷형태라 개봉하기 쉽고 물먹는습관이 안들어 만성탈수인 분들에게 오후시간 맛있게 기분전환도 하고 물보충도 되는 1석2조의 티랍니다 색깔도 오렌지주스색이라 시각적으로도 상큼함을 주네요 또한 루테인도 섭취할수있으니 카페인없는,그러면서 건강차를 찾는 사람에겐 딱일듯합니다 맛의종류가1,2가지 더 추가면 골라먹는 ㅐ미도 쏠쏠 할듯싶네요',\n",
       "  '2021.10.06',\n",
       "  '4.0'],\n",
       " ['eej***',\n",
       "  '지난번 구매후 가격이 제일 착해서 재구매했어요. 맛은 망고와 오렌지를 섞은듯한 과일향으로 거부감없이 물마시기 습관들이기에 도움이 됐었네요. 저칼로리(17kcal)라 저녁에 입이 심심할때 마시면 수분섭취도 되고 야식도 줄이는 일석이조효과네요. 게다가 눈에 필요한 루테인도 섭취한다 생각하니 뿌듯하네요. 다만, 다음엔 보틀은 필요한분들만 추가구입하는 방식 어떨까 싶어요.',\n",
       "  '2021.11.25',\n",
       "  '4.0'],\n",
       " ['shi********',\n",
       "  '보틀 빼달라고 요청드렸는데 잘 들어주셔서 감사합니다. 콤부차 처음 먹어보는건데 그냥 물에 타먹어도 탄산음료 같아져서 정말 맛있어요. 가격도 저렴하게 사서 기분좋네용',\n",
       "  '2023.08.04',\n",
       "  '5.0'],\n",
       " ['dkd******',\n",
       "  '항상 맛있게 마시는 ~^^단 맛이 좀 강해서 개인적으로 좋아합니다. 쿠폰할인 받고 조금 저렴해서 쌓아놓고 마셔요ㅡ신랑도 이건 좋아해서 많이 샀어요 ㅋ\\n많이 사니ㅡ사은품도 주시고~~감사요😁',\n",
       "  '2023.08.03',\n",
       "  '5.0'],\n",
       " ['kmj****',\n",
       "  '레몬맛만 먹어봤는데\\n약간 인위적인 레몬맛에 아주 달달한 맛\\n탄산은 금방 없어지네요ㅠ\\n싸게 잘 샀어요\\n여름철 잘 먹을께요',\n",
       "  '2023.07.07',\n",
       "  '5.0'],\n",
       " ['0o0',\n",
       "  '텀블러가 이뻐서 구매,,\\n근데 불량이왓네요ㅡㅡ\\n물이뚝뚝 흘러요 속상허네요\\n검수좀잘해서 보내주시지,,,아휴',\n",
       "  '2023.03.23',\n",
       "  '1.0'],\n",
       " ['pyj****', '티젠 콤부차!!\\n요즘 젤 핫한! 마실때마다 건강해지는..\\n맛있어요~~♡', '2023.08.04', '5.0'],\n",
       " ['die*****', '잘받았습니다. 많이 파세요', '2023.08.02', '5.0'],\n",
       " ['hye******',\n",
       "  '10포들어있는 제품3박스를 구입했는데 그중 한박스가 내용물이 터졌는지 내용물인 가루가 들어있더라구요 나머지 두박스는 괜찮아서 그냥 먹겠지만 터진 한박스는 찝찝해서 못먹겠네요 이걸 어떻게 민원을 신청해야하는지 몰라 여기에 글 남깁니다',\n",
       "  '2021.04.16',\n",
       "  '1.0'],\n",
       " ['lim********',\n",
       "  '너무 좋아요.물병이 2개나 생겼네요.오자마자 레몬 탔는데 너무 맛있어요.',\n",
       "  '2023.07.09',\n",
       "  '5.0'],\n",
       " ['eej***',\n",
       "  '오렌지망고향에 신맛이 없는 편이라 공복에도 속쓰림없이 먹을수있어요 이지컷형태라 개봉하기 쉽고 물먹는습관이 안들어 만성탈수인 분들에게 오후시간 맛있게 기분전환도 하고 물보충도 되는 1석2조의 티랍니다 색깔도 오렌지주스색이라 시각적으로도 상큼함을 주네요 또한 루테인도 섭취할수있으니 카페인없는,그러면서 건강차를 찾는 사람에겐 딱일듯합니다 맛의종류가1,2가지 더 추가면 골라먹는 ㅐ미도 쏠쏠 할듯싶네요',\n",
       "  '2021.10.06',\n",
       "  '4.0'],\n",
       " ['eej***',\n",
       "  '지난번 구매후 가격이 제일 착해서 재구매했어요. 맛은 망고와 오렌지를 섞은듯한 과일향으로 거부감없이 물마시기 습관들이기에 도움이 됐었네요. 저칼로리(17kcal)라 저녁에 입이 심심할때 마시면 수분섭취도 되고 야식도 줄이는 일석이조효과네요. 게다가 눈에 필요한 루테인도 섭취한다 생각하니 뿌듯하네요. 다만, 다음엔 보틀은 필요한분들만 추가구입하는 방식 어떨까 싶어요.',\n",
       "  '2021.11.25',\n",
       "  '4.0'],\n",
       " ['shi********',\n",
       "  '보틀 빼달라고 요청드렸는데 잘 들어주셔서 감사합니다. 콤부차 처음 먹어보는건데 그냥 물에 타먹어도 탄산음료 같아져서 정말 맛있어요. 가격도 저렴하게 사서 기분좋네용',\n",
       "  '2023.08.04',\n",
       "  '5.0'],\n",
       " ['dkd******',\n",
       "  '항상 맛있게 마시는 ~^^단 맛이 좀 강해서 개인적으로 좋아합니다. 쿠폰할인 받고 조금 저렴해서 쌓아놓고 마셔요ㅡ신랑도 이건 좋아해서 많이 샀어요 ㅋ\\n많이 사니ㅡ사은품도 주시고~~감사요😁',\n",
       "  '2023.08.03',\n",
       "  '5.0'],\n",
       " ['kmj****',\n",
       "  '레몬맛만 먹어봤는데\\n약간 인위적인 레몬맛에 아주 달달한 맛\\n탄산은 금방 없어지네요ㅠ\\n싸게 잘 샀어요\\n여름철 잘 먹을께요',\n",
       "  '2023.07.07',\n",
       "  '5.0'],\n",
       " ['0o0',\n",
       "  '텀블러가 이뻐서 구매,,\\n근데 불량이왓네요ㅡㅡ\\n물이뚝뚝 흘러요 속상허네요\\n검수좀잘해서 보내주시지,,,아휴',\n",
       "  '2023.03.23',\n",
       "  '1.0'],\n",
       " ['pyj****', '티젠 콤부차!!\\n요즘 젤 핫한! 마실때마다 건강해지는..\\n맛있어요~~♡', '2023.08.04', '5.0'],\n",
       " ['die*****', '잘받았습니다. 많이 파세요', '2023.08.02', '5.0'],\n",
       " ['hye******',\n",
       "  '10포들어있는 제품3박스를 구입했는데 그중 한박스가 내용물이 터졌는지 내용물인 가루가 들어있더라구요 나머지 두박스는 괜찮아서 그냥 먹겠지만 터진 한박스는 찝찝해서 못먹겠네요 이걸 어떻게 민원을 신청해야하는지 몰라 여기에 글 남깁니다',\n",
       "  '2021.04.16',\n",
       "  '1.0'],\n",
       " ['lim********',\n",
       "  '너무 좋아요.물병이 2개나 생겼네요.오자마자 레몬 탔는데 너무 맛있어요.',\n",
       "  '2023.07.09',\n",
       "  '5.0'],\n",
       " ['eej***',\n",
       "  '오렌지망고향에 신맛이 없는 편이라 공복에도 속쓰림없이 먹을수있어요 이지컷형태라 개봉하기 쉽고 물먹는습관이 안들어 만성탈수인 분들에게 오후시간 맛있게 기분전환도 하고 물보충도 되는 1석2조의 티랍니다 색깔도 오렌지주스색이라 시각적으로도 상큼함을 주네요 또한 루테인도 섭취할수있으니 카페인없는,그러면서 건강차를 찾는 사람에겐 딱일듯합니다 맛의종류가1,2가지 더 추가면 골라먹는 ㅐ미도 쏠쏠 할듯싶네요',\n",
       "  '2021.10.06',\n",
       "  '4.0'],\n",
       " ['eej***',\n",
       "  '지난번 구매후 가격이 제일 착해서 재구매했어요. 맛은 망고와 오렌지를 섞은듯한 과일향으로 거부감없이 물마시기 습관들이기에 도움이 됐었네요. 저칼로리(17kcal)라 저녁에 입이 심심할때 마시면 수분섭취도 되고 야식도 줄이는 일석이조효과네요. 게다가 눈에 필요한 루테인도 섭취한다 생각하니 뿌듯하네요. 다만, 다음엔 보틀은 필요한분들만 추가구입하는 방식 어떨까 싶어요.',\n",
       "  '2021.11.25',\n",
       "  '4.0'],\n",
       " ['shi********',\n",
       "  '보틀 빼달라고 요청드렸는데 잘 들어주셔서 감사합니다. 콤부차 처음 먹어보는건데 그냥 물에 타먹어도 탄산음료 같아져서 정말 맛있어요. 가격도 저렴하게 사서 기분좋네용',\n",
       "  '2023.08.04',\n",
       "  '5.0'],\n",
       " ['dkd******',\n",
       "  '항상 맛있게 마시는 ~^^단 맛이 좀 강해서 개인적으로 좋아합니다. 쿠폰할인 받고 조금 저렴해서 쌓아놓고 마셔요ㅡ신랑도 이건 좋아해서 많이 샀어요 ㅋ\\n많이 사니ㅡ사은품도 주시고~~감사요😁',\n",
       "  '2023.08.03',\n",
       "  '5.0'],\n",
       " ['kmj****',\n",
       "  '레몬맛만 먹어봤는데\\n약간 인위적인 레몬맛에 아주 달달한 맛\\n탄산은 금방 없어지네요ㅠ\\n싸게 잘 샀어요\\n여름철 잘 먹을께요',\n",
       "  '2023.07.07',\n",
       "  '5.0'],\n",
       " ['0o0',\n",
       "  '텀블러가 이뻐서 구매,,\\n근데 불량이왓네요ㅡㅡ\\n물이뚝뚝 흘러요 속상허네요\\n검수좀잘해서 보내주시지,,,아휴',\n",
       "  '2023.03.23',\n",
       "  '1.0'],\n",
       " ['pyj****', '티젠 콤부차!!\\n요즘 젤 핫한! 마실때마다 건강해지는..\\n맛있어요~~♡', '2023.08.04', '5.0'],\n",
       " ['die*****', '잘받았습니다. 많이 파세요', '2023.08.02', '5.0'],\n",
       " ['hye******',\n",
       "  '10포들어있는 제품3박스를 구입했는데 그중 한박스가 내용물이 터졌는지 내용물인 가루가 들어있더라구요 나머지 두박스는 괜찮아서 그냥 먹겠지만 터진 한박스는 찝찝해서 못먹겠네요 이걸 어떻게 민원을 신청해야하는지 몰라 여기에 글 남깁니다',\n",
       "  '2021.04.16',\n",
       "  '1.0'],\n",
       " ['lim********',\n",
       "  '너무 좋아요.물병이 2개나 생겼네요.오자마자 레몬 탔는데 너무 맛있어요.',\n",
       "  '2023.07.09',\n",
       "  '5.0'],\n",
       " ['eej***',\n",
       "  '오렌지망고향에 신맛이 없는 편이라 공복에도 속쓰림없이 먹을수있어요 이지컷형태라 개봉하기 쉽고 물먹는습관이 안들어 만성탈수인 분들에게 오후시간 맛있게 기분전환도 하고 물보충도 되는 1석2조의 티랍니다 색깔도 오렌지주스색이라 시각적으로도 상큼함을 주네요 또한 루테인도 섭취할수있으니 카페인없는,그러면서 건강차를 찾는 사람에겐 딱일듯합니다 맛의종류가1,2가지 더 추가면 골라먹는 ㅐ미도 쏠쏠 할듯싶네요',\n",
       "  '2021.10.06',\n",
       "  '4.0'],\n",
       " ['eej***',\n",
       "  '지난번 구매후 가격이 제일 착해서 재구매했어요. 맛은 망고와 오렌지를 섞은듯한 과일향으로 거부감없이 물마시기 습관들이기에 도움이 됐었네요. 저칼로리(17kcal)라 저녁에 입이 심심할때 마시면 수분섭취도 되고 야식도 줄이는 일석이조효과네요. 게다가 눈에 필요한 루테인도 섭취한다 생각하니 뿌듯하네요. 다만, 다음엔 보틀은 필요한분들만 추가구입하는 방식 어떨까 싶어요.',\n",
       "  '2021.11.25',\n",
       "  '4.0'],\n",
       " ['shi********',\n",
       "  '보틀 빼달라고 요청드렸는데 잘 들어주셔서 감사합니다. 콤부차 처음 먹어보는건데 그냥 물에 타먹어도 탄산음료 같아져서 정말 맛있어요. 가격도 저렴하게 사서 기분좋네용',\n",
       "  '2023.08.04',\n",
       "  '5.0'],\n",
       " ['dkd******',\n",
       "  '항상 맛있게 마시는 ~^^단 맛이 좀 강해서 개인적으로 좋아합니다. 쿠폰할인 받고 조금 저렴해서 쌓아놓고 마셔요ㅡ신랑도 이건 좋아해서 많이 샀어요 ㅋ\\n많이 사니ㅡ사은품도 주시고~~감사요😁',\n",
       "  '2023.08.03',\n",
       "  '5.0'],\n",
       " ['kmj****',\n",
       "  '레몬맛만 먹어봤는데\\n약간 인위적인 레몬맛에 아주 달달한 맛\\n탄산은 금방 없어지네요ㅠ\\n싸게 잘 샀어요\\n여름철 잘 먹을께요',\n",
       "  '2023.07.07',\n",
       "  '5.0'],\n",
       " ['0o0',\n",
       "  '텀블러가 이뻐서 구매,,\\n근데 불량이왓네요ㅡㅡ\\n물이뚝뚝 흘러요 속상허네요\\n검수좀잘해서 보내주시지,,,아휴',\n",
       "  '2023.03.23',\n",
       "  '1.0'],\n",
       " ['pyj****', '티젠 콤부차!!\\n요즘 젤 핫한! 마실때마다 건강해지는..\\n맛있어요~~♡', '2023.08.04', '5.0'],\n",
       " ['die*****', '잘받았습니다. 많이 파세요', '2023.08.02', '5.0'],\n",
       " ['hye******',\n",
       "  '10포들어있는 제품3박스를 구입했는데 그중 한박스가 내용물이 터졌는지 내용물인 가루가 들어있더라구요 나머지 두박스는 괜찮아서 그냥 먹겠지만 터진 한박스는 찝찝해서 못먹겠네요 이걸 어떻게 민원을 신청해야하는지 몰라 여기에 글 남깁니다',\n",
       "  '2021.04.16',\n",
       "  '1.0'],\n",
       " ['lim********',\n",
       "  '너무 좋아요.물병이 2개나 생겼네요.오자마자 레몬 탔는데 너무 맛있어요.',\n",
       "  '2023.07.09',\n",
       "  '5.0'],\n",
       " ['eej***',\n",
       "  '오렌지망고향에 신맛이 없는 편이라 공복에도 속쓰림없이 먹을수있어요 이지컷형태라 개봉하기 쉽고 물먹는습관이 안들어 만성탈수인 분들에게 오후시간 맛있게 기분전환도 하고 물보충도 되는 1석2조의 티랍니다 색깔도 오렌지주스색이라 시각적으로도 상큼함을 주네요 또한 루테인도 섭취할수있으니 카페인없는,그러면서 건강차를 찾는 사람에겐 딱일듯합니다 맛의종류가1,2가지 더 추가면 골라먹는 ㅐ미도 쏠쏠 할듯싶네요',\n",
       "  '2021.10.06',\n",
       "  '4.0'],\n",
       " ['eej***',\n",
       "  '지난번 구매후 가격이 제일 착해서 재구매했어요. 맛은 망고와 오렌지를 섞은듯한 과일향으로 거부감없이 물마시기 습관들이기에 도움이 됐었네요. 저칼로리(17kcal)라 저녁에 입이 심심할때 마시면 수분섭취도 되고 야식도 줄이는 일석이조효과네요. 게다가 눈에 필요한 루테인도 섭취한다 생각하니 뿌듯하네요. 다만, 다음엔 보틀은 필요한분들만 추가구입하는 방식 어떨까 싶어요.',\n",
       "  '2021.11.25',\n",
       "  '4.0'],\n",
       " ['shi********',\n",
       "  '보틀 빼달라고 요청드렸는데 잘 들어주셔서 감사합니다. 콤부차 처음 먹어보는건데 그냥 물에 타먹어도 탄산음료 같아져서 정말 맛있어요. 가격도 저렴하게 사서 기분좋네용',\n",
       "  '2023.08.04',\n",
       "  '5.0'],\n",
       " ['dkd******',\n",
       "  '항상 맛있게 마시는 ~^^단 맛이 좀 강해서 개인적으로 좋아합니다. 쿠폰할인 받고 조금 저렴해서 쌓아놓고 마셔요ㅡ신랑도 이건 좋아해서 많이 샀어요 ㅋ\\n많이 사니ㅡ사은품도 주시고~~감사요😁',\n",
       "  '2023.08.03',\n",
       "  '5.0'],\n",
       " ['kmj****',\n",
       "  '레몬맛만 먹어봤는데\\n약간 인위적인 레몬맛에 아주 달달한 맛\\n탄산은 금방 없어지네요ㅠ\\n싸게 잘 샀어요\\n여름철 잘 먹을께요',\n",
       "  '2023.07.07',\n",
       "  '5.0'],\n",
       " ['0o0',\n",
       "  '텀블러가 이뻐서 구매,,\\n근데 불량이왓네요ㅡㅡ\\n물이뚝뚝 흘러요 속상허네요\\n검수좀잘해서 보내주시지,,,아휴',\n",
       "  '2023.03.23',\n",
       "  '1.0'],\n",
       " ['pyj****', '티젠 콤부차!!\\n요즘 젤 핫한! 마실때마다 건강해지는..\\n맛있어요~~♡', '2023.08.04', '5.0'],\n",
       " ['die*****', '잘받았습니다. 많이 파세요', '2023.08.02', '5.0'],\n",
       " ['ymy****', '콤부차 맛있어요', '2023.06.03', '5.0'],\n",
       " ['msj****', '늘~ 챙기는차랍니다 조금 다양하게 보내주셨으면...', '2023.08.05', '3.0'],\n",
       " ['jar*****', '맛있어요~다양한 종류로 맛볼수 있어서 좋아요', '2023.06.21', '4.0'],\n",
       " ['053****', '콘부차 새콤달콤 여름철에 추천합니다', '2023.07.10', '5.0'],\n",
       " ['kwe****', '500ml섞어마심 진해요 맛있어요', '2023.06.29', '4.0'],\n",
       " ['khj******', '달달하니 얼음 넣어서 먹기 좋음', '2023.08.25', '5.0'],\n",
       " ['ekt*****', '항상 먹던거라서…\\n잘 먹었습니다', '2023.06.13', '4.0'],\n",
       " ['pup********', '배송빠릅니다 유통기한길고', '2023.07.01', '5.0'],\n",
       " ['bka***', '잘받았어요 맛이 아주 좋아요', '2023.06.15', '5.0'],\n",
       " ['kau****', '잘받았습니다 잘먹을께요', '2023.08.22', '5.0'],\n",
       " ['byo****', '싸게 살 수 있었어서 조ㅗ아요', '2023.08.10', '5.0'],\n",
       " ['msj****', '늘~ 챙기는차랍니다 조금 다양하게 보내주셨으면...', '2023.08.05', '3.0'],\n",
       " ['jar*****', '맛있어요~다양한 종류로 맛볼수 있어서 좋아요', '2023.06.21', '4.0'],\n",
       " ['053****', '콘부차 새콤달콤 여름철에 추천합니다', '2023.07.10', '5.0'],\n",
       " ['kwe****', '500ml섞어마심 진해요 맛있어요', '2023.06.29', '4.0'],\n",
       " ['khj******', '달달하니 얼음 넣어서 먹기 좋음', '2023.08.25', '5.0'],\n",
       " ['ekt*****', '항상 먹던거라서…\\n잘 먹었습니다', '2023.06.13', '4.0'],\n",
       " ['pup********', '배송빠릅니다 유통기한길고', '2023.07.01', '5.0'],\n",
       " ['bka***', '잘받았어요 맛이 아주 좋아요', '2023.06.15', '5.0'],\n",
       " ['kau****', '잘받았습니다 잘먹을께요', '2023.08.22', '5.0'],\n",
       " ['byo****', '싸게 살 수 있었어서 조ㅗ아요', '2023.08.10', '5.0'],\n",
       " ['msj****', '늘~ 챙기는차랍니다 조금 다양하게 보내주셨으면...', '2023.08.05', '3.0'],\n",
       " ['jar*****', '맛있어요~다양한 종류로 맛볼수 있어서 좋아요', '2023.06.21', '4.0'],\n",
       " ['053****', '콘부차 새콤달콤 여름철에 추천합니다', '2023.07.10', '5.0'],\n",
       " ['kwe****', '500ml섞어마심 진해요 맛있어요', '2023.06.29', '4.0'],\n",
       " ['khj******', '달달하니 얼음 넣어서 먹기 좋음', '2023.08.25', '5.0'],\n",
       " ['ekt*****', '항상 먹던거라서…\\n잘 먹었습니다', '2023.06.13', '4.0'],\n",
       " ['pup********', '배송빠릅니다 유통기한길고', '2023.07.01', '5.0'],\n",
       " ['bka***', '잘받았어요 맛이 아주 좋아요', '2023.06.15', '5.0'],\n",
       " ['kau****', '잘받았습니다 잘먹을께요', '2023.08.22', '5.0'],\n",
       " ['byo****', '싸게 살 수 있었어서 조ㅗ아요', '2023.08.10', '5.0'],\n",
       " ['msj****', '늘~ 챙기는차랍니다 조금 다양하게 보내주셨으면...', '2023.08.05', '3.0'],\n",
       " ['jar*****', '맛있어요~다양한 종류로 맛볼수 있어서 좋아요', '2023.06.21', '4.0'],\n",
       " ['053****', '콘부차 새콤달콤 여름철에 추천합니다', '2023.07.10', '5.0'],\n",
       " ['kwe****', '500ml섞어마심 진해요 맛있어요', '2023.06.29', '4.0'],\n",
       " ['khj******', '달달하니 얼음 넣어서 먹기 좋음', '2023.08.25', '5.0'],\n",
       " ['ekt*****', '항상 먹던거라서…\\n잘 먹었습니다', '2023.06.13', '4.0'],\n",
       " ['pup********', '배송빠릅니다 유통기한길고', '2023.07.01', '5.0'],\n",
       " ['bka***', '잘받았어요 맛이 아주 좋아요', '2023.06.15', '5.0'],\n",
       " ['kau****', '잘받았습니다 잘먹을께요', '2023.08.22', '5.0'],\n",
       " ['byo****', '싸게 살 수 있었어서 조ㅗ아요', '2023.08.10', '5.0'],\n",
       " ['msj****', '늘~ 챙기는차랍니다 조금 다양하게 보내주셨으면...', '2023.08.05', '3.0'],\n",
       " ['jar*****', '맛있어요~다양한 종류로 맛볼수 있어서 좋아요', '2023.06.21', '4.0'],\n",
       " ['053****', '콘부차 새콤달콤 여름철에 추천합니다', '2023.07.10', '5.0'],\n",
       " ['kwe****', '500ml섞어마심 진해요 맛있어요', '2023.06.29', '4.0'],\n",
       " ['khj******', '달달하니 얼음 넣어서 먹기 좋음', '2023.08.25', '5.0'],\n",
       " ['ekt*****', '항상 먹던거라서…\\n잘 먹었습니다', '2023.06.13', '4.0'],\n",
       " ['pup********', '배송빠릅니다 유통기한길고', '2023.07.01', '5.0'],\n",
       " ['bka***', '잘받았어요 맛이 아주 좋아요', '2023.06.15', '5.0'],\n",
       " ['kau****', '잘받았습니다 잘먹을께요', '2023.08.22', '5.0'],\n",
       " ['byo****', '싸게 살 수 있었어서 조ㅗ아요', '2023.08.10', '5.0'],\n",
       " ['msj****', '늘~ 챙기는차랍니다 조금 다양하게 보내주셨으면...', '2023.08.05', '3.0'],\n",
       " ['jar*****', '맛있어요~다양한 종류로 맛볼수 있어서 좋아요', '2023.06.21', '4.0'],\n",
       " ['053****', '콘부차 새콤달콤 여름철에 추천합니다', '2023.07.10', '5.0'],\n",
       " ['kwe****', '500ml섞어마심 진해요 맛있어요', '2023.06.29', '4.0'],\n",
       " ['khj******', '달달하니 얼음 넣어서 먹기 좋음', '2023.08.25', '5.0'],\n",
       " ['ekt*****', '항상 먹던거라서…\\n잘 먹었습니다', '2023.06.13', '4.0'],\n",
       " ['pup********', '배송빠릅니다 유통기한길고', '2023.07.01', '5.0'],\n",
       " ['bka***', '잘받았어요 맛이 아주 좋아요', '2023.06.15', '5.0'],\n",
       " ['kau****', '잘받았습니다 잘먹을께요', '2023.08.22', '5.0'],\n",
       " ['byo****', '싸게 살 수 있었어서 조ㅗ아요', '2023.08.10', '5.0'],\n",
       " ['msj****', '늘~ 챙기는차랍니다 조금 다양하게 보내주셨으면...', '2023.08.05', '3.0'],\n",
       " ['jar*****', '맛있어요~다양한 종류로 맛볼수 있어서 좋아요', '2023.06.21', '4.0'],\n",
       " ['053****', '콘부차 새콤달콤 여름철에 추천합니다', '2023.07.10', '5.0'],\n",
       " ['kwe****', '500ml섞어마심 진해요 맛있어요', '2023.06.29', '4.0'],\n",
       " ['khj******', '달달하니 얼음 넣어서 먹기 좋음', '2023.08.25', '5.0'],\n",
       " ['ekt*****', '항상 먹던거라서…\\n잘 먹었습니다', '2023.06.13', '4.0'],\n",
       " ['pup********', '배송빠릅니다 유통기한길고', '2023.07.01', '5.0'],\n",
       " ['bka***', '잘받았어요 맛이 아주 좋아요', '2023.06.15', '5.0'],\n",
       " ['kau****', '잘받았습니다 잘먹을께요', '2023.08.22', '5.0'],\n",
       " ['byo****', '싸게 살 수 있었어서 조ㅗ아요', '2023.08.10', '5.0'],\n",
       " ['msj****', '늘~ 챙기는차랍니다 조금 다양하게 보내주셨으면...', '2023.08.05', '3.0'],\n",
       " ['jar*****', '맛있어요~다양한 종류로 맛볼수 있어서 좋아요', '2023.06.21', '4.0'],\n",
       " ['053****', '콘부차 새콤달콤 여름철에 추천합니다', '2023.07.10', '5.0'],\n",
       " ['kwe****', '500ml섞어마심 진해요 맛있어요', '2023.06.29', '4.0'],\n",
       " ['khj******', '달달하니 얼음 넣어서 먹기 좋음', '2023.08.25', '5.0'],\n",
       " ['ekt*****', '항상 먹던거라서…\\n잘 먹었습니다', '2023.06.13', '4.0'],\n",
       " ['pup********', '배송빠릅니다 유통기한길고', '2023.07.01', '5.0'],\n",
       " ['bka***', '잘받았어요 맛이 아주 좋아요', '2023.06.15', '5.0'],\n",
       " ['kau****', '잘받았습니다 잘먹을께요', '2023.08.22', '5.0'],\n",
       " ['byo****', '싸게 살 수 있었어서 조ㅗ아요', '2023.08.10', '5.0']]"
      ]
     },
     "execution_count": 99,
     "metadata": {},
     "output_type": "execute_result"
    }
   ],
   "source": [
    "wemake_list"
   ]
  },
  {
   "cell_type": "code",
   "execution_count": null,
   "id": "3d9579ea-3d52-4c26-bba3-f369cea8307f",
   "metadata": {},
   "outputs": [],
   "source": []
  }
 ],
 "metadata": {
  "kernelspec": {
   "display_name": "Python 3 (ipykernel)",
   "language": "python",
   "name": "python3"
  },
  "language_info": {
   "codemirror_mode": {
    "name": "ipython",
    "version": 3
   },
   "file_extension": ".py",
   "mimetype": "text/x-python",
   "name": "python",
   "nbconvert_exporter": "python",
   "pygments_lexer": "ipython3",
   "version": "3.11.3"
  }
 },
 "nbformat": 4,
 "nbformat_minor": 5
}
