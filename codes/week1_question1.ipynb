{
 "cells": [
  {
   "cell_type": "markdown",
   "id": "e2859466-501f-4222-b8bf-74f678e34de4",
   "metadata": {},
   "source": [
    "# 조건문과 반복문을 사용하여 아래와 같은 결과 출력 \n",
    "- ['Q2', 'Q3', 'Q4', 'Q5', 'Q8', 'Q9']"
   ]
  },
  {
   "cell_type": "code",
   "execution_count": 1,
   "id": "213dea6d-4aec-4591-906f-69b629a90e06",
   "metadata": {
    "tags": []
   },
   "outputs": [],
   "source": [
    "question = ['Q2', 'Q3', 'Q4', 'Q5', 'Q6_1', 'Q6_2', 'Q6_3', 'Q6_4', 'Q6_5', 'Q6_6',\n",
    "       'Q6_7', 'Q6_8', 'Q6_9', 'Q6_10', 'Q6_11', 'Q6_12', 'Q7_1', 'Q7_2',\n",
    "       'Q7_3', 'Q7_4', 'Q7_5', 'Q7_6', 'Q7_7', 'Q8', 'Q9', 'Q10_1', 'Q10_2',\n",
    "       'Q10_3']"
   ]
  },
  {
   "cell_type": "code",
   "execution_count": 3,
   "id": "55ff3148-9ab3-4df6-8fcb-df9bc2616213",
   "metadata": {
    "tags": []
   },
   "outputs": [],
   "source": [
    "single_choice = list()\n",
    "for q in question:\n",
    "    if '_' in q: \n",
    "        pass\n",
    "    else: \n",
    "        single_choice.append(q)"
   ]
  },
  {
   "cell_type": "code",
   "execution_count": 4,
   "id": "feafd454-a486-4cd5-ac8f-0ae81870de09",
   "metadata": {
    "tags": []
   },
   "outputs": [
    {
     "data": {
      "text/plain": [
       "['Q2', 'Q3', 'Q4', 'Q5', 'Q8', 'Q9']"
      ]
     },
     "execution_count": 4,
     "metadata": {},
     "output_type": "execute_result"
    }
   ],
   "source": [
    "single_choice"
   ]
  }
 ],
 "metadata": {
  "kernelspec": {
   "display_name": "Python 3 (ipykernel)",
   "language": "python",
   "name": "python3"
  },
  "language_info": {
   "codemirror_mode": {
    "name": "ipython",
    "version": 3
   },
   "file_extension": ".py",
   "mimetype": "text/x-python",
   "name": "python",
   "nbconvert_exporter": "python",
   "pygments_lexer": "ipython3",
   "version": "3.11.3"
  }
 },
 "nbformat": 4,
 "nbformat_minor": 5
}
