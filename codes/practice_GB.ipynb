{
 "cells": [
  {
   "cell_type": "markdown",
   "id": "16088df5-8c08-4d00-a0d0-c292924c661b",
   "metadata": {
    "tags": []
   },
   "source": [
    "# 데이터 전처리 진행"
   ]
  },
  {
   "cell_type": "code",
   "execution_count": 1,
   "id": "829d7290-4ab3-48dd-ae23-0a8ab9a40c0f",
   "metadata": {},
   "outputs": [],
   "source": [
    "#!pip install python-mecab-ko pyLDAvis"
   ]
  },
  {
   "cell_type": "code",
   "execution_count": 2,
   "id": "b120d99e-70ac-46e1-ae33-bf9cb7050b99",
   "metadata": {
    "tags": []
   },
   "outputs": [],
   "source": [
    "import numpy as np\n",
    "import pandas as pd\n",
    "import warnings # 경고 메시지 무시"
   ]
  },
  {
   "cell_type": "code",
   "execution_count": 3,
   "id": "c386734e-abe5-4287-b424-94387f3942f3",
   "metadata": {
    "tags": []
   },
   "outputs": [
    {
     "data": {
      "text/html": [
       "<div>\n",
       "<style scoped>\n",
       "    .dataframe tbody tr th:only-of-type {\n",
       "        vertical-align: middle;\n",
       "    }\n",
       "\n",
       "    .dataframe tbody tr th {\n",
       "        vertical-align: top;\n",
       "    }\n",
       "\n",
       "    .dataframe thead th {\n",
       "        text-align: right;\n",
       "    }\n",
       "</style>\n",
       "<table border=\"1\" class=\"dataframe\">\n",
       "  <thead>\n",
       "    <tr style=\"text-align: right;\">\n",
       "      <th></th>\n",
       "      <th>Unnamed: 0</th>\n",
       "      <th>product_name</th>\n",
       "      <th>review_name</th>\n",
       "      <th>review_content</th>\n",
       "      <th>review_date</th>\n",
       "      <th>review_rating</th>\n",
       "    </tr>\n",
       "  </thead>\n",
       "  <tbody>\n",
       "    <tr>\n",
       "      <th>0</th>\n",
       "      <td>0</td>\n",
       "      <td>[주현영, 이나연 찐템]딥트 3일 피치(맛)번 30정 (30일분)</td>\n",
       "      <td>보리오빠</td>\n",
       "      <td>없으면 안될 최고의 diet템! 피치번을 추천합니당 ㅎㅎ 사진엔 없지만 4통째 먹고...</td>\n",
       "      <td>2023.08.27</td>\n",
       "      <td>5점만점에 5점</td>\n",
       "    </tr>\n",
       "    <tr>\n",
       "      <th>1</th>\n",
       "      <td>1</td>\n",
       "      <td>[주현영, 이나연 찐템]딥트 3일 피치(맛)번 30정 (30일분)</td>\n",
       "      <td>바보바니</td>\n",
       "      <td>알약 통통이하트 넘예뻐요. 자기전 먹고 효과있으면 얼마나 좋을까요 ㅜㅜ 나이들수록 ...</td>\n",
       "      <td>2023.09.14</td>\n",
       "      <td>5점만점에 5점</td>\n",
       "    </tr>\n",
       "  </tbody>\n",
       "</table>\n",
       "</div>"
      ],
      "text/plain": [
       "   Unnamed: 0                          product_name review_name  \\\n",
       "0           0  [주현영, 이나연 찐템]딥트 3일 피치(맛)번 30정 (30일분)        보리오빠   \n",
       "1           1  [주현영, 이나연 찐템]딥트 3일 피치(맛)번 30정 (30일분)        바보바니   \n",
       "\n",
       "                                      review_content review_date review_rating  \n",
       "0  없으면 안될 최고의 diet템! 피치번을 추천합니당 ㅎㅎ 사진엔 없지만 4통째 먹고...  2023.08.27      5점만점에 5점  \n",
       "1  알약 통통이하트 넘예뻐요. 자기전 먹고 효과있으면 얼마나 좋을까요 ㅜㅜ 나이들수록 ...  2023.09.14      5점만점에 5점  "
      ]
     },
     "execution_count": 3,
     "metadata": {},
     "output_type": "execute_result"
    }
   ],
   "source": [
    "df = pd.read_csv('../datasets/oliveyoung_wemake_data.csv')\n",
    "df[:2]"
   ]
  },
  {
   "cell_type": "markdown",
   "id": "eeab572a-31cd-42ff-b3f0-1873bd25422d",
   "metadata": {
    "jp-MarkdownHeadingCollapsed": true,
    "tags": []
   },
   "source": [
    "### 결측치 처리 "
   ]
  },
  {
   "cell_type": "code",
   "execution_count": 4,
   "id": "b7a59053-94e4-4ab2-9b6f-48eda75171b7",
   "metadata": {
    "tags": []
   },
   "outputs": [
    {
     "name": "stdout",
     "output_type": "stream",
     "text": [
      "<class 'pandas.core.frame.DataFrame'>\n",
      "RangeIndex: 4589 entries, 0 to 4588\n",
      "Data columns (total 6 columns):\n",
      " #   Column          Non-Null Count  Dtype \n",
      "---  ------          --------------  ----- \n",
      " 0   Unnamed: 0      4589 non-null   int64 \n",
      " 1   product_name    4589 non-null   object\n",
      " 2   review_name     4570 non-null   object\n",
      " 3   review_content  3900 non-null   object\n",
      " 4   review_date     4463 non-null   object\n",
      " 5   review_rating   4423 non-null   object\n",
      "dtypes: int64(1), object(5)\n",
      "memory usage: 215.2+ KB\n"
     ]
    }
   ],
   "source": [
    "df.info()"
   ]
  },
  {
   "cell_type": "code",
   "execution_count": 5,
   "id": "8ccc43d9-9c57-47e4-9558-f763acaa8e3f",
   "metadata": {
    "tags": []
   },
   "outputs": [
    {
     "data": {
      "text/plain": [
       "Unnamed: 0          0\n",
       "product_name        0\n",
       "review_name        19\n",
       "review_content    689\n",
       "review_date       126\n",
       "review_rating     166\n",
       "dtype: int64"
      ]
     },
     "execution_count": 5,
     "metadata": {},
     "output_type": "execute_result"
    }
   ],
   "source": [
    "df.isnull().sum()"
   ]
  },
  {
   "cell_type": "code",
   "execution_count": 6,
   "id": "52ef8d3f-d0ff-4248-9d42-1441e9d9fa11",
   "metadata": {
    "tags": []
   },
   "outputs": [],
   "source": [
    "df_dropna = df.dropna()"
   ]
  },
  {
   "cell_type": "code",
   "execution_count": 7,
   "id": "5b35e638-5d6b-4db2-af59-d5664163232b",
   "metadata": {
    "tags": []
   },
   "outputs": [
    {
     "data": {
      "text/plain": [
       "Unnamed: 0        0\n",
       "product_name      0\n",
       "review_name       0\n",
       "review_content    0\n",
       "review_date       0\n",
       "review_rating     0\n",
       "dtype: int64"
      ]
     },
     "execution_count": 7,
     "metadata": {},
     "output_type": "execute_result"
    }
   ],
   "source": [
    "df_dropna.isnull().sum()"
   ]
  },
  {
   "cell_type": "code",
   "execution_count": 8,
   "id": "094c5f32-1690-462d-8b7a-74b73c541e09",
   "metadata": {
    "tags": []
   },
   "outputs": [
    {
     "data": {
      "text/html": [
       "<div>\n",
       "<style scoped>\n",
       "    .dataframe tbody tr th:only-of-type {\n",
       "        vertical-align: middle;\n",
       "    }\n",
       "\n",
       "    .dataframe tbody tr th {\n",
       "        vertical-align: top;\n",
       "    }\n",
       "\n",
       "    .dataframe thead th {\n",
       "        text-align: right;\n",
       "    }\n",
       "</style>\n",
       "<table border=\"1\" class=\"dataframe\">\n",
       "  <thead>\n",
       "    <tr style=\"text-align: right;\">\n",
       "      <th></th>\n",
       "      <th>Unnamed: 0</th>\n",
       "      <th>product_name</th>\n",
       "      <th>review_name</th>\n",
       "      <th>review_content</th>\n",
       "      <th>review_date</th>\n",
       "      <th>review_rating</th>\n",
       "    </tr>\n",
       "  </thead>\n",
       "  <tbody>\n",
       "    <tr>\n",
       "      <th>3</th>\n",
       "      <td>3</td>\n",
       "      <td>[주현영, 이나연 찐템]딥트 3일 피치(맛)번 30정 (30일분)</td>\n",
       "      <td>히드돈이</td>\n",
       "      <td>먹으면 달달한 사탕맛이 나는데\\n2-3초 빨아 먹으면 달달구리는 다 녹아서 맛없는 ...</td>\n",
       "      <td>2023.09.04</td>\n",
       "      <td>5점만점에 5점</td>\n",
       "    </tr>\n",
       "    <tr>\n",
       "      <th>4</th>\n",
       "      <td>4</td>\n",
       "      <td>[주현영, 이나연 찐템]딥트 3일 피치(맛)번 30정 (30일분)</td>\n",
       "      <td>짱구덕휴</td>\n",
       "      <td>효과는 모르겠지만 덜찌는것 같아요\\n알약이 이쁘고 입안에 들어갔을때 역하지않아서 좋습니다</td>\n",
       "      <td>2023.09.04</td>\n",
       "      <td>5점만점에 5점</td>\n",
       "    </tr>\n",
       "    <tr>\n",
       "      <th>5</th>\n",
       "      <td>5</td>\n",
       "      <td>[주현영, 이나연 찐템]딥트 3일 피치(맛)번 30정 (30일분)</td>\n",
       "      <td>하늘색벽지</td>\n",
       "      <td>효과가 가장 있는 제품인 것 같아요!\\n너무 좋습니다!\\n세일기간만 기다리고 있습니...</td>\n",
       "      <td>2023.08.25</td>\n",
       "      <td>5점만점에 5점</td>\n",
       "    </tr>\n",
       "    <tr>\n",
       "      <th>6</th>\n",
       "      <td>6</td>\n",
       "      <td>[주현영, 이나연 찐템]딥트 3일 피치(맛)번 30정 (30일분)</td>\n",
       "      <td>IMIN</td>\n",
       "      <td>연달아서 먹어야 효과를 알텐데 약 때문에 꾸준히 못먹어봐서 잘 모르겠어요 그래도 혹...</td>\n",
       "      <td>2023.08.25</td>\n",
       "      <td>5점만점에 5점</td>\n",
       "    </tr>\n",
       "    <tr>\n",
       "      <th>7</th>\n",
       "      <td>7</td>\n",
       "      <td>[주현영, 이나연 찐템]딥트 3일 피치(맛)번 30정 (30일분)</td>\n",
       "      <td>수아짱</td>\n",
       "      <td>식단만으로 부족해서 도움받으려고 구매했어요 자기 전 한알 신기하네요</td>\n",
       "      <td>2023.09.10</td>\n",
       "      <td>5점만점에 4점</td>\n",
       "    </tr>\n",
       "    <tr>\n",
       "      <th>...</th>\n",
       "      <td>...</td>\n",
       "      <td>...</td>\n",
       "      <td>...</td>\n",
       "      <td>...</td>\n",
       "      <td>...</td>\n",
       "      <td>...</td>\n",
       "    </tr>\n",
       "    <tr>\n",
       "      <th>4583</th>\n",
       "      <td>1367</td>\n",
       "      <td>[4+1] 락토페린 산양유 초유 단백질 분말 스틱 (2g x 30포) / 네덜란드산...</td>\n",
       "      <td>oke*******</td>\n",
       "      <td>친정엄마께 드릴려고 삽니다.산양유 드셔보고싶어하셔서 좋은기회인것같아요</td>\n",
       "      <td>2023.01.03</td>\n",
       "      <td>5.0</td>\n",
       "    </tr>\n",
       "    <tr>\n",
       "      <th>4584</th>\n",
       "      <td>1368</td>\n",
       "      <td>[4+1] 락토페린 산양유 초유 단백질 분말 스틱 (2g x 30포) / 네덜란드산...</td>\n",
       "      <td>whg******</td>\n",
       "      <td>산양유 단백질 광고보고 어떤지 구매해봤어요. 많이 달지도 않고 먹기 편하고 좋네요.^^</td>\n",
       "      <td>2022.12.14</td>\n",
       "      <td>4.0</td>\n",
       "    </tr>\n",
       "    <tr>\n",
       "      <th>4585</th>\n",
       "      <td>1369</td>\n",
       "      <td>[4+1] 락토페린 산양유 초유 단백질 분말 스틱 (2g x 30포) / 네덜란드산...</td>\n",
       "      <td>app*****</td>\n",
       "      <td>꾸준히 먹고는있는데 어디가 좋아지는건지..맛있어서 매일 챙겨먹고는 있어요</td>\n",
       "      <td>2023.01.31</td>\n",
       "      <td>4.0</td>\n",
       "    </tr>\n",
       "    <tr>\n",
       "      <th>4586</th>\n",
       "      <td>1370</td>\n",
       "      <td>테이크핏 맥스 바나나맛 250ml X 24입</td>\n",
       "      <td>jih******</td>\n",
       "      <td>뭔가 끈적거려서 보니 제품 하나가 찢어져 있었어요.</td>\n",
       "      <td>2023.09.20</td>\n",
       "      <td>3.0</td>\n",
       "    </tr>\n",
       "    <tr>\n",
       "      <th>4587</th>\n",
       "      <td>1371</td>\n",
       "      <td>테이크핏 맥스 바나나맛 250ml X 24입</td>\n",
       "      <td>jsh****</td>\n",
       "      <td>가격 배송 모두 만족합니다</td>\n",
       "      <td>2023.05.20</td>\n",
       "      <td>5.0</td>\n",
       "    </tr>\n",
       "  </tbody>\n",
       "</table>\n",
       "<p>3810 rows × 6 columns</p>\n",
       "</div>"
      ],
      "text/plain": [
       "      Unnamed: 0                                       product_name  \\\n",
       "3              3               [주현영, 이나연 찐템]딥트 3일 피치(맛)번 30정 (30일분)   \n",
       "4              4               [주현영, 이나연 찐템]딥트 3일 피치(맛)번 30정 (30일분)   \n",
       "5              5               [주현영, 이나연 찐템]딥트 3일 피치(맛)번 30정 (30일분)   \n",
       "6              6               [주현영, 이나연 찐템]딥트 3일 피치(맛)번 30정 (30일분)   \n",
       "7              7               [주현영, 이나연 찐템]딥트 3일 피치(맛)번 30정 (30일분)   \n",
       "...          ...                                                ...   \n",
       "4583        1367  [4+1] 락토페린 산양유 초유 단백질 분말 스틱 (2g x 30포) / 네덜란드산...   \n",
       "4584        1368  [4+1] 락토페린 산양유 초유 단백질 분말 스틱 (2g x 30포) / 네덜란드산...   \n",
       "4585        1369  [4+1] 락토페린 산양유 초유 단백질 분말 스틱 (2g x 30포) / 네덜란드산...   \n",
       "4586        1370                           테이크핏 맥스 바나나맛 250ml X 24입   \n",
       "4587        1371                           테이크핏 맥스 바나나맛 250ml X 24입   \n",
       "\n",
       "     review_name                                     review_content  \\\n",
       "3           히드돈이  먹으면 달달한 사탕맛이 나는데\\n2-3초 빨아 먹으면 달달구리는 다 녹아서 맛없는 ...   \n",
       "4           짱구덕휴  효과는 모르겠지만 덜찌는것 같아요\\n알약이 이쁘고 입안에 들어갔을때 역하지않아서 좋습니다   \n",
       "5          하늘색벽지  효과가 가장 있는 제품인 것 같아요!\\n너무 좋습니다!\\n세일기간만 기다리고 있습니...   \n",
       "6           IMIN  연달아서 먹어야 효과를 알텐데 약 때문에 꾸준히 못먹어봐서 잘 모르겠어요 그래도 혹...   \n",
       "7            수아짱              식단만으로 부족해서 도움받으려고 구매했어요 자기 전 한알 신기하네요   \n",
       "...          ...                                                ...   \n",
       "4583  oke*******             친정엄마께 드릴려고 삽니다.산양유 드셔보고싶어하셔서 좋은기회인것같아요   \n",
       "4584   whg******   산양유 단백질 광고보고 어떤지 구매해봤어요. 많이 달지도 않고 먹기 편하고 좋네요.^^   \n",
       "4585    app*****           꾸준히 먹고는있는데 어디가 좋아지는건지..맛있어서 매일 챙겨먹고는 있어요   \n",
       "4586   jih******                       뭔가 끈적거려서 보니 제품 하나가 찢어져 있었어요.   \n",
       "4587     jsh****                                     가격 배송 모두 만족합니다   \n",
       "\n",
       "     review_date review_rating  \n",
       "3     2023.09.04      5점만점에 5점  \n",
       "4     2023.09.04      5점만점에 5점  \n",
       "5     2023.08.25      5점만점에 5점  \n",
       "6     2023.08.25      5점만점에 5점  \n",
       "7     2023.09.10      5점만점에 4점  \n",
       "...          ...           ...  \n",
       "4583  2023.01.03           5.0  \n",
       "4584  2022.12.14           4.0  \n",
       "4585  2023.01.31           4.0  \n",
       "4586  2023.09.20           3.0  \n",
       "4587  2023.05.20           5.0  \n",
       "\n",
       "[3810 rows x 6 columns]"
      ]
     },
     "execution_count": 8,
     "metadata": {},
     "output_type": "execute_result"
    }
   ],
   "source": [
    "df_dropna[3:]"
   ]
  },
  {
   "cell_type": "markdown",
   "id": "b608ed5c-2dac-4908-9c8d-4dcfce21effe",
   "metadata": {
    "tags": []
   },
   "source": [
    "## 자연어 전처리 "
   ]
  },
  {
   "cell_type": "markdown",
   "id": "4d741eac-cd08-48c6-a62a-d92f6b36f2fc",
   "metadata": {
    "tags": []
   },
   "source": [
    "### 형태소 분석"
   ]
  },
  {
   "cell_type": "code",
   "execution_count": 9,
   "id": "45086603-de37-4259-8beb-fbf8b474a56c",
   "metadata": {
    "tags": []
   },
   "outputs": [],
   "source": [
    "from konlpy.tag import Okt\n",
    "okt = Okt()"
   ]
  },
  {
   "cell_type": "code",
   "execution_count": 10,
   "id": "5416dc0d-0dad-425d-a7e4-a62372af1462",
   "metadata": {
    "tags": []
   },
   "outputs": [],
   "source": [
    "content = list(df_dropna['review_content']) "
   ]
  },
  {
   "cell_type": "code",
   "execution_count": 11,
   "id": "fcf6de4c-9bfa-4cb0-9326-5e97a20a4e99",
   "metadata": {
    "tags": []
   },
   "outputs": [],
   "source": [
    "sentence = ' '.join(content) # 한줄로 만들기 "
   ]
  },
  {
   "cell_type": "code",
   "execution_count": 12,
   "id": "62f77518-63da-4d3a-a907-25da31d083db",
   "metadata": {
    "tags": []
   },
   "outputs": [],
   "source": [
    "word_tokens = okt.morphs(sentence)"
   ]
  },
  {
   "cell_type": "code",
   "execution_count": 13,
   "id": "ff544a22-5996-466a-afd6-718febdb5f83",
   "metadata": {
    "tags": []
   },
   "outputs": [],
   "source": [
    "word_pos = okt.pos(sentence)"
   ]
  },
  {
   "cell_type": "markdown",
   "id": "95a7698d-23e3-42ab-91d6-46ae4c29fc0c",
   "metadata": {},
   "source": [
    "### 불필요한 심볼 없애기 "
   ]
  },
  {
   "cell_type": "code",
   "execution_count": 14,
   "id": "c4980254-1a7f-4fea-bc54-540b9eb8c9ca",
   "metadata": {
    "tags": []
   },
   "outputs": [],
   "source": [
    "# 쉼표, 엔터 등등의 값 대체 \n",
    "# filtered_content = df_dropna['review_content'].replace('.', '').replace(',','').replace(\"'\",\"\").replace('·', ' ').replace('=','').replace('\\n','').replace('\\\\n',' ').replace('\\\\n\\\\n','  ')\n",
    "# list(filtered_content)"
   ]
  },
  {
   "cell_type": "markdown",
   "id": "0aa4f929-91cc-41e5-a550-643a23d148fc",
   "metadata": {
    "tags": []
   },
   "source": [
    "### 불용어 처리 "
   ]
  },
  {
   "cell_type": "code",
   "execution_count": 26,
   "id": "ece4ea02-ba90-4c40-b4aa-8819dda45145",
   "metadata": {
    "tags": []
   },
   "outputs": [],
   "source": [
    "stop_words = pd.read_csv('../datasets/stopword_list.txt', header=None, encoding ='utf-8')\n",
    "#stop_words = stop_words[0]\n",
    "stop_words= stop_words[0].values"
   ]
  },
  {
   "cell_type": "code",
   "execution_count": 27,
   "id": "6de2d36c-2f0e-44dd-a04a-f8ae61567507",
   "metadata": {
    "tags": []
   },
   "outputs": [],
   "source": [
    "one_char_keyword = pd.read_csv('../datasets/one_char_list.txt', header=None, encoding ='utf-8')\n",
    "one_char_keyword = one_char_keyword[0].values"
   ]
  },
  {
   "cell_type": "code",
   "execution_count": 28,
   "id": "490e2497-e839-445c-9de2-ad75e7ed6fda",
   "metadata": {
    "tags": []
   },
   "outputs": [],
   "source": [
    "from konlpy.tag import Okt\n",
    "okt = Okt()\n",
    "from mecab import MeCab\n",
    "mecab = MeCab()"
   ]
  },
  {
   "cell_type": "code",
   "execution_count": 29,
   "id": "b64e2d83-87f2-421e-ac91-9b65b5a85a07",
   "metadata": {
    "tags": []
   },
   "outputs": [],
   "source": [
    "# 토크나이징 함수 정의\n",
    "def remove_stopword(raw, pos=[\"Noun\",\"Alpha\",\"Verb\",\"Number\",\"Adjective\"], stopword=stop_words):\n",
    "    tokens = [\n",
    "        word for word, tag in okt.pos(\n",
    "            raw, \n",
    "            norm=True,   # normalize 그랰ㅋㅏ -> 그래ㅋㅋ\n",
    "            stem=True    # stemming 바뀌나->바뀌다\n",
    "            )\n",
    "            if len(word) > 1 and tag in pos and word not in stopword\n",
    "\n",
    "    ]\n",
    "    return ' '.join(tokens)  # 결과 리스트를 문자열로 결합하여 반환"
   ]
  },
  {
   "cell_type": "code",
   "execution_count": 30,
   "id": "3f29e549-f28c-4162-956d-76aa1b32a94d",
   "metadata": {
    "tags": []
   },
   "outputs": [],
   "source": [
    "# 토크나이징 함수 정의(불용어, 한글자 처리)\n",
    "def remove_stopword(raw, pos=[\"Noun\",\"Alpha\",\"Verb\",\"Number\",\"Adjective\"], stopword=stop_words):\n",
    "    tokens = []\n",
    "    for word, tag in okt.pos(\n",
    "        raw, \n",
    "        norm=True,   # normalize 그랰ㅋㅏ -> 그래ㅋㅋ\n",
    "        stem=True    # stemming 바뀌나->바뀌다\n",
    "    ):\n",
    "        if len(word) > 1 and tag in pos and word not in stopword:\n",
    "            tokens.append(word)\n",
    "        elif len(word) == 1 and word in list(one_char_keyword):\n",
    "            tokens.append(word)\n",
    "    return ' '.join(tokens)  # 결과 리스트를 문자열로 결합하여 반환"
   ]
  },
  {
   "cell_type": "code",
   "execution_count": 31,
   "id": "2b2d2ff4-d0ce-4777-b67a-4b690dea9a0e",
   "metadata": {
    "tags": []
   },
   "outputs": [
    {
     "name": "stderr",
     "output_type": "stream",
     "text": [
      "C:\\Users\\02-19\\AppData\\Local\\Temp\\ipykernel_11132\\949224158.py:2: SettingWithCopyWarning: \n",
      "A value is trying to be set on a copy of a slice from a DataFrame.\n",
      "Try using .loc[row_indexer,col_indexer] = value instead\n",
      "\n",
      "See the caveats in the documentation: https://pandas.pydata.org/pandas-docs/stable/user_guide/indexing.html#returning-a-view-versus-a-copy\n",
      "  df_dropna['tokenized_review'] = df_dropna['review_content'].apply(remove_stopword)\n"
     ]
    },
    {
     "data": {
      "text/html": [
       "<div>\n",
       "<style scoped>\n",
       "    .dataframe tbody tr th:only-of-type {\n",
       "        vertical-align: middle;\n",
       "    }\n",
       "\n",
       "    .dataframe tbody tr th {\n",
       "        vertical-align: top;\n",
       "    }\n",
       "\n",
       "    .dataframe thead th {\n",
       "        text-align: right;\n",
       "    }\n",
       "</style>\n",
       "<table border=\"1\" class=\"dataframe\">\n",
       "  <thead>\n",
       "    <tr style=\"text-align: right;\">\n",
       "      <th></th>\n",
       "      <th>Unnamed: 0</th>\n",
       "      <th>product_name</th>\n",
       "      <th>review_name</th>\n",
       "      <th>review_content</th>\n",
       "      <th>review_date</th>\n",
       "      <th>review_rating</th>\n",
       "      <th>rating</th>\n",
       "      <th>tokenized_review</th>\n",
       "    </tr>\n",
       "  </thead>\n",
       "  <tbody>\n",
       "    <tr>\n",
       "      <th>0</th>\n",
       "      <td>0</td>\n",
       "      <td>[주현영, 이나연 찐템]딥트 3일 피치(맛)번 30정 (30일분)</td>\n",
       "      <td>보리오빠</td>\n",
       "      <td>없으면 안될 최고의 diet템! 피치번을 추천합니당 ㅎㅎ 사진엔 없지만 4통째 먹고...</td>\n",
       "      <td>2023.08.27</td>\n",
       "      <td>5점만점에 5점</td>\n",
       "      <td>5.0</td>\n",
       "      <td>최고 diet 템 피치 추천 사진 통째 찌다 필수 템 버리다 제품 광고 구매 효과 ...</td>\n",
       "    </tr>\n",
       "    <tr>\n",
       "      <th>1</th>\n",
       "      <td>1</td>\n",
       "      <td>[주현영, 이나연 찐템]딥트 3일 피치(맛)번 30정 (30일분)</td>\n",
       "      <td>바보바니</td>\n",
       "      <td>알약 통통이하트 넘예뻐요. 자기전 먹고 효과있으면 얼마나 좋을까요 ㅜㅜ 나이들수록 ...</td>\n",
       "      <td>2023.09.14</td>\n",
       "      <td>5점만점에 5점</td>\n",
       "      <td>5.0</td>\n",
       "      <td>알약 통통이 하트 예쁘다 효과 좋다 나이 빠지다 배 쌓이네 엉엉 딥트 종류셋트 묶이...</td>\n",
       "    </tr>\n",
       "  </tbody>\n",
       "</table>\n",
       "</div>"
      ],
      "text/plain": [
       "   Unnamed: 0                          product_name review_name  \\\n",
       "0           0  [주현영, 이나연 찐템]딥트 3일 피치(맛)번 30정 (30일분)        보리오빠   \n",
       "1           1  [주현영, 이나연 찐템]딥트 3일 피치(맛)번 30정 (30일분)        바보바니   \n",
       "\n",
       "                                      review_content review_date  \\\n",
       "0  없으면 안될 최고의 diet템! 피치번을 추천합니당 ㅎㅎ 사진엔 없지만 4통째 먹고...  2023.08.27   \n",
       "1  알약 통통이하트 넘예뻐요. 자기전 먹고 효과있으면 얼마나 좋을까요 ㅜㅜ 나이들수록 ...  2023.09.14   \n",
       "\n",
       "  review_rating  rating                                   tokenized_review  \n",
       "0      5점만점에 5점     5.0  최고 diet 템 피치 추천 사진 통째 찌다 필수 템 버리다 제품 광고 구매 효과 ...  \n",
       "1      5점만점에 5점     5.0  알약 통통이 하트 예쁘다 효과 좋다 나이 빠지다 배 쌓이네 엉엉 딥트 종류셋트 묶이...  "
      ]
     },
     "execution_count": 31,
     "metadata": {},
     "output_type": "execute_result"
    }
   ],
   "source": [
    "## 함수적용 \n",
    "df_dropna['tokenized_review'] = df_dropna['review_content'].apply(remove_stopword)\n",
    "df_dropna[:2]"
   ]
  },
  {
   "cell_type": "code",
   "execution_count": 32,
   "id": "7863e2d0-7cd2-443c-bcb9-b87301b2d904",
   "metadata": {
    "tags": []
   },
   "outputs": [
    {
     "name": "stdout",
     "output_type": "stream",
     "text": [
      "문장 용어 처리\n"
     ]
    }
   ],
   "source": [
    "# 확인용 \n",
    "test_sentence = \"이 문장은 불용어 처리가 되어야 합니다. 가다 하다 있다 되다 먹다\"\n",
    "tokens_test = remove_stopword(test_sentence)\n",
    "print(tokens_test)"
   ]
  },
  {
   "cell_type": "markdown",
   "id": "740916ed-0376-49b9-bee7-ad20c0893705",
   "metadata": {
    "tags": []
   },
   "source": [
    "### 빈도수 계산 "
   ]
  },
  {
   "cell_type": "code",
   "execution_count": 16,
   "id": "542df0cf-246a-4022-a0c3-dd1242f3c7fd",
   "metadata": {
    "tags": []
   },
   "outputs": [],
   "source": [
    "from collections import Counter\n",
    "from wordcloud import WordCloud"
   ]
  },
  {
   "cell_type": "code",
   "execution_count": 33,
   "id": "ef23430f-318b-4d20-b150-2e536de09e93",
   "metadata": {
    "tags": []
   },
   "outputs": [],
   "source": [
    "sentence_tokenized= ' '.join(list(df_dropna['tokenized_review'])) # 한줄로 만들기 "
   ]
  },
  {
   "cell_type": "code",
   "execution_count": 34,
   "id": "cc712d2e-c239-4d59-91d0-669fef4977e2",
   "metadata": {
    "tags": []
   },
   "outputs": [],
   "source": [
    "sentence_split = sentence_tokenized.split()"
   ]
  },
  {
   "cell_type": "code",
   "execution_count": 35,
   "id": "4edbe557-7e2c-4762-aec6-88b03074f429",
   "metadata": {
    "tags": []
   },
   "outputs": [
    {
     "data": {
      "text/plain": [
       "<wordcloud.wordcloud.WordCloud at 0x220dfa6b490>"
      ]
     },
     "execution_count": 35,
     "metadata": {},
     "output_type": "execute_result"
    }
   ],
   "source": [
    "# counter를 이용해서 중복 여부 count\n",
    "count = Counter(sentence_split)\n",
    "\n",
    "# 한글 폰트 경로 설정 (Windows 환경에 맞게 경로 수정)\n",
    "font_path = 'C:/Windows/Fonts/malgun.ttf'\n",
    "\n",
    "wordCloud = WordCloud(font_path=font_path, background_color='white') #인스턴스화 \n",
    "wordCloud.generate_from_frequencies(count)"
   ]
  },
  {
   "cell_type": "code",
   "execution_count": 36,
   "id": "494db0df-1cac-45ca-9320-e607370c8cab",
   "metadata": {
    "collapsed": true,
    "jupyter": {
     "outputs_hidden": true
    },
    "tags": []
   },
   "outputs": [
    {
     "data": {
      "text/plain": [
       "{'좋다': 1.0,\n",
       " '맛': 0.6010849909584087,\n",
       " '효과': 0.5649186256781193,\n",
       " '구매': 0.5511754068716094,\n",
       " '제품': 0.5193490054249548,\n",
       " '물': 0.30777576853526223,\n",
       " '맛있다': 0.2730560578661845,\n",
       " '운동': 0.2683544303797468,\n",
       " '화장실': 0.23110307414104883,\n",
       " '꾸준하다': 0.23037974683544304,\n",
       " '알약': 0.22459312839059675,\n",
       " '생각': 0.19204339963833636,\n",
       " '섭취': 0.1887884267631103,\n",
       " '느낌': 0.18264014466546113,\n",
       " '빠지다': 0.18083182640144665,\n",
       " '하루': 0.1786618444846293,\n",
       " '도움': 0.17721518987341772,\n",
       " '편하다': 0.17504520795660036,\n",
       " '크다': 0.16311030741410487,\n",
       " '가격': 0.162748643761302,\n",
       " '알': 0.16021699819168173,\n",
       " '젤리': 0.15804701627486437,\n",
       " '괜찮다': 0.13309222423146475,\n",
       " '보조': 0.13092224231464739,\n",
       " '크기': 0.12549728752260397,\n",
       " '추천': 0.1236889692585895,\n",
       " '포': 0.11573236889692586,\n",
       " '몸': 0.11247739602169982,\n",
       " '향': 0.11211573236889692,\n",
       " '많다': 0.11175406871609403,\n",
       " '포장': 0.10560578661844484,\n",
       " '관리': 0.1023508137432188,\n",
       " '복용': 0.09981916817359855,\n",
       " '사다': 0.09837251356238698,\n",
       " '후기': 0.09764918625678119,\n",
       " '성분': 0.09403254972875226,\n",
       " '병': 0.08969258589511754,\n",
       " '살이': 0.08860759493670886,\n",
       " '체지방': 0.08860759493670886,\n",
       " '식단': 0.08716094032549729,\n",
       " '구입': 0.08571428571428572,\n",
       " '찌다': 0.08499095840867993,\n",
       " '사과': 0.08462929475587704,\n",
       " '체중': 0.08426763110307414,\n",
       " '배송': 0.0810126582278481,\n",
       " '아침': 0.07956600361663653,\n",
       " '먹어주다': 0.07884267631103074,\n",
       " '간편하다': 0.07631103074141049,\n",
       " '작다': 0.0755877034358047,\n",
       " '유지': 0.07486437613019892,\n",
       " '저렴하다': 0.07486437613019892,\n",
       " '냄새': 0.07269439421338156,\n",
       " '힘들다': 0.07233273056057866,\n",
       " '식후': 0.06980108499095841,\n",
       " '리뷰': 0.06871609403254973,\n",
       " '부담': 0.06835443037974684,\n",
       " '초록': 0.06835443037974684,\n",
       " '저녁': 0.06690777576853527,\n",
       " '할인': 0.06618444846292948,\n",
       " '만족하다': 0.06329113924050633,\n",
       " '조절': 0.06148282097649186,\n",
       " '감소': 0.06112115732368897,\n",
       " '편이': 0.060759493670886074,\n",
       " '배': 0.0593128390596745,\n",
       " '밥': 0.058589511754068714,\n",
       " '과식': 0.058589511754068714,\n",
       " '주문': 0.058589511754068714,\n",
       " '달달': 0.05786618444846293,\n",
       " '빼다': 0.05786618444846293,\n",
       " '항상': 0.057504520795660034,\n",
       " '삼키다': 0.056419529837251355,\n",
       " '불편하다': 0.05605786618444846,\n",
       " '기분': 0.05569620253164557,\n",
       " '빠르다': 0.05497287522603978,\n",
       " '병행': 0.054249547920433995,\n",
       " '몸무게': 0.054249547920433995,\n",
       " '카테킨': 0.054249547920433995,\n",
       " '식사': 0.05352622061482821,\n",
       " '비싸다': 0.053164556962025315,\n",
       " '휴대': 0.053164556962025315,\n",
       " '메타': 0.05244122965641953,\n",
       " '시작': 0.05135623869801085,\n",
       " '좋아하다': 0.05063291139240506,\n",
       " '건강': 0.05027124773960217,\n",
       " '광고': 0.049909584086799276,\n",
       " '음식': 0.04954792043399638,\n",
       " '상품': 0.048824593128390596,\n",
       " '간식': 0.048824593128390596,\n",
       " '비타민': 0.0484629294755877,\n",
       " '박스': 0.04810126582278481,\n",
       " '상큼': 0.047739602169981916,\n",
       " '아쉽다': 0.04737793851717902,\n",
       " '사람': 0.04701627486437613,\n",
       " '식전': 0.04701627486437613,\n",
       " '콜레올로': 0.04665461121157324,\n",
       " '쓰다': 0.04629294755877034,\n",
       " '궁금하다': 0.04556962025316456,\n",
       " '사용': 0.045207956600361664,\n",
       " '분홍': 0.04267631103074141,\n",
       " '형태': 0.041952983725135624,\n",
       " '시원하다': 0.041952983725135624,\n",
       " '변화': 0.04122965641952984,\n",
       " '거부': 0.039783001808318265,\n",
       " '식품': 0.039783001808318265,\n",
       " '점심': 0.03905967450271248,\n",
       " '복숭아': 0.03833634719710669,\n",
       " '가볍다': 0.03833634719710669,\n",
       " '탄수화물': 0.037613019891500905,\n",
       " '3일': 0.03688969258589512,\n",
       " '재': 0.036528028933092226,\n",
       " '남다': 0.036528028933092226,\n",
       " '추출': 0.036528028933092226,\n",
       " '버리다': 0.03580470162748644,\n",
       " '커피': 0.03508137432188065,\n",
       " '딥트': 0.03471971066907776,\n",
       " '살빼다': 0.03471971066907776,\n",
       " '유명하다': 0.03471971066907776,\n",
       " '기대': 0.03471971066907776,\n",
       " '녹차': 0.03471971066907776,\n",
       " '음료': 0.03399638336347197,\n",
       " '의사': 0.03363471971066908,\n",
       " '패키지': 0.03363471971066908,\n",
       " '개인': 0.033273056057866186,\n",
       " '사이즈': 0.03291139240506329,\n",
       " '여름': 0.03291139240506329,\n",
       " '기도': 0.0325497287522604,\n",
       " '완전': 0.03218806509945751,\n",
       " '녹다': 0.03182640144665461,\n",
       " '예전': 0.03182640144665461,\n",
       " '개별': 0.03182640144665461,\n",
       " '갈다': 0.03146473779385172,\n",
       " '오늘': 0.031103074141048823,\n",
       " '단점': 0.031103074141048823,\n",
       " '기대하다': 0.031103074141048823,\n",
       " '속이다': 0.031103074141048823,\n",
       " '가게': 0.03074141048824593,\n",
       " '활동': 0.030379746835443037,\n",
       " '가루': 0.030379746835443037,\n",
       " '귀엽다': 0.030018083182640144,\n",
       " '방법': 0.030018083182640144,\n",
       " '행사': 0.02965641952983725,\n",
       " '야하다': 0.02965641952983725,\n",
       " '마시기': 0.02965641952983725,\n",
       " '노니': 0.029294755877034357,\n",
       " '중요하다': 0.02857142857142857,\n",
       " '떨어지다': 0.02857142857142857,\n",
       " '유통': 0.02857142857142857,\n",
       " '기한': 0.02857142857142857,\n",
       " '건강하다': 0.02857142857142857,\n",
       " '1일': 0.028209764918625677,\n",
       " '고민': 0.028209764918625677,\n",
       " '친구': 0.028209764918625677,\n",
       " '가성': 0.028209764918625677,\n",
       " '타입': 0.028209764918625677,\n",
       " '대신': 0.027848101265822784,\n",
       " '함유': 0.027848101265822784,\n",
       " '아프다': 0.02748643761301989,\n",
       " '이유': 0.02748643761301989,\n",
       " '야식': 0.02748643761301989,\n",
       " '템': 0.027124773960216998,\n",
       " '탄산수': 0.027124773960216998,\n",
       " '전혀': 0.026763110307414104,\n",
       " '부분': 0.026763110307414104,\n",
       " '적다': 0.026763110307414104,\n",
       " '나쁘다': 0.026763110307414104,\n",
       " '걱정': 0.02640144665461121,\n",
       " '부작용': 0.02640144665461121,\n",
       " '끄다': 0.026039783001808318,\n",
       " '오렌지': 0.026039783001808318,\n",
       " '살다': 0.025678119349005425,\n",
       " 'kg': 0.025678119349005425,\n",
       " '부다': 0.025678119349005425,\n",
       " '석류': 0.025678119349005425,\n",
       " '편리하다': 0.024954792043399638,\n",
       " '어렵다': 0.024954792043399638,\n",
       " '진하다': 0.024954792043399638,\n",
       " '기존': 0.024954792043399638,\n",
       " '희다': 0.024954792043399638,\n",
       " '죄책감': 0.024593128390596745,\n",
       " '예쁘다': 0.02423146473779385,\n",
       " '기간': 0.02423146473779385,\n",
       " '기다': 0.02423146473779385,\n",
       " '덥다': 0.02423146473779385,\n",
       " '차다': 0.02423146473779385,\n",
       " '보이다': 0.02423146473779385,\n",
       " '가끔': 0.023869801084990958,\n",
       " '걸리다': 0.023869801084990958,\n",
       " '불안하다': 0.023869801084990958,\n",
       " '세다': 0.023869801084990958,\n",
       " '바라다': 0.023869801084990958,\n",
       " '가방': 0.023869801084990958,\n",
       " '일주일': 0.023508137432188065,\n",
       " '다르다': 0.023508137432188065,\n",
       " '500': 0.023508137432188065,\n",
       " '사먹다': 0.02314647377938517,\n",
       " '미리': 0.02314647377938517,\n",
       " '포만': 0.02314647377938517,\n",
       " '장점': 0.02278481012658228,\n",
       " '딱하다': 0.02278481012658228,\n",
       " '변': 0.02278481012658228}"
      ]
     },
     "execution_count": 36,
     "metadata": {},
     "output_type": "execute_result"
    }
   ],
   "source": [
    "# count \n",
    "wordCloud.words_ "
   ]
  },
  {
   "cell_type": "code",
   "execution_count": 37,
   "id": "38ea406f-196c-4b31-b8e1-935a50655cc1",
   "metadata": {
    "tags": []
   },
   "outputs": [
    {
     "data": {
      "text/html": [
       "<style>#sk-container-id-1 {color: black;background-color: white;}#sk-container-id-1 pre{padding: 0;}#sk-container-id-1 div.sk-toggleable {background-color: white;}#sk-container-id-1 label.sk-toggleable__label {cursor: pointer;display: block;width: 100%;margin-bottom: 0;padding: 0.3em;box-sizing: border-box;text-align: center;}#sk-container-id-1 label.sk-toggleable__label-arrow:before {content: \"▸\";float: left;margin-right: 0.25em;color: #696969;}#sk-container-id-1 label.sk-toggleable__label-arrow:hover:before {color: black;}#sk-container-id-1 div.sk-estimator:hover label.sk-toggleable__label-arrow:before {color: black;}#sk-container-id-1 div.sk-toggleable__content {max-height: 0;max-width: 0;overflow: hidden;text-align: left;background-color: #f0f8ff;}#sk-container-id-1 div.sk-toggleable__content pre {margin: 0.2em;color: black;border-radius: 0.25em;background-color: #f0f8ff;}#sk-container-id-1 input.sk-toggleable__control:checked~div.sk-toggleable__content {max-height: 200px;max-width: 100%;overflow: auto;}#sk-container-id-1 input.sk-toggleable__control:checked~label.sk-toggleable__label-arrow:before {content: \"▾\";}#sk-container-id-1 div.sk-estimator input.sk-toggleable__control:checked~label.sk-toggleable__label {background-color: #d4ebff;}#sk-container-id-1 div.sk-label input.sk-toggleable__control:checked~label.sk-toggleable__label {background-color: #d4ebff;}#sk-container-id-1 input.sk-hidden--visually {border: 0;clip: rect(1px 1px 1px 1px);clip: rect(1px, 1px, 1px, 1px);height: 1px;margin: -1px;overflow: hidden;padding: 0;position: absolute;width: 1px;}#sk-container-id-1 div.sk-estimator {font-family: monospace;background-color: #f0f8ff;border: 1px dotted black;border-radius: 0.25em;box-sizing: border-box;margin-bottom: 0.5em;}#sk-container-id-1 div.sk-estimator:hover {background-color: #d4ebff;}#sk-container-id-1 div.sk-parallel-item::after {content: \"\";width: 100%;border-bottom: 1px solid gray;flex-grow: 1;}#sk-container-id-1 div.sk-label:hover label.sk-toggleable__label {background-color: #d4ebff;}#sk-container-id-1 div.sk-serial::before {content: \"\";position: absolute;border-left: 1px solid gray;box-sizing: border-box;top: 0;bottom: 0;left: 50%;z-index: 0;}#sk-container-id-1 div.sk-serial {display: flex;flex-direction: column;align-items: center;background-color: white;padding-right: 0.2em;padding-left: 0.2em;position: relative;}#sk-container-id-1 div.sk-item {position: relative;z-index: 1;}#sk-container-id-1 div.sk-parallel {display: flex;align-items: stretch;justify-content: center;background-color: white;position: relative;}#sk-container-id-1 div.sk-item::before, #sk-container-id-1 div.sk-parallel-item::before {content: \"\";position: absolute;border-left: 1px solid gray;box-sizing: border-box;top: 0;bottom: 0;left: 50%;z-index: -1;}#sk-container-id-1 div.sk-parallel-item {display: flex;flex-direction: column;z-index: 1;position: relative;background-color: white;}#sk-container-id-1 div.sk-parallel-item:first-child::after {align-self: flex-end;width: 50%;}#sk-container-id-1 div.sk-parallel-item:last-child::after {align-self: flex-start;width: 50%;}#sk-container-id-1 div.sk-parallel-item:only-child::after {width: 0;}#sk-container-id-1 div.sk-dashed-wrapped {border: 1px dashed gray;margin: 0 0.4em 0.5em 0.4em;box-sizing: border-box;padding-bottom: 0.4em;background-color: white;}#sk-container-id-1 div.sk-label label {font-family: monospace;font-weight: bold;display: inline-block;line-height: 1.2em;}#sk-container-id-1 div.sk-label-container {text-align: center;}#sk-container-id-1 div.sk-container {/* jupyter's `normalize.less` sets `[hidden] { display: none; }` but bootstrap.min.css set `[hidden] { display: none !important; }` so we also need the `!important` here to be able to override the default hidden behavior on the sphinx rendered scikit-learn.org. See: https://github.com/scikit-learn/scikit-learn/issues/21755 */display: inline-block !important;position: relative;}#sk-container-id-1 div.sk-text-repr-fallback {display: none;}</style><div id=\"sk-container-id-1\" class=\"sk-top-container\"><div class=\"sk-text-repr-fallback\"><pre>CountVectorizer()</pre><b>In a Jupyter environment, please rerun this cell to show the HTML representation or trust the notebook. <br />On GitHub, the HTML representation is unable to render, please try loading this page with nbviewer.org.</b></div><div class=\"sk-container\" hidden><div class=\"sk-item\"><div class=\"sk-estimator sk-toggleable\"><input class=\"sk-toggleable__control sk-hidden--visually\" id=\"sk-estimator-id-1\" type=\"checkbox\" checked><label for=\"sk-estimator-id-1\" class=\"sk-toggleable__label sk-toggleable__label-arrow\">CountVectorizer</label><div class=\"sk-toggleable__content\"><pre>CountVectorizer()</pre></div></div></div></div></div>"
      ],
      "text/plain": [
       "CountVectorizer()"
      ]
     },
     "execution_count": 37,
     "metadata": {},
     "output_type": "execute_result"
    }
   ],
   "source": [
    "from sklearn.feature_extraction.text import CountVectorizer, TfidfVectorizer\n",
    "countVectorizer = CountVectorizer() # 인스턴스화\n",
    "countVectorizer.fit(count)"
   ]
  },
  {
   "cell_type": "code",
   "execution_count": 38,
   "id": "1667d2fa-ff2d-44d5-a00a-aee1041ea8d2",
   "metadata": {
    "collapsed": true,
    "jupyter": {
     "outputs_hidden": true
    },
    "tags": []
   },
   "outputs": [
    {
     "data": {
      "text/plain": [
       "{'최고': 4874,\n",
       " 'diet': 249,\n",
       " '피치': 5409,\n",
       " '추천': 4892,\n",
       " '사진': 2696,\n",
       " '통째': 5159,\n",
       " '찌다': 4735,\n",
       " '필수': 5419,\n",
       " '버리다': 2297,\n",
       " '제품': 4431,\n",
       " '광고': 753,\n",
       " '구매': 779,\n",
       " '효과': 5689,\n",
       " '좋다': 4482,\n",
       " '알약': 3393,\n",
       " '사이즈': 2686,\n",
       " '크다': 5060,\n",
       " '삼키다': 2742,\n",
       " '은은하다': 3933,\n",
       " '복숭아': 2395,\n",
       " '사탕': 2699,\n",
       " '쓴맛': 3268,\n",
       " '올라오다': 3717,\n",
       " '가볍다': 398,\n",
       " '거짓말': 558,\n",
       " '빠지다': 2608,\n",
       " '870': 202,\n",
       " 'kcal': 280,\n",
       " '태우다': 5118,\n",
       " '사먹다': 2665,\n",
       " '딥트': 1604,\n",
       " '뜨겁다': 1673,\n",
       " '전혀': 4336,\n",
       " '안남다': 3338,\n",
       " '할인': 5489,\n",
       " '사다': 2652,\n",
       " '통통이': 5162,\n",
       " '하트': 5455,\n",
       " '예쁘다': 3663,\n",
       " '나이': 1091,\n",
       " '쌓이네': 3239,\n",
       " '엉엉': 3557,\n",
       " '종류셋트': 4473,\n",
       " '묶이다': 2064,\n",
       " '괜찮다': 760,\n",
       " '리뷰': 1758,\n",
       " '쓰다': 3258,\n",
       " '드라마틱하다': 1572,\n",
       " '달라지다': 1346,\n",
       " '죄책감': 4493,\n",
       " '덜다': 1455,\n",
       " '의미': 3958,\n",
       " '운동': 3833,\n",
       " '식단': 3133,\n",
       " '병행': 2356,\n",
       " '변화': 2339,\n",
       " '살이': 2728,\n",
       " '생각': 2800,\n",
       " '달달': 1342,\n",
       " '3초': 138,\n",
       " '구리다': 777,\n",
       " '녹다': 1203,\n",
       " '맛없다': 1867,\n",
       " '본체': 2412,\n",
       " '길쭉하다': 967,\n",
       " '동그랗다': 1512,\n",
       " '커서': 4993,\n",
       " '불편하다': 2521,\n",
       " '이쁘다': 3996,\n",
       " '입안': 4123,\n",
       " '기간': 909,\n",
       " '기다리다': 914,\n",
       " '추가': 4888,\n",
       " '많다': 1845,\n",
       " '끌다': 1046,\n",
       " '리뉴얼': 1756,\n",
       " '이후': 4032,\n",
       " '품절': 5368,\n",
       " '뜨다': 1675,\n",
       " '보조': 2383,\n",
       " '여행': 3601,\n",
       " '갈다': 444,\n",
       " '3일': 137,\n",
       " '신뢰': 3163,\n",
       " '비교': 2550,\n",
       " '크기': 5059,\n",
       " '작아지다': 4187,\n",
       " '표면': 5344,\n",
       " '매끄럽다': 1887,\n",
       " '힘들다': 5751,\n",
       " '작다': 4179,\n",
       " '부담': 2432,\n",
       " '긋다': 906,\n",
       " '가끔': 375,\n",
       " '심장': 3220,\n",
       " '뛰다': 1671,\n",
       " '화장실': 5641,\n",
       " '유지': 3908,\n",
       " '이용': 4010,\n",
       " '상품': 2776,\n",
       " '설명': 2857,\n",
       " '800': 200,\n",
       " '전도': 4323,\n",
       " '소모': 2923,\n",
       " '기다': 913,\n",
       " '다행': 1314,\n",
       " '꾸준하다': 1029,\n",
       " '과식': 733,\n",
       " '체중': 4838,\n",
       " '증가': 4578,\n",
       " '지퍼': 4631,\n",
       " '남다': 1121,\n",
       " '열리다': 3636,\n",
       " '습기': 3087,\n",
       " '먹음': 1933,\n",
       " '빵빵': 2618,\n",
       " '말랑하다': 1849,\n",
       " '누르다': 1232,\n",
       " '터지다': 5125,\n",
       " '밀봉': 2144,\n",
       " '보관': 2360,\n",
       " '부족하다': 2460,\n",
       " '도움': 1482,\n",
       " '신기하다': 3159,\n",
       " '디자인': 1600,\n",
       " '기염': 941,\n",
       " '일해': 4103,\n",
       " '저렴하다': 4289,\n",
       " '5일': 174,\n",
       " '방지': 2239,\n",
       " '목적': 2000,\n",
       " '생기다': 2803,\n",
       " '귀엽다': 827,\n",
       " '느낌': 1245,\n",
       " '가격': 369,\n",
       " '쎄다': 3245,\n",
       " '편하다': 5304,\n",
       " '빼다': 2622,\n",
       " '여기저기': 3577,\n",
       " '얘기': 3468,\n",
       " '끄다': 1039,\n",
       " '싸다': 3230,\n",
       " '더럽다': 1439,\n",
       " '걸리다': 580,\n",
       " '작살': 4182,\n",
       " '아프다': 3332,\n",
       " '저녁': 4282,\n",
       " '지나다': 4594,\n",
       " '한약': 5471,\n",
       " '냄새': 1160,\n",
       " '양심': 3460,\n",
       " '시작': 3114,\n",
       " '짜다': 4686,\n",
       " '달다': 1341,\n",
       " '줄어들다': 4546,\n",
       " '케이스': 5016,\n",
       " '화장품': 5642,\n",
       " '인생': 4050,\n",
       " '직원': 4640,\n",
       " '850': 201,\n",
       " '곧장': 699,\n",
       " '예전': 3667,\n",
       " '판매': 5246,\n",
       " '종료': 4471,\n",
       " '새롭다': 2782,\n",
       " '차이': 4767,\n",
       " '방법': 2233,\n",
       " '매우': 1895,\n",
       " '간단하다': 424,\n",
       " '금방': 885,\n",
       " '가벼워지다': 396,\n",
       " '아무렇다': 3303,\n",
       " '의사': 3959,\n",
       " '불편': 2520,\n",
       " '미치다': 2133,\n",
       " '사람': 2656,\n",
       " '무리': 2037,\n",
       " '넘어가다': 1176,\n",
       " '이뿌다': 3995,\n",
       " '찔리다': 4744,\n",
       " '덜하다': 1460,\n",
       " '간편하다': 439,\n",
       " '뷰티': 2535,\n",
       " '1일': 68,\n",
       " '1회': 70,\n",
       " '체지방': 4839,\n",
       " '감소': 465,\n",
       " '비타민': 2588,\n",
       " '보충': 2384,\n",
       " '안넘': 3340,\n",
       " '어기다': 3470,\n",
       " '마침': 1811,\n",
       " '얼른': 3528,\n",
       " '먹고다': 1920,\n",
       " '편리하다': 5296,\n",
       " '구입': 796,\n",
       " '스트롱업': 3065,\n",
       " '며칠': 1957,\n",
       " '여름': 3582,\n",
       " '에어컨': 3568,\n",
       " '덥다': 1462,\n",
       " '작고': 4177,\n",
       " '기분': 931,\n",
       " '나은': 1090,\n",
       " '맛있다': 1873,\n",
       " '쟁여놓': 4265,\n",
       " '놓이다': 1225,\n",
       " '행사': 5538,\n",
       " '까먹다': 978,\n",
       " '가구': 370,\n",
       " '소화': 2941,\n",
       " '잊다': 4136,\n",
       " '씹다': 3279,\n",
       " '갈래': 447,\n",
       " '갖다': 493,\n",
       " '미미하다': 2123,\n",
       " '조절': 4455,\n",
       " '부스터': 2450,\n",
       " '얻다': 3523,\n",
       " '공복': 716,\n",
       " '밉다': 2148,\n",
       " '거지': 557,\n",
       " '아깝다': 3284,\n",
       " '부분': 2447,\n",
       " '모양': 1987,\n",
       " '식도': 3134,\n",
       " '이상하다': 3999,\n",
       " '유일하다': 3907,\n",
       " '엄청나다': 3539,\n",
       " '반입': 2203,\n",
       " '몸무게': 2012,\n",
       " '늘어나다': 1251,\n",
       " '드네': 1568,\n",
       " '항상': 5504,\n",
       " '상위': 2763,\n",
       " '고민': 668,\n",
       " '게보린': 603,\n",
       " '들어서다': 1589,\n",
       " '걱정': 561,\n",
       " '인기': 4042,\n",
       " '이기다': 3970,\n",
       " '궁금하다': 818,\n",
       " '핑크색': 5433,\n",
       " '대시': 1413,\n",
       " '뚱뚱하다': 1670,\n",
       " '핑크': 5432,\n",
       " '진심': 4656,\n",
       " '만족스럽다': 1840,\n",
       " '강추': 487,\n",
       " '뭐라다': 2099,\n",
       " '음식': 3943,\n",
       " '적다': 4304,\n",
       " '에너지': 3559,\n",
       " '소비': 2927,\n",
       " '식이': 3145,\n",
       " '날씨': 1112,\n",
       " '코팅': 5028,\n",
       " '동글동글': 1513,\n",
       " '오전': 3697,\n",
       " '먹어주다': 1927,\n",
       " '상당하다': 2753,\n",
       " '넘기다': 1175,\n",
       " '만족하다': 1841,\n",
       " '달콤하다': 1358,\n",
       " '끝맛': 1053,\n",
       " '씁쓸하다': 3272,\n",
       " '남아': 1128,\n",
       " '양치': 3465,\n",
       " '스타일': 3049,\n",
       " '둥글다': 1559,\n",
       " '두께': 1535,\n",
       " '식욕': 3142,\n",
       " '억제': 3515,\n",
       " '위로': 3873,\n",
       " '제의': 4422,\n",
       " '빌리다': 2600,\n",
       " '추후': 4899,\n",
       " '목구멍': 1994,\n",
       " '타고': 5083,\n",
       " '위치': 3884,\n",
       " '후기': 5703,\n",
       " '매다': 1890,\n",
       " '사용': 2679,\n",
       " '좋아하다': 4485,\n",
       " '거부': 546,\n",
       " '복부': 2394,\n",
       " '둘레': 1554,\n",
       " '대신': 1414,\n",
       " '살찌다': 2731,\n",
       " '그거': 840,\n",
       " '하루': 5440,\n",
       " '치킨': 4942,\n",
       " '스테이크': 3054,\n",
       " '걸다': 579,\n",
       " '일주일': 4098,\n",
       " '바라지': 2164,\n",
       " '아침': 3328,\n",
       " '가게': 368,\n",
       " '결과': 620,\n",
       " '두껍다': 1534,\n",
       " '길이': 966,\n",
       " '길다': 964,\n",
       " '어렵다': 3480,\n",
       " '간식': 431,\n",
       " '은근': 3928,\n",
       " '오늘': 3674,\n",
       " '30일': 122,\n",
       " '살빼다': 2722,\n",
       " '어차피': 3508,\n",
       " '상관': 2747,\n",
       " '만족': 1837,\n",
       " '기억': 939,\n",
       " '날다': 1108,\n",
       " '끊다': 1044,\n",
       " '친오빠': 4949,\n",
       " '영업': 3653,\n",
       " '오빠': 3686,\n",
       " '식사': 3138,\n",
       " '따르다': 1608,\n",
       " '녹이다': 1206,\n",
       " '편이': 5302,\n",
       " '끝나다': 1050,\n",
       " '도대체': 1473,\n",
       " '불안하다': 2516,\n",
       " '쟁여두': 4268,\n",
       " '마지막': 1809,\n",
       " '외형': 3772,\n",
       " '살다': 2715,\n",
       " '이유': 4011,\n",
       " '놓다': 1224,\n",
       " '야하다': 3439,\n",
       " '자고': 4141,\n",
       " '헬스': 5569,\n",
       " '보통': 2386,\n",
       " '생활': 2819,\n",
       " '습관': 3086,\n",
       " '그대로': 849,\n",
       " '차이다': 4769,\n",
       " '전체': 4335,\n",
       " '내부': 1152,\n",
       " '용기': 3801,\n",
       " '나머지': 1073,\n",
       " '사강': 2645,\n",
       " '굳이': 809,\n",
       " '필요': 5423,\n",
       " '만들다': 1827,\n",
       " '익숙하다': 4034,\n",
       " '레쉬': 1720,\n",
       " '베리': 2321,\n",
       " '과자': 737,\n",
       " '흡사하다': 5736,\n",
       " '복용': 2397,\n",
       " '중단': 4557,\n",
       " '민감하다': 2136,\n",
       " '피부': 5404,\n",
       " '2일': 111,\n",
       " '얼굴': 3525,\n",
       " '트러블': 5181,\n",
       " '단순하다': 1330,\n",
       " '점점': 4358,\n",
       " '심해지다': 3225,\n",
       " '펴다': 5293,\n",
       " '막히다': 1819,\n",
       " '부드럽다': 2435,\n",
       " '비싸다': 2568,\n",
       " '장점': 4242,\n",
       " '단점': 1337,\n",
       " '꾸리': 1025,\n",
       " '내다': 1147,\n",
       " '통입': 5156,\n",
       " '비다': 2556,\n",
       " '세번': 2889,\n",
       " '꿀템': 1035,\n",
       " '야식': 3435,\n",
       " '상복': 2756,\n",
       " '안해': 3374,\n",
       " '쪼금': 4704,\n",
       " '가능하다': 380,\n",
       " '센치': 2899,\n",
       " '치다': 4932,\n",
       " '구영': 794,\n",
       " '참치': 4789,\n",
       " '뱃살': 2283,\n",
       " '베이비': 2323,\n",
       " '욤뽀': 3797,\n",
       " '강하다': 491,\n",
       " '인공': 4041,\n",
       " '굉장하다': 765,\n",
       " '단맛': 1325,\n",
       " '그게': 841,\n",
       " '거북하다': 548,\n",
       " '두툼': 1549,\n",
       " '똥실똥': 1663,\n",
       " '실하다': 3206,\n",
       " '수월하다': 2987,\n",
       " '일어나다': 4086,\n",
       " '올리다': 3723,\n",
       " '4일': 157,\n",
       " '최대한': 4878,\n",
       " '닿다': 1386,\n",
       " '패키지': 5264,\n",
       " '용량': 3804,\n",
       " '비우다': 2577,\n",
       " '반정': 2205,\n",
       " '진행중': 4667,\n",
       " '10': 9,\n",
       " '킬로': 5079,\n",
       " 'xz': 364,\n",
       " '이틀': 4029,\n",
       " '손발': 2953,\n",
       " '하나로': 5437,\n",
       " '유명하다': 3895,\n",
       " '오픈': 3704,\n",
       " '나르다': 1070,\n",
       " '향기': 5541,\n",
       " '탄수화물': 5108,\n",
       " '기르다': 921,\n",
       " '고기': 656,\n",
       " '위주': 3882,\n",
       " '관리': 745,\n",
       " '겠다': 612,\n",
       " '지난': 4596,\n",
       " '벌써': 2314,\n",
       " '최소': 4880,\n",
       " '여행가': 3602,\n",
       " '안남': 3337,\n",
       " '상태': 2773,\n",
       " '가져가다': 411,\n",
       " '재니': 4248,\n",
       " '귀국': 824,\n",
       " '배송': 2258,\n",
       " '뜯다': 1677,\n",
       " '섭취': 2867,\n",
       " '참고': 4783,\n",
       " '인스타': 4054,\n",
       " '당하다': 1383,\n",
       " '열량': 3635,\n",
       " '형상': 5595,\n",
       " '불리하다': 2508,\n",
       " '불안감': 2515,\n",
       " '아쉽다': 3311,\n",
       " '개선': 510,\n",
       " '어느덧다': 3471,\n",
       " '판단': 5245,\n",
       " '긴가민가하다': 961,\n",
       " '상쾌하다': 2771,\n",
       " '망설이다': 1879,\n",
       " '일부러': 4079,\n",
       " '딸기': 1617,\n",
       " '주로': 4503,\n",
       " '타이밍': 5095,\n",
       " '중요하다': 4563,\n",
       " '수면': 2975,\n",
       " '건가': 563,\n",
       " '착각': 4772,\n",
       " '건지다': 573,\n",
       " '기대': 916,\n",
       " '무섭다': 2045,\n",
       " '강제': 485,\n",
       " '줍다': 4551,\n",
       " '멀다': 1937,\n",
       " '완벽하다': 3742,\n",
       " '느띰': 1246,\n",
       " '열다': 3633,\n",
       " '자취': 4176,\n",
       " '활동': 5668,\n",
       " '워낙': 3845,\n",
       " '형태': 5597,\n",
       " '선호': 2854,\n",
       " '거슬리다': 550,\n",
       " '쏘다': 3247,\n",
       " '콜레': 5032,\n",
       " '주정': 4526,\n",
       " '생리': 2806,\n",
       " '불순': 2512,\n",
       " '휴가': 5723,\n",
       " '다녀오다': 1268,\n",
       " '돌아오다': 1507,\n",
       " '진정': 4660,\n",
       " '의심': 3961,\n",
       " '조심하다': 4453,\n",
       " '특가때': 5193,\n",
       " '일로': 4073,\n",
       " '둘러보다': 1553,\n",
       " '막상': 1816,\n",
       " '옛날': 3670,\n",
       " '이클립스': 4026,\n",
       " '그치다': 863,\n",
       " '제만': 4409,\n",
       " '감안': 468,\n",
       " '기대하다': 918,\n",
       " '다기': 1266,\n",
       " '숨다': 3022,\n",
       " '의존': 3966,\n",
       " '주차': 4530,\n",
       " 'kg': 282,\n",
       " '45': 148,\n",
       " '44': 147,\n",
       " '목표': 2003,\n",
       " '43': 146,\n",
       " '이르다': 3984,\n",
       " '마사': 1791,\n",
       " '주조': 4527,\n",
       " '하용': 5451,\n",
       " '재질': 4257,\n",
       " '식품': 3151,\n",
       " '체감': 4831,\n",
       " '중간': 4552,\n",
       " '친구': 4947,\n",
       " '선물': 2846,\n",
       " '2회': 116,\n",
       " '놓치다': 1226,\n",
       " '속상하다': 2946,\n",
       " '고여': 676,\n",
       " '순간': 3002,\n",
       " '불신': 2513,\n",
       " '끼니': 1057,\n",
       " '맞추다': 1883,\n",
       " '처방': 4806,\n",
       " '약도': 3442,\n",
       " '진짜루': 4662,\n",
       " '주변': 4511,\n",
       " '살빠지다': 2721,\n",
       " '보기': 2361,\n",
       " '종종': 4479,\n",
       " '부다': 2431,\n",
       " '부기': 2429,\n",
       " '조큠': 4456,\n",
       " '역다': 3605,\n",
       " '음미': 3941,\n",
       " '말아쥬새': 1856,\n",
       " '어려움': 3478,\n",
       " '둘째': 1557,\n",
       " '두르다': 1541,\n",
       " '털다': 5129,\n",
       " '매끈하다': 1888,\n",
       " '심리': 3216,\n",
       " '위안': 3878,\n",
       " '시리즈': 3102,\n",
       " '적응': 4310,\n",
       " '한나': 5464,\n",
       " '꼼꼼하다': 1014,\n",
       " '개별': 505,\n",
       " '사서': 2672,\n",
       " '레우스': 1725,\n",
       " '포스': 5321,\n",
       " '콜리': 5040,\n",
       " '성분': 2875,\n",
       " '아시': 3312,\n",
       " '대가': 1387,\n",
       " '합리': 5498,\n",
       " '부작용': 2458,\n",
       " '속도': 2945,\n",
       " '편안하다': 5299,\n",
       " '나이트': 1093,\n",
       " '우리엄마': 3821,\n",
       " '정량': 4371,\n",
       " '포장': 5327,\n",
       " '후용': 5709,\n",
       " '용도': 3803,\n",
       " '제약회사': 4419,\n",
       " '믿음': 2140,\n",
       " '엄마': 3534,\n",
       " '심부름': 3217,\n",
       " '쟁여둡': 4270,\n",
       " '두번쨰': 1545,\n",
       " '안심': 3356,\n",
       " '나쁘다': 1078,\n",
       " '딱하다': 1614,\n",
       " '몇번': 1972,\n",
       " '문제': 2071,\n",
       " '앖어': 3402,\n",
       " '낭비': 1136,\n",
       " '술좀': 3018,\n",
       " '샤워': 2822,\n",
       " '머스트': 1916,\n",
       " '파다': 5224,\n",
       " '잠들다': 4212,\n",
       " '속이다': 2947,\n",
       " '더부룩하다': 1441,\n",
       " '쉽다': 3033,\n",
       " '봉지': 2419,\n",
       " '몇개': 1971,\n",
       " '반신반의': 2201,\n",
       " '식후': 3153,\n",
       " '사두': 2653,\n",
       " '식전': 3148,\n",
       " '심하다': 3223,\n",
       " '힘드다': 5750,\n",
       " '기도': 919,\n",
       " '플라시보': 5391,\n",
       " '자체': 4175,\n",
       " '어워즈': 3497,\n",
       " '한정': 5476,\n",
       " '컨트롤': 5001,\n",
       " '동시': 1521,\n",
       " '예정': 3668,\n",
       " '요요': 3787,\n",
       " '심신': 3218,\n",
       " '안정': 3360,\n",
       " '그닥': 848,\n",
       " '기대다': 917,\n",
       " '대비': 1410,\n",
       " '자네': 4149,\n",
       " '부쩍': 2463,\n",
       " '피곤하다': 5398,\n",
       " '은진': 3934,\n",
       " '쓰리다': 3263,\n",
       " '주일': 4524,\n",
       " '브랜드': 2537,\n",
       " '점도': 4352,\n",
       " '차다': 4753,\n",
       " '충분하다': 4913,\n",
       " '특이하다': 5201,\n",
       " '센티': 2901,\n",
       " '위험': 3886,\n",
       " '위생': 3876,\n",
       " '박스': 2182,\n",
       " '섞이다': 2844,\n",
       " '꺼내다': 995,\n",
       " '긴장': 962,\n",
       " '완화': 3753,\n",
       " '고르다': 663,\n",
       " '실제': 3200,\n",
       " '나른하다': 1071,\n",
       " '신호': 3183,\n",
       " '해결': 5507,\n",
       " '커트': 4995,\n",
       " '튼튼하다': 5206,\n",
       " '세트': 2897,\n",
       " '단기': 1321,\n",
       " '다양하다': 1277,\n",
       " '세다': 2885,\n",
       " '안좋다': 3363,\n",
       " '그야': 861,\n",
       " '그리다': 857,\n",
       " '마나': 1776,\n",
       " '재미': 4250,\n",
       " '인도': 4046,\n",
       " '여러': 3579,\n",
       " '이벤트': 3991,\n",
       " '당첨': 1382,\n",
       " '혜택': 5600,\n",
       " '짱짱맨': 4697,\n",
       " '체험': 4844,\n",
       " '경남': 631,\n",
       " '제약': 4418,\n",
       " '생소하다': 2815,\n",
       " '디저트': 1601,\n",
       " '케이크': 5017,\n",
       " '15일': 46,\n",
       " '새다': 2781,\n",
       " '숙면': 2998,\n",
       " '취하': 4924,\n",
       " '개운하다': 513,\n",
       " '칼로스': 4976,\n",
       " '관련': 744,\n",
       " '왜냐면': 3758,\n",
       " '번거롭다': 2308,\n",
       " '역할': 3610,\n",
       " '과일': 736,\n",
       " '풀리다': 5362,\n",
       " '스트': 3058,\n",
       " '스받거': 3044,\n",
       " '근육': 874,\n",
       " '경직': 636,\n",
       " '딱딱하다': 1611,\n",
       " '로감': 1732,\n",
       " '침대': 4955,\n",
       " '눕다': 1241,\n",
       " '풀어지다': 5363,\n",
       " '처럼': 4804,\n",
       " '그날': 842,\n",
       " '인하다': 4069,\n",
       " '단어': 1333,\n",
       " '풀다': 5361,\n",
       " '양해': 3467,\n",
       " '바라다': 2163,\n",
       " '휴대': 5725,\n",
       " '편입': 5303,\n",
       " '낫다': 1135,\n",
       " '시원하다': 3113,\n",
       " '배변': 2255,\n",
       " '간편': 438,\n",
       " '제격': 4399,\n",
       " '가성': 400,\n",
       " '떨어지다': 1643,\n",
       " '검색': 585,\n",
       " '무난': 2031,\n",
       " '지도': 4603,\n",
       " '염려': 3641,\n",
       " '메리트': 1946,\n",
       " '쓰레기': 3261,\n",
       " '분도': 2475,\n",
       " '외출': 3771,\n",
       " '잦다': 4244,\n",
       " '수량': 2973,\n",
       " '트레스': 5182,\n",
       " '도와주다': 1480,\n",
       " '문구': 2065,\n",
       " '선택': 2853,\n",
       " '코로나': 5023,\n",
       " '보내다': 2362,\n",
       " '움직임': 3842,\n",
       " '적어지다': 4308,\n",
       " '일상': 4081,\n",
       " '잠도': 4211,\n",
       " '못자다': 2023,\n",
       " '지내다': 4600,\n",
       " '분명': 2482,\n",
       " '인상': 4049,\n",
       " '찌푸리다': 4738,\n",
       " '맡다': 1885,\n",
       " '15': 42,\n",
       " '담기다': 1360,\n",
       " '발생': 2216,\n",
       " '웬만하다': 3871,\n",
       " '솔솔': 2963,\n",
       " '빡세': 2609,\n",
       " '부르다': 2443,\n",
       " '보이다': 2377,\n",
       " '내기': 1144,\n",
       " '시도': 3098,\n",
       " '미개': 2105,\n",
       " '잠자다': 4213,\n",
       " '타입': 5097,\n",
       " '세리': 2888,\n",
       " '여기다': 3576,\n",
       " '바꾸다': 2157,\n",
       " '고약하다': 675,\n",
       " '효소': 5698,\n",
       " '빨르다': 2617,\n",
       " '두번째': 1543,\n",
       " '날때': 1109,\n",
       " '늦다': 1255,\n",
       " '2000': 73,\n",
       " '포인트': 5325,\n",
       " '보상': 2372,\n",
       " '월요일': 3865,\n",
       " '애용': 3420,\n",
       " '택배': 5119,\n",
       " '빠르다': 2603,\n",
       " '소식': 2933,\n",
       " '초반': 4855,\n",
       " '요새': 3784,\n",
       " '기붘탓': 932,\n",
       " '종류': 4472,\n",
       " '온대': 3710,\n",
       " '햇움': 5530,\n",
       " '작년': 4178,\n",
       " '전용': 4330,\n",
       " '가늠': 377,\n",
       " '손톱': 2959,\n",
       " '찍다': 4740,\n",
       " 'cm': 241,\n",
       " '남짓하다': 1132,\n",
       " '색깔': 2789,\n",
       " '달라': 1344,\n",
       " '약하다': 3449,\n",
       " '신분': 3170,\n",
       " '띄다': 1681,\n",
       " '개인': 517,\n",
       " '읽다': 4105,\n",
       " '사용자': 2680,\n",
       " '드림': 1575,\n",
       " '서비스': 2832,\n",
       " '도착': 1486,\n",
       " '쿠폰': 5055,\n",
       " '동봉': 1519,\n",
       " '감사': 464,\n",
       " '칼로컷트': 4977,\n",
       " '순식간': 3008,\n",
       " '상관없다': 2748,\n",
       " '당분간': 1377,\n",
       " '별다르다': 2341,\n",
       " '이름': 3985,\n",
       " '어서': 3491,\n",
       " '필요하다': 5427,\n",
       " '미리': 2119,\n",
       " '트레이': 5183,\n",
       " '어도': 3474,\n",
       " '깔끔하다': 983,\n",
       " '파우치': 5234,\n",
       " '꼬박꼬박': 1007,\n",
       " '기전': 949,\n",
       " '사르다': 2663,\n",
       " '풀향': 5364,\n",
       " '진하다': 4664,\n",
       " '좀더': 4468,\n",
       " '아예': 3318,\n",
       " '씻다': 3281,\n",
       " '준비': 4538,\n",
       " '잡다': 4217,\n",
       " '분지': 2487,\n",
       " '출산': 4904,\n",
       " '불어': 2517,\n",
       " '감당': 460,\n",
       " '돌보다': 1503,\n",
       " '충분': 4912,\n",
       " '신청': 3180,\n",
       " '육아': 3921,\n",
       " '스투레스': 3057,\n",
       " '지난날': 4597,\n",
       " '반성': 2200,\n",
       " '기회': 959,\n",
       " '제대로': 4403,\n",
       " '저녁식사': 4284,\n",
       " '포안': 5323,\n",
       " '피쉬': 5405,\n",
       " '콜라겐': 5030,\n",
       " '부차': 2464,\n",
       " '대추': 1425,\n",
       " '세븐': 2890,\n",
       " '테아닌': 5137,\n",
       " '쭉쭉': 4730,\n",
       " '깨다': 990,\n",
       " '횟수': 5686,\n",
       " '줄다': 4543,\n",
       " '유무': 3896,\n",
       " '스뜨레': 3038,\n",
       " '설잠': 2859,\n",
       " '없어지다': 3547,\n",
       " '쪽쪽': 4708,\n",
       " '컨디션': 5000,\n",
       " '커피': 4997,\n",
       " '녹차': 1208,\n",
       " '홍차': 5629,\n",
       " '카페인': 4971,\n",
       " '섭쥐': 2866,\n",
       " '피하': 5411,\n",
       " '불규칙하다': 2503,\n",
       " '식약처': 3141,\n",
       " '인증': 4060,\n",
       " '건강': 564,\n",
       " '기능': 911,\n",
       " '행시': 5539,\n",
       " '노랑': 1191,\n",
       " '갈색': 451,\n",
       " '대략': 1397,\n",
       " '다행하다': 1315,\n",
       " '새벽': 2783,\n",
       " '절대': 4341,\n",
       " '라면': 1687,\n",
       " '김밥': 969,\n",
       " '소시지': 2932,\n",
       " '스탑': 3053,\n",
       " '드네용': 1569,\n",
       " '보라색': 2366,\n",
       " '여유': 3589,\n",
       " '노노': 1188,\n",
       " '꿀떡': 1032,\n",
       " '살수': 2724,\n",
       " '회사': 5680,\n",
       " '두기': 1533,\n",
       " '유통': 3910,\n",
       " '기한': 956,\n",
       " '24년': 98,\n",
       " '넉넉하다': 1171,\n",
       " '고동색': 659,\n",
       " '마르다': 1784,\n",
       " '분량': 2477,\n",
       " '차원': 4765,\n",
       " '로나': 1733,\n",
       " '이크': 4025,\n",
       " '케어': 5015,\n",
       " '전이': 4331,\n",
       " '분포': 2490,\n",
       " '먼저': 1936,\n",
       " '부글거려': 2426,\n",
       " '부글거렸어': 2428,\n",
       " '부원': 2454,\n",
       " '확인': 5652,\n",
       " '푸룬': 5351,\n",
       " '부글': 2425,\n",
       " '거리': 541,\n",
       " '후회되다': 5713,\n",
       " '이어지다': 4005,\n",
       " '실망': 3193,\n",
       " '나아지다': 1084,\n",
       " '좁쌀': 4470,\n",
       " '커녕': 4988,\n",
       " '여럿': 3581,\n",
       " '재료': 4249,\n",
       " '나름': 1072,\n",
       " '권유': 821,\n",
       " '돕다': 1509,\n",
       " '포함': 5335,\n",
       " '경험': 639,\n",
       " '원활하다': 3858,\n",
       " '독특하다': 1492,\n",
       " '주사': 4513,\n",
       " '알콜': 3398,\n",
       " '방구': 2228,\n",
       " '약해지다': 3450,\n",
       " '최강': 4873,\n",
       " '끼다': 1058,\n",
       " '뺏다': 2626,\n",
       " '규칙': 835,\n",
       " '더뉴저': 1437,\n",
       " '최근': 4876,\n",
       " '았엇어': 3405,\n",
       " '특징': 5203,\n",
       " '함유': 5494,\n",
       " '지방': 4609,\n",
       " '체내': 4833,\n",
       " '보가': 2358,\n",
       " '구성': 786,\n",
       " '양도': 3455,\n",
       " '무지': 2052,\n",
       " '잘나오다': 4198,\n",
       " '쉽사리': 3034,\n",
       " '신제품': 3176,\n",
       " '다욧트': 1286,\n",
       " '릴렉싱되': 1771,\n",
       " '푹잔': 5359,\n",
       " '30분': 121,\n",
       " '어제': 3500,\n",
       " '정확하다': 4395,\n",
       " '꿀잠': 1034,\n",
       " 'nl': 304,\n",
       " '포만': 5318,\n",
       " '꼬린내': 1003,\n",
       " '낮추다': 1140,\n",
       " '12': 24,\n",
       " '남기다': 1119,\n",
       " '입증': 4127,\n",
       " '신경': 3154,\n",
       " '안정화': 3362,\n",
       " '깊이': 975,\n",
       " '여러가지': 3580,\n",
       " '로커': 1745,\n",
       " '호기심': 5602,\n",
       " '전문': 4324,\n",
       " '현재': 5584,\n",
       " '슬라이드': 3074,\n",
       " '진보면': 4654,\n",
       " '개중': 520,\n",
       " '가루': 389,\n",
       " '꿀꺽': 1031,\n",
       " '건강하다': 566,\n",
       " '주지': 4529,\n",
       " '정착': 4389,\n",
       " '콜레올로': 5036,\n",
       " '주문': 4509,\n",
       " '키트': 5078,\n",
       " '바디': 2162,\n",
       " '추출': 4896,\n",
       " '동일': 1522,\n",
       " '함량': 5491,\n",
       " '착하다': 4776,\n",
       " '식이요법': 3147,\n",
       " '메인': 1953,\n",
       " '영양': 3648,\n",
       " '제로': 4406,\n",
       " '온라인': 3712,\n",
       " '오프라인': 3703,\n",
       " '매정': 1897,\n",
       " '취침': 4923,\n",
       " '최신': 4882,\n",
       " '용법': 3805,\n",
       " '대부분': 1409,\n",
       " '위장': 3880,\n",
       " '장애': 4237,\n",
       " '시너지': 3095,\n",
       " '출장': 4906,\n",
       " '매장': 1896,\n",
       " '클리어': 5070,\n",
       " '런스': 1708,\n",
       " '직후': 4649,\n",
       " '예민하다': 3661,\n",
       " '어리다': 3482,\n",
       " '애정': 3421,\n",
       " '근래': 871,\n",
       " '우후죽순': 3832,\n",
       " '드러나다': 1574,\n",
       " '평일': 5312,\n",
       " '나가다': 1063,\n",
       " '경우': 634,\n",
       " '특별하다': 5197,\n",
       " '지키다': 4629,\n",
       " '시간대': 3090,\n",
       " '일반': 4076,\n",
       " '한지': 5478,\n",
       " '개월': 514,\n",
       " '발현': 2219,\n",
       " '유사성': 3900,\n",
       " '2년': 105,\n",
       " '만나다': 1820,\n",
       " '검지': 590,\n",
       " '별문제': 2345,\n",
       " '둔감하다': 1550,\n",
       " '알맹이': 3387,\n",
       " '미식': 2128,\n",
       " '기존': 951,\n",
       " '급하다': 905,\n",
       " '내심': 1155,\n",
       " '동일하다': 1523,\n",
       " '담다': 1362,\n",
       " '최대': 4877,\n",
       " '찌뿌둥': 4737,\n",
       " ...}"
      ]
     },
     "execution_count": 38,
     "metadata": {},
     "output_type": "execute_result"
    }
   ],
   "source": [
    "countVectorizer.vocabulary_  #텍스트 데이터를 벡터화  #단어-인덱스 매핑\n",
    "# 특정 단어가 벡터의 어떤 위치에 해당하는지를 파악하는 데 도움"
   ]
  },
  {
   "cell_type": "code",
   "execution_count": 39,
   "id": "13a1fa4a-20fe-4e2a-8f28-3a87bb8dee87",
   "metadata": {
    "tags": []
   },
   "outputs": [
    {
     "data": {
      "image/png": "[encoded data removed]",
      "text/plain": [
       "<Figure size 640x480 with 1 Axes>"
      ]
     },
     "metadata": {},
     "output_type": "display_data"
    }
   ],
   "source": [
    "import matplotlib.pyplot as plt\n",
    "plt.imshow(wordCloud)\n",
    "plt.axis('off') \n",
    "plt.show()"
   ]
  },
  {
   "cell_type": "code",
   "execution_count": 40,
   "id": "bf4ee249-7c90-4c69-917a-ccd19c3d45fb",
   "metadata": {
    "tags": []
   },
   "outputs": [],
   "source": [
    "import seaborn as sns\n",
    "import matplotlib.pyplot as plt\n",
    "\n",
    "\n",
    "## 막대그래프 그리기 "
   ]
  },
  {
   "cell_type": "markdown",
   "id": "5c632990-4ebb-43ee-a0b0-6345c129a725",
   "metadata": {
    "tags": []
   },
   "source": [
    "### 유사어 대치 "
   ]
  },
  {
   "cell_type": "code",
   "execution_count": 41,
   "id": "27b3ef03-38b8-47dd-b027-58acc6fd0935",
   "metadata": {
    "tags": []
   },
   "outputs": [
    {
     "data": {
      "text/html": [
       "<div>\n",
       "<style scoped>\n",
       "    .dataframe tbody tr th:only-of-type {\n",
       "        vertical-align: middle;\n",
       "    }\n",
       "\n",
       "    .dataframe tbody tr th {\n",
       "        vertical-align: top;\n",
       "    }\n",
       "\n",
       "    .dataframe thead th {\n",
       "        text-align: right;\n",
       "    }\n",
       "</style>\n",
       "<table border=\"1\" class=\"dataframe\">\n",
       "  <thead>\n",
       "    <tr style=\"text-align: right;\">\n",
       "      <th></th>\n",
       "      <th>before_replacement</th>\n",
       "      <th>after_replacement</th>\n",
       "    </tr>\n",
       "  </thead>\n",
       "  <tbody>\n",
       "    <tr>\n",
       "      <th>0</th>\n",
       "      <td>diet</td>\n",
       "      <td>다이어트</td>\n",
       "    </tr>\n",
       "    <tr>\n",
       "      <th>1</th>\n",
       "      <td>diet템</td>\n",
       "      <td>다이어트 제품</td>\n",
       "    </tr>\n",
       "    <tr>\n",
       "      <th>2</th>\n",
       "      <td>다욧트</td>\n",
       "      <td>다이어트</td>\n",
       "    </tr>\n",
       "  </tbody>\n",
       "</table>\n",
       "</div>"
      ],
      "text/plain": [
       "  before_replacement after_replacement\n",
       "0              diet              다이어트 \n",
       "1              diet템           다이어트 제품\n",
       "2                다욧트             다이어트 "
      ]
     },
     "execution_count": 41,
     "metadata": {},
     "output_type": "execute_result"
    }
   ],
   "source": [
    "df_replace_list = pd.read_csv('../datasets/replace_list.csv')\n",
    "df_replace_list[:3]"
   ]
  },
  {
   "cell_type": "code",
   "execution_count": 42,
   "id": "28dbd10a-b01f-40a2-8688-a20b906990ea",
   "metadata": {},
   "outputs": [],
   "source": [
    "def replace_word(tokenized_review):\n",
    "    replaced_review = str()\n",
    "    for i in range(len(df_replace_list['before_replacement'])):\n",
    "        try:\n",
    "          # 치환할 단어가 있는 경우에만 데이터 치환 수행\n",
    "          if df_replace_list['before_replacement'][i] in tokenized_review:\n",
    "            tokenized_review = tokenized_review.replace(df_replace_list['before_replacement'][i], df_replace_list['after_replacement'][i])\n",
    "        except Exception as e:\n",
    "            print(f\"Error 발생 / 에러명: {e}\")\n",
    "    return tokenized_review"
   ]
  },
  {
   "cell_type": "code",
   "execution_count": 43,
   "id": "17ea81eb-2252-4311-9842-a62228e491e6",
   "metadata": {
    "tags": []
   },
   "outputs": [
    {
     "data": {
      "text/plain": [
       "'어트 스트레스 체중 빼다 복숭아 달달하다 달달하다'"
      ]
     },
     "execution_count": 43,
     "metadata": {},
     "output_type": "execute_result"
    }
   ],
   "source": [
    "## 확인용 \n",
    "replace_word('어트 stess 살이 빠지다 피치 달달 단맛')"
   ]
  },
  {
   "cell_type": "code",
   "execution_count": 44,
   "id": "733f6f56-ef4c-4fd0-bcdd-03524aefb267",
   "metadata": {
    "tags": []
   },
   "outputs": [
    {
     "name": "stderr",
     "output_type": "stream",
     "text": [
      "C:\\Users\\02-19\\AppData\\Local\\Temp\\ipykernel_11132\\365916842.py:1: SettingWithCopyWarning: \n",
      "A value is trying to be set on a copy of a slice from a DataFrame.\n",
      "Try using .loc[row_indexer,col_indexer] = value instead\n",
      "\n",
      "See the caveats in the documentation: https://pandas.pydata.org/pandas-docs/stable/user_guide/indexing.html#returning-a-view-versus-a-copy\n",
      "  df_dropna['replaced_review'] = df_dropna['tokenized_review'].apply(replace_word)\n"
     ]
    },
    {
     "data": {
      "text/html": [
       "<div>\n",
       "<style scoped>\n",
       "    .dataframe tbody tr th:only-of-type {\n",
       "        vertical-align: middle;\n",
       "    }\n",
       "\n",
       "    .dataframe tbody tr th {\n",
       "        vertical-align: top;\n",
       "    }\n",
       "\n",
       "    .dataframe thead th {\n",
       "        text-align: right;\n",
       "    }\n",
       "</style>\n",
       "<table border=\"1\" class=\"dataframe\">\n",
       "  <thead>\n",
       "    <tr style=\"text-align: right;\">\n",
       "      <th></th>\n",
       "      <th>Unnamed: 0</th>\n",
       "      <th>product_name</th>\n",
       "      <th>review_name</th>\n",
       "      <th>review_content</th>\n",
       "      <th>review_date</th>\n",
       "      <th>review_rating</th>\n",
       "      <th>rating</th>\n",
       "      <th>tokenized_review</th>\n",
       "      <th>replaced_review</th>\n",
       "    </tr>\n",
       "  </thead>\n",
       "  <tbody>\n",
       "    <tr>\n",
       "      <th>0</th>\n",
       "      <td>0</td>\n",
       "      <td>[주현영, 이나연 찐템]딥트 3일 피치(맛)번 30정 (30일분)</td>\n",
       "      <td>보리오빠</td>\n",
       "      <td>없으면 안될 최고의 diet템! 피치번을 추천합니당 ㅎㅎ 사진엔 없지만 4통째 먹고...</td>\n",
       "      <td>2023.08.27</td>\n",
       "      <td>5점만점에 5점</td>\n",
       "      <td>5.0</td>\n",
       "      <td>최고 diet 템 피치 추천 사진 통째 찌다 필수 템 버리다 제품 광고 구매 효과 ...</td>\n",
       "      <td>최고 다이어트 제품 복숭아 추천 사진 통째 늘어나다 필수 제품 버리다 제품 광고 구...</td>\n",
       "    </tr>\n",
       "    <tr>\n",
       "      <th>1</th>\n",
       "      <td>1</td>\n",
       "      <td>[주현영, 이나연 찐템]딥트 3일 피치(맛)번 30정 (30일분)</td>\n",
       "      <td>바보바니</td>\n",
       "      <td>알약 통통이하트 넘예뻐요. 자기전 먹고 효과있으면 얼마나 좋을까요 ㅜㅜ 나이들수록 ...</td>\n",
       "      <td>2023.09.14</td>\n",
       "      <td>5점만점에 5점</td>\n",
       "      <td>5.0</td>\n",
       "      <td>알약 통통이 하트 예쁘다 효과 좋다 나이 빠지다 배 쌓이네 엉엉 딥트 종류셋트 묶이...</td>\n",
       "      <td>알약 통통이 좋다예쁘다 효과 좋다 나이 빼다 배 쌓이네 눈물 딥트 종류셋트 묶이다 ...</td>\n",
       "    </tr>\n",
       "  </tbody>\n",
       "</table>\n",
       "</div>"
      ],
      "text/plain": [
       "   Unnamed: 0                          product_name review_name  \\\n",
       "0           0  [주현영, 이나연 찐템]딥트 3일 피치(맛)번 30정 (30일분)        보리오빠   \n",
       "1           1  [주현영, 이나연 찐템]딥트 3일 피치(맛)번 30정 (30일분)        바보바니   \n",
       "\n",
       "                                      review_content review_date  \\\n",
       "0  없으면 안될 최고의 diet템! 피치번을 추천합니당 ㅎㅎ 사진엔 없지만 4통째 먹고...  2023.08.27   \n",
       "1  알약 통통이하트 넘예뻐요. 자기전 먹고 효과있으면 얼마나 좋을까요 ㅜㅜ 나이들수록 ...  2023.09.14   \n",
       "\n",
       "  review_rating  rating                                   tokenized_review  \\\n",
       "0      5점만점에 5점     5.0  최고 diet 템 피치 추천 사진 통째 찌다 필수 템 버리다 제품 광고 구매 효과 ...   \n",
       "1      5점만점에 5점     5.0  알약 통통이 하트 예쁘다 효과 좋다 나이 빠지다 배 쌓이네 엉엉 딥트 종류셋트 묶이...   \n",
       "\n",
       "                                     replaced_review  \n",
       "0  최고 다이어트 제품 복숭아 추천 사진 통째 늘어나다 필수 제품 버리다 제품 광고 구...  \n",
       "1  알약 통통이 좋다예쁘다 효과 좋다 나이 빼다 배 쌓이네 눈물 딥트 종류셋트 묶이다 ...  "
      ]
     },
     "execution_count": 44,
     "metadata": {},
     "output_type": "execute_result"
    }
   ],
   "source": [
    "df_dropna['replaced_review'] = df_dropna['tokenized_review'].apply(replace_word)\n",
    "df_dropna[:2]"
   ]
  },
  {
   "cell_type": "markdown",
   "id": "b66953ba-1a11-4cbb-b630-1222fbbdbb57",
   "metadata": {
    "tags": []
   },
   "source": [
    "## 긍/부정 댓글 분리 "
   ]
  },
  {
   "cell_type": "code",
   "execution_count": 45,
   "id": "2f005734-4e5b-4c46-8c2f-55e5f005346c",
   "metadata": {
    "tags": []
   },
   "outputs": [
    {
     "name": "stderr",
     "output_type": "stream",
     "text": [
      "C:\\Users\\02-19\\AppData\\Local\\Temp\\ipykernel_11132\\2451109038.py:2: SettingWithCopyWarning: \n",
      "A value is trying to be set on a copy of a slice from a DataFrame.\n",
      "Try using .loc[row_indexer,col_indexer] = value instead\n",
      "\n",
      "See the caveats in the documentation: https://pandas.pydata.org/pandas-docs/stable/user_guide/indexing.html#returning-a-view-versus-a-copy\n",
      "  df_dropna['rating'] = df_dropna['review_rating'].str.extract(r'(\\s\\d(?=점))|(\\d.\\d)').apply(lambda x: ''.join(x.dropna()), axis=1)\n"
     ]
    },
    {
     "data": {
      "text/html": [
       "<div>\n",
       "<style scoped>\n",
       "    .dataframe tbody tr th:only-of-type {\n",
       "        vertical-align: middle;\n",
       "    }\n",
       "\n",
       "    .dataframe tbody tr th {\n",
       "        vertical-align: top;\n",
       "    }\n",
       "\n",
       "    .dataframe thead th {\n",
       "        text-align: right;\n",
       "    }\n",
       "</style>\n",
       "<table border=\"1\" class=\"dataframe\">\n",
       "  <thead>\n",
       "    <tr style=\"text-align: right;\">\n",
       "      <th></th>\n",
       "      <th>Unnamed: 0</th>\n",
       "      <th>product_name</th>\n",
       "      <th>review_name</th>\n",
       "      <th>review_content</th>\n",
       "      <th>review_date</th>\n",
       "      <th>review_rating</th>\n",
       "      <th>rating</th>\n",
       "      <th>tokenized_review</th>\n",
       "      <th>replaced_review</th>\n",
       "    </tr>\n",
       "  </thead>\n",
       "  <tbody>\n",
       "    <tr>\n",
       "      <th>0</th>\n",
       "      <td>0</td>\n",
       "      <td>[주현영, 이나연 찐템]딥트 3일 피치(맛)번 30정 (30일분)</td>\n",
       "      <td>보리오빠</td>\n",
       "      <td>없으면 안될 최고의 diet템! 피치번을 추천합니당 ㅎㅎ 사진엔 없지만 4통째 먹고...</td>\n",
       "      <td>2023.08.27</td>\n",
       "      <td>5점만점에 5점</td>\n",
       "      <td>5</td>\n",
       "      <td>최고 diet 템 피치 추천 사진 통째 찌다 필수 템 버리다 제품 광고 구매 효과 ...</td>\n",
       "      <td>최고 다이어트 제품 복숭아 추천 사진 통째 늘어나다 필수 제품 버리다 제품 광고 구...</td>\n",
       "    </tr>\n",
       "    <tr>\n",
       "      <th>1</th>\n",
       "      <td>1</td>\n",
       "      <td>[주현영, 이나연 찐템]딥트 3일 피치(맛)번 30정 (30일분)</td>\n",
       "      <td>바보바니</td>\n",
       "      <td>알약 통통이하트 넘예뻐요. 자기전 먹고 효과있으면 얼마나 좋을까요 ㅜㅜ 나이들수록 ...</td>\n",
       "      <td>2023.09.14</td>\n",
       "      <td>5점만점에 5점</td>\n",
       "      <td>5</td>\n",
       "      <td>알약 통통이 하트 예쁘다 효과 좋다 나이 빠지다 배 쌓이네 엉엉 딥트 종류셋트 묶이...</td>\n",
       "      <td>알약 통통이 좋다예쁘다 효과 좋다 나이 빼다 배 쌓이네 눈물 딥트 종류셋트 묶이다 ...</td>\n",
       "    </tr>\n",
       "  </tbody>\n",
       "</table>\n",
       "</div>"
      ],
      "text/plain": [
       "   Unnamed: 0                          product_name review_name  \\\n",
       "0           0  [주현영, 이나연 찐템]딥트 3일 피치(맛)번 30정 (30일분)        보리오빠   \n",
       "1           1  [주현영, 이나연 찐템]딥트 3일 피치(맛)번 30정 (30일분)        바보바니   \n",
       "\n",
       "                                      review_content review_date  \\\n",
       "0  없으면 안될 최고의 diet템! 피치번을 추천합니당 ㅎㅎ 사진엔 없지만 4통째 먹고...  2023.08.27   \n",
       "1  알약 통통이하트 넘예뻐요. 자기전 먹고 효과있으면 얼마나 좋을까요 ㅜㅜ 나이들수록 ...  2023.09.14   \n",
       "\n",
       "  review_rating rating                                   tokenized_review  \\\n",
       "0      5점만점에 5점      5  최고 diet 템 피치 추천 사진 통째 찌다 필수 템 버리다 제품 광고 구매 효과 ...   \n",
       "1      5점만점에 5점      5  알약 통통이 하트 예쁘다 효과 좋다 나이 빠지다 배 쌓이네 엉엉 딥트 종류셋트 묶이...   \n",
       "\n",
       "                                     replaced_review  \n",
       "0  최고 다이어트 제품 복숭아 추천 사진 통째 늘어나다 필수 제품 버리다 제품 광고 구...  \n",
       "1  알약 통통이 좋다예쁘다 효과 좋다 나이 빼다 배 쌓이네 눈물 딥트 종류셋트 묶이다 ...  "
      ]
     },
     "execution_count": 45,
     "metadata": {},
     "output_type": "execute_result"
    }
   ],
   "source": [
    "import re\n",
    "df_dropna['rating'] = df_dropna['review_rating'].str.extract(r'(\\s\\d(?=점))|(\\d.\\d)').apply(lambda x: ''.join(x.dropna()), axis=1)\n",
    "df_dropna[:2]"
   ]
  },
  {
   "cell_type": "code",
   "execution_count": 47,
   "id": "608ce0f2-a3d4-4c52-9153-b09e68d35ae5",
   "metadata": {
    "tags": []
   },
   "outputs": [
    {
     "name": "stderr",
     "output_type": "stream",
     "text": [
      "C:\\Users\\02-19\\AppData\\Local\\Temp\\ipykernel_11132\\2779142316.py:2: SettingWithCopyWarning: \n",
      "A value is trying to be set on a copy of a slice from a DataFrame.\n",
      "Try using .loc[row_indexer,col_indexer] = value instead\n",
      "\n",
      "See the caveats in the documentation: https://pandas.pydata.org/pandas-docs/stable/user_guide/indexing.html#returning-a-view-versus-a-copy\n",
      "  df_dropna['rating'] = pd.to_numeric(df_dropna['rating'])\n"
     ]
    }
   ],
   "source": [
    "##  'rating' 열을 숫자로 변환\n",
    "df_dropna['rating'] = pd.to_numeric(df_dropna['rating'])"
   ]
  },
  {
   "cell_type": "code",
   "execution_count": 49,
   "id": "c67015e6-3e14-4ed0-a202-aa4a6c0d605b",
   "metadata": {
    "tags": []
   },
   "outputs": [],
   "source": [
    "condition_positive =  df_dropna['rating'] >= 4 # 긍정\n",
    "condition_negative = df_dropna['rating'] < 3  # 부정"
   ]
  },
  {
   "cell_type": "code",
   "execution_count": 50,
   "id": "8bab1ebf-83b8-426c-9a49-7ab147306805",
   "metadata": {
    "tags": []
   },
   "outputs": [],
   "source": [
    "df_review_positive = df_dropna[condition_positive]\n",
    "df_review_negative= df_dropna[condition_negative]"
   ]
  },
  {
   "cell_type": "code",
   "execution_count": 51,
   "id": "51604fac-a514-4c24-898a-a2ac585a9aeb",
   "metadata": {
    "tags": []
   },
   "outputs": [
    {
     "data": {
      "text/html": [
       "<div>\n",
       "<style scoped>\n",
       "    .dataframe tbody tr th:only-of-type {\n",
       "        vertical-align: middle;\n",
       "    }\n",
       "\n",
       "    .dataframe tbody tr th {\n",
       "        vertical-align: top;\n",
       "    }\n",
       "\n",
       "    .dataframe thead th {\n",
       "        text-align: right;\n",
       "    }\n",
       "</style>\n",
       "<table border=\"1\" class=\"dataframe\">\n",
       "  <thead>\n",
       "    <tr style=\"text-align: right;\">\n",
       "      <th></th>\n",
       "      <th>Unnamed: 0</th>\n",
       "      <th>product_name</th>\n",
       "      <th>review_name</th>\n",
       "      <th>review_content</th>\n",
       "      <th>review_date</th>\n",
       "      <th>review_rating</th>\n",
       "      <th>rating</th>\n",
       "      <th>tokenized_review</th>\n",
       "      <th>replaced_review</th>\n",
       "    </tr>\n",
       "  </thead>\n",
       "  <tbody>\n",
       "    <tr>\n",
       "      <th>0</th>\n",
       "      <td>0</td>\n",
       "      <td>[주현영, 이나연 찐템]딥트 3일 피치(맛)번 30정 (30일분)</td>\n",
       "      <td>보리오빠</td>\n",
       "      <td>없으면 안될 최고의 diet템! 피치번을 추천합니당 ㅎㅎ 사진엔 없지만 4통째 먹고...</td>\n",
       "      <td>2023.08.27</td>\n",
       "      <td>5점만점에 5점</td>\n",
       "      <td>5.0</td>\n",
       "      <td>최고 diet 템 피치 추천 사진 통째 찌다 필수 템 버리다 제품 광고 구매 효과 ...</td>\n",
       "      <td>최고 다이어트 제품 복숭아 추천 사진 통째 늘어나다 필수 제품 버리다 제품 광고 구...</td>\n",
       "    </tr>\n",
       "    <tr>\n",
       "      <th>1</th>\n",
       "      <td>1</td>\n",
       "      <td>[주현영, 이나연 찐템]딥트 3일 피치(맛)번 30정 (30일분)</td>\n",
       "      <td>바보바니</td>\n",
       "      <td>알약 통통이하트 넘예뻐요. 자기전 먹고 효과있으면 얼마나 좋을까요 ㅜㅜ 나이들수록 ...</td>\n",
       "      <td>2023.09.14</td>\n",
       "      <td>5점만점에 5점</td>\n",
       "      <td>5.0</td>\n",
       "      <td>알약 통통이 하트 예쁘다 효과 좋다 나이 빠지다 배 쌓이네 엉엉 딥트 종류셋트 묶이...</td>\n",
       "      <td>알약 통통이 좋다예쁘다 효과 좋다 나이 빼다 배 쌓이네 눈물 딥트 종류셋트 묶이다 ...</td>\n",
       "    </tr>\n",
       "  </tbody>\n",
       "</table>\n",
       "</div>"
      ],
      "text/plain": [
       "   Unnamed: 0                          product_name review_name  \\\n",
       "0           0  [주현영, 이나연 찐템]딥트 3일 피치(맛)번 30정 (30일분)        보리오빠   \n",
       "1           1  [주현영, 이나연 찐템]딥트 3일 피치(맛)번 30정 (30일분)        바보바니   \n",
       "\n",
       "                                      review_content review_date  \\\n",
       "0  없으면 안될 최고의 diet템! 피치번을 추천합니당 ㅎㅎ 사진엔 없지만 4통째 먹고...  2023.08.27   \n",
       "1  알약 통통이하트 넘예뻐요. 자기전 먹고 효과있으면 얼마나 좋을까요 ㅜㅜ 나이들수록 ...  2023.09.14   \n",
       "\n",
       "  review_rating  rating                                   tokenized_review  \\\n",
       "0      5점만점에 5점     5.0  최고 diet 템 피치 추천 사진 통째 찌다 필수 템 버리다 제품 광고 구매 효과 ...   \n",
       "1      5점만점에 5점     5.0  알약 통통이 하트 예쁘다 효과 좋다 나이 빠지다 배 쌓이네 엉엉 딥트 종류셋트 묶이...   \n",
       "\n",
       "                                     replaced_review  \n",
       "0  최고 다이어트 제품 복숭아 추천 사진 통째 늘어나다 필수 제품 버리다 제품 광고 구...  \n",
       "1  알약 통통이 좋다예쁘다 효과 좋다 나이 빼다 배 쌓이네 눈물 딥트 종류셋트 묶이다 ...  "
      ]
     },
     "execution_count": 51,
     "metadata": {},
     "output_type": "execute_result"
    }
   ],
   "source": [
    "df_review_positive[:2]"
   ]
  },
  {
   "cell_type": "code",
   "execution_count": 52,
   "id": "77bdda8f-393b-4e8e-896b-6f0009e84153",
   "metadata": {
    "tags": []
   },
   "outputs": [
    {
     "data": {
      "text/html": [
       "<div>\n",
       "<style scoped>\n",
       "    .dataframe tbody tr th:only-of-type {\n",
       "        vertical-align: middle;\n",
       "    }\n",
       "\n",
       "    .dataframe tbody tr th {\n",
       "        vertical-align: top;\n",
       "    }\n",
       "\n",
       "    .dataframe thead th {\n",
       "        text-align: right;\n",
       "    }\n",
       "</style>\n",
       "<table border=\"1\" class=\"dataframe\">\n",
       "  <thead>\n",
       "    <tr style=\"text-align: right;\">\n",
       "      <th></th>\n",
       "      <th>Unnamed: 0</th>\n",
       "      <th>product_name</th>\n",
       "      <th>review_name</th>\n",
       "      <th>review_content</th>\n",
       "      <th>review_date</th>\n",
       "      <th>review_rating</th>\n",
       "      <th>rating</th>\n",
       "      <th>tokenized_review</th>\n",
       "      <th>replaced_review</th>\n",
       "    </tr>\n",
       "  </thead>\n",
       "  <tbody>\n",
       "    <tr>\n",
       "      <th>48</th>\n",
       "      <td>48</td>\n",
       "      <td>[주현영, 이나연 찐템]딥트 3일 피치(맛)번 30정 (30일분)</td>\n",
       "      <td>byeol****</td>\n",
       "      <td>솔직히 효과 1도 없는 것 같아요! 알약으로 살뺄 수 있다는게 말이 안되는데 혹해서...</td>\n",
       "      <td>2023.09.16</td>\n",
       "      <td>5점만점에 1점</td>\n",
       "      <td>1.0</td>\n",
       "      <td>효과 알약 살빼다 버리다 돈 아깝다</td>\n",
       "      <td>효과 알약 살빼다 버리다 돈 아깝다</td>\n",
       "    </tr>\n",
       "    <tr>\n",
       "      <th>58</th>\n",
       "      <td>58</td>\n",
       "      <td>[주현영, 이나연 찐템]딥트 3일 피치(맛)번 30정 (30일분)</td>\n",
       "      <td>러블리윤</td>\n",
       "      <td>음.. 저는 일주일정도 복용하다가 중단이에요\\n\\n민감한 피부를 가지고 있어서 그런...</td>\n",
       "      <td>2023.08.06</td>\n",
       "      <td>5점만점에 2점</td>\n",
       "      <td>2.0</td>\n",
       "      <td>일주일 복용 중단 민감하다 피부 2일 지나다 얼굴 트러블 올라오다 시작 단순하다 점...</td>\n",
       "      <td>일주일 복용 중단 민감하다 피부 2일 지나다 얼굴 트러블 올라오다 시작 단순하다 점...</td>\n",
       "    </tr>\n",
       "  </tbody>\n",
       "</table>\n",
       "</div>"
      ],
      "text/plain": [
       "    Unnamed: 0                          product_name review_name  \\\n",
       "48          48  [주현영, 이나연 찐템]딥트 3일 피치(맛)번 30정 (30일분)   byeol****   \n",
       "58          58  [주현영, 이나연 찐템]딥트 3일 피치(맛)번 30정 (30일분)        러블리윤   \n",
       "\n",
       "                                       review_content review_date  \\\n",
       "48  솔직히 효과 1도 없는 것 같아요! 알약으로 살뺄 수 있다는게 말이 안되는데 혹해서...  2023.09.16   \n",
       "58  음.. 저는 일주일정도 복용하다가 중단이에요\\n\\n민감한 피부를 가지고 있어서 그런...  2023.08.06   \n",
       "\n",
       "   review_rating  rating                                   tokenized_review  \\\n",
       "48      5점만점에 1점     1.0                                효과 알약 살빼다 버리다 돈 아깝다   \n",
       "58      5점만점에 2점     2.0  일주일 복용 중단 민감하다 피부 2일 지나다 얼굴 트러블 올라오다 시작 단순하다 점...   \n",
       "\n",
       "                                      replaced_review  \n",
       "48                                효과 알약 살빼다 버리다 돈 아깝다  \n",
       "58  일주일 복용 중단 민감하다 피부 2일 지나다 얼굴 트러블 올라오다 시작 단순하다 점...  "
      ]
     },
     "execution_count": 52,
     "metadata": {},
     "output_type": "execute_result"
    }
   ],
   "source": [
    "df_review_negative[:2]"
   ]
  },
  {
   "cell_type": "markdown",
   "id": "a1d821f9-9113-4b44-ad8c-8aa3d113aad7",
   "metadata": {
    "tags": []
   },
   "source": [
    "# LDA 분석"
   ]
  },
  {
   "cell_type": "code",
   "execution_count": 23,
   "id": "abadd451-c720-4f5d-b3de-daebe779d22e",
   "metadata": {
    "tags": []
   },
   "outputs": [],
   "source": [
    "from gensim.corpora import Dictionary"
   ]
  },
  {
   "cell_type": "code",
   "execution_count": 53,
   "id": "88afbe8b-666c-48e5-a194-ffc3aa47ed28",
   "metadata": {
    "tags": []
   },
   "outputs": [
    {
     "data": {
      "text/plain": [
       "<gensim.corpora.dictionary.Dictionary at 0x220e8e3f550>"
      ]
     },
     "execution_count": 53,
     "metadata": {},
     "output_type": "execute_result"
    }
   ],
   "source": [
    "dictionary = Dictionary(df_review_negative[['replaced_review']].values)\n",
    "dictionary"
   ]
  },
  {
   "cell_type": "code",
   "execution_count": 54,
   "id": "1329534f-06fa-46d9-8a6e-b2abcfd9f134",
   "metadata": {
    "tags": []
   },
   "outputs": [
    {
     "data": {
      "text/plain": [
       "[(3, 1)]"
      ]
     },
     "execution_count": 54,
     "metadata": {},
     "output_type": "execute_result"
    }
   ],
   "source": [
    "dictionary.doc2bow(df_review_negative[['replaced_review']].values[3])"
   ]
  },
  {
   "cell_type": "code",
   "execution_count": 55,
   "id": "b0e89467-02cd-4647-99f7-6414f507865f",
   "metadata": {
    "tags": []
   },
   "outputs": [],
   "source": [
    "# dictionary에 의한 한글 문장을 벡터화 변환\n",
    "corpus_list = list()\n",
    "for sentence in df_review_negative[['replaced_review']].values :\n",
    "    vectors = dictionary.doc2bow(sentence)\n",
    "    corpus_list.append(vectors)"
   ]
  },
  {
   "cell_type": "code",
   "execution_count": 56,
   "id": "da94597a-12cd-4a11-ab84-240dff6028d4",
   "metadata": {
    "tags": []
   },
   "outputs": [
    {
     "name": "stderr",
     "output_type": "stream",
     "text": [
      "C:\\Users\\02-19\\AppData\\Local\\Temp\\ipykernel_11132\\350940733.py:1: SettingWithCopyWarning: \n",
      "A value is trying to be set on a copy of a slice from a DataFrame.\n",
      "Try using .loc[row_indexer,col_indexer] = value instead\n",
      "\n",
      "See the caveats in the documentation: https://pandas.pydata.org/pandas-docs/stable/user_guide/indexing.html#returning-a-view-versus-a-copy\n",
      "  df_review_negative['Vectorization'] = corpus_list\n"
     ]
    },
    {
     "data": {
      "text/html": [
       "<div>\n",
       "<style scoped>\n",
       "    .dataframe tbody tr th:only-of-type {\n",
       "        vertical-align: middle;\n",
       "    }\n",
       "\n",
       "    .dataframe tbody tr th {\n",
       "        vertical-align: top;\n",
       "    }\n",
       "\n",
       "    .dataframe thead th {\n",
       "        text-align: right;\n",
       "    }\n",
       "</style>\n",
       "<table border=\"1\" class=\"dataframe\">\n",
       "  <thead>\n",
       "    <tr style=\"text-align: right;\">\n",
       "      <th></th>\n",
       "      <th>Unnamed: 0</th>\n",
       "      <th>product_name</th>\n",
       "      <th>review_name</th>\n",
       "      <th>review_content</th>\n",
       "      <th>review_date</th>\n",
       "      <th>review_rating</th>\n",
       "      <th>rating</th>\n",
       "      <th>tokenized_review</th>\n",
       "      <th>replaced_review</th>\n",
       "      <th>Vectorization</th>\n",
       "    </tr>\n",
       "  </thead>\n",
       "  <tbody>\n",
       "    <tr>\n",
       "      <th>48</th>\n",
       "      <td>48</td>\n",
       "      <td>[주현영, 이나연 찐템]딥트 3일 피치(맛)번 30정 (30일분)</td>\n",
       "      <td>byeol****</td>\n",
       "      <td>솔직히 효과 1도 없는 것 같아요! 알약으로 살뺄 수 있다는게 말이 안되는데 혹해서...</td>\n",
       "      <td>2023.09.16</td>\n",
       "      <td>5점만점에 1점</td>\n",
       "      <td>1.0</td>\n",
       "      <td>효과 알약 살빼다 버리다 돈 아깝다</td>\n",
       "      <td>효과 알약 살빼다 버리다 돈 아깝다</td>\n",
       "      <td>[(0, 1)]</td>\n",
       "    </tr>\n",
       "    <tr>\n",
       "      <th>58</th>\n",
       "      <td>58</td>\n",
       "      <td>[주현영, 이나연 찐템]딥트 3일 피치(맛)번 30정 (30일분)</td>\n",
       "      <td>러블리윤</td>\n",
       "      <td>음.. 저는 일주일정도 복용하다가 중단이에요\\n\\n민감한 피부를 가지고 있어서 그런...</td>\n",
       "      <td>2023.08.06</td>\n",
       "      <td>5점만점에 2점</td>\n",
       "      <td>2.0</td>\n",
       "      <td>일주일 복용 중단 민감하다 피부 2일 지나다 얼굴 트러블 올라오다 시작 단순하다 점...</td>\n",
       "      <td>일주일 복용 중단 민감하다 피부 2일 지나다 얼굴 트러블 올라오다 시작 단순하다 점...</td>\n",
       "      <td>[(1, 1)]</td>\n",
       "    </tr>\n",
       "    <tr>\n",
       "      <th>59</th>\n",
       "      <td>59</td>\n",
       "      <td>[주현영, 이나연 찐템]딥트 3일 피치(맛)번 30정 (30일분)</td>\n",
       "      <td>여름뮤트겨울브라이트</td>\n",
       "      <td>이거 먹고 자면 코가 막히고 목이 부어요....먹고 자고 나서 계속 아파서 먹을 수...</td>\n",
       "      <td>2023.08.31</td>\n",
       "      <td>5점만점에 1점</td>\n",
       "      <td>1.0</td>\n",
       "      <td>막히다 자고 아프다</td>\n",
       "      <td>막히다 자고 아프다</td>\n",
       "      <td>[(2, 1)]</td>\n",
       "    </tr>\n",
       "  </tbody>\n",
       "</table>\n",
       "</div>"
      ],
      "text/plain": [
       "    Unnamed: 0                          product_name review_name  \\\n",
       "48          48  [주현영, 이나연 찐템]딥트 3일 피치(맛)번 30정 (30일분)   byeol****   \n",
       "58          58  [주현영, 이나연 찐템]딥트 3일 피치(맛)번 30정 (30일분)        러블리윤   \n",
       "59          59  [주현영, 이나연 찐템]딥트 3일 피치(맛)번 30정 (30일분)  여름뮤트겨울브라이트   \n",
       "\n",
       "                                       review_content review_date  \\\n",
       "48  솔직히 효과 1도 없는 것 같아요! 알약으로 살뺄 수 있다는게 말이 안되는데 혹해서...  2023.09.16   \n",
       "58  음.. 저는 일주일정도 복용하다가 중단이에요\\n\\n민감한 피부를 가지고 있어서 그런...  2023.08.06   \n",
       "59  이거 먹고 자면 코가 막히고 목이 부어요....먹고 자고 나서 계속 아파서 먹을 수...  2023.08.31   \n",
       "\n",
       "   review_rating  rating                                   tokenized_review  \\\n",
       "48      5점만점에 1점     1.0                                효과 알약 살빼다 버리다 돈 아깝다   \n",
       "58      5점만점에 2점     2.0  일주일 복용 중단 민감하다 피부 2일 지나다 얼굴 트러블 올라오다 시작 단순하다 점...   \n",
       "59      5점만점에 1점     1.0                                         막히다 자고 아프다   \n",
       "\n",
       "                                      replaced_review Vectorization  \n",
       "48                                효과 알약 살빼다 버리다 돈 아깝다      [(0, 1)]  \n",
       "58  일주일 복용 중단 민감하다 피부 2일 지나다 얼굴 트러블 올라오다 시작 단순하다 점...      [(1, 1)]  \n",
       "59                                         막히다 자고 아프다      [(2, 1)]  "
      ]
     },
     "execution_count": 56,
     "metadata": {},
     "output_type": "execute_result"
    }
   ],
   "source": [
    "df_review_negative['Vectorization'] = corpus_list\n",
    "df_review_negative[:3]"
   ]
  },
  {
   "cell_type": "markdown",
   "id": "6156845a-54eb-4ad2-abe1-6deaabddc786",
   "metadata": {
    "tags": []
   },
   "source": [
    "## 토픽 잡기 "
   ]
  },
  {
   "cell_type": "code",
   "execution_count": 57,
   "id": "2fc12117-9ca9-42d5-8f45-60607bc17813",
   "metadata": {
    "tags": []
   },
   "outputs": [],
   "source": [
    "from gensim.models import LdaModel"
   ]
  },
  {
   "cell_type": "code",
   "execution_count": 58,
   "id": "28dc17cd-e6c1-4b3d-86bd-794b73a7b1eb",
   "metadata": {
    "tags": []
   },
   "outputs": [],
   "source": [
    "lda_model = LdaModel(corpus=corpus_list, id2word=dictionary, num_topics=3)"
   ]
  },
  {
   "cell_type": "code",
   "execution_count": 59,
   "id": "0e7cc1d4-10e5-47a6-86ee-091e4ae5c93a",
   "metadata": {
    "tags": []
   },
   "outputs": [
    {
     "data": {
      "text/plain": [
       "[(0,\n",
       "  '0.099*\"가격 비싸다 싸다 제발\" + 0.028*\"소화도 커피 물 타도 탄산수 타도 알코올 냄새 심하다 진하다 희다 휘발 냄새 맛있다 건가\" + 0.017*\"173 cm 53 kg 하루 화장실 신호 전혀 173 54 kg 갈증 심하다 운동 조절 낫다\" + 0.017*\"포장 만점 효과 전혀 광고 제품 후기알바 진정 크리 처방\"'),\n",
       " (1,\n",
       "  '0.017*\"국산 금은화 분말 검색 구입 제품 중국산 검색 교묘하다 상세 검색 중국산 표기 가격 비교 최저 배 가깝다 가격 국산 이르다 비싸다 생각 구입 반품 생각 13000원 잃어버리다 치기 교묘하다 불쾌하다 아깝다 내 너스 하장 버리다 겠다\" + 0.017*\"맛있다 사람 모금 룸메 보라 아깝다 오만상 쓰다 화장실 싫어하다 사람 선물 용이 화장실 감금 싸다 가능 무섭다 수박\" + 0.017*\"살빼다 구매 맛 맛없다 알약 낳을 신체 500 드니 속이다 안좋다 향 가루 느낌 달다 쓰다 시지 애매 맛 맛없다 비추다 부차 맛있다 겠다\" + 0.017*\"화장실 도움 겠다 매다\"'),\n",
       " (2,\n",
       "  '0.019*\"취향 향 맛 당황 며칠 참고 적응 건지다 꾸준하다 킬로 빼다\" + 0.017*\"빼다 달라지다 시작 주정 트러블 생기다 시작 생리 불순 생기다 휴가 다녀오다 시작 생리 돌아오다 트러블 진정 의심 시작 아깝다 남다 일주일 트러블 올라오다 시작 생리 조심하다\" + 0.017*\"부차 브랜드 구매 맛 저렴하다 이유 기존 브랜드 대형 마트 구매 돈 아깝다\" + 0.017*\"박스 빈자리 종이 끼우다 박스 작다 만들다 결론 개인 효과 딥트 복숭아 알약 딱하다 효과 가격 비싸다 도안 16시간 헐다 단식 나름 식단 돈 버리다\"')]"
      ]
     },
     "execution_count": 59,
     "metadata": {},
     "output_type": "execute_result"
    }
   ],
   "source": [
    "lda_model.print_topics(num_words=4)"
   ]
  },
  {
   "cell_type": "markdown",
   "id": "0cf96318-a2c7-4562-b32a-022464644914",
   "metadata": {
    "tags": []
   },
   "source": [
    "## 토픽 분석 "
   ]
  },
  {
   "cell_type": "code",
   "execution_count": null,
   "id": "142f4fc8-81b6-42e9-a8d0-bc06f2fc39c1",
   "metadata": {},
   "outputs": [],
   "source": []
  },
  {
   "cell_type": "markdown",
   "id": "e6abfd9e-ab3b-4ea8-91e6-e2d37e707de9",
   "metadata": {},
   "source": [
    "### LDA 시각화 "
   ]
  },
  {
   "cell_type": "code",
   "execution_count": null,
   "id": "438caf9a-e967-44b7-88b4-4579912b8993",
   "metadata": {
    "tags": []
   },
   "outputs": [],
   "source": [
    "#%pip install pyLDAvis"
   ]
  },
  {
   "cell_type": "code",
   "execution_count": null,
   "id": "c23f3aff-4ef6-4200-96c0-39097c522f00",
   "metadata": {
    "tags": []
   },
   "outputs": [],
   "source": [
    "import pyLDAvis.gensim_models\n",
    "pyLDAvis.enable_notebook()"
   ]
  },
  {
   "cell_type": "code",
   "execution_count": null,
   "id": "f325b4fa-e83a-4aba-ab16-8cac2aa35c5f",
   "metadata": {
    "tags": []
   },
   "outputs": [],
   "source": [
    "result_visualized = pyLDAvis.gensim_models.prepare(lda_model, corpus_list, dictionary)\n",
    "pyLDAvis.display(result_visualized)"
   ]
  },
  {
   "cell_type": "code",
   "execution_count": null,
   "id": "39876c8d-18f3-47b5-9d3c-1349f792dc27",
   "metadata": {
    "tags": []
   },
   "outputs": [],
   "source": [
    "pyLDAvis.save_html(result_visualized, './result_visualized_negative.html')"
   ]
  },
  {
   "cell_type": "markdown",
   "id": "6f9906b6-5837-462d-9474-d6f76ec61db7",
   "metadata": {},
   "source": [
    "## LDA 토픽 모델링 "
   ]
  },
  {
   "cell_type": "markdown",
   "id": "9959bf78-b5c2-4f98-8110-fc985b3dd0ef",
   "metadata": {},
   "source": [
    "#### 하이퍼파라미터 튜닝"
   ]
  },
  {
   "cell_type": "code",
   "execution_count": 60,
   "id": "934dd061-0cfc-4248-90fb-f0324f7ca6e5",
   "metadata": {
    "tags": []
   },
   "outputs": [],
   "source": [
    "NUM_TOPICS = 10 # 토픽 개수는 하이퍼파라미터\n",
    "# passes: 딥러닝에서 Epoch와 같은 개념으로, 전체 corpus로 모델 학습 횟수 결정\n",
    "PASSES = 15"
   ]
  },
  {
   "cell_type": "markdown",
   "id": "61cd495d-ea96-451a-9b60-6e3f94f5d9aa",
   "metadata": {},
   "source": [
    "### 모델 학습 함수 "
   ]
  },
  {
   "cell_type": "code",
   "execution_count": 61,
   "id": "b0d8e0d5-85c4-4aab-887a-b423f683b139",
   "metadata": {
    "tags": []
   },
   "outputs": [],
   "source": [
    "from gensim import corpora # 단어 빈도수 계산 패키지\n",
    "import gensim # LDA 모델 활용 목적\n",
    "import pyLDAvis.gensim_models # LDA 시각화용 패키지"
   ]
  },
  {
   "cell_type": "code",
   "execution_count": 62,
   "id": "d29bdc3a-c798-4cd3-8cb9-9030e8577aac",
   "metadata": {
    "tags": []
   },
   "outputs": [],
   "source": [
    "dictionary = corpora.Dictionary(df_dropna['replaced_review'].apply(lambda x: x.split()).values)\n",
    "corpus = [dictionary.doc2bow(review.split()) for review in df_dropna['replaced_review'].values]\n",
    "# LDA 모델 학습\n",
    "model = gensim.models.ldamodel.LdaModel(corpus, \n",
    "                                            num_topics=NUM_TOPICS, \n",
    "                                            id2word=dictionary, \n",
    "                                            passes=PASSES)"
   ]
  },
  {
   "cell_type": "code",
   "execution_count": 63,
   "id": "2d965691-0437-4a82-9250-9af8a469b787",
   "metadata": {
    "tags": []
   },
   "outputs": [],
   "source": [
    "def lda_modeling(review_prep):\n",
    "    # 단어 인코딩 및 빈도수 계산\n",
    "    dictionary = corpora.Dictionary(df_dropna['replaced_review'].apply(lambda x: x.split()).values)\n",
    "    corpus = [dictionary.doc2bow(review.split()) for review in df_dropna['replaced_review'].values]\n",
    "    # LDA 모델 학습\n",
    "    model = gensim.models.ldamodel.LdaModel(corpus, \n",
    "                                            num_topics=NUM_TOPICS, \n",
    "                                            id2word=dictionary, \n",
    "                                            passes=PASSES)\n",
    "    return model, corpus, dictionary"
   ]
  },
  {
   "cell_type": "markdown",
   "id": "e8b0d659-8d47-4fc1-b8c7-0b144461f9e4",
   "metadata": {},
   "source": [
    "### 토픽별 단어 구성 출력 함수 "
   ]
  },
  {
   "cell_type": "code",
   "execution_count": 64,
   "id": "7a677d0c-e1e6-4424-a610-cb14fbb04be0",
   "metadata": {
    "tags": []
   },
   "outputs": [],
   "source": [
    "def print_topic_prop(topics, RATING):\n",
    "    topic_values = []\n",
    "    for topic in topics:\n",
    "        topic_value = topic[1]\n",
    "        topic_values.append(topic_value)\n",
    "    topic_prop = pd.DataFrame({\"topic_num\" : list(range(1, NUM_TOPICS + 1)), \"word_prop\": topic_values})\n",
    "    #topic_prop.to_excel('./result/topic_prop_' + RATING +  '.xlsx')\n",
    "    display(topic_prop)"
   ]
  },
  {
   "cell_type": "markdown",
   "id": "8185c767-516c-454c-a4de-f1ca0a0edcf3",
   "metadata": {},
   "source": [
    "### 시각화 함수 "
   ]
  },
  {
   "cell_type": "code",
   "execution_count": 65,
   "id": "237c3fe1-ad2d-493c-8fab-2d6a68ac369c",
   "metadata": {
    "tags": []
   },
   "outputs": [],
   "source": [
    "def lda_visualize(model, corpus, dictionary, RATING):\n",
    "    pyLDAvis.enable_notebook()\n",
    "    result_visualized = pyLDAvis.gensim_models.prepare(model, corpus, dictionary)\n",
    "    pyLDAvis.display(result_visualized)\n",
    "    # 시각화 결과 저장\n",
    "    # RESULT_FILE = './result/lda_result_' + RATING + '.html'\n",
    "    # pyLDAvis.save_html(result_visualized, RESULT_FILE)"
   ]
  },
  {
   "cell_type": "markdown",
   "id": "8133467e-bf9f-4dbb-b972-9ecb2145029b",
   "metadata": {},
   "source": [
    "### 긍정정 리뷰 토픽 모델링 "
   ]
  },
  {
   "cell_type": "code",
   "execution_count": 66,
   "id": "77e5892e-78f2-4d6f-9cf4-f6d342360b6d",
   "metadata": {},
   "outputs": [],
   "source": [
    "model, corpus, dictionary = lda_modeling(df_review_positive)\n",
    "NUM_WORDS = 10"
   ]
  },
  {
   "cell_type": "code",
   "execution_count": 67,
   "id": "41344168-6c68-43e0-9ebf-c28e2f7495ea",
   "metadata": {
    "tags": []
   },
   "outputs": [],
   "source": [
    "from gensim import corpora "
   ]
  },
  {
   "cell_type": "code",
   "execution_count": 68,
   "id": "2eb5c0d2-758f-4cf4-b8de-398884872b23",
   "metadata": {
    "tags": []
   },
   "outputs": [
    {
     "data": {
      "text/html": [
       "<div>\n",
       "<style scoped>\n",
       "    .dataframe tbody tr th:only-of-type {\n",
       "        vertical-align: middle;\n",
       "    }\n",
       "\n",
       "    .dataframe tbody tr th {\n",
       "        vertical-align: top;\n",
       "    }\n",
       "\n",
       "    .dataframe thead th {\n",
       "        text-align: right;\n",
       "    }\n",
       "</style>\n",
       "<table border=\"1\" class=\"dataframe\">\n",
       "  <thead>\n",
       "    <tr style=\"text-align: right;\">\n",
       "      <th></th>\n",
       "      <th>topic_num</th>\n",
       "      <th>word_prop</th>\n",
       "    </tr>\n",
       "  </thead>\n",
       "  <tbody>\n",
       "    <tr>\n",
       "      <th>0</th>\n",
       "      <td>1</td>\n",
       "      <td>0.029*\"제품\" + 0.016*\"좋다\" + 0.015*\"구매\" + 0.013*\"...</td>\n",
       "    </tr>\n",
       "    <tr>\n",
       "      <th>1</th>\n",
       "      <td>2</td>\n",
       "      <td>0.053*\"맛\" + 0.025*\"좋다\" + 0.017*\"느낌\" + 0.012*\"사...</td>\n",
       "    </tr>\n",
       "    <tr>\n",
       "      <th>2</th>\n",
       "      <td>3</td>\n",
       "      <td>0.043*\"물\" + 0.034*\"구매\" + 0.028*\"맛\" + 0.025*\"좋다...</td>\n",
       "    </tr>\n",
       "    <tr>\n",
       "      <th>3</th>\n",
       "      <td>4</td>\n",
       "      <td>0.103*\"좋다\" + 0.072*\"구매\" + 0.055*\"배송\" + 0.046*\"...</td>\n",
       "    </tr>\n",
       "    <tr>\n",
       "      <th>4</th>\n",
       "      <td>5</td>\n",
       "      <td>0.051*\"효과\" + 0.041*\"좋다\" + 0.036*\"운동\" + 0.025*\"...</td>\n",
       "    </tr>\n",
       "    <tr>\n",
       "      <th>5</th>\n",
       "      <td>6</td>\n",
       "      <td>0.032*\"구매\" + 0.020*\"제품\" + 0.020*\"섭취\" + 0.016*\"...</td>\n",
       "    </tr>\n",
       "    <tr>\n",
       "      <th>6</th>\n",
       "      <td>7</td>\n",
       "      <td>0.027*\"포장\" + 0.024*\"제품\" + 0.016*\"포스\" + 0.016*\"...</td>\n",
       "    </tr>\n",
       "    <tr>\n",
       "      <th>7</th>\n",
       "      <td>8</td>\n",
       "      <td>0.067*\"맛\" + 0.056*\"좋다\" + 0.039*\"맛있다\" + 0.025*\"...</td>\n",
       "    </tr>\n",
       "    <tr>\n",
       "      <th>8</th>\n",
       "      <td>9</td>\n",
       "      <td>0.036*\"제품\" + 0.028*\"좋다\" + 0.026*\"색상\" + 0.020*\"...</td>\n",
       "    </tr>\n",
       "    <tr>\n",
       "      <th>9</th>\n",
       "      <td>10</td>\n",
       "      <td>0.036*\"빼다\" + 0.023*\"조절\" + 0.019*\"체중\" + 0.019*\"...</td>\n",
       "    </tr>\n",
       "  </tbody>\n",
       "</table>\n",
       "</div>"
      ],
      "text/plain": [
       "   topic_num                                          word_prop\n",
       "0          1  0.029*\"제품\" + 0.016*\"좋다\" + 0.015*\"구매\" + 0.013*\"...\n",
       "1          2  0.053*\"맛\" + 0.025*\"좋다\" + 0.017*\"느낌\" + 0.012*\"사...\n",
       "2          3  0.043*\"물\" + 0.034*\"구매\" + 0.028*\"맛\" + 0.025*\"좋다...\n",
       "3          4  0.103*\"좋다\" + 0.072*\"구매\" + 0.055*\"배송\" + 0.046*\"...\n",
       "4          5  0.051*\"효과\" + 0.041*\"좋다\" + 0.036*\"운동\" + 0.025*\"...\n",
       "5          6  0.032*\"구매\" + 0.020*\"제품\" + 0.020*\"섭취\" + 0.016*\"...\n",
       "6          7  0.027*\"포장\" + 0.024*\"제품\" + 0.016*\"포스\" + 0.016*\"...\n",
       "7          8  0.067*\"맛\" + 0.056*\"좋다\" + 0.039*\"맛있다\" + 0.025*\"...\n",
       "8          9  0.036*\"제품\" + 0.028*\"좋다\" + 0.026*\"색상\" + 0.020*\"...\n",
       "9         10  0.036*\"빼다\" + 0.023*\"조절\" + 0.019*\"체중\" + 0.019*\"..."
      ]
     },
     "metadata": {},
     "output_type": "display_data"
    }
   ],
   "source": [
    "RATING = 'pos'\n",
    "topics = model.print_topics(num_words = NUM_WORDS)\n",
    "print_topic_prop(topics, RATING)"
   ]
  },
  {
   "cell_type": "code",
   "execution_count": 69,
   "id": "e7b014dc-b55e-492f-afcd-6138ef38869d",
   "metadata": {},
   "outputs": [],
   "source": [
    "# lda_visualize(model, corpus, dictionary, RATING)"
   ]
  },
  {
   "cell_type": "markdown",
   "id": "1fbfb44e-d34e-4b9a-89a8-e83b2728fab0",
   "metadata": {},
   "source": [
    "### 부정적 리뷰 토픽 모델링"
   ]
  },
  {
   "cell_type": "code",
   "execution_count": 70,
   "id": "32e93eb1-a023-4b23-a7df-445a20ca16e4",
   "metadata": {
    "tags": []
   },
   "outputs": [],
   "source": [
    "model, corpus, dictionary = lda_modeling(df_review_negative)\n",
    "NUM_WORDS = 10"
   ]
  },
  {
   "cell_type": "code",
   "execution_count": 71,
   "id": "4e37345a-cdd3-4d95-8fa7-497606471029",
   "metadata": {
    "tags": []
   },
   "outputs": [
    {
     "data": {
      "text/html": [
       "<div>\n",
       "<style scoped>\n",
       "    .dataframe tbody tr th:only-of-type {\n",
       "        vertical-align: middle;\n",
       "    }\n",
       "\n",
       "    .dataframe tbody tr th {\n",
       "        vertical-align: top;\n",
       "    }\n",
       "\n",
       "    .dataframe thead th {\n",
       "        text-align: right;\n",
       "    }\n",
       "</style>\n",
       "<table border=\"1\" class=\"dataframe\">\n",
       "  <thead>\n",
       "    <tr style=\"text-align: right;\">\n",
       "      <th></th>\n",
       "      <th>topic_num</th>\n",
       "      <th>word_prop</th>\n",
       "    </tr>\n",
       "  </thead>\n",
       "  <tbody>\n",
       "    <tr>\n",
       "      <th>0</th>\n",
       "      <td>1</td>\n",
       "      <td>0.113*\"좋다\" + 0.043*\"배송\" + 0.031*\"빠르다\" + 0.031*...</td>\n",
       "    </tr>\n",
       "    <tr>\n",
       "      <th>1</th>\n",
       "      <td>2</td>\n",
       "      <td>0.050*\"구매\" + 0.035*\"제품\" + 0.023*\"좋다\" + 0.022*\"...</td>\n",
       "    </tr>\n",
       "    <tr>\n",
       "      <th>2</th>\n",
       "      <td>3</td>\n",
       "      <td>0.028*\"빼다\" + 0.024*\"운동\" + 0.021*\"도움\" + 0.019*\"...</td>\n",
       "    </tr>\n",
       "    <tr>\n",
       "      <th>3</th>\n",
       "      <td>4</td>\n",
       "      <td>0.017*\"구매\" + 0.016*\"효과\" + 0.013*\"알약\" + 0.012*\"...</td>\n",
       "    </tr>\n",
       "    <tr>\n",
       "      <th>4</th>\n",
       "      <td>5</td>\n",
       "      <td>0.043*\"좋다\" + 0.033*\"제품\" + 0.025*\"구매\" + 0.025*\"...</td>\n",
       "    </tr>\n",
       "    <tr>\n",
       "      <th>5</th>\n",
       "      <td>6</td>\n",
       "      <td>0.116*\"맛\" + 0.069*\"맛있다\" + 0.047*\"좋다\" + 0.044*\"...</td>\n",
       "    </tr>\n",
       "    <tr>\n",
       "      <th>6</th>\n",
       "      <td>7</td>\n",
       "      <td>0.050*\"주문\" + 0.015*\"항상\" + 0.015*\"콜레\" + 0.014*\"...</td>\n",
       "    </tr>\n",
       "    <tr>\n",
       "      <th>7</th>\n",
       "      <td>8</td>\n",
       "      <td>0.043*\"물\" + 0.036*\"맛\" + 0.016*\"섭취\" + 0.014*\"좋다...</td>\n",
       "    </tr>\n",
       "    <tr>\n",
       "      <th>8</th>\n",
       "      <td>9</td>\n",
       "      <td>0.038*\"좋다\" + 0.035*\"효과\" + 0.030*\"제품\" + 0.028*\"...</td>\n",
       "    </tr>\n",
       "    <tr>\n",
       "      <th>9</th>\n",
       "      <td>10</td>\n",
       "      <td>0.101*\"효과\" + 0.044*\"좋다\" + 0.043*\"구매\" + 0.016*\"...</td>\n",
       "    </tr>\n",
       "  </tbody>\n",
       "</table>\n",
       "</div>"
      ],
      "text/plain": [
       "   topic_num                                          word_prop\n",
       "0          1  0.113*\"좋다\" + 0.043*\"배송\" + 0.031*\"빠르다\" + 0.031*...\n",
       "1          2  0.050*\"구매\" + 0.035*\"제품\" + 0.023*\"좋다\" + 0.022*\"...\n",
       "2          3  0.028*\"빼다\" + 0.024*\"운동\" + 0.021*\"도움\" + 0.019*\"...\n",
       "3          4  0.017*\"구매\" + 0.016*\"효과\" + 0.013*\"알약\" + 0.012*\"...\n",
       "4          5  0.043*\"좋다\" + 0.033*\"제품\" + 0.025*\"구매\" + 0.025*\"...\n",
       "5          6  0.116*\"맛\" + 0.069*\"맛있다\" + 0.047*\"좋다\" + 0.044*\"...\n",
       "6          7  0.050*\"주문\" + 0.015*\"항상\" + 0.015*\"콜레\" + 0.014*\"...\n",
       "7          8  0.043*\"물\" + 0.036*\"맛\" + 0.016*\"섭취\" + 0.014*\"좋다...\n",
       "8          9  0.038*\"좋다\" + 0.035*\"효과\" + 0.030*\"제품\" + 0.028*\"...\n",
       "9         10  0.101*\"효과\" + 0.044*\"좋다\" + 0.043*\"구매\" + 0.016*\"..."
      ]
     },
     "metadata": {},
     "output_type": "display_data"
    }
   ],
   "source": [
    "RATING = 'neg'\n",
    "topics = model.print_topics(num_words = NUM_WORDS)\n",
    "print_topic_prop(topics, RATING)"
   ]
  },
  {
   "cell_type": "code",
   "execution_count": 72,
   "id": "b0838afc-5e94-4923-9957-be8b8b8a339c",
   "metadata": {
    "tags": []
   },
   "outputs": [],
   "source": [
    "lda_visualize(model, corpus, dictionary, RATING)"
   ]
  },
  {
   "cell_type": "code",
   "execution_count": 73,
   "id": "cfbed8f7-48dd-41e1-be46-d2cf9100b62e",
   "metadata": {
    "tags": []
   },
   "outputs": [
    {
     "data": {
      "text/plain": [
       "0       최고 다이어트 제품 복숭아 추천 사진 통째 늘어나다 필수 제품 버리다 제품 광고 구...\n",
       "1       알약 통통이 좋다예쁘다 효과 좋다 나이 빼다 배 쌓이네 눈물 딥트 종류셋트 묶이다 ...\n",
       "2                 드라마틱하다 달라지다 죄책감 덜다 의미 운동 식단 병행 변화 체중 생각\n",
       "3       달달하다 사탕 맛 2-3초 달달하다 구리다 녹다 맛없다 본체 삼키다 길쭉하다 알약 ...\n",
       "4                                    효과 늘어나다 알약 이쁘다 입안 좋다\n",
       "                              ...                        \n",
       "4583                                     친정엄마 구매 산양 좋다 기회\n",
       "4584                               산양 단백질 광고 구매 달다 편하다 좋다\n",
       "4585                            꾸준하다 먹고다 좋아지다 건지다 맛있다 먹고다\n",
       "4586                                           적다 제품 찢어지다\n",
       "4587                                           가격 배송 만족하다\n",
       "Name: replaced_review, Length: 3813, dtype: object"
      ]
     },
     "execution_count": 73,
     "metadata": {},
     "output_type": "execute_result"
    }
   ],
   "source": [
    "df_dropna['replaced_review']"
   ]
  },
  {
   "cell_type": "code",
   "execution_count": 74,
   "id": "09790c9f-9f28-4739-bb4e-9c39a5fe9425",
   "metadata": {
    "tags": []
   },
   "outputs": [
    {
     "name": "stderr",
     "output_type": "stream",
     "text": [
      "C:\\Users\\02-19\\AppData\\Local\\Temp\\ipykernel_11132\\2495281046.py:1: SettingWithCopyWarning: \n",
      "A value is trying to be set on a copy of a slice from a DataFrame.\n",
      "Try using .loc[row_indexer,col_indexer] = value instead\n",
      "\n",
      "See the caveats in the documentation: https://pandas.pydata.org/pandas-docs/stable/user_guide/indexing.html#returning-a-view-versus-a-copy\n",
      "  df_dropna['replaced_review_2'] = df_dropna['replaced_review'].apply(lambda x: [x])\n"
     ]
    }
   ],
   "source": [
    "df_dropna['replaced_review_2'] = df_dropna['replaced_review'].apply(lambda x: [x])"
   ]
  },
  {
   "cell_type": "code",
   "execution_count": 75,
   "id": "3771e01d-3380-4a90-a165-2274d9f6e111",
   "metadata": {
    "tags": []
   },
   "outputs": [],
   "source": [
    "replaced_review_2 = df_dropna['replaced_review_2']"
   ]
  },
  {
   "cell_type": "code",
   "execution_count": 76,
   "id": "25e9cc0e-13c1-4e4d-9bf7-9c331f3868b8",
   "metadata": {
    "tags": []
   },
   "outputs": [],
   "source": [
    "from gensim import corpora\n",
    "dictionary = corpora.Dictionary(replaced_review_2)\n",
    "corpus = [dictionary.doc2bow(text) for text in replaced_review_2]"
   ]
  },
  {
   "cell_type": "code",
   "execution_count": 77,
   "id": "03cc1514-529f-4a20-8168-dd3c0cef1ca0",
   "metadata": {
    "tags": []
   },
   "outputs": [],
   "source": [
    "dictionary = corpora.Dictionary(df_dropna['replaced_review'].apply(lambda x: x.split()).values)\n",
    "corpus = [dictionary.doc2bow(review.split()) for review in df_dropna['replaced_review'].values]\n",
    "# LDA 모델 학습\n",
    "model = gensim.models.ldamodel.LdaModel(corpus, \n",
    "                                            num_topics=NUM_TOPICS, \n",
    "                                            id2word=dictionary, \n",
    "                                            passes=PASSES)\n"
   ]
  },
  {
   "cell_type": "code",
   "execution_count": 78,
   "id": "3fc39fdf-b5cb-4baf-b73f-37aa0efce75c",
   "metadata": {
    "tags": []
   },
   "outputs": [
    {
     "data": {
      "text/plain": [
       "'은은하다'"
      ]
     },
     "execution_count": 78,
     "metadata": {},
     "output_type": "execute_result"
    }
   ],
   "source": [
    "dictionary[25]"
   ]
  },
  {
   "cell_type": "code",
   "execution_count": 79,
   "id": "2419d66e-913d-4aa3-bafb-7276588bdd22",
   "metadata": {
    "tags": []
   },
   "outputs": [
    {
     "data": {
      "text/plain": [
       "[(5, 1),\n",
       " (8, 1),\n",
       " (14, 1),\n",
       " (23, 1),\n",
       " (29, 1),\n",
       " (38, 2),\n",
       " (39, 1),\n",
       " (40, 1),\n",
       " (41, 1),\n",
       " (42, 1),\n",
       " (43, 1),\n",
       " (44, 1),\n",
       " (45, 1),\n",
       " (46, 1),\n",
       " (47, 1),\n",
       " (48, 1)]"
      ]
     },
     "execution_count": 79,
     "metadata": {},
     "output_type": "execute_result"
    }
   ],
   "source": [
    "corpus[1]"
   ]
  },
  {
   "cell_type": "code",
   "execution_count": 80,
   "id": "e77eb554-871a-4b8f-a552-b6396f382583",
   "metadata": {
    "tags": []
   },
   "outputs": [
    {
     "data": {
      "text/plain": [
       "5935"
      ]
     },
     "execution_count": 80,
     "metadata": {},
     "output_type": "execute_result"
    }
   ],
   "source": [
    "len(dictionary)"
   ]
  },
  {
   "cell_type": "code",
   "execution_count": 81,
   "id": "78ce7051-0aa2-4826-af0b-04c90c06c85c",
   "metadata": {
    "tags": []
   },
   "outputs": [
    {
     "name": "stdout",
     "output_type": "stream",
     "text": [
      "(0, '0.032*\"제품\" + 0.016*\"물\" + 0.016*\"유통\" + 0.016*\"기한\"')\n",
      "(1, '0.095*\"좋다\" + 0.068*\"배송\" + 0.052*\"빠르다\" + 0.022*\"제품\"')\n",
      "(2, '0.088*\"구매\" + 0.045*\"저렴하다\" + 0.034*\"좋다\" + 0.030*\"주문\"')\n",
      "(3, '0.075*\"맛\" + 0.052*\"좋다\" + 0.048*\"맛있다\" + 0.032*\"젤리\"')\n",
      "(4, '0.057*\"맛\" + 0.040*\"물\" + 0.021*\"구매\" + 0.018*\"맛있다\"')\n",
      "(5, '0.024*\"제품\" + 0.022*\"구매\" + 0.020*\"좋다\" + 0.019*\"효과\"')\n",
      "(6, '0.049*\"좋다\" + 0.046*\"제품\" + 0.033*\"구매\" + 0.023*\"효과\"')\n",
      "(7, '0.102*\"효과\" + 0.045*\"좋다\" + 0.033*\"운동\" + 0.026*\"꾸준하다\"')\n",
      "(8, '0.025*\"편하다\" + 0.020*\"알약\" + 0.010*\"나이트\" + 0.010*\"크기\"')\n",
      "(9, '0.063*\"좋다\" + 0.023*\"구매\" + 0.015*\"구입\" + 0.014*\"편하다\"')\n"
     ]
    }
   ],
   "source": [
    "ldamodel = gensim.models.ldamodel.LdaModel(corpus, num_topics = NUM_TOPICS, id2word=dictionary, passes=15)\n",
    "topics = ldamodel.print_topics(num_words=4)\n",
    "for topic in topics:\n",
    "    print(topic)"
   ]
  },
  {
   "cell_type": "code",
   "execution_count": 82,
   "id": "0189231a-62cc-465c-8400-897f5765b5c1",
   "metadata": {},
   "outputs": [],
   "source": [
    "## 긍정/부정 토픽 확인 \n",
    "# NUM_TOPICS = 10 # 토픽 개수는 하이퍼파라미터\n",
    "# # passes: 딥러닝에서 Epoch와 같은 개념으로, 전체 corpus로 모델 학습 횟수 결정\n",
    "# PASSES = 15"
   ]
  },
  {
   "cell_type": "code",
   "execution_count": 83,
   "id": "a3a845e6-2c38-4eda-8506-b97c4dc58e74",
   "metadata": {
    "tags": []
   },
   "outputs": [],
   "source": [
    "# def lda_modeling(reviews):\n",
    "#     # 단어 인코딩 및 빈도수 계산\n",
    "#     dictionary = corpora.Dictionary(reviews)\n",
    "#     corpus = [dictionary.doc2bow(review.split()) for review in df['preprocess_review'].values]\n",
    "#     # LDA 모델 학습\n",
    "#     model = gensim.models.ldamodel.LdaModel(corpus, \n",
    "#                                             num_topics=NUM_TOPICS, \n",
    "#                                             id2word=dictionary, \n",
    "#                                             passes=PASSES)\n",
    "#     return model, corpus, dictionary"
   ]
  },
  {
   "cell_type": "code",
   "execution_count": 84,
   "id": "572d193c-15a3-45a6-a106-ec925f375b88",
   "metadata": {
    "tags": []
   },
   "outputs": [],
   "source": [
    "# def print_topic_prop(topics, RATING):\n",
    "#     topic_values = []\n",
    "#     for topic in topics:\n",
    "#         topic_value = topic[1]\n",
    "#         topic_values.append(topic_value)\n",
    "#     topic_prop = pd.DataFrame({\"topic_num\" : list(range(1, NUM_TOPICS + 1)), \"word_prop\": topic_values})\n",
    "#     #topic_prop.to_excel('./result/topic_prop_' + RATING +  '.xlsx')\n",
    "#     display(topic_prop)"
   ]
  },
  {
   "cell_type": "code",
   "execution_count": 85,
   "id": "526052c5-1436-40d4-9c6f-0097de1a7704",
   "metadata": {
    "tags": []
   },
   "outputs": [],
   "source": [
    "# model, corpus, dictionary = lda_modeling(negative_review) #부정\n",
    "# NUM_WORDS = 10"
   ]
  },
  {
   "cell_type": "code",
   "execution_count": 86,
   "id": "498bf88d-c478-44cd-bd51-9e675147a1b8",
   "metadata": {
    "tags": []
   },
   "outputs": [],
   "source": [
    "# sentiment = '부정'\n",
    "# topics = model.print_topics(num_words = NUM_WORDS)\n",
    "# print_topic_prop(topics, RATING)"
   ]
  },
  {
   "cell_type": "code",
   "execution_count": 87,
   "id": "542f47df-9e20-4808-9cce-d3aced3f1f18",
   "metadata": {
    "tags": []
   },
   "outputs": [],
   "source": [
    "# sentiment = '긍정'\n",
    "# topics = model.print_topics(num_words = NUM_WORDS)\n",
    "# print_topic_prop(topics, RATING)"
   ]
  },
  {
   "cell_type": "code",
   "execution_count": null,
   "id": "4a5cfa3e-9a29-4c3c-9df8-f623d0a1489a",
   "metadata": {},
   "outputs": [],
   "source": []
  }
 ],
 "metadata": {
  "kernelspec": {
   "display_name": "Python 3 (ipykernel)",
   "language": "python",
   "name": "python3"
  },
  "language_info": {
   "codemirror_mode": {
    "name": "ipython",
    "version": 3
   },
   "file_extension": ".py",
   "mimetype": "text/x-python",
   "name": "python",
   "nbconvert_exporter": "python",
   "pygments_lexer": "ipython3",
   "version": "3.11.3"
  }
 },
 "nbformat": 4,
 "nbformat_minor": 5
}
