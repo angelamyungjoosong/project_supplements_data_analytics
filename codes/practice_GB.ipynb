{
 "cells": [
  {
   "cell_type": "markdown",
   "id": "16088df5-8c08-4d00-a0d0-c292924c661b",
   "metadata": {
    "jp-MarkdownHeadingCollapsed": true,
    "tags": []
   },
   "source": [
    "# 데이터 전처리 진행"
   ]
  },
  {
   "cell_type": "code",
   "execution_count": 1,
   "id": "829d7290-4ab3-48dd-ae23-0a8ab9a40c0f",
   "metadata": {},
   "outputs": [],
   "source": [
    "#!pip install python-mecab-ko pyLDAvis"
   ]
  },
  {
   "cell_type": "code",
   "execution_count": 2,
   "id": "b120d99e-70ac-46e1-ae33-bf9cb7050b99",
   "metadata": {
    "tags": []
   },
   "outputs": [],
   "source": [
    "import numpy as np\n",
    "import pandas as pd\n",
    "import warnings # 경고 메시지 무시"
   ]
  },
  {
   "cell_type": "code",
   "execution_count": 3,
   "id": "c386734e-abe5-4287-b424-94387f3942f3",
   "metadata": {
    "tags": []
   },
   "outputs": [
    {
     "data": {
      "text/html": [
       "<div>\n",
       "<style scoped>\n",
       "    .dataframe tbody tr th:only-of-type {\n",
       "        vertical-align: middle;\n",
       "    }\n",
       "\n",
       "    .dataframe tbody tr th {\n",
       "        vertical-align: top;\n",
       "    }\n",
       "\n",
       "    .dataframe thead th {\n",
       "        text-align: right;\n",
       "    }\n",
       "</style>\n",
       "<table border=\"1\" class=\"dataframe\">\n",
       "  <thead>\n",
       "    <tr style=\"text-align: right;\">\n",
       "      <th></th>\n",
       "      <th>Unnamed: 0</th>\n",
       "      <th>product_name</th>\n",
       "      <th>review_name</th>\n",
       "      <th>review_content</th>\n",
       "      <th>review_date</th>\n",
       "      <th>review_rating</th>\n",
       "    </tr>\n",
       "  </thead>\n",
       "  <tbody>\n",
       "    <tr>\n",
       "      <th>0</th>\n",
       "      <td>0</td>\n",
       "      <td>[주현영, 이나연 찐템]딥트 3일 피치(맛)번 30정 (30일분)</td>\n",
       "      <td>보리오빠</td>\n",
       "      <td>없으면 안될 최고의 diet템! 피치번을 추천합니당 ㅎㅎ 사진엔 없지만 4통째 먹고...</td>\n",
       "      <td>2023.08.27</td>\n",
       "      <td>5점만점에 5점</td>\n",
       "    </tr>\n",
       "    <tr>\n",
       "      <th>1</th>\n",
       "      <td>1</td>\n",
       "      <td>[주현영, 이나연 찐템]딥트 3일 피치(맛)번 30정 (30일분)</td>\n",
       "      <td>바보바니</td>\n",
       "      <td>알약 통통이하트 넘예뻐요. 자기전 먹고 효과있으면 얼마나 좋을까요 ㅜㅜ 나이들수록 ...</td>\n",
       "      <td>2023.09.14</td>\n",
       "      <td>5점만점에 5점</td>\n",
       "    </tr>\n",
       "  </tbody>\n",
       "</table>\n",
       "</div>"
      ],
      "text/plain": [
       "   Unnamed: 0                          product_name review_name  \\\n",
       "0           0  [주현영, 이나연 찐템]딥트 3일 피치(맛)번 30정 (30일분)        보리오빠   \n",
       "1           1  [주현영, 이나연 찐템]딥트 3일 피치(맛)번 30정 (30일분)        바보바니   \n",
       "\n",
       "                                      review_content review_date review_rating  \n",
       "0  없으면 안될 최고의 diet템! 피치번을 추천합니당 ㅎㅎ 사진엔 없지만 4통째 먹고...  2023.08.27      5점만점에 5점  \n",
       "1  알약 통통이하트 넘예뻐요. 자기전 먹고 효과있으면 얼마나 좋을까요 ㅜㅜ 나이들수록 ...  2023.09.14      5점만점에 5점  "
      ]
     },
     "execution_count": 3,
     "metadata": {},
     "output_type": "execute_result"
    }
   ],
   "source": [
    "df = pd.read_csv('../datasets/oliveyoung_wemake_data.csv')\n",
    "df[:2]"
   ]
  },
  {
   "cell_type": "markdown",
   "id": "eeab572a-31cd-42ff-b3f0-1873bd25422d",
   "metadata": {
    "jp-MarkdownHeadingCollapsed": true,
    "tags": []
   },
   "source": [
    "### 결측치 처리 "
   ]
  },
  {
   "cell_type": "code",
   "execution_count": 4,
   "id": "b7a59053-94e4-4ab2-9b6f-48eda75171b7",
   "metadata": {
    "tags": []
   },
   "outputs": [
    {
     "name": "stdout",
     "output_type": "stream",
     "text": [
      "<class 'pandas.core.frame.DataFrame'>\n",
      "RangeIndex: 4589 entries, 0 to 4588\n",
      "Data columns (total 6 columns):\n",
      " #   Column          Non-Null Count  Dtype \n",
      "---  ------          --------------  ----- \n",
      " 0   Unnamed: 0      4589 non-null   int64 \n",
      " 1   product_name    4589 non-null   object\n",
      " 2   review_name     4570 non-null   object\n",
      " 3   review_content  3900 non-null   object\n",
      " 4   review_date     4463 non-null   object\n",
      " 5   review_rating   4423 non-null   object\n",
      "dtypes: int64(1), object(5)\n",
      "memory usage: 215.2+ KB\n"
     ]
    }
   ],
   "source": [
    "df.info()"
   ]
  },
  {
   "cell_type": "code",
   "execution_count": 5,
   "id": "8ccc43d9-9c57-47e4-9558-f763acaa8e3f",
   "metadata": {
    "tags": []
   },
   "outputs": [
    {
     "data": {
      "text/plain": [
       "Unnamed: 0          0\n",
       "product_name        0\n",
       "review_name        19\n",
       "review_content    689\n",
       "review_date       126\n",
       "review_rating     166\n",
       "dtype: int64"
      ]
     },
     "execution_count": 5,
     "metadata": {},
     "output_type": "execute_result"
    }
   ],
   "source": [
    "df.isnull().sum()"
   ]
  },
  {
   "cell_type": "code",
   "execution_count": 6,
   "id": "52ef8d3f-d0ff-4248-9d42-1441e9d9fa11",
   "metadata": {
    "tags": []
   },
   "outputs": [],
   "source": [
    "df_dropna = df.dropna()"
   ]
  },
  {
   "cell_type": "code",
   "execution_count": 7,
   "id": "5b35e638-5d6b-4db2-af59-d5664163232b",
   "metadata": {
    "tags": []
   },
   "outputs": [
    {
     "data": {
      "text/plain": [
       "Unnamed: 0        0\n",
       "product_name      0\n",
       "review_name       0\n",
       "review_content    0\n",
       "review_date       0\n",
       "review_rating     0\n",
       "dtype: int64"
      ]
     },
     "execution_count": 7,
     "metadata": {},
     "output_type": "execute_result"
    }
   ],
   "source": [
    "df_dropna.isnull().sum()"
   ]
  },
  {
   "cell_type": "code",
   "execution_count": 8,
   "id": "094c5f32-1690-462d-8b7a-74b73c541e09",
   "metadata": {
    "tags": []
   },
   "outputs": [
    {
     "data": {
      "text/html": [
       "<div>\n",
       "<style scoped>\n",
       "    .dataframe tbody tr th:only-of-type {\n",
       "        vertical-align: middle;\n",
       "    }\n",
       "\n",
       "    .dataframe tbody tr th {\n",
       "        vertical-align: top;\n",
       "    }\n",
       "\n",
       "    .dataframe thead th {\n",
       "        text-align: right;\n",
       "    }\n",
       "</style>\n",
       "<table border=\"1\" class=\"dataframe\">\n",
       "  <thead>\n",
       "    <tr style=\"text-align: right;\">\n",
       "      <th></th>\n",
       "      <th>Unnamed: 0</th>\n",
       "      <th>product_name</th>\n",
       "      <th>review_name</th>\n",
       "      <th>review_content</th>\n",
       "      <th>review_date</th>\n",
       "      <th>review_rating</th>\n",
       "    </tr>\n",
       "  </thead>\n",
       "  <tbody>\n",
       "    <tr>\n",
       "      <th>3</th>\n",
       "      <td>3</td>\n",
       "      <td>[주현영, 이나연 찐템]딥트 3일 피치(맛)번 30정 (30일분)</td>\n",
       "      <td>히드돈이</td>\n",
       "      <td>먹으면 달달한 사탕맛이 나는데\\n2-3초 빨아 먹으면 달달구리는 다 녹아서 맛없는 ...</td>\n",
       "      <td>2023.09.04</td>\n",
       "      <td>5점만점에 5점</td>\n",
       "    </tr>\n",
       "    <tr>\n",
       "      <th>4</th>\n",
       "      <td>4</td>\n",
       "      <td>[주현영, 이나연 찐템]딥트 3일 피치(맛)번 30정 (30일분)</td>\n",
       "      <td>짱구덕휴</td>\n",
       "      <td>효과는 모르겠지만 덜찌는것 같아요\\n알약이 이쁘고 입안에 들어갔을때 역하지않아서 좋습니다</td>\n",
       "      <td>2023.09.04</td>\n",
       "      <td>5점만점에 5점</td>\n",
       "    </tr>\n",
       "    <tr>\n",
       "      <th>5</th>\n",
       "      <td>5</td>\n",
       "      <td>[주현영, 이나연 찐템]딥트 3일 피치(맛)번 30정 (30일분)</td>\n",
       "      <td>하늘색벽지</td>\n",
       "      <td>효과가 가장 있는 제품인 것 같아요!\\n너무 좋습니다!\\n세일기간만 기다리고 있습니...</td>\n",
       "      <td>2023.08.25</td>\n",
       "      <td>5점만점에 5점</td>\n",
       "    </tr>\n",
       "    <tr>\n",
       "      <th>6</th>\n",
       "      <td>6</td>\n",
       "      <td>[주현영, 이나연 찐템]딥트 3일 피치(맛)번 30정 (30일분)</td>\n",
       "      <td>IMIN</td>\n",
       "      <td>연달아서 먹어야 효과를 알텐데 약 때문에 꾸준히 못먹어봐서 잘 모르겠어요 그래도 혹...</td>\n",
       "      <td>2023.08.25</td>\n",
       "      <td>5점만점에 5점</td>\n",
       "    </tr>\n",
       "    <tr>\n",
       "      <th>7</th>\n",
       "      <td>7</td>\n",
       "      <td>[주현영, 이나연 찐템]딥트 3일 피치(맛)번 30정 (30일분)</td>\n",
       "      <td>수아짱</td>\n",
       "      <td>식단만으로 부족해서 도움받으려고 구매했어요 자기 전 한알 신기하네요</td>\n",
       "      <td>2023.09.10</td>\n",
       "      <td>5점만점에 4점</td>\n",
       "    </tr>\n",
       "    <tr>\n",
       "      <th>...</th>\n",
       "      <td>...</td>\n",
       "      <td>...</td>\n",
       "      <td>...</td>\n",
       "      <td>...</td>\n",
       "      <td>...</td>\n",
       "      <td>...</td>\n",
       "    </tr>\n",
       "    <tr>\n",
       "      <th>4583</th>\n",
       "      <td>1367</td>\n",
       "      <td>[4+1] 락토페린 산양유 초유 단백질 분말 스틱 (2g x 30포) / 네덜란드산...</td>\n",
       "      <td>oke*******</td>\n",
       "      <td>친정엄마께 드릴려고 삽니다.산양유 드셔보고싶어하셔서 좋은기회인것같아요</td>\n",
       "      <td>2023.01.03</td>\n",
       "      <td>5.0</td>\n",
       "    </tr>\n",
       "    <tr>\n",
       "      <th>4584</th>\n",
       "      <td>1368</td>\n",
       "      <td>[4+1] 락토페린 산양유 초유 단백질 분말 스틱 (2g x 30포) / 네덜란드산...</td>\n",
       "      <td>whg******</td>\n",
       "      <td>산양유 단백질 광고보고 어떤지 구매해봤어요. 많이 달지도 않고 먹기 편하고 좋네요.^^</td>\n",
       "      <td>2022.12.14</td>\n",
       "      <td>4.0</td>\n",
       "    </tr>\n",
       "    <tr>\n",
       "      <th>4585</th>\n",
       "      <td>1369</td>\n",
       "      <td>[4+1] 락토페린 산양유 초유 단백질 분말 스틱 (2g x 30포) / 네덜란드산...</td>\n",
       "      <td>app*****</td>\n",
       "      <td>꾸준히 먹고는있는데 어디가 좋아지는건지..맛있어서 매일 챙겨먹고는 있어요</td>\n",
       "      <td>2023.01.31</td>\n",
       "      <td>4.0</td>\n",
       "    </tr>\n",
       "    <tr>\n",
       "      <th>4586</th>\n",
       "      <td>1370</td>\n",
       "      <td>테이크핏 맥스 바나나맛 250ml X 24입</td>\n",
       "      <td>jih******</td>\n",
       "      <td>뭔가 끈적거려서 보니 제품 하나가 찢어져 있었어요.</td>\n",
       "      <td>2023.09.20</td>\n",
       "      <td>3.0</td>\n",
       "    </tr>\n",
       "    <tr>\n",
       "      <th>4587</th>\n",
       "      <td>1371</td>\n",
       "      <td>테이크핏 맥스 바나나맛 250ml X 24입</td>\n",
       "      <td>jsh****</td>\n",
       "      <td>가격 배송 모두 만족합니다</td>\n",
       "      <td>2023.05.20</td>\n",
       "      <td>5.0</td>\n",
       "    </tr>\n",
       "  </tbody>\n",
       "</table>\n",
       "<p>3810 rows × 6 columns</p>\n",
       "</div>"
      ],
      "text/plain": [
       "      Unnamed: 0                                       product_name  \\\n",
       "3              3               [주현영, 이나연 찐템]딥트 3일 피치(맛)번 30정 (30일분)   \n",
       "4              4               [주현영, 이나연 찐템]딥트 3일 피치(맛)번 30정 (30일분)   \n",
       "5              5               [주현영, 이나연 찐템]딥트 3일 피치(맛)번 30정 (30일분)   \n",
       "6              6               [주현영, 이나연 찐템]딥트 3일 피치(맛)번 30정 (30일분)   \n",
       "7              7               [주현영, 이나연 찐템]딥트 3일 피치(맛)번 30정 (30일분)   \n",
       "...          ...                                                ...   \n",
       "4583        1367  [4+1] 락토페린 산양유 초유 단백질 분말 스틱 (2g x 30포) / 네덜란드산...   \n",
       "4584        1368  [4+1] 락토페린 산양유 초유 단백질 분말 스틱 (2g x 30포) / 네덜란드산...   \n",
       "4585        1369  [4+1] 락토페린 산양유 초유 단백질 분말 스틱 (2g x 30포) / 네덜란드산...   \n",
       "4586        1370                           테이크핏 맥스 바나나맛 250ml X 24입   \n",
       "4587        1371                           테이크핏 맥스 바나나맛 250ml X 24입   \n",
       "\n",
       "     review_name                                     review_content  \\\n",
       "3           히드돈이  먹으면 달달한 사탕맛이 나는데\\n2-3초 빨아 먹으면 달달구리는 다 녹아서 맛없는 ...   \n",
       "4           짱구덕휴  효과는 모르겠지만 덜찌는것 같아요\\n알약이 이쁘고 입안에 들어갔을때 역하지않아서 좋습니다   \n",
       "5          하늘색벽지  효과가 가장 있는 제품인 것 같아요!\\n너무 좋습니다!\\n세일기간만 기다리고 있습니...   \n",
       "6           IMIN  연달아서 먹어야 효과를 알텐데 약 때문에 꾸준히 못먹어봐서 잘 모르겠어요 그래도 혹...   \n",
       "7            수아짱              식단만으로 부족해서 도움받으려고 구매했어요 자기 전 한알 신기하네요   \n",
       "...          ...                                                ...   \n",
       "4583  oke*******             친정엄마께 드릴려고 삽니다.산양유 드셔보고싶어하셔서 좋은기회인것같아요   \n",
       "4584   whg******   산양유 단백질 광고보고 어떤지 구매해봤어요. 많이 달지도 않고 먹기 편하고 좋네요.^^   \n",
       "4585    app*****           꾸준히 먹고는있는데 어디가 좋아지는건지..맛있어서 매일 챙겨먹고는 있어요   \n",
       "4586   jih******                       뭔가 끈적거려서 보니 제품 하나가 찢어져 있었어요.   \n",
       "4587     jsh****                                     가격 배송 모두 만족합니다   \n",
       "\n",
       "     review_date review_rating  \n",
       "3     2023.09.04      5점만점에 5점  \n",
       "4     2023.09.04      5점만점에 5점  \n",
       "5     2023.08.25      5점만점에 5점  \n",
       "6     2023.08.25      5점만점에 5점  \n",
       "7     2023.09.10      5점만점에 4점  \n",
       "...          ...           ...  \n",
       "4583  2023.01.03           5.0  \n",
       "4584  2022.12.14           4.0  \n",
       "4585  2023.01.31           4.0  \n",
       "4586  2023.09.20           3.0  \n",
       "4587  2023.05.20           5.0  \n",
       "\n",
       "[3810 rows x 6 columns]"
      ]
     },
     "execution_count": 8,
     "metadata": {},
     "output_type": "execute_result"
    }
   ],
   "source": [
    "df_dropna[3:]"
   ]
  },
  {
   "cell_type": "markdown",
   "id": "b608ed5c-2dac-4908-9c8d-4dcfce21effe",
   "metadata": {
    "jp-MarkdownHeadingCollapsed": true,
    "tags": []
   },
   "source": [
    "## 자연어 전처리 "
   ]
  },
  {
   "cell_type": "markdown",
   "id": "4d741eac-cd08-48c6-a62a-d92f6b36f2fc",
   "metadata": {
    "tags": []
   },
   "source": [
    "### 형태소 분석"
   ]
  },
  {
   "cell_type": "code",
   "execution_count": 9,
   "id": "45086603-de37-4259-8beb-fbf8b474a56c",
   "metadata": {
    "tags": []
   },
   "outputs": [],
   "source": [
    "from konlpy.tag import Okt\n",
    "okt = Okt()"
   ]
  },
  {
   "cell_type": "code",
   "execution_count": 10,
   "id": "5416dc0d-0dad-425d-a7e4-a62372af1462",
   "metadata": {
    "tags": []
   },
   "outputs": [],
   "source": [
    "content = list(df_dropna['review_content']) "
   ]
  },
  {
   "cell_type": "code",
   "execution_count": 11,
   "id": "fcf6de4c-9bfa-4cb0-9326-5e97a20a4e99",
   "metadata": {
    "tags": []
   },
   "outputs": [],
   "source": [
    "sentence = ' '.join(content) # 한줄로 만들기 "
   ]
  },
  {
   "cell_type": "code",
   "execution_count": 12,
   "id": "62f77518-63da-4d3a-a907-25da31d083db",
   "metadata": {
    "tags": []
   },
   "outputs": [],
   "source": [
    "word_tokens = okt.morphs(sentence)"
   ]
  },
  {
   "cell_type": "code",
   "execution_count": 13,
   "id": "ff544a22-5996-466a-afd6-718febdb5f83",
   "metadata": {
    "tags": []
   },
   "outputs": [],
   "source": [
    "word_pos = okt.pos(sentence)"
   ]
  },
  {
   "cell_type": "markdown",
   "id": "95a7698d-23e3-42ab-91d6-46ae4c29fc0c",
   "metadata": {},
   "source": [
    "### 불필요한 심볼 없애기 "
   ]
  },
  {
   "cell_type": "code",
   "execution_count": 14,
   "id": "c4980254-1a7f-4fea-bc54-540b9eb8c9ca",
   "metadata": {
    "tags": []
   },
   "outputs": [],
   "source": [
    "# 쉼표, 엔터 등등의 값 대체 \n",
    "# filtered_content = df_dropna['review_content'].replace('.', '').replace(',','').replace(\"'\",\"\").replace('·', ' ').replace('=','').replace('\\n','').replace('\\\\n',' ').replace('\\\\n\\\\n','  ')\n",
    "# list(filtered_content)"
   ]
  },
  {
   "cell_type": "markdown",
   "id": "0aa4f929-91cc-41e5-a550-643a23d148fc",
   "metadata": {
    "tags": []
   },
   "source": [
    "### 불용어 처리 "
   ]
  },
  {
   "cell_type": "code",
   "execution_count": 15,
   "id": "ece4ea02-ba90-4c40-b4aa-8819dda45145",
   "metadata": {
    "tags": []
   },
   "outputs": [
    {
     "ename": "FileNotFoundError",
     "evalue": "[Errno 2] No such file or directory: '../datasets/koreanStopwords.txt'",
     "output_type": "error",
     "traceback": [
      "\u001b[1;31m---------------------------------------------------------------------------\u001b[0m",
      "\u001b[1;31mFileNotFoundError\u001b[0m                         Traceback (most recent call last)",
      "Cell \u001b[1;32mIn[15], line 1\u001b[0m\n\u001b[1;32m----> 1\u001b[0m stop_words \u001b[38;5;241m=\u001b[39m pd\u001b[38;5;241m.\u001b[39mread_csv(\u001b[38;5;124m'\u001b[39m\u001b[38;5;124m../datasets/koreanStopwords.txt\u001b[39m\u001b[38;5;124m'\u001b[39m, header\u001b[38;5;241m=\u001b[39m\u001b[38;5;28;01mNone\u001b[39;00m, encoding \u001b[38;5;241m=\u001b[39m\u001b[38;5;124m'\u001b[39m\u001b[38;5;124mutf-8\u001b[39m\u001b[38;5;124m'\u001b[39m)\n\u001b[0;32m      2\u001b[0m \u001b[38;5;66;03m#stop_words = stop_words[0]\u001b[39;00m\n\u001b[0;32m      3\u001b[0m stop_words\u001b[38;5;241m=\u001b[39m stop_words[\u001b[38;5;241m0\u001b[39m]\u001b[38;5;241m.\u001b[39mvalues\n",
      "File \u001b[1;32m~\\anaconda3\\Lib\\site-packages\\pandas\\io\\parsers\\readers.py:948\u001b[0m, in \u001b[0;36mread_csv\u001b[1;34m(filepath_or_buffer, sep, delimiter, header, names, index_col, usecols, dtype, engine, converters, true_values, false_values, skipinitialspace, skiprows, skipfooter, nrows, na_values, keep_default_na, na_filter, verbose, skip_blank_lines, parse_dates, infer_datetime_format, keep_date_col, date_parser, date_format, dayfirst, cache_dates, iterator, chunksize, compression, thousands, decimal, lineterminator, quotechar, quoting, doublequote, escapechar, comment, encoding, encoding_errors, dialect, on_bad_lines, delim_whitespace, low_memory, memory_map, float_precision, storage_options, dtype_backend)\u001b[0m\n\u001b[0;32m    935\u001b[0m kwds_defaults \u001b[38;5;241m=\u001b[39m _refine_defaults_read(\n\u001b[0;32m    936\u001b[0m     dialect,\n\u001b[0;32m    937\u001b[0m     delimiter,\n\u001b[1;32m   (...)\u001b[0m\n\u001b[0;32m    944\u001b[0m     dtype_backend\u001b[38;5;241m=\u001b[39mdtype_backend,\n\u001b[0;32m    945\u001b[0m )\n\u001b[0;32m    946\u001b[0m kwds\u001b[38;5;241m.\u001b[39mupdate(kwds_defaults)\n\u001b[1;32m--> 948\u001b[0m \u001b[38;5;28;01mreturn\u001b[39;00m _read(filepath_or_buffer, kwds)\n",
      "File \u001b[1;32m~\\anaconda3\\Lib\\site-packages\\pandas\\io\\parsers\\readers.py:611\u001b[0m, in \u001b[0;36m_read\u001b[1;34m(filepath_or_buffer, kwds)\u001b[0m\n\u001b[0;32m    608\u001b[0m _validate_names(kwds\u001b[38;5;241m.\u001b[39mget(\u001b[38;5;124m\"\u001b[39m\u001b[38;5;124mnames\u001b[39m\u001b[38;5;124m\"\u001b[39m, \u001b[38;5;28;01mNone\u001b[39;00m))\n\u001b[0;32m    610\u001b[0m \u001b[38;5;66;03m# Create the parser.\u001b[39;00m\n\u001b[1;32m--> 611\u001b[0m parser \u001b[38;5;241m=\u001b[39m TextFileReader(filepath_or_buffer, \u001b[38;5;241m*\u001b[39m\u001b[38;5;241m*\u001b[39mkwds)\n\u001b[0;32m    613\u001b[0m \u001b[38;5;28;01mif\u001b[39;00m chunksize \u001b[38;5;129;01mor\u001b[39;00m iterator:\n\u001b[0;32m    614\u001b[0m     \u001b[38;5;28;01mreturn\u001b[39;00m parser\n",
      "File \u001b[1;32m~\\anaconda3\\Lib\\site-packages\\pandas\\io\\parsers\\readers.py:1448\u001b[0m, in \u001b[0;36mTextFileReader.__init__\u001b[1;34m(self, f, engine, **kwds)\u001b[0m\n\u001b[0;32m   1445\u001b[0m     \u001b[38;5;28mself\u001b[39m\u001b[38;5;241m.\u001b[39moptions[\u001b[38;5;124m\"\u001b[39m\u001b[38;5;124mhas_index_names\u001b[39m\u001b[38;5;124m\"\u001b[39m] \u001b[38;5;241m=\u001b[39m kwds[\u001b[38;5;124m\"\u001b[39m\u001b[38;5;124mhas_index_names\u001b[39m\u001b[38;5;124m\"\u001b[39m]\n\u001b[0;32m   1447\u001b[0m \u001b[38;5;28mself\u001b[39m\u001b[38;5;241m.\u001b[39mhandles: IOHandles \u001b[38;5;241m|\u001b[39m \u001b[38;5;28;01mNone\u001b[39;00m \u001b[38;5;241m=\u001b[39m \u001b[38;5;28;01mNone\u001b[39;00m\n\u001b[1;32m-> 1448\u001b[0m \u001b[38;5;28mself\u001b[39m\u001b[38;5;241m.\u001b[39m_engine \u001b[38;5;241m=\u001b[39m \u001b[38;5;28mself\u001b[39m\u001b[38;5;241m.\u001b[39m_make_engine(f, \u001b[38;5;28mself\u001b[39m\u001b[38;5;241m.\u001b[39mengine)\n",
      "File \u001b[1;32m~\\anaconda3\\Lib\\site-packages\\pandas\\io\\parsers\\readers.py:1705\u001b[0m, in \u001b[0;36mTextFileReader._make_engine\u001b[1;34m(self, f, engine)\u001b[0m\n\u001b[0;32m   1703\u001b[0m     \u001b[38;5;28;01mif\u001b[39;00m \u001b[38;5;124m\"\u001b[39m\u001b[38;5;124mb\u001b[39m\u001b[38;5;124m\"\u001b[39m \u001b[38;5;129;01mnot\u001b[39;00m \u001b[38;5;129;01min\u001b[39;00m mode:\n\u001b[0;32m   1704\u001b[0m         mode \u001b[38;5;241m+\u001b[39m\u001b[38;5;241m=\u001b[39m \u001b[38;5;124m\"\u001b[39m\u001b[38;5;124mb\u001b[39m\u001b[38;5;124m\"\u001b[39m\n\u001b[1;32m-> 1705\u001b[0m \u001b[38;5;28mself\u001b[39m\u001b[38;5;241m.\u001b[39mhandles \u001b[38;5;241m=\u001b[39m get_handle(\n\u001b[0;32m   1706\u001b[0m     f,\n\u001b[0;32m   1707\u001b[0m     mode,\n\u001b[0;32m   1708\u001b[0m     encoding\u001b[38;5;241m=\u001b[39m\u001b[38;5;28mself\u001b[39m\u001b[38;5;241m.\u001b[39moptions\u001b[38;5;241m.\u001b[39mget(\u001b[38;5;124m\"\u001b[39m\u001b[38;5;124mencoding\u001b[39m\u001b[38;5;124m\"\u001b[39m, \u001b[38;5;28;01mNone\u001b[39;00m),\n\u001b[0;32m   1709\u001b[0m     compression\u001b[38;5;241m=\u001b[39m\u001b[38;5;28mself\u001b[39m\u001b[38;5;241m.\u001b[39moptions\u001b[38;5;241m.\u001b[39mget(\u001b[38;5;124m\"\u001b[39m\u001b[38;5;124mcompression\u001b[39m\u001b[38;5;124m\"\u001b[39m, \u001b[38;5;28;01mNone\u001b[39;00m),\n\u001b[0;32m   1710\u001b[0m     memory_map\u001b[38;5;241m=\u001b[39m\u001b[38;5;28mself\u001b[39m\u001b[38;5;241m.\u001b[39moptions\u001b[38;5;241m.\u001b[39mget(\u001b[38;5;124m\"\u001b[39m\u001b[38;5;124mmemory_map\u001b[39m\u001b[38;5;124m\"\u001b[39m, \u001b[38;5;28;01mFalse\u001b[39;00m),\n\u001b[0;32m   1711\u001b[0m     is_text\u001b[38;5;241m=\u001b[39mis_text,\n\u001b[0;32m   1712\u001b[0m     errors\u001b[38;5;241m=\u001b[39m\u001b[38;5;28mself\u001b[39m\u001b[38;5;241m.\u001b[39moptions\u001b[38;5;241m.\u001b[39mget(\u001b[38;5;124m\"\u001b[39m\u001b[38;5;124mencoding_errors\u001b[39m\u001b[38;5;124m\"\u001b[39m, \u001b[38;5;124m\"\u001b[39m\u001b[38;5;124mstrict\u001b[39m\u001b[38;5;124m\"\u001b[39m),\n\u001b[0;32m   1713\u001b[0m     storage_options\u001b[38;5;241m=\u001b[39m\u001b[38;5;28mself\u001b[39m\u001b[38;5;241m.\u001b[39moptions\u001b[38;5;241m.\u001b[39mget(\u001b[38;5;124m\"\u001b[39m\u001b[38;5;124mstorage_options\u001b[39m\u001b[38;5;124m\"\u001b[39m, \u001b[38;5;28;01mNone\u001b[39;00m),\n\u001b[0;32m   1714\u001b[0m )\n\u001b[0;32m   1715\u001b[0m \u001b[38;5;28;01massert\u001b[39;00m \u001b[38;5;28mself\u001b[39m\u001b[38;5;241m.\u001b[39mhandles \u001b[38;5;129;01mis\u001b[39;00m \u001b[38;5;129;01mnot\u001b[39;00m \u001b[38;5;28;01mNone\u001b[39;00m\n\u001b[0;32m   1716\u001b[0m f \u001b[38;5;241m=\u001b[39m \u001b[38;5;28mself\u001b[39m\u001b[38;5;241m.\u001b[39mhandles\u001b[38;5;241m.\u001b[39mhandle\n",
      "File \u001b[1;32m~\\anaconda3\\Lib\\site-packages\\pandas\\io\\common.py:872\u001b[0m, in \u001b[0;36mget_handle\u001b[1;34m(path_or_buf, mode, encoding, compression, memory_map, is_text, errors, storage_options)\u001b[0m\n\u001b[0;32m    863\u001b[0m         handle \u001b[38;5;241m=\u001b[39m \u001b[38;5;28mopen\u001b[39m(\n\u001b[0;32m    864\u001b[0m             handle,\n\u001b[0;32m    865\u001b[0m             ioargs\u001b[38;5;241m.\u001b[39mmode,\n\u001b[1;32m   (...)\u001b[0m\n\u001b[0;32m    868\u001b[0m             newline\u001b[38;5;241m=\u001b[39m\u001b[38;5;124m\"\u001b[39m\u001b[38;5;124m\"\u001b[39m,\n\u001b[0;32m    869\u001b[0m         )\n\u001b[0;32m    870\u001b[0m     \u001b[38;5;28;01melse\u001b[39;00m:\n\u001b[0;32m    871\u001b[0m         \u001b[38;5;66;03m# Binary mode\u001b[39;00m\n\u001b[1;32m--> 872\u001b[0m         handle \u001b[38;5;241m=\u001b[39m \u001b[38;5;28mopen\u001b[39m(handle, ioargs\u001b[38;5;241m.\u001b[39mmode)\n\u001b[0;32m    873\u001b[0m     handles\u001b[38;5;241m.\u001b[39mappend(handle)\n\u001b[0;32m    875\u001b[0m \u001b[38;5;66;03m# Convert BytesIO or file objects passed with an encoding\u001b[39;00m\n",
      "\u001b[1;31mFileNotFoundError\u001b[0m: [Errno 2] No such file or directory: '../datasets/koreanStopwords.txt'"
     ]
    }
   ],
   "source": [
    "stop_words = pd.read_csv('../datasets/koreanStopwords.txt', header=None, encoding ='utf-8')\n",
    "#stop_words = stop_words[0]\n",
    "stop_words= stop_words[0].values"
   ]
  },
  {
   "cell_type": "code",
   "execution_count": null,
   "id": "6de2d36c-2f0e-44dd-a04a-f8ae61567507",
   "metadata": {
    "tags": []
   },
   "outputs": [],
   "source": [
    "one_char_keyword = pd.read_csv('../datasets/one_char_list.txt', header=None, encoding ='utf-8')\n",
    "one_char_keyword = one_char_keyword[0].values"
   ]
  },
  {
   "cell_type": "code",
   "execution_count": null,
   "id": "490e2497-e839-445c-9de2-ad75e7ed6fda",
   "metadata": {
    "tags": []
   },
   "outputs": [],
   "source": [
    "from konlpy.tag import Okt\n",
    "okt = Okt()\n",
    "from mecab import MeCab\n",
    "mecab = MeCab()"
   ]
  },
  {
   "cell_type": "code",
   "execution_count": null,
   "id": "b64e2d83-87f2-421e-ac91-9b65b5a85a07",
   "metadata": {
    "tags": []
   },
   "outputs": [],
   "source": [
    "# 토크나이징 함수 정의\n",
    "def remove_stopword(raw, pos=[\"Noun\",\"Alpha\",\"Verb\",\"Number\",\"Adjective\"], stopword=stop_words):\n",
    "    tokens = [\n",
    "        word for word, tag in okt.pos(\n",
    "            raw, \n",
    "            norm=True,   # normalize 그랰ㅋㅏ -> 그래ㅋㅋ\n",
    "            stem=True    # stemming 바뀌나->바뀌다\n",
    "            )\n",
    "            if len(word) > 1 and tag in pos and word not in stopword\n",
    "\n",
    "    ]\n",
    "    return ' '.join(tokens)  # 결과 리스트를 문자열로 결합하여 반환"
   ]
  },
  {
   "cell_type": "code",
   "execution_count": null,
   "id": "3f29e549-f28c-4162-956d-76aa1b32a94d",
   "metadata": {
    "tags": []
   },
   "outputs": [],
   "source": [
    "# 토크나이징 함수 정의(불용어, 한글자 처리)\n",
    "def remove_stopword(raw, pos=[\"Noun\",\"Alpha\",\"Verb\",\"Number\",\"Adjective\"], stopword=stop_words):\n",
    "    tokens = []\n",
    "    for word, tag in okt.pos(\n",
    "        raw, \n",
    "        norm=True,   # normalize 그랰ㅋㅏ -> 그래ㅋㅋ\n",
    "        stem=True    # stemming 바뀌나->바뀌다\n",
    "    ):\n",
    "        if len(word) > 1 and tag in pos and word not in stopword:\n",
    "            tokens.append(word)\n",
    "        elif len(word) == 1 and word in list(one_char_keyword):\n",
    "            tokens.append(word)\n",
    "    return ' '.join(tokens)  # 결과 리스트를 문자열로 결합하여 반환"
   ]
  },
  {
   "cell_type": "code",
   "execution_count": null,
   "id": "2b2d2ff4-d0ce-4777-b67a-4b690dea9a0e",
   "metadata": {
    "tags": []
   },
   "outputs": [],
   "source": [
    "## 함수적용 \n",
    "df_dropna['tokenized_review'] = df_dropna['review_content'].apply(remove_stopword)\n",
    "df_dropna[:2]"
   ]
  },
  {
   "cell_type": "code",
   "execution_count": null,
   "id": "7863e2d0-7cd2-443c-bcb9-b87301b2d904",
   "metadata": {
    "tags": []
   },
   "outputs": [],
   "source": [
    "# 확인용 \n",
    "test_sentence = \"이 문장은 불용어 처리가 되어야 합니다. 가다 하다 있다 되다 먹다\"\n",
    "tokens_test = remove_stopword(test_sentence)\n",
    "print(tokens_test)"
   ]
  },
  {
   "cell_type": "markdown",
   "id": "740916ed-0376-49b9-bee7-ad20c0893705",
   "metadata": {
    "jp-MarkdownHeadingCollapsed": true,
    "tags": []
   },
   "source": [
    "### 빈도수 계산 "
   ]
  },
  {
   "cell_type": "code",
   "execution_count": null,
   "id": "542df0cf-246a-4022-a0c3-dd1242f3c7fd",
   "metadata": {
    "tags": []
   },
   "outputs": [],
   "source": [
    "from collections import Counter\n",
    "from wordcloud import WordCloud"
   ]
  },
  {
   "cell_type": "code",
   "execution_count": null,
   "id": "ef23430f-318b-4d20-b150-2e536de09e93",
   "metadata": {
    "tags": []
   },
   "outputs": [],
   "source": [
    "sentence_tokenized= ' '.join(list(df_dropna['tokenized_review'])) # 한줄로 만들기 "
   ]
  },
  {
   "cell_type": "code",
   "execution_count": null,
   "id": "cc712d2e-c239-4d59-91d0-669fef4977e2",
   "metadata": {
    "tags": []
   },
   "outputs": [],
   "source": [
    "sentence_split = sentence_tokenized.split()"
   ]
  },
  {
   "cell_type": "code",
   "execution_count": null,
   "id": "4edbe557-7e2c-4762-aec6-88b03074f429",
   "metadata": {
    "tags": []
   },
   "outputs": [],
   "source": [
    "# counter를 이용해서 중복 여부 count\n",
    "count = Counter(sentence_split)\n",
    "\n",
    "# 한글 폰트 경로 설정 (Windows 환경에 맞게 경로 수정)\n",
    "font_path = 'C:/Windows/Fonts/malgun.ttf'\n",
    "\n",
    "wordCloud = WordCloud(font_path=font_path, background_color='white') #인스턴스화 \n",
    "wordCloud.generate_from_frequencies(count)"
   ]
  },
  {
   "cell_type": "code",
   "execution_count": null,
   "id": "494db0df-1cac-45ca-9320-e607370c8cab",
   "metadata": {
    "tags": []
   },
   "outputs": [],
   "source": [
    "# count \n",
    "wordCloud.words_ "
   ]
  },
  {
   "cell_type": "code",
   "execution_count": null,
   "id": "38ea406f-196c-4b31-b8e1-935a50655cc1",
   "metadata": {
    "tags": []
   },
   "outputs": [],
   "source": [
    "from sklearn.feature_extraction.text import CountVectorizer, TfidfVectorizer\n",
    "countVectorizer = CountVectorizer() # 인스턴스화\n",
    "countVectorizer.fit(count)"
   ]
  },
  {
   "cell_type": "code",
   "execution_count": null,
   "id": "1667d2fa-ff2d-44d5-a00a-aee1041ea8d2",
   "metadata": {
    "tags": []
   },
   "outputs": [],
   "source": [
    "countVectorizer.vocabulary_  #텍스트 데이터를 벡터화  #단어-인덱스 매핑\n",
    "# 특정 단어가 벡터의 어떤 위치에 해당하는지를 파악하는 데 도움"
   ]
  },
  {
   "cell_type": "code",
   "execution_count": null,
   "id": "13a1fa4a-20fe-4e2a-8f28-3a87bb8dee87",
   "metadata": {
    "tags": []
   },
   "outputs": [],
   "source": [
    "import matplotlib.pyplot as plt\n",
    "plt.imshow(wordCloud)\n",
    "plt.axis('off') \n",
    "plt.show()"
   ]
  },
  {
   "cell_type": "code",
   "execution_count": null,
   "id": "bf4ee249-7c90-4c69-917a-ccd19c3d45fb",
   "metadata": {
    "tags": []
   },
   "outputs": [],
   "source": [
    "import seaborn as sns\n",
    "import matplotlib.pyplot as plt\n",
    "\n",
    "\n",
    "## 막대그래프 그리기 "
   ]
  },
  {
   "cell_type": "markdown",
   "id": "5c632990-4ebb-43ee-a0b0-6345c129a725",
   "metadata": {
    "tags": []
   },
   "source": [
    "### 유사어 대치 "
   ]
  },
  {
   "cell_type": "code",
   "execution_count": null,
   "id": "27b3ef03-38b8-47dd-b027-58acc6fd0935",
   "metadata": {
    "tags": []
   },
   "outputs": [],
   "source": [
    "df_replace_list = pd.read_csv('../datasets/replace_list.csv')\n",
    "df_replace_list[:3]"
   ]
  },
  {
   "cell_type": "code",
   "execution_count": null,
   "id": "28dbd10a-b01f-40a2-8688-a20b906990ea",
   "metadata": {},
   "outputs": [],
   "source": [
    "def replace_word(tokenized_review):\n",
    "    replaced_review = str()\n",
    "    for i in range(len(df_replace_list['before_replacement'])):\n",
    "        try:\n",
    "          # 치환할 단어가 있는 경우에만 데이터 치환 수행\n",
    "          if df_replace_list['before_replacement'][i] in tokenized_review:\n",
    "            tokenized_review = tokenized_review.replace(df_replace_list['before_replacement'][i], df_replace_list['after_replacement'][i])\n",
    "        except Exception as e:\n",
    "            print(f\"Error 발생 / 에러명: {e}\")\n",
    "    return tokenized_review"
   ]
  },
  {
   "cell_type": "code",
   "execution_count": null,
   "id": "17ea81eb-2252-4311-9842-a62228e491e6",
   "metadata": {
    "tags": []
   },
   "outputs": [],
   "source": [
    "## 확인용 \n",
    "replace_word('어트 stess 살이 빠지다 피치 달달 단맛')"
   ]
  },
  {
   "cell_type": "code",
   "execution_count": null,
   "id": "733f6f56-ef4c-4fd0-bcdd-03524aefb267",
   "metadata": {
    "tags": []
   },
   "outputs": [],
   "source": [
    "df_dropna['replaced_review'] = df_dropna['tokenized_review'].apply(replace_word)\n",
    "df_dropna[:2]"
   ]
  },
  {
   "cell_type": "markdown",
   "id": "b66953ba-1a11-4cbb-b630-1222fbbdbb57",
   "metadata": {
    "jp-MarkdownHeadingCollapsed": true,
    "tags": []
   },
   "source": [
    "## 긍/부정 댓글 분리 "
   ]
  },
  {
   "cell_type": "code",
   "execution_count": null,
   "id": "2f005734-4e5b-4c46-8c2f-55e5f005346c",
   "metadata": {
    "tags": []
   },
   "outputs": [],
   "source": [
    "import re\n",
    "df_dropna['rating'] = df_dropna['review_rating'].str.extract(r'(\\s\\d(?=점))|(\\d.\\d)').apply(lambda x: ''.join(x.dropna()), axis=1)\n",
    "df_dropna[:2]"
   ]
  },
  {
   "cell_type": "code",
   "execution_count": null,
   "id": "608ce0f2-a3d4-4c52-9153-b09e68d35ae5",
   "metadata": {
    "tags": []
   },
   "outputs": [],
   "source": [
    "##  'rating' 열을 숫자로 변환\n",
    "df_dropna['rating'] = pd.to_numeric(df_dropna['rating'])"
   ]
  },
  {
   "cell_type": "code",
   "execution_count": null,
   "id": "c67015e6-3e14-4ed0-a202-aa4a6c0d605b",
   "metadata": {
    "tags": []
   },
   "outputs": [],
   "source": [
    "condition_positive =  df_dropna['rating'] >= 4 # 긍정\n",
    "condition_negative = df_dropna['rating'] < 3  # 부정"
   ]
  },
  {
   "cell_type": "code",
   "execution_count": null,
   "id": "8bab1ebf-83b8-426c-9a49-7ab147306805",
   "metadata": {
    "tags": []
   },
   "outputs": [],
   "source": [
    "df_review_positive = df_dropna[condition_positive]\n",
    "df_review_negative= df_dropna[condition_negative]"
   ]
  },
  {
   "cell_type": "code",
   "execution_count": null,
   "id": "51604fac-a514-4c24-898a-a2ac585a9aeb",
   "metadata": {
    "tags": []
   },
   "outputs": [],
   "source": [
    "df_review_positive[:2]"
   ]
  },
  {
   "cell_type": "code",
   "execution_count": null,
   "id": "77bdda8f-393b-4e8e-896b-6f0009e84153",
   "metadata": {
    "tags": []
   },
   "outputs": [],
   "source": [
    "df_review_negative[:2]"
   ]
  },
  {
   "cell_type": "markdown",
   "id": "a1d821f9-9113-4b44-ad8c-8aa3d113aad7",
   "metadata": {
    "tags": []
   },
   "source": [
    "# LDA 분석"
   ]
  },
  {
   "cell_type": "code",
   "execution_count": null,
   "id": "abadd451-c720-4f5d-b3de-daebe779d22e",
   "metadata": {
    "tags": []
   },
   "outputs": [],
   "source": [
    "from gensim.corpora import Dictionary"
   ]
  },
  {
   "cell_type": "code",
   "execution_count": null,
   "id": "88afbe8b-666c-48e5-a194-ffc3aa47ed28",
   "metadata": {
    "tags": []
   },
   "outputs": [],
   "source": [
    "dictionary = Dictionary(df_review_negative[['replaced_review']].values)\n",
    "dictionary"
   ]
  },
  {
   "cell_type": "code",
   "execution_count": null,
   "id": "1329534f-06fa-46d9-8a6e-b2abcfd9f134",
   "metadata": {
    "tags": []
   },
   "outputs": [],
   "source": [
    "dictionary.doc2bow(df_review_negative[['replaced_review']].values[3])"
   ]
  },
  {
   "cell_type": "code",
   "execution_count": null,
   "id": "b0e89467-02cd-4647-99f7-6414f507865f",
   "metadata": {
    "tags": []
   },
   "outputs": [],
   "source": [
    "# dictionary에 의한 한글 문장을 벡터화 변환\n",
    "corpus_list = list()\n",
    "for sentence in df_review_negative[['replaced_review']].values :\n",
    "    vectors = dictionary.doc2bow(sentence)\n",
    "    corpus_list.append(vectors)"
   ]
  },
  {
   "cell_type": "code",
   "execution_count": null,
   "id": "da94597a-12cd-4a11-ab84-240dff6028d4",
   "metadata": {
    "tags": []
   },
   "outputs": [],
   "source": [
    "df_review_negative['Vectorization'] = corpus_list\n",
    "df_review_negative[:3]"
   ]
  },
  {
   "cell_type": "markdown",
   "id": "6156845a-54eb-4ad2-abe1-6deaabddc786",
   "metadata": {
    "tags": []
   },
   "source": [
    "## 토픽 잡기 "
   ]
  },
  {
   "cell_type": "code",
   "execution_count": null,
   "id": "2fc12117-9ca9-42d5-8f45-60607bc17813",
   "metadata": {
    "tags": []
   },
   "outputs": [],
   "source": [
    "from gensim.models import LdaModel"
   ]
  },
  {
   "cell_type": "code",
   "execution_count": null,
   "id": "28dc17cd-e6c1-4b3d-86bd-794b73a7b1eb",
   "metadata": {
    "tags": []
   },
   "outputs": [],
   "source": [
    "lda_model = LdaModel(corpus=corpus_list, id2word=dictionary, num_topics=3)"
   ]
  },
  {
   "cell_type": "code",
   "execution_count": null,
   "id": "0e7cc1d4-10e5-47a6-86ee-091e4ae5c93a",
   "metadata": {
    "tags": []
   },
   "outputs": [],
   "source": [
    "lda_model.print_topics(num_words=4)"
   ]
  },
  {
   "cell_type": "markdown",
   "id": "0cf96318-a2c7-4562-b32a-022464644914",
   "metadata": {
    "tags": []
   },
   "source": [
    "## 토픽 분석 "
   ]
  },
  {
   "cell_type": "code",
   "execution_count": null,
   "id": "142f4fc8-81b6-42e9-a8d0-bc06f2fc39c1",
   "metadata": {},
   "outputs": [],
   "source": []
  },
  {
   "cell_type": "markdown",
   "id": "e6abfd9e-ab3b-4ea8-91e6-e2d37e707de9",
   "metadata": {},
   "source": [
    "### LDA 시각화 "
   ]
  },
  {
   "cell_type": "code",
   "execution_count": null,
   "id": "438caf9a-e967-44b7-88b4-4579912b8993",
   "metadata": {
    "tags": []
   },
   "outputs": [],
   "source": [
    "#%pip install pyLDAvis"
   ]
  },
  {
   "cell_type": "code",
   "execution_count": null,
   "id": "c23f3aff-4ef6-4200-96c0-39097c522f00",
   "metadata": {
    "tags": []
   },
   "outputs": [],
   "source": [
    "import pyLDAvis.gensim_models\n",
    "pyLDAvis.enable_notebook()"
   ]
  },
  {
   "cell_type": "code",
   "execution_count": null,
   "id": "f325b4fa-e83a-4aba-ab16-8cac2aa35c5f",
   "metadata": {
    "tags": []
   },
   "outputs": [],
   "source": [
    "result_visualized = pyLDAvis.gensim_models.prepare(lda_model, corpus_list, dictionary)\n",
    "pyLDAvis.display(result_visualized)"
   ]
  },
  {
   "cell_type": "code",
   "execution_count": null,
   "id": "39876c8d-18f3-47b5-9d3c-1349f792dc27",
   "metadata": {
    "tags": []
   },
   "outputs": [],
   "source": [
    "pyLDAvis.save_html(result_visualized, './result_visualized_negative.html')"
   ]
  },
  {
   "cell_type": "markdown",
   "id": "6f9906b6-5837-462d-9474-d6f76ec61db7",
   "metadata": {},
   "source": [
    "## LDA 토픽 모델링 "
   ]
  },
  {
   "cell_type": "markdown",
   "id": "9959bf78-b5c2-4f98-8110-fc985b3dd0ef",
   "metadata": {},
   "source": [
    "#### 하이퍼파라미터 튜닝"
   ]
  },
  {
   "cell_type": "code",
   "execution_count": null,
   "id": "934dd061-0cfc-4248-90fb-f0324f7ca6e5",
   "metadata": {
    "tags": []
   },
   "outputs": [],
   "source": [
    "NUM_TOPICS = 10 # 토픽 개수는 하이퍼파라미터\n",
    "# passes: 딥러닝에서 Epoch와 같은 개념으로, 전체 corpus로 모델 학습 횟수 결정\n",
    "PASSES = 15"
   ]
  },
  {
   "cell_type": "markdown",
   "id": "61cd495d-ea96-451a-9b60-6e3f94f5d9aa",
   "metadata": {},
   "source": [
    "### 모델 학습 함수 "
   ]
  },
  {
   "cell_type": "code",
   "execution_count": null,
   "id": "b0d8e0d5-85c4-4aab-887a-b423f683b139",
   "metadata": {
    "tags": []
   },
   "outputs": [],
   "source": [
    "from gensim import corpora # 단어 빈도수 계산 패키지\n",
    "import gensim # LDA 모델 활용 목적\n",
    "import pyLDAvis.gensim_models # LDA 시각화용 패키지"
   ]
  },
  {
   "cell_type": "code",
   "execution_count": null,
   "id": "d29bdc3a-c798-4cd3-8cb9-9030e8577aac",
   "metadata": {
    "tags": []
   },
   "outputs": [],
   "source": [
    "dictionary = corpora.Dictionary(df_dropna['replaced_review'].apply(lambda x: x.split()).values)\n",
    "corpus = [dictionary.doc2bow(review.split()) for review in df_dropna['replaced_review'].values]\n",
    "# LDA 모델 학습\n",
    "model = gensim.models.ldamodel.LdaModel(corpus, \n",
    "                                            num_topics=NUM_TOPICS, \n",
    "                                            id2word=dictionary, \n",
    "                                            passes=PASSES)"
   ]
  },
  {
   "cell_type": "code",
   "execution_count": null,
   "id": "2d965691-0437-4a82-9250-9af8a469b787",
   "metadata": {
    "tags": []
   },
   "outputs": [],
   "source": [
    "def lda_modeling(review_prep):\n",
    "    # 단어 인코딩 및 빈도수 계산\n",
    "    dictionary = corpora.Dictionary(df_dropna['replaced_review'].apply(lambda x: x.split()).values)\n",
    "    corpus = [dictionary.doc2bow(review.split()) for review in df_dropna['replaced_review'].values]\n",
    "    # LDA 모델 학습\n",
    "    model = gensim.models.ldamodel.LdaModel(corpus, \n",
    "                                            num_topics=NUM_TOPICS, \n",
    "                                            id2word=dictionary, \n",
    "                                            passes=PASSES)\n",
    "    return model, corpus, dictionary"
   ]
  },
  {
   "cell_type": "markdown",
   "id": "e8b0d659-8d47-4fc1-b8c7-0b144461f9e4",
   "metadata": {},
   "source": [
    "### 토픽별 단어 구성 출력 함수 "
   ]
  },
  {
   "cell_type": "code",
   "execution_count": null,
   "id": "7a677d0c-e1e6-4424-a610-cb14fbb04be0",
   "metadata": {
    "tags": []
   },
   "outputs": [],
   "source": [
    "def print_topic_prop(topics, RATING):\n",
    "    topic_values = []\n",
    "    for topic in topics:\n",
    "        topic_value = topic[1]\n",
    "        topic_values.append(topic_value)\n",
    "    topic_prop = pd.DataFrame({\"topic_num\" : list(range(1, NUM_TOPICS + 1)), \"word_prop\": topic_values})\n",
    "    #topic_prop.to_excel('./result/topic_prop_' + RATING +  '.xlsx')\n",
    "    display(topic_prop)"
   ]
  },
  {
   "cell_type": "markdown",
   "id": "8185c767-516c-454c-a4de-f1ca0a0edcf3",
   "metadata": {},
   "source": [
    "### 시각화 함수 "
   ]
  },
  {
   "cell_type": "code",
   "execution_count": null,
   "id": "237c3fe1-ad2d-493c-8fab-2d6a68ac369c",
   "metadata": {
    "tags": []
   },
   "outputs": [],
   "source": [
    "def lda_visualize(model, corpus, dictionary, RATING):\n",
    "    pyLDAvis.enable_notebook()\n",
    "    result_visualized = pyLDAvis.gensim_models.prepare(model, corpus, dictionary)\n",
    "    pyLDAvis.display(result_visualized)\n",
    "    # 시각화 결과 저장\n",
    "    # RESULT_FILE = './result/lda_result_' + RATING + '.html'\n",
    "    # pyLDAvis.save_html(result_visualized, RESULT_FILE)"
   ]
  },
  {
   "cell_type": "markdown",
   "id": "8133467e-bf9f-4dbb-b972-9ecb2145029b",
   "metadata": {},
   "source": [
    "### 긍정정 리뷰 토픽 모델링 "
   ]
  },
  {
   "cell_type": "code",
   "execution_count": null,
   "id": "77e5892e-78f2-4d6f-9cf4-f6d342360b6d",
   "metadata": {},
   "outputs": [],
   "source": [
    "model, corpus, dictionary = lda_modeling(df_review_positive)\n",
    "NUM_WORDS = 10"
   ]
  },
  {
   "cell_type": "code",
   "execution_count": null,
   "id": "41344168-6c68-43e0-9ebf-c28e2f7495ea",
   "metadata": {
    "tags": []
   },
   "outputs": [],
   "source": [
    "from gensim import corpora "
   ]
  },
  {
   "cell_type": "code",
   "execution_count": null,
   "id": "2eb5c0d2-758f-4cf4-b8de-398884872b23",
   "metadata": {
    "tags": []
   },
   "outputs": [],
   "source": [
    "RATING = 'pos'\n",
    "topics = model.print_topics(num_words = NUM_WORDS)\n",
    "print_topic_prop(topics, RATING)"
   ]
  },
  {
   "cell_type": "code",
   "execution_count": null,
   "id": "e7b014dc-b55e-492f-afcd-6138ef38869d",
   "metadata": {},
   "outputs": [],
   "source": [
    "# lda_visualize(model, corpus, dictionary, RATING)"
   ]
  },
  {
   "cell_type": "markdown",
   "id": "1fbfb44e-d34e-4b9a-89a8-e83b2728fab0",
   "metadata": {},
   "source": [
    "### 부정적 리뷰 토픽 모델링"
   ]
  },
  {
   "cell_type": "code",
   "execution_count": null,
   "id": "32e93eb1-a023-4b23-a7df-445a20ca16e4",
   "metadata": {
    "tags": []
   },
   "outputs": [],
   "source": [
    "model, corpus, dictionary = lda_modeling(df_review_negative)\n",
    "NUM_WORDS = 10"
   ]
  },
  {
   "cell_type": "code",
   "execution_count": null,
   "id": "4e37345a-cdd3-4d95-8fa7-497606471029",
   "metadata": {
    "tags": []
   },
   "outputs": [],
   "source": [
    "RATING = 'neg'\n",
    "topics = model.print_topics(num_words = NUM_WORDS)\n",
    "print_topic_prop(topics, RATING)"
   ]
  },
  {
   "cell_type": "code",
   "execution_count": null,
   "id": "b0838afc-5e94-4923-9957-be8b8b8a339c",
   "metadata": {
    "tags": []
   },
   "outputs": [],
   "source": [
    "lda_visualize(model, corpus, dictionary, RATING)"
   ]
  },
  {
   "cell_type": "code",
   "execution_count": null,
   "id": "cfbed8f7-48dd-41e1-be46-d2cf9100b62e",
   "metadata": {
    "tags": []
   },
   "outputs": [],
   "source": [
    "df_dropna['replaced_review']"
   ]
  },
  {
   "cell_type": "code",
   "execution_count": null,
   "id": "09790c9f-9f28-4739-bb4e-9c39a5fe9425",
   "metadata": {
    "tags": []
   },
   "outputs": [],
   "source": [
    "df_dropna['replaced_review_2'] = df_dropna['replaced_review'].apply(lambda x: [x])"
   ]
  },
  {
   "cell_type": "code",
   "execution_count": null,
   "id": "3771e01d-3380-4a90-a165-2274d9f6e111",
   "metadata": {
    "tags": []
   },
   "outputs": [],
   "source": [
    "replaced_review_2 = df_dropna['replaced_review_2']"
   ]
  },
  {
   "cell_type": "code",
   "execution_count": null,
   "id": "25e9cc0e-13c1-4e4d-9bf7-9c331f3868b8",
   "metadata": {
    "tags": []
   },
   "outputs": [],
   "source": [
    "from gensim import corpora\n",
    "dictionary = corpora.Dictionary(replaced_review_2)\n",
    "corpus = [dictionary.doc2bow(text) for text in replaced_review_2]"
   ]
  },
  {
   "cell_type": "code",
   "execution_count": null,
   "id": "03cc1514-529f-4a20-8168-dd3c0cef1ca0",
   "metadata": {
    "tags": []
   },
   "outputs": [],
   "source": [
    "dictionary = corpora.Dictionary(df_dropna['replaced_review'].apply(lambda x: x.split()).values)\n",
    "corpus = [dictionary.doc2bow(review.split()) for review in df_dropna['replaced_review'].values]\n",
    "# LDA 모델 학습\n",
    "model = gensim.models.ldamodel.LdaModel(corpus, \n",
    "                                            num_topics=NUM_TOPICS, \n",
    "                                            id2word=dictionary, \n",
    "                                            passes=PASSES)\n"
   ]
  },
  {
   "cell_type": "code",
   "execution_count": null,
   "id": "3fc39fdf-b5cb-4baf-b73f-37aa0efce75c",
   "metadata": {
    "tags": []
   },
   "outputs": [],
   "source": [
    "dictionary[25]"
   ]
  },
  {
   "cell_type": "code",
   "execution_count": null,
   "id": "2419d66e-913d-4aa3-bafb-7276588bdd22",
   "metadata": {
    "tags": []
   },
   "outputs": [],
   "source": [
    "corpus[1]"
   ]
  },
  {
   "cell_type": "code",
   "execution_count": null,
   "id": "e77eb554-871a-4b8f-a552-b6396f382583",
   "metadata": {
    "tags": []
   },
   "outputs": [],
   "source": [
    "len(dictionary)"
   ]
  },
  {
   "cell_type": "code",
   "execution_count": null,
   "id": "78ce7051-0aa2-4826-af0b-04c90c06c85c",
   "metadata": {
    "tags": []
   },
   "outputs": [],
   "source": [
    "ldamodel = gensim.models.ldamodel.LdaModel(corpus, num_topics = NUM_TOPICS, id2word=dictionary, passes=15)\n",
    "topics = ldamodel.print_topics(num_words=4)\n",
    "for topic in topics:\n",
    "    print(topic)"
   ]
  },
  {
   "cell_type": "code",
   "execution_count": null,
   "id": "0189231a-62cc-465c-8400-897f5765b5c1",
   "metadata": {},
   "outputs": [],
   "source": []
  }
 ],
 "metadata": {
  "kernelspec": {
   "display_name": "Python 3 (ipykernel)",
   "language": "python",
   "name": "python3"
  },
  "language_info": {
   "codemirror_mode": {
    "name": "ipython",
    "version": 3
   },
   "file_extension": ".py",
   "mimetype": "text/x-python",
   "name": "python",
   "nbconvert_exporter": "python",
   "pygments_lexer": "ipython3",
   "version": "3.11.3"
  }
 },
 "nbformat": 4,
 "nbformat_minor": 5
}
