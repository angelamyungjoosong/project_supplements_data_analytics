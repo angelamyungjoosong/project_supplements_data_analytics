{
 "cells": [
  {
   "cell_type": "code",
   "execution_count": 11,
   "id": "2c0afdd1-e471-44b2-98c1-24e4bbf0c15e",
   "metadata": {
    "tags": []
   },
   "outputs": [],
   "source": [
    "import pandas as pd\n",
    "import pymysql\n",
    "from sqlalchemy import create_engine"
   ]
  },
  {
   "cell_type": "markdown",
   "id": "08985d50-c3d5-4cf3-b9d6-60808410c86b",
   "metadata": {
    "jp-MarkdownHeadingCollapsed": true,
    "tags": []
   },
   "source": [
    "### connect workbench"
   ]
  },
  {
   "cell_type": "code",
   "execution_count": 2,
   "id": "c7c3cf39-0023-4810-ab14-d42e16344e79",
   "metadata": {
    "tags": []
   },
   "outputs": [],
   "source": [
    "ip = 'localhost'    #127.0.0.1\n",
    "port = '3306' #default(안써도됨)\n",
    "username = 'root'\n",
    "password = '!yojulab*'\n",
    "database = 'project_diet'\n",
    "db_url = f\"mysql+pymysql://{username}:{password}@{ip}:{port}/{database}\"\n",
    "engine = create_engine(db_url)"
   ]
  },
  {
   "cell_type": "code",
   "execution_count": 3,
   "id": "0ba143d2-b536-4024-a0c0-813e3c02f967",
   "metadata": {
    "tags": []
   },
   "outputs": [],
   "source": [
    "connect = pymysql.connect(host=ip, user=username, password=password, database=database)"
   ]
  },
  {
   "cell_type": "code",
   "execution_count": 4,
   "id": "78ad7e75-b823-4d1f-8f97-942335547fcf",
   "metadata": {
    "tags": []
   },
   "outputs": [],
   "source": [
    "sql_query = 'SELECT * FROM project_diet.bmi;' # 연결이 되었는지 확인하는 용도"
   ]
  },
  {
   "cell_type": "code",
   "execution_count": 5,
   "id": "fcd32230-67f4-4adb-92ae-1cf2e40d8215",
   "metadata": {
    "collapsed": true,
    "jupyter": {
     "outputs_hidden": true
    },
    "tags": []
   },
   "outputs": [
    {
     "data": {
      "text/html": [
       "<div>\n",
       "<style scoped>\n",
       "    .dataframe tbody tr th:only-of-type {\n",
       "        vertical-align: middle;\n",
       "    }\n",
       "\n",
       "    .dataframe tbody tr th {\n",
       "        vertical-align: top;\n",
       "    }\n",
       "\n",
       "    .dataframe thead th {\n",
       "        text-align: right;\n",
       "    }\n",
       "</style>\n",
       "<table border=\"1\" class=\"dataframe\">\n",
       "  <thead>\n",
       "    <tr style=\"text-align: right;\">\n",
       "      <th></th>\n",
       "      <th>BMI_UID</th>\n",
       "      <th>USER_ID</th>\n",
       "      <th>DATE</th>\n",
       "      <th>HEIGHT</th>\n",
       "      <th>WEIGHT</th>\n",
       "      <th>BMI_RESULT</th>\n",
       "      <th>BMI_TYPE</th>\n",
       "      <th>GENDER_UID</th>\n",
       "    </tr>\n",
       "  </thead>\n",
       "  <tbody>\n",
       "    <tr>\n",
       "      <th>0</th>\n",
       "      <td>1300409a598-2eb2-4621-a8f7-27e25b66246d</td>\n",
       "      <td>0409a598-2eb2-4621-a8f7-27e25b66246d</td>\n",
       "      <td>None</td>\n",
       "      <td>130</td>\n",
       "      <td>40</td>\n",
       "      <td>23.67</td>\n",
       "      <td>과체중</td>\n",
       "      <td>G-02</td>\n",
       "    </tr>\n",
       "    <tr>\n",
       "      <th>1</th>\n",
       "      <td>1300a9376c4-141b-4db8-9467-001816ba5055</td>\n",
       "      <td>0a9376c4-141b-4db8-9467-001816ba5055</td>\n",
       "      <td>None</td>\n",
       "      <td>130</td>\n",
       "      <td>40</td>\n",
       "      <td>23.67</td>\n",
       "      <td>과체중</td>\n",
       "      <td>G-02</td>\n",
       "    </tr>\n",
       "    <tr>\n",
       "      <th>2</th>\n",
       "      <td>13017e54f1b-24fd-4047-b456-068a7704042f</td>\n",
       "      <td>17e54f1b-24fd-4047-b456-068a7704042f</td>\n",
       "      <td>None</td>\n",
       "      <td>130</td>\n",
       "      <td>50</td>\n",
       "      <td>29.59</td>\n",
       "      <td>비만</td>\n",
       "      <td>G-02</td>\n",
       "    </tr>\n",
       "    <tr>\n",
       "      <th>3</th>\n",
       "      <td>1302efda7ec-b10a-401e-8c08-f82290d7e6aa</td>\n",
       "      <td>2efda7ec-b10a-401e-8c08-f82290d7e6aa</td>\n",
       "      <td>None</td>\n",
       "      <td>130</td>\n",
       "      <td>45</td>\n",
       "      <td>26.63</td>\n",
       "      <td>비만</td>\n",
       "      <td>G-02</td>\n",
       "    </tr>\n",
       "    <tr>\n",
       "      <th>4</th>\n",
       "      <td>13031d0d596-376c-4ae5-9719-e616fbd32dd0</td>\n",
       "      <td>31d0d596-376c-4ae5-9719-e616fbd32dd0</td>\n",
       "      <td>None</td>\n",
       "      <td>130</td>\n",
       "      <td>40</td>\n",
       "      <td>23.67</td>\n",
       "      <td>과체중</td>\n",
       "      <td>G-02</td>\n",
       "    </tr>\n",
       "    <tr>\n",
       "      <th>...</th>\n",
       "      <td>...</td>\n",
       "      <td>...</td>\n",
       "      <td>...</td>\n",
       "      <td>...</td>\n",
       "      <td>...</td>\n",
       "      <td>...</td>\n",
       "      <td>...</td>\n",
       "      <td>...</td>\n",
       "    </tr>\n",
       "    <tr>\n",
       "      <th>100015</th>\n",
       "      <td>B-16</td>\n",
       "      <td>parkcm789</td>\n",
       "      <td>2022-07-12</td>\n",
       "      <td>165</td>\n",
       "      <td>60</td>\n",
       "      <td>22.04</td>\n",
       "      <td>과체중</td>\n",
       "      <td>G-01</td>\n",
       "    </tr>\n",
       "    <tr>\n",
       "      <th>100016</th>\n",
       "      <td>B-17</td>\n",
       "      <td>songmr123</td>\n",
       "      <td>2022-06-22</td>\n",
       "      <td>185</td>\n",
       "      <td>80</td>\n",
       "      <td>23.37</td>\n",
       "      <td>과체중</td>\n",
       "      <td>G-01</td>\n",
       "    </tr>\n",
       "    <tr>\n",
       "      <th>100017</th>\n",
       "      <td>B-18</td>\n",
       "      <td>songmr123</td>\n",
       "      <td>2023-07-12</td>\n",
       "      <td>160</td>\n",
       "      <td>50</td>\n",
       "      <td>19.53</td>\n",
       "      <td>정상</td>\n",
       "      <td>G-01</td>\n",
       "    </tr>\n",
       "    <tr>\n",
       "      <th>100018</th>\n",
       "      <td>B-19</td>\n",
       "      <td>limdh123</td>\n",
       "      <td>2022-02-22</td>\n",
       "      <td>175</td>\n",
       "      <td>75</td>\n",
       "      <td>24.49</td>\n",
       "      <td>비만</td>\n",
       "      <td>G-02</td>\n",
       "    </tr>\n",
       "    <tr>\n",
       "      <th>100019</th>\n",
       "      <td>B-20</td>\n",
       "      <td>limdh123</td>\n",
       "      <td>2023-02-12</td>\n",
       "      <td>165</td>\n",
       "      <td>55</td>\n",
       "      <td>20.2</td>\n",
       "      <td>정상</td>\n",
       "      <td>G-02</td>\n",
       "    </tr>\n",
       "  </tbody>\n",
       "</table>\n",
       "<p>100020 rows × 8 columns</p>\n",
       "</div>"
      ],
      "text/plain": [
       "                                        BMI_UID  \\\n",
       "0       1300409a598-2eb2-4621-a8f7-27e25b66246d   \n",
       "1       1300a9376c4-141b-4db8-9467-001816ba5055   \n",
       "2       13017e54f1b-24fd-4047-b456-068a7704042f   \n",
       "3       1302efda7ec-b10a-401e-8c08-f82290d7e6aa   \n",
       "4       13031d0d596-376c-4ae5-9719-e616fbd32dd0   \n",
       "...                                         ...   \n",
       "100015                                     B-16   \n",
       "100016                                     B-17   \n",
       "100017                                     B-18   \n",
       "100018                                     B-19   \n",
       "100019                                     B-20   \n",
       "\n",
       "                                     USER_ID        DATE HEIGHT WEIGHT  \\\n",
       "0       0409a598-2eb2-4621-a8f7-27e25b66246d        None    130     40   \n",
       "1       0a9376c4-141b-4db8-9467-001816ba5055        None    130     40   \n",
       "2       17e54f1b-24fd-4047-b456-068a7704042f        None    130     50   \n",
       "3       2efda7ec-b10a-401e-8c08-f82290d7e6aa        None    130     45   \n",
       "4       31d0d596-376c-4ae5-9719-e616fbd32dd0        None    130     40   \n",
       "...                                      ...         ...    ...    ...   \n",
       "100015                             parkcm789  2022-07-12    165     60   \n",
       "100016                             songmr123  2022-06-22    185     80   \n",
       "100017                             songmr123  2023-07-12    160     50   \n",
       "100018                              limdh123  2022-02-22    175     75   \n",
       "100019                              limdh123  2023-02-12    165     55   \n",
       "\n",
       "       BMI_RESULT BMI_TYPE GENDER_UID  \n",
       "0           23.67      과체중       G-02  \n",
       "1           23.67      과체중       G-02  \n",
       "2           29.59       비만       G-02  \n",
       "3           26.63       비만       G-02  \n",
       "4           23.67      과체중       G-02  \n",
       "...           ...      ...        ...  \n",
       "100015      22.04      과체중       G-01  \n",
       "100016      23.37      과체중       G-01  \n",
       "100017      19.53       정상       G-01  \n",
       "100018      24.49       비만       G-02  \n",
       "100019       20.2       정상       G-02  \n",
       "\n",
       "[100020 rows x 8 columns]"
      ]
     },
     "execution_count": 5,
     "metadata": {},
     "output_type": "execute_result"
    }
   ],
   "source": [
    "# 연결을 열고 데이터를 가져옵니다.\n",
    "df = pd.read_sql(sql_query, engine)\n",
    "df"
   ]
  },
  {
   "cell_type": "markdown",
   "id": "fee2a239-dc91-422c-80a9-e7086da75bcf",
   "metadata": {
    "jp-MarkdownHeadingCollapsed": true,
    "tags": []
   },
   "source": [
    "### create dummy table"
   ]
  },
  {
   "cell_type": "code",
<<<<<<< HEAD
   "execution_count": 6,
=======
   "execution_count": 17,
>>>>>>> 2096e09664336872aad9ce56d2acc649d4b8874f
   "id": "6ad6c59a-5fc7-4430-9a9a-5cbaeb229bae",
   "metadata": {
    "tags": []
   },
   "outputs": [
    {
     "data": {
      "text/html": [
       "<div>\n",
       "<style scoped>\n",
       "    .dataframe tbody tr th:only-of-type {\n",
       "        vertical-align: middle;\n",
       "    }\n",
       "\n",
       "    .dataframe tbody tr th {\n",
       "        vertical-align: top;\n",
       "    }\n",
       "\n",
       "    .dataframe thead th {\n",
       "        text-align: right;\n",
       "    }\n",
       "</style>\n",
       "<table border=\"1\" class=\"dataframe\">\n",
       "  <thead>\n",
       "    <tr style=\"text-align: right;\">\n",
       "      <th></th>\n",
       "      <th>product_name</th>\n",
       "      <th>review_name</th>\n",
       "      <th>review_content</th>\n",
       "      <th>review_date</th>\n",
       "      <th>review_rating</th>\n",
       "      <th>tokenized_review</th>\n",
       "      <th>replaced_review</th>\n",
       "      <th>preprocess_review</th>\n",
       "      <th>rating</th>\n",
       "      <th>sentiment</th>\n",
       "    </tr>\n",
       "  </thead>\n",
       "  <tbody>\n",
       "    <tr>\n",
       "      <th>0</th>\n",
       "      <td>[주현영, 이나연 찐템]딥트 3일 피치(맛)번 30정 (30일분)</td>\n",
       "      <td>보리오빠</td>\n",
       "      <td>없으면 안될 최고의 diet템! 피치번을 추천합니당 ㅎㅎ 사진엔 없지만 4통째 먹고...</td>\n",
       "      <td>2023.08.27</td>\n",
       "      <td>5점만점에 5점</td>\n",
       "      <td>없으면 안될 최고 의 diet 템 ! 피치 번 을 추천 합니당 ㅎㅎ 사진 엔 없지만...</td>\n",
       "      <td>없으면 안될 최고 의 다이어트 제품 ! 복숭아 번 을 추천 합니당 웃음 사진 엔 없...</td>\n",
       "      <td>최고 다이어트 제품 복숭아 추천 웃음 사진 통째 찌다 필수 제품 버리다 제품 사랑 ...</td>\n",
       "      <td>5.0</td>\n",
       "      <td>긍정</td>\n",
       "    </tr>\n",
       "    <tr>\n",
       "      <th>1</th>\n",
       "      <td>[주현영, 이나연 찐템]딥트 3일 피치(맛)번 30정 (30일분)</td>\n",
       "      <td>바보바니</td>\n",
       "      <td>알약 통통이하트 넘예뻐요. 자기전 먹고 효과있으면 얼마나 좋을까요 ㅜㅜ 나이들수록 ...</td>\n",
       "      <td>2023.09.14</td>\n",
       "      <td>5점만점에 5점</td>\n",
       "      <td>알약 통통이 하트 넘 예뻐요 . 자기전 먹고 효과 있으면 얼마나 좋을까요 ㅜㅜ 나이...</td>\n",
       "      <td>알약 통통이 좋다넘 예뻐요 . 자기전 먹고 효과 있으면 얼마나 좋을까요 눈물눈물 나...</td>\n",
       "      <td>알약 통통이 좋다 예쁘다 효과 좋다 눈물 눈물 나이 빠지다 배 쌓이네 눈물 눈물 눈...</td>\n",
       "      <td>5.0</td>\n",
       "      <td>긍정</td>\n",
       "    </tr>\n",
       "  </tbody>\n",
       "</table>\n",
       "</div>"
      ],
      "text/plain": [
       "                           product_name review_name  \\\n",
       "0  [주현영, 이나연 찐템]딥트 3일 피치(맛)번 30정 (30일분)        보리오빠   \n",
       "1  [주현영, 이나연 찐템]딥트 3일 피치(맛)번 30정 (30일분)        바보바니   \n",
       "\n",
       "                                      review_content review_date  \\\n",
       "0  없으면 안될 최고의 diet템! 피치번을 추천합니당 ㅎㅎ 사진엔 없지만 4통째 먹고...  2023.08.27   \n",
       "1  알약 통통이하트 넘예뻐요. 자기전 먹고 효과있으면 얼마나 좋을까요 ㅜㅜ 나이들수록 ...  2023.09.14   \n",
       "\n",
       "  review_rating                                   tokenized_review  \\\n",
       "0      5점만점에 5점  없으면 안될 최고 의 diet 템 ! 피치 번 을 추천 합니당 ㅎㅎ 사진 엔 없지만...   \n",
       "1      5점만점에 5점  알약 통통이 하트 넘 예뻐요 . 자기전 먹고 효과 있으면 얼마나 좋을까요 ㅜㅜ 나이...   \n",
       "\n",
       "                                     replaced_review  \\\n",
       "0  없으면 안될 최고 의 다이어트 제품 ! 복숭아 번 을 추천 합니당 웃음 사진 엔 없...   \n",
       "1  알약 통통이 좋다넘 예뻐요 . 자기전 먹고 효과 있으면 얼마나 좋을까요 눈물눈물 나...   \n",
       "\n",
       "                                   preprocess_review  rating sentiment  \n",
       "0  최고 다이어트 제품 복숭아 추천 웃음 사진 통째 찌다 필수 제품 버리다 제품 사랑 ...     5.0        긍정  \n",
       "1  알약 통통이 좋다 예쁘다 효과 좋다 눈물 눈물 나이 빠지다 배 쌓이네 눈물 눈물 눈...     5.0        긍정  "
      ]
     },
<<<<<<< HEAD
     "execution_count": 6,
=======
     "execution_count": 17,
>>>>>>> 2096e09664336872aad9ce56d2acc649d4b8874f
     "metadata": {},
     "output_type": "execute_result"
    }
   ],
   "source": [
    "df = pd.read_csv('../data/total_imputing_targets_data.csv')\n",
    "df[:2]"
   ]
  },
  {
   "cell_type": "code",
   "execution_count": 7,
   "id": "cde8df3a-f4d0-40c6-8232-682fbbe8b84f",
   "metadata": {
    "tags": []
   },
   "outputs": [
    {
     "data": {
      "text/plain": [
       "Index(['product_name', 'review_name', 'review_content', 'review_date',\n",
       "       'review_rating', 'tokenized_review', 'replaced_review',\n",
       "       'preprocess_review', 'rating', 'sentiment'],\n",
       "      dtype='object')"
      ]
     },
     "execution_count": 7,
     "metadata": {},
     "output_type": "execute_result"
    }
   ],
   "source": [
    "df.columns"
   ]
  },
  {
   "cell_type": "code",
   "execution_count": null,
   "id": "cc7f13cf-682d-4a5b-8ad7-8074e9a251e9",
   "metadata": {},
   "outputs": [],
   "source": [
    "# 커뮤니티 목차 : 번호, 카데고리(후기), 제목, 등록자, 등록일\n",
    "##  SELECT COMMUNITY_ID, COMMUNITY_TITLE, COMMUNITY_CONTENT, USER_ID ,COMMUNITY_DATE\n",
    "###  인덱스, 카데고리(후기), 'product_name', 'review_name', 'review_date'\n",
    "# 댓글 : 작성자, 등록일, 제목, 내용 \n",
    "## COMMUNITY_ID, COMMUNITY_TITLE, COMMUNITY_CONTENT, USER_ID, COMMUNITY_DATE\n",
    "### 카데코리(후기), 'product_name', 'review_content', 'review_name', 'review_date'\n",
    "#### CATEGORY_ID = C_02 , CATEGORY : 후기 "
   ]
  },
  {
   "cell_type": "code",
   "execution_count": 8,
   "id": "9029d980-14da-4707-a33d-42c5e677e2a7",
   "metadata": {
    "tags": []
   },
   "outputs": [
    {
     "data": {
      "text/html": [
       "<div>\n",
       "<style scoped>\n",
       "    .dataframe tbody tr th:only-of-type {\n",
       "        vertical-align: middle;\n",
       "    }\n",
       "\n",
       "    .dataframe tbody tr th {\n",
       "        vertical-align: top;\n",
       "    }\n",
       "\n",
       "    .dataframe thead th {\n",
       "        text-align: right;\n",
       "    }\n",
       "</style>\n",
       "<table border=\"1\" class=\"dataframe\">\n",
       "  <thead>\n",
       "    <tr style=\"text-align: right;\">\n",
       "      <th></th>\n",
       "      <th>product_name</th>\n",
       "      <th>review_content</th>\n",
       "      <th>review_date</th>\n",
       "      <th>review_name</th>\n",
       "    </tr>\n",
       "  </thead>\n",
       "  <tbody>\n",
       "    <tr>\n",
       "      <th>0</th>\n",
       "      <td>[주현영, 이나연 찐템]딥트 3일 피치(맛)번 30정 (30일분)</td>\n",
       "      <td>없으면 안될 최고의 diet템! 피치번을 추천합니당 ㅎㅎ 사진엔 없지만 4통째 먹고...</td>\n",
       "      <td>2023.08.27</td>\n",
       "      <td>보리오빠</td>\n",
       "    </tr>\n",
       "    <tr>\n",
       "      <th>1</th>\n",
       "      <td>[주현영, 이나연 찐템]딥트 3일 피치(맛)번 30정 (30일분)</td>\n",
       "      <td>알약 통통이하트 넘예뻐요. 자기전 먹고 효과있으면 얼마나 좋을까요 ㅜㅜ 나이들수록 ...</td>\n",
       "      <td>2023.09.14</td>\n",
       "      <td>바보바니</td>\n",
       "    </tr>\n",
       "    <tr>\n",
       "      <th>2</th>\n",
       "      <td>[주현영, 이나연 찐템]딥트 3일 피치(맛)번 30정 (30일분)</td>\n",
       "      <td>드라마틱하게 뭔가 달라진 건 없지만 자기 전에 죄책감을 덜어주는 의미로 하나씩 먹고...</td>\n",
       "      <td>2023.09.14</td>\n",
       "      <td>올영요정임니당</td>\n",
       "    </tr>\n",
       "    <tr>\n",
       "      <th>3</th>\n",
       "      <td>[주현영, 이나연 찐템]딥트 3일 피치(맛)번 30정 (30일분)</td>\n",
       "      <td>먹으면 달달한 사탕맛이 나는데\\n2-3초 빨아 먹으면 달달구리는 다 녹아서 맛없는 ...</td>\n",
       "      <td>2023.09.04</td>\n",
       "      <td>히드돈이</td>\n",
       "    </tr>\n",
       "    <tr>\n",
       "      <th>4</th>\n",
       "      <td>[주현영, 이나연 찐템]딥트 3일 피치(맛)번 30정 (30일분)</td>\n",
       "      <td>효과는 모르겠지만 덜찌는것 같아요\\n알약이 이쁘고 입안에 들어갔을때 역하지않아서 좋습니다</td>\n",
       "      <td>2023.09.04</td>\n",
       "      <td>짱구덕휴</td>\n",
       "    </tr>\n",
       "    <tr>\n",
       "      <th>...</th>\n",
       "      <td>...</td>\n",
       "      <td>...</td>\n",
       "      <td>...</td>\n",
       "      <td>...</td>\n",
       "    </tr>\n",
       "    <tr>\n",
       "      <th>6290</th>\n",
       "      <td>스키니랩 가벼워지는 시서스 다이어트 14포 x10박스 10주분</td>\n",
       "      <td>항상 시켜먹습니다 추천이오</td>\n",
       "      <td>2021.08.14</td>\n",
       "      <td>1*******</td>\n",
       "    </tr>\n",
       "    <tr>\n",
       "      <th>6291</th>\n",
       "      <td>스키니랩 가벼워지는 시서스 다이어트 14포 x10박스 10주분</td>\n",
       "      <td>꼼꼼히 포장해서 도착 서비스로 석류하고 단백질을 보내줘서 같이 발 먹고 있어요 **...</td>\n",
       "      <td>2021.08.12</td>\n",
       "      <td>m*******</td>\n",
       "    </tr>\n",
       "    <tr>\n",
       "      <th>6292</th>\n",
       "      <td>스키니랩 가벼워지는 시서스 다이어트 14포 x10박스 10주분</td>\n",
       "      <td>연한 누룽지차 맛에 가깝다고 느껴집니다. 비위가 *해서 아무거나 못마시는데 시서스는...</td>\n",
       "      <td>2021.08.05</td>\n",
       "      <td>한*름</td>\n",
       "    </tr>\n",
       "    <tr>\n",
       "      <th>6293</th>\n",
       "      <td>스키니랩 가벼워지는 시서스 다이어트 14포 x10박스 10주분</td>\n",
       "      <td>배송도 빠르고 생각지도 못한 사은품들이 들어있어서 선물박스 받은 느낌입니다.</td>\n",
       "      <td>2021.08.05</td>\n",
       "      <td>한*름</td>\n",
       "    </tr>\n",
       "    <tr>\n",
       "      <th>6294</th>\n",
       "      <td>스키니랩 가벼워지는 시서스 다이어트 14포 x10박스 10주분</td>\n",
       "      <td>맹물보다 보리차를 좋아하는데 구수한 맛이 꼭 보리차같아서 물처럼 계속 마시기 너무 ...</td>\n",
       "      <td>2021.07.20</td>\n",
       "      <td>a*******</td>\n",
       "    </tr>\n",
       "  </tbody>\n",
       "</table>\n",
       "<p>6295 rows × 4 columns</p>\n",
       "</div>"
      ],
      "text/plain": [
       "                              product_name  \\\n",
       "0     [주현영, 이나연 찐템]딥트 3일 피치(맛)번 30정 (30일분)   \n",
       "1     [주현영, 이나연 찐템]딥트 3일 피치(맛)번 30정 (30일분)   \n",
       "2     [주현영, 이나연 찐템]딥트 3일 피치(맛)번 30정 (30일분)   \n",
       "3     [주현영, 이나연 찐템]딥트 3일 피치(맛)번 30정 (30일분)   \n",
       "4     [주현영, 이나연 찐템]딥트 3일 피치(맛)번 30정 (30일분)   \n",
       "...                                    ...   \n",
       "6290    스키니랩 가벼워지는 시서스 다이어트 14포 x10박스 10주분   \n",
       "6291    스키니랩 가벼워지는 시서스 다이어트 14포 x10박스 10주분   \n",
       "6292    스키니랩 가벼워지는 시서스 다이어트 14포 x10박스 10주분   \n",
       "6293    스키니랩 가벼워지는 시서스 다이어트 14포 x10박스 10주분   \n",
       "6294    스키니랩 가벼워지는 시서스 다이어트 14포 x10박스 10주분   \n",
       "\n",
       "                                         review_content review_date  \\\n",
       "0     없으면 안될 최고의 diet템! 피치번을 추천합니당 ㅎㅎ 사진엔 없지만 4통째 먹고...  2023.08.27   \n",
       "1     알약 통통이하트 넘예뻐요. 자기전 먹고 효과있으면 얼마나 좋을까요 ㅜㅜ 나이들수록 ...  2023.09.14   \n",
       "2     드라마틱하게 뭔가 달라진 건 없지만 자기 전에 죄책감을 덜어주는 의미로 하나씩 먹고...  2023.09.14   \n",
       "3     먹으면 달달한 사탕맛이 나는데\\n2-3초 빨아 먹으면 달달구리는 다 녹아서 맛없는 ...  2023.09.04   \n",
       "4     효과는 모르겠지만 덜찌는것 같아요\\n알약이 이쁘고 입안에 들어갔을때 역하지않아서 좋습니다  2023.09.04   \n",
       "...                                                 ...         ...   \n",
       "6290                                     항상 시켜먹습니다 추천이오  2021.08.14   \n",
       "6291  꼼꼼히 포장해서 도착 서비스로 석류하고 단백질을 보내줘서 같이 발 먹고 있어요 **...  2021.08.12   \n",
       "6292  연한 누룽지차 맛에 가깝다고 느껴집니다. 비위가 *해서 아무거나 못마시는데 시서스는...  2021.08.05   \n",
       "6293         배송도 빠르고 생각지도 못한 사은품들이 들어있어서 선물박스 받은 느낌입니다.  2021.08.05   \n",
       "6294  맹물보다 보리차를 좋아하는데 구수한 맛이 꼭 보리차같아서 물처럼 계속 마시기 너무 ...  2021.07.20   \n",
       "\n",
       "     review_name  \n",
       "0           보리오빠  \n",
       "1           바보바니  \n",
       "2        올영요정임니당  \n",
       "3           히드돈이  \n",
       "4           짱구덕휴  \n",
       "...          ...  \n",
       "6290    1*******  \n",
       "6291    m*******  \n",
       "6292         한*름  \n",
       "6293         한*름  \n",
       "6294    a*******  \n",
       "\n",
       "[6295 rows x 4 columns]"
      ]
     },
     "execution_count": 8,
     "metadata": {},
     "output_type": "execute_result"
    }
   ],
   "source": [
    "df_review = df[['product_name', 'review_content', 'review_date','review_name']]\n",
    "df_review"
   ]
  },
  {
   "cell_type": "code",
   "execution_count": 9,
   "id": "dfb57673-e900-4363-8350-f3d4d9312aa4",
   "metadata": {
    "tags": []
   },
   "outputs": [
    {
     "name": "stderr",
     "output_type": "stream",
     "text": [
      "C:\\Users\\5-21\\AppData\\Local\\Temp\\ipykernel_17096\\436149580.py:1: SettingWithCopyWarning: \n",
      "A value is trying to be set on a copy of a slice from a DataFrame.\n",
      "Try using .loc[row_indexer,col_indexer] = value instead\n",
      "\n",
      "See the caveats in the documentation: https://pandas.pydata.org/pandas-docs/stable/user_guide/indexing.html#returning-a-view-versus-a-copy\n",
      "  df_review['CATEGORY_ID'] = 'C_02'\n",
      "C:\\Users\\5-21\\AppData\\Local\\Temp\\ipykernel_17096\\436149580.py:2: SettingWithCopyWarning: \n",
      "A value is trying to be set on a copy of a slice from a DataFrame.\n",
      "Try using .loc[row_indexer,col_indexer] = value instead\n",
      "\n",
      "See the caveats in the documentation: https://pandas.pydata.org/pandas-docs/stable/user_guide/indexing.html#returning-a-view-versus-a-copy\n",
      "  df_review['CATEGORY'] = '후기'\n",
      "C:\\Users\\5-21\\AppData\\Local\\Temp\\ipykernel_17096\\436149580.py:3: SettingWithCopyWarning: \n",
      "A value is trying to be set on a copy of a slice from a DataFrame.\n",
      "Try using .loc[row_indexer,col_indexer] = value instead\n",
      "\n",
      "See the caveats in the documentation: https://pandas.pydata.org/pandas-docs/stable/user_guide/indexing.html#returning-a-view-versus-a-copy\n",
      "  df_review['COMMUNITY_ID'] = range(3000, 3000 + len(df))\n"
     ]
    },
    {
     "data": {
      "text/html": [
       "<div>\n",
       "<style scoped>\n",
       "    .dataframe tbody tr th:only-of-type {\n",
       "        vertical-align: middle;\n",
       "    }\n",
       "\n",
       "    .dataframe tbody tr th {\n",
       "        vertical-align: top;\n",
       "    }\n",
       "\n",
       "    .dataframe thead th {\n",
       "        text-align: right;\n",
       "    }\n",
       "</style>\n",
       "<table border=\"1\" class=\"dataframe\">\n",
       "  <thead>\n",
       "    <tr style=\"text-align: right;\">\n",
       "      <th></th>\n",
       "      <th>product_name</th>\n",
       "      <th>review_content</th>\n",
       "      <th>review_date</th>\n",
       "      <th>review_name</th>\n",
       "      <th>CATEGORY_ID</th>\n",
       "      <th>CATEGORY</th>\n",
       "      <th>COMMUNITY_ID</th>\n",
       "    </tr>\n",
       "  </thead>\n",
       "  <tbody>\n",
       "    <tr>\n",
       "      <th>0</th>\n",
       "      <td>[주현영, 이나연 찐템]딥트 3일 피치(맛)번 30정 (30일분)</td>\n",
       "      <td>없으면 안될 최고의 diet템! 피치번을 추천합니당 ㅎㅎ 사진엔 없지만 4통째 먹고...</td>\n",
       "      <td>2023.08.27</td>\n",
       "      <td>보리오빠</td>\n",
       "      <td>C_02</td>\n",
       "      <td>후기</td>\n",
       "      <td>3000</td>\n",
       "    </tr>\n",
       "    <tr>\n",
       "      <th>1</th>\n",
       "      <td>[주현영, 이나연 찐템]딥트 3일 피치(맛)번 30정 (30일분)</td>\n",
       "      <td>알약 통통이하트 넘예뻐요. 자기전 먹고 효과있으면 얼마나 좋을까요 ㅜㅜ 나이들수록 ...</td>\n",
       "      <td>2023.09.14</td>\n",
       "      <td>바보바니</td>\n",
       "      <td>C_02</td>\n",
       "      <td>후기</td>\n",
       "      <td>3001</td>\n",
       "    </tr>\n",
       "  </tbody>\n",
       "</table>\n",
       "</div>"
      ],
      "text/plain": [
       "                           product_name  \\\n",
       "0  [주현영, 이나연 찐템]딥트 3일 피치(맛)번 30정 (30일분)   \n",
       "1  [주현영, 이나연 찐템]딥트 3일 피치(맛)번 30정 (30일분)   \n",
       "\n",
       "                                      review_content review_date review_name  \\\n",
       "0  없으면 안될 최고의 diet템! 피치번을 추천합니당 ㅎㅎ 사진엔 없지만 4통째 먹고...  2023.08.27        보리오빠   \n",
       "1  알약 통통이하트 넘예뻐요. 자기전 먹고 효과있으면 얼마나 좋을까요 ㅜㅜ 나이들수록 ...  2023.09.14        바보바니   \n",
       "\n",
       "  CATEGORY_ID CATEGORY  COMMUNITY_ID  \n",
       "0        C_02       후기          3000  \n",
       "1        C_02       후기          3001  "
      ]
     },
     "execution_count": 9,
     "metadata": {},
     "output_type": "execute_result"
    }
   ],
   "source": [
    "df_review['CATEGORY_ID'] = 'C_02'\n",
    "df_review['CATEGORY'] = '후기'\n",
    "df_review['COMMUNITY_ID'] = range(3000, 3000 + len(df))\n",
    "df_review[:2]"
   ]
  },
  {
   "cell_type": "code",
   "execution_count": 10,
   "id": "beb6c325-328f-449f-9e6e-70a92a20eeed",
   "metadata": {
    "tags": []
   },
   "outputs": [],
   "source": [
    "table_name = 'dummytable_community_one'"
   ]
  },
  {
   "cell_type": "code",
   "execution_count": 11,
   "id": "d1ec5931-08f7-48b8-9b17-ef45f806ecf5",
   "metadata": {
    "tags": []
   },
   "outputs": [
    {
     "data": {
      "text/plain": [
       "6295"
      ]
     },
     "execution_count": 11,
     "metadata": {},
     "output_type": "execute_result"
    }
   ],
   "source": [
    "df_review.to_sql(name=table_name, con=engine, if_exists='append', index=False)"
   ]
  },
  {
   "cell_type": "code",
   "execution_count": 18,
   "id": "76d4b8e4-ae67-4391-9847-0e92648610d7",
   "metadata": {
    "tags": []
   },
   "outputs": [
    {
     "data": {
      "text/html": [
       "<div>\n",
       "<style scoped>\n",
       "    .dataframe tbody tr th:only-of-type {\n",
       "        vertical-align: middle;\n",
       "    }\n",
       "\n",
       "    .dataframe tbody tr th {\n",
       "        vertical-align: top;\n",
       "    }\n",
       "\n",
       "    .dataframe thead th {\n",
       "        text-align: right;\n",
       "    }\n",
       "</style>\n",
       "<table border=\"1\" class=\"dataframe\">\n",
       "  <thead>\n",
       "    <tr style=\"text-align: right;\">\n",
       "      <th></th>\n",
       "      <th>review_name</th>\n",
       "    </tr>\n",
       "  </thead>\n",
       "  <tbody>\n",
       "    <tr>\n",
       "      <th>1</th>\n",
       "      <td>바보바니</td>\n",
       "    </tr>\n",
       "    <tr>\n",
       "      <th>4</th>\n",
       "      <td>짱구덕휴</td>\n",
       "    </tr>\n",
       "    <tr>\n",
       "      <th>6</th>\n",
       "      <td>IMIN</td>\n",
       "    </tr>\n",
       "    <tr>\n",
       "      <th>8</th>\n",
       "      <td>추러스</td>\n",
       "    </tr>\n",
       "    <tr>\n",
       "      <th>10</th>\n",
       "      <td>챠챵</td>\n",
       "    </tr>\n",
       "    <tr>\n",
       "      <th>...</th>\n",
       "      <td>...</td>\n",
       "    </tr>\n",
       "    <tr>\n",
       "      <th>6289</th>\n",
       "      <td>조*주</td>\n",
       "    </tr>\n",
       "    <tr>\n",
       "      <th>6290</th>\n",
       "      <td>1*******</td>\n",
       "    </tr>\n",
       "    <tr>\n",
       "      <th>6291</th>\n",
       "      <td>m*******</td>\n",
       "    </tr>\n",
       "    <tr>\n",
       "      <th>6293</th>\n",
       "      <td>한*름</td>\n",
       "    </tr>\n",
       "    <tr>\n",
       "      <th>6294</th>\n",
       "      <td>a*******</td>\n",
       "    </tr>\n",
       "  </tbody>\n",
       "</table>\n",
       "<p>2892 rows × 1 columns</p>\n",
       "</div>"
      ],
      "text/plain": [
       "     review_name\n",
       "1           바보바니\n",
       "4           짱구덕휴\n",
       "6           IMIN\n",
       "8            추러스\n",
       "10            챠챵\n",
       "...          ...\n",
       "6289         조*주\n",
       "6290    1*******\n",
       "6291    m*******\n",
       "6293         한*름\n",
       "6294    a*******\n",
       "\n",
       "[2892 rows x 1 columns]"
      ]
     },
     "execution_count": 18,
     "metadata": {},
     "output_type": "execute_result"
    }
   ],
   "source": [
    "df_review_du = df_review.drop_duplicates(subset=['review_name'], keep='last')\n",
    "df_review_du[['review_name']]"
   ]
  },
  {
   "cell_type": "code",
   "execution_count": 19,
   "id": "18ffa01b-6108-4a0e-a270-395de1ac5abc",
   "metadata": {
    "tags": []
   },
   "outputs": [
    {
     "data": {
      "text/plain": [
       "2892"
      ]
     },
     "execution_count": 19,
     "metadata": {},
     "output_type": "execute_result"
    }
   ],
   "source": [
    "len(df_review_du)"
   ]
  },
  {
   "cell_type": "code",
   "execution_count": 20,
   "id": "dc7d667a-5d87-4eb3-a8e7-9a83c4633dac",
   "metadata": {
    "tags": []
   },
   "outputs": [],
   "source": [
    "table_name_1 = 'dummytable_community_two'"
   ]
  },
  {
   "cell_type": "code",
   "execution_count": 21,
   "id": "a35011f8-f618-497e-bc6e-d5883e291ca6",
   "metadata": {
    "tags": []
   },
   "outputs": [
    {
     "data": {
      "text/plain": [
       "2892"
      ]
     },
     "execution_count": 21,
     "metadata": {},
     "output_type": "execute_result"
    }
   ],
   "source": [
    "df_review_du.to_sql(name=table_name_1, con=engine, if_exists='append', index=False)"
   ]
  },
  {
   "cell_type": "code",
   "execution_count": 150,
   "id": "7774ede3-6bea-4e55-a0b2-d6f65f301c3e",
   "metadata": {
    "tags": []
   },
   "outputs": [],
   "source": [
    "### sql문 \n",
    "# ---- 외부데이터로 user_id 채우기 \n",
    "# insert into members(USER_ID)\n",
    "# select review_name\n",
    "# from dummy_table2;\n",
    "\n",
    "# --- 외부데이터로 community 테이블 채우기 (user_id 제외)\n",
    "# insert into community(COMMUNITY_ID, CATEGORY_ID, COMMUNITY_TITLE, COMMUNITY_CONTENT, COMMUNITY_DATE, USER_ID)\n",
    "# select COMMUNITY_ID, CATEGORY_ID, product_name, review_content, review_date, review_name\n",
    "# from dummy_table;"
   ]
  },
  {
   "cell_type": "markdown",
   "id": "b4f8cc66-c564-4543-93d3-66d0d036c49f",
   "metadata": {},
   "source": [
    "### 긍/부정 dummy tables"
   ]
  },
  {
   "cell_type": "code",
   "execution_count": 12,
   "id": "0938f029-e059-4468-9e22-f5a937ee5195",
   "metadata": {
    "tags": []
   },
   "outputs": [],
   "source": [
    "ip = '192.168.0.57'    #127.0.0.1\n",
    "port = '3306' #default(안써도됨)\n",
    "username = 'project'\n",
    "password = '!yojulab*'\n",
    "database = 'project_diet'"
   ]
  },
  {
   "cell_type": "code",
   "execution_count": 13,
   "id": "d67a75d1-263c-4790-8810-04310a9e421e",
   "metadata": {
    "tags": []
   },
   "outputs": [],
   "source": [
    "connect = pymysql.connect(host=ip, user=username, password=password, database=database)"
   ]
  },
  {
   "cell_type": "code",
   "execution_count": 14,
   "id": "ba57b70d-7032-4d52-855f-bbaf51cd24cd",
   "metadata": {
    "tags": []
   },
   "outputs": [],
   "source": [
    "engine = create_engine(f'mysql+pymysql://{username}:{password}@{ip}:{port}/{database}')"
   ]
  },
  {
   "cell_type": "code",
   "execution_count": 18,
   "id": "eb9306fd-4b06-4cf2-b8df-a1758b6ca27e",
   "metadata": {
    "collapsed": true,
    "jupyter": {
     "outputs_hidden": true
    },
    "tags": []
   },
   "outputs": [
    {
     "data": {
      "text/html": [
       "<div>\n",
       "<style scoped>\n",
       "    .dataframe tbody tr th:only-of-type {\n",
       "        vertical-align: middle;\n",
       "    }\n",
       "\n",
       "    .dataframe tbody tr th {\n",
       "        vertical-align: top;\n",
       "    }\n",
       "\n",
       "    .dataframe thead th {\n",
       "        text-align: right;\n",
       "    }\n",
       "</style>\n",
       "<table border=\"1\" class=\"dataframe\">\n",
       "  <thead>\n",
       "    <tr style=\"text-align: right;\">\n",
       "      <th></th>\n",
       "      <th>product_name</th>\n",
       "      <th>review_content</th>\n",
       "      <th>review_date</th>\n",
       "      <th>review_name</th>\n",
       "      <th>rating</th>\n",
       "      <th>sentiment</th>\n",
       "    </tr>\n",
       "  </thead>\n",
       "  <tbody>\n",
       "    <tr>\n",
       "      <th>0</th>\n",
       "      <td>[주현영, 이나연 찐템]딥트 3일 피치(맛)번 30정 (30일분)</td>\n",
       "      <td>없으면 안될 최고의 diet템! 피치번을 추천합니당 ㅎㅎ 사진엔 없지만 4통째 먹고...</td>\n",
       "      <td>2023.08.27</td>\n",
       "      <td>보리오빠</td>\n",
       "      <td>5.0</td>\n",
       "      <td>긍정</td>\n",
       "    </tr>\n",
       "    <tr>\n",
       "      <th>1</th>\n",
       "      <td>[주현영, 이나연 찐템]딥트 3일 피치(맛)번 30정 (30일분)</td>\n",
       "      <td>알약 통통이하트 넘예뻐요. 자기전 먹고 효과있으면 얼마나 좋을까요 ㅜㅜ 나이들수록 ...</td>\n",
       "      <td>2023.09.14</td>\n",
       "      <td>바보바니</td>\n",
       "      <td>5.0</td>\n",
       "      <td>긍정</td>\n",
       "    </tr>\n",
       "    <tr>\n",
       "      <th>2</th>\n",
       "      <td>[주현영, 이나연 찐템]딥트 3일 피치(맛)번 30정 (30일분)</td>\n",
       "      <td>드라마틱하게 뭔가 달라진 건 없지만 자기 전에 죄책감을 덜어주는 의미로 하나씩 먹고...</td>\n",
       "      <td>2023.09.14</td>\n",
       "      <td>올영요정임니당</td>\n",
       "      <td>5.0</td>\n",
       "      <td>긍정</td>\n",
       "    </tr>\n",
       "    <tr>\n",
       "      <th>3</th>\n",
       "      <td>[주현영, 이나연 찐템]딥트 3일 피치(맛)번 30정 (30일분)</td>\n",
       "      <td>먹으면 달달한 사탕맛이 나는데\\n2-3초 빨아 먹으면 달달구리는 다 녹아서 맛없는 ...</td>\n",
       "      <td>2023.09.04</td>\n",
       "      <td>히드돈이</td>\n",
       "      <td>5.0</td>\n",
       "      <td>긍정</td>\n",
       "    </tr>\n",
       "    <tr>\n",
       "      <th>4</th>\n",
       "      <td>[주현영, 이나연 찐템]딥트 3일 피치(맛)번 30정 (30일분)</td>\n",
       "      <td>효과는 모르겠지만 덜찌는것 같아요\\n알약이 이쁘고 입안에 들어갔을때 역하지않아서 좋습니다</td>\n",
       "      <td>2023.09.04</td>\n",
       "      <td>짱구덕휴</td>\n",
       "      <td>5.0</td>\n",
       "      <td>긍정</td>\n",
       "    </tr>\n",
       "    <tr>\n",
       "      <th>...</th>\n",
       "      <td>...</td>\n",
       "      <td>...</td>\n",
       "      <td>...</td>\n",
       "      <td>...</td>\n",
       "      <td>...</td>\n",
       "      <td>...</td>\n",
       "    </tr>\n",
       "    <tr>\n",
       "      <th>6290</th>\n",
       "      <td>스키니랩 가벼워지는 시서스 다이어트 14포 x10박스 10주분</td>\n",
       "      <td>항상 시켜먹습니다 추천이오</td>\n",
       "      <td>2021.08.14</td>\n",
       "      <td>1*******</td>\n",
       "      <td>NaN</td>\n",
       "      <td>긍정</td>\n",
       "    </tr>\n",
       "    <tr>\n",
       "      <th>6291</th>\n",
       "      <td>스키니랩 가벼워지는 시서스 다이어트 14포 x10박스 10주분</td>\n",
       "      <td>꼼꼼히 포장해서 도착 서비스로 석류하고 단백질을 보내줘서 같이 발 먹고 있어요 **...</td>\n",
       "      <td>2021.08.12</td>\n",
       "      <td>m*******</td>\n",
       "      <td>NaN</td>\n",
       "      <td>긍정</td>\n",
       "    </tr>\n",
       "    <tr>\n",
       "      <th>6292</th>\n",
       "      <td>스키니랩 가벼워지는 시서스 다이어트 14포 x10박스 10주분</td>\n",
       "      <td>연한 누룽지차 맛에 가깝다고 느껴집니다. 비위가 *해서 아무거나 못마시는데 시서스는...</td>\n",
       "      <td>2021.08.05</td>\n",
       "      <td>한*름</td>\n",
       "      <td>NaN</td>\n",
       "      <td>긍정</td>\n",
       "    </tr>\n",
       "    <tr>\n",
       "      <th>6293</th>\n",
       "      <td>스키니랩 가벼워지는 시서스 다이어트 14포 x10박스 10주분</td>\n",
       "      <td>배송도 빠르고 생각지도 못한 사은품들이 들어있어서 선물박스 받은 느낌입니다.</td>\n",
       "      <td>2021.08.05</td>\n",
       "      <td>한*름</td>\n",
       "      <td>NaN</td>\n",
       "      <td>긍정</td>\n",
       "    </tr>\n",
       "    <tr>\n",
       "      <th>6294</th>\n",
       "      <td>스키니랩 가벼워지는 시서스 다이어트 14포 x10박스 10주분</td>\n",
       "      <td>맹물보다 보리차를 좋아하는데 구수한 맛이 꼭 보리차같아서 물처럼 계속 마시기 너무 ...</td>\n",
       "      <td>2021.07.20</td>\n",
       "      <td>a*******</td>\n",
       "      <td>NaN</td>\n",
       "      <td>긍정</td>\n",
       "    </tr>\n",
       "  </tbody>\n",
       "</table>\n",
       "<p>6295 rows × 6 columns</p>\n",
       "</div>"
      ],
      "text/plain": [
       "                              product_name  \\\n",
       "0     [주현영, 이나연 찐템]딥트 3일 피치(맛)번 30정 (30일분)   \n",
       "1     [주현영, 이나연 찐템]딥트 3일 피치(맛)번 30정 (30일분)   \n",
       "2     [주현영, 이나연 찐템]딥트 3일 피치(맛)번 30정 (30일분)   \n",
       "3     [주현영, 이나연 찐템]딥트 3일 피치(맛)번 30정 (30일분)   \n",
       "4     [주현영, 이나연 찐템]딥트 3일 피치(맛)번 30정 (30일분)   \n",
       "...                                    ...   \n",
       "6290    스키니랩 가벼워지는 시서스 다이어트 14포 x10박스 10주분   \n",
       "6291    스키니랩 가벼워지는 시서스 다이어트 14포 x10박스 10주분   \n",
       "6292    스키니랩 가벼워지는 시서스 다이어트 14포 x10박스 10주분   \n",
       "6293    스키니랩 가벼워지는 시서스 다이어트 14포 x10박스 10주분   \n",
       "6294    스키니랩 가벼워지는 시서스 다이어트 14포 x10박스 10주분   \n",
       "\n",
       "                                         review_content review_date  \\\n",
       "0     없으면 안될 최고의 diet템! 피치번을 추천합니당 ㅎㅎ 사진엔 없지만 4통째 먹고...  2023.08.27   \n",
       "1     알약 통통이하트 넘예뻐요. 자기전 먹고 효과있으면 얼마나 좋을까요 ㅜㅜ 나이들수록 ...  2023.09.14   \n",
       "2     드라마틱하게 뭔가 달라진 건 없지만 자기 전에 죄책감을 덜어주는 의미로 하나씩 먹고...  2023.09.14   \n",
       "3     먹으면 달달한 사탕맛이 나는데\\n2-3초 빨아 먹으면 달달구리는 다 녹아서 맛없는 ...  2023.09.04   \n",
       "4     효과는 모르겠지만 덜찌는것 같아요\\n알약이 이쁘고 입안에 들어갔을때 역하지않아서 좋습니다  2023.09.04   \n",
       "...                                                 ...         ...   \n",
       "6290                                     항상 시켜먹습니다 추천이오  2021.08.14   \n",
       "6291  꼼꼼히 포장해서 도착 서비스로 석류하고 단백질을 보내줘서 같이 발 먹고 있어요 **...  2021.08.12   \n",
       "6292  연한 누룽지차 맛에 가깝다고 느껴집니다. 비위가 *해서 아무거나 못마시는데 시서스는...  2021.08.05   \n",
       "6293         배송도 빠르고 생각지도 못한 사은품들이 들어있어서 선물박스 받은 느낌입니다.  2021.08.05   \n",
       "6294  맹물보다 보리차를 좋아하는데 구수한 맛이 꼭 보리차같아서 물처럼 계속 마시기 너무 ...  2021.07.20   \n",
       "\n",
       "     review_name  rating sentiment  \n",
       "0           보리오빠     5.0        긍정  \n",
       "1           바보바니     5.0        긍정  \n",
       "2        올영요정임니당     5.0        긍정  \n",
       "3           히드돈이     5.0        긍정  \n",
       "4           짱구덕휴     5.0        긍정  \n",
       "...          ...     ...       ...  \n",
       "6290    1*******     NaN        긍정  \n",
       "6291    m*******     NaN        긍정  \n",
       "6292         한*름     NaN        긍정  \n",
       "6293         한*름     NaN        긍정  \n",
       "6294    a*******     NaN        긍정  \n",
       "\n",
       "[6295 rows x 6 columns]"
      ]
     },
     "execution_count": 18,
     "metadata": {},
     "output_type": "execute_result"
    }
   ],
   "source": [
    "df_pos = df[['product_name', 'review_content', 'review_date','review_name','rating','sentiment']]\n",
    "df_pos"
   ]
  },
  {
   "cell_type": "code",
   "execution_count": 19,
   "id": "399b1c87-c767-43b8-bf5c-5b7c496a7895",
   "metadata": {},
   "outputs": [],
   "source": [
    "table_name = 'dummy_table_reviews'"
   ]
  },
  {
   "cell_type": "code",
   "execution_count": 20,
   "id": "63981f52-35c5-4c45-9752-ca575e1970ca",
   "metadata": {
    "tags": []
   },
   "outputs": [
    {
     "data": {
      "text/plain": [
       "6295"
      ]
     },
     "execution_count": 20,
     "metadata": {},
     "output_type": "execute_result"
    }
   ],
   "source": [
    "df_pos.to_sql(name=table_name, con=engine, if_exists='append', index=False)"
   ]
  },
  {
   "cell_type": "code",
   "execution_count": null,
   "id": "2e8113fd-640c-45e7-b6c9-6288bba03000",
   "metadata": {},
   "outputs": [],
   "source": [
    "insert into review(REVIEW_ID, WRITING_DATE, TITLE, CONTENT, star, SUPP_ID)\n",
    "select concat('REVIEW', '_e', e_index), -- 유니크 아이디 만들어서 집어넣기\n",
    "       review_date,\n",
    "       product,\n",
    "       review_content,\n",
    "       review_star,\n",
    "       SUPP_ID\n",
    "from dummy_tables;"
   ]
  }
 ],
 "metadata": {
  "kernelspec": {
   "display_name": "Python 3 (ipykernel)",
   "language": "python",
   "name": "python3"
  },
  "language_info": {
   "codemirror_mode": {
    "name": "ipython",
    "version": 3
   },
   "file_extension": ".py",
   "mimetype": "text/x-python",
   "name": "python",
   "nbconvert_exporter": "python",
   "pygments_lexer": "ipython3",
   "version": "3.11.3"
  }
 },
 "nbformat": 4,
 "nbformat_minor": 5
}
