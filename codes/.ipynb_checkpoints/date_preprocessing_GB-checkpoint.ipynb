{
 "cells": [
  {
   "cell_type": "code",
   "execution_count": 1,
   "id": "b99424ac-e42b-40d6-93d9-e263b97cb57e",
   "metadata": {
    "tags": []
   },
   "outputs": [],
   "source": [
    "import pandas as pd"
   ]
  },
  {
   "cell_type": "code",
   "execution_count": 2,
   "id": "a6d40455-2386-4793-9368-d8ef503fab2f",
   "metadata": {
    "tags": []
   },
   "outputs": [],
   "source": [
    "df = pd.read_csv('../datasets/oliveyoung_reviewsdata.csv')"
   ]
  },
  {
   "cell_type": "code",
   "execution_count": 4,
   "id": "af9787ec-3ea8-4ab7-914f-ccf0c2f32f86",
   "metadata": {
    "tags": []
   },
   "outputs": [
    {
     "data": {
      "text/plain": [
       "[올영PICK]콜레올로지 600mg*30정+컷팅젤리2포 (15일분) 기획/단품 중 택1    672980\n",
       "[주현영, 이나연 찐템]딥트 3일 피치(맛)번 30정 (30일분)                622288\n",
       "[올영PICK] 바이탈뷰티 메타그린 슬림업 (14일, 30+7일분 중 택1)          614460\n",
       "경남 칼로 나이트 15포 (15일분)                                580956\n",
       "[주현영, 이나연 찐템]딥트 3일 스트롱업 8포 (4일분)                    510230\n",
       "[서현pick]콜레올로지 버닝올로지 디데이 3.8g*5포 (5일분)               491650\n",
       "grn+ 벨리곰X슬림밸런스 분홍이/초록이 35일분 택 1                     339720\n",
       "경남 칼로 스탑 PLUS 15포 + 칼로 컨트롤 PLUS 15포 기획(30일분)        321750\n",
       "[서현Pick]콜레올로지 600mgX60정(1개월분)                       317420\n",
       "[서현PICK]콜레올로지 컷팅 젤리 10포+2포 증정(12일분)                 267048\n",
       "바이탈뷰티 메타그린 슬림업 30입 단품, 기획 중 택1                      200722\n",
       "[한혜진PICK]바이탈뷰티 메타그린 부스터샷 7일                         155024\n",
       "[9월 올영픽] 센시안 마시는 센시안 14포 (14일분)                     134815\n",
       "센트 센트디 패스트샷 10일 다이어트 리뉴얼 10+2병 2종 중 택 1             124690\n",
       "grn+ 초록이/분홍이 쓰리데이즈 시즌2 3개입(3일분) 2종 중 택 1             71098\n",
       "[주현영, 이나연 찐템]딥트 3일 올케어 3일 프로그램 (24입)                 30654\n",
       "Name: product_name, dtype: int64"
      ]
     },
     "execution_count": 4,
     "metadata": {},
     "output_type": "execute_result"
    }
   ],
   "source": [
    "df['product_name'].value_counts()"
   ]
  },
  {
   "cell_type": "code",
   "execution_count": 5,
   "id": "1ada3c73-32d5-4f81-9e74-4f9422178bd5",
   "metadata": {
    "tags": []
   },
   "outputs": [],
   "source": [
    "df2 = pd.read_csv('../datasets/oliveyoung_reviewsdata.csv')"
   ]
  },
  {
   "cell_type": "code",
   "execution_count": 6,
   "id": "6c170669-dd02-4bc3-8b0a-aea1f4e61bf2",
   "metadata": {
    "tags": []
   },
   "outputs": [
    {
     "data": {
      "text/plain": [
       "[올영PICK]콜레올로지 600mg*30정+컷팅젤리2포 (15일분) 기획/단품 중 택1    672980\n",
       "[주현영, 이나연 찐템]딥트 3일 피치(맛)번 30정 (30일분)                622288\n",
       "[올영PICK] 바이탈뷰티 메타그린 슬림업 (14일, 30+7일분 중 택1)          614460\n",
       "경남 칼로 나이트 15포 (15일분)                                580956\n",
       "[주현영, 이나연 찐템]딥트 3일 스트롱업 8포 (4일분)                    510230\n",
       "[서현pick]콜레올로지 버닝올로지 디데이 3.8g*5포 (5일분)               491650\n",
       "grn+ 벨리곰X슬림밸런스 분홍이/초록이 35일분 택 1                     339720\n",
       "경남 칼로 스탑 PLUS 15포 + 칼로 컨트롤 PLUS 15포 기획(30일분)        321750\n",
       "[서현Pick]콜레올로지 600mgX60정(1개월분)                       317420\n",
       "[서현PICK]콜레올로지 컷팅 젤리 10포+2포 증정(12일분)                 267048\n",
       "바이탈뷰티 메타그린 슬림업 30입 단품, 기획 중 택1                      200722\n",
       "[한혜진PICK]바이탈뷰티 메타그린 부스터샷 7일                         155024\n",
       "[9월 올영픽] 센시안 마시는 센시안 14포 (14일분)                     134815\n",
       "센트 센트디 패스트샷 10일 다이어트 리뉴얼 10+2병 2종 중 택 1             124690\n",
       "grn+ 초록이/분홍이 쓰리데이즈 시즌2 3개입(3일분) 2종 중 택 1             71098\n",
       "[주현영, 이나연 찐템]딥트 3일 올케어 3일 프로그램 (24입)                 30654\n",
       "Name: product_name, dtype: int64"
      ]
     },
     "execution_count": 6,
     "metadata": {},
     "output_type": "execute_result"
    }
   ],
   "source": [
    "df2['product_name'].value_counts()"
   ]
  },
  {
   "cell_type": "code",
   "execution_count": 10,
   "id": "623f9b8b-5f69-45e8-b9f4-d6b48b858a0c",
   "metadata": {
    "tags": []
   },
   "outputs": [
    {
     "data": {
      "text/plain": [
       "Index(['_id', 'product_name', 'review_name', 'review_content', 'review_date',\n",
       "       'review_rating'],\n",
       "      dtype='object')"
      ]
     },
     "execution_count": 10,
     "metadata": {},
     "output_type": "execute_result"
    }
   ],
   "source": [
    "df.columns"
   ]
  },
  {
   "cell_type": "code",
   "execution_count": 11,
   "id": "01b38283-8c6e-41a9-a88c-1a48f58ab4c1",
   "metadata": {
    "tags": []
   },
   "outputs": [],
   "source": [
    "df = df.drop_duplicates(subset=['product_name', 'review_name', 'review_content', 'review_date',\n",
    "       'review_rating'])"
   ]
  },
  {
   "cell_type": "code",
   "execution_count": 12,
   "id": "26d716b1-1a4a-424e-ab44-d67f9a1bfc7f",
   "metadata": {
    "tags": []
   },
   "outputs": [
    {
     "name": "stdout",
     "output_type": "stream",
     "text": [
      "<class 'pandas.core.frame.DataFrame'>\n",
      "Int64Index: 1440 entries, 0 to 4979029\n",
      "Data columns (total 6 columns):\n",
      " #   Column          Non-Null Count  Dtype \n",
      "---  ------          --------------  ----- \n",
      " 0   _id             1440 non-null   object\n",
      " 1   product_name    1440 non-null   object\n",
      " 2   review_name     1429 non-null   object\n",
      " 3   review_content  1397 non-null   object\n",
      " 4   review_date     1369 non-null   object\n",
      " 5   review_rating   1345 non-null   object\n",
      "dtypes: object(6)\n",
      "memory usage: 78.8+ KB\n"
     ]
    }
   ],
   "source": [
    "df.info()"
   ]
  },
  {
   "cell_type": "code",
   "execution_count": 13,
   "id": "5278a339-fc48-4f2e-a385-af18859c4aa1",
   "metadata": {
    "tags": []
   },
   "outputs": [],
   "source": [
    "df3 = pd.read_csv('../datasets/oliveyoung_data_third.csv')"
   ]
  },
  {
   "cell_type": "code",
   "execution_count": 14,
   "id": "e9a3e02d-dad7-45ef-b3dc-dc2ea1168e45",
   "metadata": {
    "tags": []
   },
   "outputs": [],
   "source": [
    "df3 = df3.drop_duplicates(subset=['product_name', 'review_name', 'review_content', 'review_date',\n",
    "       'review_rating'])"
   ]
  },
  {
   "cell_type": "code",
   "execution_count": 20,
   "id": "d61c9b08-4ed0-4a0a-91c1-ddca61ec7010",
   "metadata": {
    "tags": []
   },
   "outputs": [],
   "source": [
    "result = pd.concat([df, df3], axis=0)"
   ]
  },
  {
   "cell_type": "code",
   "execution_count": 29,
   "id": "cdf86663-5726-4c82-aa08-fed3e1e01795",
   "metadata": {
    "tags": []
   },
   "outputs": [],
   "source": [
    "result = pd.concat([df, df2, df3], axis=0)"
   ]
  },
  {
   "cell_type": "code",
   "execution_count": 33,
   "id": "3307bf13-06bd-47d3-aa55-377dd770f479",
   "metadata": {
    "tags": []
   },
   "outputs": [],
   "source": [
    "result.to_csv('../datasets/oliveyoung_data.csv')"
   ]
  },
  {
   "cell_type": "code",
   "execution_count": 35,
   "id": "06d311ae-822b-42ff-9f0d-bc6424cb1081",
   "metadata": {
    "tags": []
   },
   "outputs": [
    {
     "data": {
      "text/plain": [
       "Unnamed: 0          0\n",
       "_id                 0\n",
       "product_name        0\n",
       "review_name        18\n",
       "review_content    192\n",
       "review_date       123\n",
       "review_rating     162\n",
       "dtype: int64"
      ]
     },
     "execution_count": 35,
     "metadata": {},
     "output_type": "execute_result"
    }
   ],
   "source": [
    "df_0.isnull().sum()"
   ]
  },
  {
   "cell_type": "code",
   "execution_count": 2,
   "id": "6fc8f7ee-d6ab-4f08-9078-8c0c6ed43cf9",
   "metadata": {
    "collapsed": true,
    "jupyter": {
     "outputs_hidden": true
    },
    "tags": []
   },
   "outputs": [
    {
     "ename": "FileNotFoundError",
     "evalue": "[Errno 2] No such file or directory: '../datasets/wemake_data_test.csv'",
     "output_type": "error",
     "traceback": [
      "\u001b[1;31m---------------------------------------------------------------------------\u001b[0m",
      "\u001b[1;31mFileNotFoundError\u001b[0m                         Traceback (most recent call last)",
      "Cell \u001b[1;32mIn[2], line 1\u001b[0m\n\u001b[1;32m----> 1\u001b[0m df_5\u001b[38;5;241m=\u001b[39m pd\u001b[38;5;241m.\u001b[39mread_csv(\u001b[38;5;124m'\u001b[39m\u001b[38;5;124m../datasets/wemake_data_test.csv\u001b[39m\u001b[38;5;124m'\u001b[39m)\n\u001b[0;32m      2\u001b[0m df_5[:\u001b[38;5;241m2\u001b[39m]\n",
      "File \u001b[1;32m~\\anaconda3\\Lib\\site-packages\\pandas\\util\\_decorators.py:211\u001b[0m, in \u001b[0;36mdeprecate_kwarg.<locals>._deprecate_kwarg.<locals>.wrapper\u001b[1;34m(*args, **kwargs)\u001b[0m\n\u001b[0;32m    209\u001b[0m     \u001b[38;5;28;01melse\u001b[39;00m:\n\u001b[0;32m    210\u001b[0m         kwargs[new_arg_name] \u001b[38;5;241m=\u001b[39m new_arg_value\n\u001b[1;32m--> 211\u001b[0m \u001b[38;5;28;01mreturn\u001b[39;00m func(\u001b[38;5;241m*\u001b[39margs, \u001b[38;5;241m*\u001b[39m\u001b[38;5;241m*\u001b[39mkwargs)\n",
      "File \u001b[1;32m~\\anaconda3\\Lib\\site-packages\\pandas\\util\\_decorators.py:331\u001b[0m, in \u001b[0;36mdeprecate_nonkeyword_arguments.<locals>.decorate.<locals>.wrapper\u001b[1;34m(*args, **kwargs)\u001b[0m\n\u001b[0;32m    325\u001b[0m \u001b[38;5;28;01mif\u001b[39;00m \u001b[38;5;28mlen\u001b[39m(args) \u001b[38;5;241m>\u001b[39m num_allow_args:\n\u001b[0;32m    326\u001b[0m     warnings\u001b[38;5;241m.\u001b[39mwarn(\n\u001b[0;32m    327\u001b[0m         msg\u001b[38;5;241m.\u001b[39mformat(arguments\u001b[38;5;241m=\u001b[39m_format_argument_list(allow_args)),\n\u001b[0;32m    328\u001b[0m         \u001b[38;5;167;01mFutureWarning\u001b[39;00m,\n\u001b[0;32m    329\u001b[0m         stacklevel\u001b[38;5;241m=\u001b[39mfind_stack_level(),\n\u001b[0;32m    330\u001b[0m     )\n\u001b[1;32m--> 331\u001b[0m \u001b[38;5;28;01mreturn\u001b[39;00m func(\u001b[38;5;241m*\u001b[39margs, \u001b[38;5;241m*\u001b[39m\u001b[38;5;241m*\u001b[39mkwargs)\n",
      "File \u001b[1;32m~\\anaconda3\\Lib\\site-packages\\pandas\\io\\parsers\\readers.py:950\u001b[0m, in \u001b[0;36mread_csv\u001b[1;34m(filepath_or_buffer, sep, delimiter, header, names, index_col, usecols, squeeze, prefix, mangle_dupe_cols, dtype, engine, converters, true_values, false_values, skipinitialspace, skiprows, skipfooter, nrows, na_values, keep_default_na, na_filter, verbose, skip_blank_lines, parse_dates, infer_datetime_format, keep_date_col, date_parser, dayfirst, cache_dates, iterator, chunksize, compression, thousands, decimal, lineterminator, quotechar, quoting, doublequote, escapechar, comment, encoding, encoding_errors, dialect, error_bad_lines, warn_bad_lines, on_bad_lines, delim_whitespace, low_memory, memory_map, float_precision, storage_options)\u001b[0m\n\u001b[0;32m    935\u001b[0m kwds_defaults \u001b[38;5;241m=\u001b[39m _refine_defaults_read(\n\u001b[0;32m    936\u001b[0m     dialect,\n\u001b[0;32m    937\u001b[0m     delimiter,\n\u001b[1;32m   (...)\u001b[0m\n\u001b[0;32m    946\u001b[0m     defaults\u001b[38;5;241m=\u001b[39m{\u001b[38;5;124m\"\u001b[39m\u001b[38;5;124mdelimiter\u001b[39m\u001b[38;5;124m\"\u001b[39m: \u001b[38;5;124m\"\u001b[39m\u001b[38;5;124m,\u001b[39m\u001b[38;5;124m\"\u001b[39m},\n\u001b[0;32m    947\u001b[0m )\n\u001b[0;32m    948\u001b[0m kwds\u001b[38;5;241m.\u001b[39mupdate(kwds_defaults)\n\u001b[1;32m--> 950\u001b[0m \u001b[38;5;28;01mreturn\u001b[39;00m _read(filepath_or_buffer, kwds)\n",
      "File \u001b[1;32m~\\anaconda3\\Lib\\site-packages\\pandas\\io\\parsers\\readers.py:605\u001b[0m, in \u001b[0;36m_read\u001b[1;34m(filepath_or_buffer, kwds)\u001b[0m\n\u001b[0;32m    602\u001b[0m _validate_names(kwds\u001b[38;5;241m.\u001b[39mget(\u001b[38;5;124m\"\u001b[39m\u001b[38;5;124mnames\u001b[39m\u001b[38;5;124m\"\u001b[39m, \u001b[38;5;28;01mNone\u001b[39;00m))\n\u001b[0;32m    604\u001b[0m \u001b[38;5;66;03m# Create the parser.\u001b[39;00m\n\u001b[1;32m--> 605\u001b[0m parser \u001b[38;5;241m=\u001b[39m TextFileReader(filepath_or_buffer, \u001b[38;5;241m*\u001b[39m\u001b[38;5;241m*\u001b[39mkwds)\n\u001b[0;32m    607\u001b[0m \u001b[38;5;28;01mif\u001b[39;00m chunksize \u001b[38;5;129;01mor\u001b[39;00m iterator:\n\u001b[0;32m    608\u001b[0m     \u001b[38;5;28;01mreturn\u001b[39;00m parser\n",
      "File \u001b[1;32m~\\anaconda3\\Lib\\site-packages\\pandas\\io\\parsers\\readers.py:1442\u001b[0m, in \u001b[0;36mTextFileReader.__init__\u001b[1;34m(self, f, engine, **kwds)\u001b[0m\n\u001b[0;32m   1439\u001b[0m     \u001b[38;5;28mself\u001b[39m\u001b[38;5;241m.\u001b[39moptions[\u001b[38;5;124m\"\u001b[39m\u001b[38;5;124mhas_index_names\u001b[39m\u001b[38;5;124m\"\u001b[39m] \u001b[38;5;241m=\u001b[39m kwds[\u001b[38;5;124m\"\u001b[39m\u001b[38;5;124mhas_index_names\u001b[39m\u001b[38;5;124m\"\u001b[39m]\n\u001b[0;32m   1441\u001b[0m \u001b[38;5;28mself\u001b[39m\u001b[38;5;241m.\u001b[39mhandles: IOHandles \u001b[38;5;241m|\u001b[39m \u001b[38;5;28;01mNone\u001b[39;00m \u001b[38;5;241m=\u001b[39m \u001b[38;5;28;01mNone\u001b[39;00m\n\u001b[1;32m-> 1442\u001b[0m \u001b[38;5;28mself\u001b[39m\u001b[38;5;241m.\u001b[39m_engine \u001b[38;5;241m=\u001b[39m \u001b[38;5;28mself\u001b[39m\u001b[38;5;241m.\u001b[39m_make_engine(f, \u001b[38;5;28mself\u001b[39m\u001b[38;5;241m.\u001b[39mengine)\n",
      "File \u001b[1;32m~\\anaconda3\\Lib\\site-packages\\pandas\\io\\parsers\\readers.py:1735\u001b[0m, in \u001b[0;36mTextFileReader._make_engine\u001b[1;34m(self, f, engine)\u001b[0m\n\u001b[0;32m   1733\u001b[0m     \u001b[38;5;28;01mif\u001b[39;00m \u001b[38;5;124m\"\u001b[39m\u001b[38;5;124mb\u001b[39m\u001b[38;5;124m\"\u001b[39m \u001b[38;5;129;01mnot\u001b[39;00m \u001b[38;5;129;01min\u001b[39;00m mode:\n\u001b[0;32m   1734\u001b[0m         mode \u001b[38;5;241m+\u001b[39m\u001b[38;5;241m=\u001b[39m \u001b[38;5;124m\"\u001b[39m\u001b[38;5;124mb\u001b[39m\u001b[38;5;124m\"\u001b[39m\n\u001b[1;32m-> 1735\u001b[0m \u001b[38;5;28mself\u001b[39m\u001b[38;5;241m.\u001b[39mhandles \u001b[38;5;241m=\u001b[39m get_handle(\n\u001b[0;32m   1736\u001b[0m     f,\n\u001b[0;32m   1737\u001b[0m     mode,\n\u001b[0;32m   1738\u001b[0m     encoding\u001b[38;5;241m=\u001b[39m\u001b[38;5;28mself\u001b[39m\u001b[38;5;241m.\u001b[39moptions\u001b[38;5;241m.\u001b[39mget(\u001b[38;5;124m\"\u001b[39m\u001b[38;5;124mencoding\u001b[39m\u001b[38;5;124m\"\u001b[39m, \u001b[38;5;28;01mNone\u001b[39;00m),\n\u001b[0;32m   1739\u001b[0m     compression\u001b[38;5;241m=\u001b[39m\u001b[38;5;28mself\u001b[39m\u001b[38;5;241m.\u001b[39moptions\u001b[38;5;241m.\u001b[39mget(\u001b[38;5;124m\"\u001b[39m\u001b[38;5;124mcompression\u001b[39m\u001b[38;5;124m\"\u001b[39m, \u001b[38;5;28;01mNone\u001b[39;00m),\n\u001b[0;32m   1740\u001b[0m     memory_map\u001b[38;5;241m=\u001b[39m\u001b[38;5;28mself\u001b[39m\u001b[38;5;241m.\u001b[39moptions\u001b[38;5;241m.\u001b[39mget(\u001b[38;5;124m\"\u001b[39m\u001b[38;5;124mmemory_map\u001b[39m\u001b[38;5;124m\"\u001b[39m, \u001b[38;5;28;01mFalse\u001b[39;00m),\n\u001b[0;32m   1741\u001b[0m     is_text\u001b[38;5;241m=\u001b[39mis_text,\n\u001b[0;32m   1742\u001b[0m     errors\u001b[38;5;241m=\u001b[39m\u001b[38;5;28mself\u001b[39m\u001b[38;5;241m.\u001b[39moptions\u001b[38;5;241m.\u001b[39mget(\u001b[38;5;124m\"\u001b[39m\u001b[38;5;124mencoding_errors\u001b[39m\u001b[38;5;124m\"\u001b[39m, \u001b[38;5;124m\"\u001b[39m\u001b[38;5;124mstrict\u001b[39m\u001b[38;5;124m\"\u001b[39m),\n\u001b[0;32m   1743\u001b[0m     storage_options\u001b[38;5;241m=\u001b[39m\u001b[38;5;28mself\u001b[39m\u001b[38;5;241m.\u001b[39moptions\u001b[38;5;241m.\u001b[39mget(\u001b[38;5;124m\"\u001b[39m\u001b[38;5;124mstorage_options\u001b[39m\u001b[38;5;124m\"\u001b[39m, \u001b[38;5;28;01mNone\u001b[39;00m),\n\u001b[0;32m   1744\u001b[0m )\n\u001b[0;32m   1745\u001b[0m \u001b[38;5;28;01massert\u001b[39;00m \u001b[38;5;28mself\u001b[39m\u001b[38;5;241m.\u001b[39mhandles \u001b[38;5;129;01mis\u001b[39;00m \u001b[38;5;129;01mnot\u001b[39;00m \u001b[38;5;28;01mNone\u001b[39;00m\n\u001b[0;32m   1746\u001b[0m f \u001b[38;5;241m=\u001b[39m \u001b[38;5;28mself\u001b[39m\u001b[38;5;241m.\u001b[39mhandles\u001b[38;5;241m.\u001b[39mhandle\n",
      "File \u001b[1;32m~\\anaconda3\\Lib\\site-packages\\pandas\\io\\common.py:856\u001b[0m, in \u001b[0;36mget_handle\u001b[1;34m(path_or_buf, mode, encoding, compression, memory_map, is_text, errors, storage_options)\u001b[0m\n\u001b[0;32m    851\u001b[0m \u001b[38;5;28;01melif\u001b[39;00m \u001b[38;5;28misinstance\u001b[39m(handle, \u001b[38;5;28mstr\u001b[39m):\n\u001b[0;32m    852\u001b[0m     \u001b[38;5;66;03m# Check whether the filename is to be opened in binary mode.\u001b[39;00m\n\u001b[0;32m    853\u001b[0m     \u001b[38;5;66;03m# Binary mode does not support 'encoding' and 'newline'.\u001b[39;00m\n\u001b[0;32m    854\u001b[0m     \u001b[38;5;28;01mif\u001b[39;00m ioargs\u001b[38;5;241m.\u001b[39mencoding \u001b[38;5;129;01mand\u001b[39;00m \u001b[38;5;124m\"\u001b[39m\u001b[38;5;124mb\u001b[39m\u001b[38;5;124m\"\u001b[39m \u001b[38;5;129;01mnot\u001b[39;00m \u001b[38;5;129;01min\u001b[39;00m ioargs\u001b[38;5;241m.\u001b[39mmode:\n\u001b[0;32m    855\u001b[0m         \u001b[38;5;66;03m# Encoding\u001b[39;00m\n\u001b[1;32m--> 856\u001b[0m         handle \u001b[38;5;241m=\u001b[39m \u001b[38;5;28mopen\u001b[39m(\n\u001b[0;32m    857\u001b[0m             handle,\n\u001b[0;32m    858\u001b[0m             ioargs\u001b[38;5;241m.\u001b[39mmode,\n\u001b[0;32m    859\u001b[0m             encoding\u001b[38;5;241m=\u001b[39mioargs\u001b[38;5;241m.\u001b[39mencoding,\n\u001b[0;32m    860\u001b[0m             errors\u001b[38;5;241m=\u001b[39merrors,\n\u001b[0;32m    861\u001b[0m             newline\u001b[38;5;241m=\u001b[39m\u001b[38;5;124m\"\u001b[39m\u001b[38;5;124m\"\u001b[39m,\n\u001b[0;32m    862\u001b[0m         )\n\u001b[0;32m    863\u001b[0m     \u001b[38;5;28;01melse\u001b[39;00m:\n\u001b[0;32m    864\u001b[0m         \u001b[38;5;66;03m# Binary mode\u001b[39;00m\n\u001b[0;32m    865\u001b[0m         handle \u001b[38;5;241m=\u001b[39m \u001b[38;5;28mopen\u001b[39m(handle, ioargs\u001b[38;5;241m.\u001b[39mmode)\n",
      "\u001b[1;31mFileNotFoundError\u001b[0m: [Errno 2] No such file or directory: '../datasets/wemake_data_test.csv'"
     ]
    }
   ],
   "source": [
    "df_5= pd.read_csv('../datasets/wemake_data_test.csv')\n",
    "df_5[:2]"
   ]
  },
  {
   "cell_type": "code",
   "execution_count": 3,
   "id": "fe40abfa-94a6-490f-b7d2-aa0f1698b06f",
   "metadata": {
    "tags": []
   },
   "outputs": [
    {
     "data": {
      "text/html": [
       "<div>\n",
       "<style scoped>\n",
       "    .dataframe tbody tr th:only-of-type {\n",
       "        vertical-align: middle;\n",
       "    }\n",
       "\n",
       "    .dataframe tbody tr th {\n",
       "        vertical-align: top;\n",
       "    }\n",
       "\n",
       "    .dataframe thead th {\n",
       "        text-align: right;\n",
       "    }\n",
       "</style>\n",
       "<table border=\"1\" class=\"dataframe\">\n",
       "  <thead>\n",
       "    <tr style=\"text-align: right;\">\n",
       "      <th></th>\n",
       "      <th>Unnamed: 0</th>\n",
       "      <th>_id</th>\n",
       "      <th>product_name</th>\n",
       "      <th>review_name</th>\n",
       "      <th>review_content</th>\n",
       "      <th>review_date</th>\n",
       "      <th>review_rating</th>\n",
       "    </tr>\n",
       "  </thead>\n",
       "  <tbody>\n",
       "    <tr>\n",
       "      <th>0</th>\n",
       "      <td>0</td>\n",
       "      <td>65090e01cca26a79a2f5d04c</td>\n",
       "      <td>[주현영, 이나연 찐템]딥트 3일 피치(맛)번 30정 (30일분)</td>\n",
       "      <td>보리오빠</td>\n",
       "      <td>없으면 안될 최고의 diet템! 피치번을 추천합니당 ㅎㅎ 사진엔 없지만 4통째 먹고...</td>\n",
       "      <td>2023.08.27</td>\n",
       "      <td>5점만점에 5점</td>\n",
       "    </tr>\n",
       "    <tr>\n",
       "      <th>1</th>\n",
       "      <td>1</td>\n",
       "      <td>65090e01cca26a79a2f5d04d</td>\n",
       "      <td>[주현영, 이나연 찐템]딥트 3일 피치(맛)번 30정 (30일분)</td>\n",
       "      <td>바보바니</td>\n",
       "      <td>알약 통통이하트 넘예뻐요. 자기전 먹고 효과있으면 얼마나 좋을까요 ㅜㅜ 나이들수록 ...</td>\n",
       "      <td>2023.09.14</td>\n",
       "      <td>5점만점에 5점</td>\n",
       "    </tr>\n",
       "    <tr>\n",
       "      <th>2</th>\n",
       "      <td>2</td>\n",
       "      <td>65090e01cca26a79a2f5d04e</td>\n",
       "      <td>[주현영, 이나연 찐템]딥트 3일 피치(맛)번 30정 (30일분)</td>\n",
       "      <td>올영요정임니당</td>\n",
       "      <td>드라마틱하게 뭔가 달라진 건 없지만 자기 전에 죄책감을 덜어주는 의미로 하나씩 먹고...</td>\n",
       "      <td>2023.09.14</td>\n",
       "      <td>5점만점에 5점</td>\n",
       "    </tr>\n",
       "    <tr>\n",
       "      <th>3</th>\n",
       "      <td>6</td>\n",
       "      <td>65090e02cca26a79a2f5d052</td>\n",
       "      <td>[주현영, 이나연 찐템]딥트 3일 피치(맛)번 30정 (30일분)</td>\n",
       "      <td>히드돈이</td>\n",
       "      <td>먹으면 달달한 사탕맛이 나는데\\n2-3초 빨아 먹으면 달달구리는 다 녹아서 맛없는 ...</td>\n",
       "      <td>2023.09.04</td>\n",
       "      <td>5점만점에 5점</td>\n",
       "    </tr>\n",
       "    <tr>\n",
       "      <th>4</th>\n",
       "      <td>7</td>\n",
       "      <td>65090e02cca26a79a2f5d053</td>\n",
       "      <td>[주현영, 이나연 찐템]딥트 3일 피치(맛)번 30정 (30일분)</td>\n",
       "      <td>짱구덕휴</td>\n",
       "      <td>효과는 모르겠지만 덜찌는것 같아요\\n알약이 이쁘고 입안에 들어갔을때 역하지않아서 좋습니다</td>\n",
       "      <td>2023.09.04</td>\n",
       "      <td>5점만점에 5점</td>\n",
       "    </tr>\n",
       "    <tr>\n",
       "      <th>...</th>\n",
       "      <td>...</td>\n",
       "      <td>...</td>\n",
       "      <td>...</td>\n",
       "      <td>...</td>\n",
       "      <td>...</td>\n",
       "      <td>...</td>\n",
       "      <td>...</td>\n",
       "    </tr>\n",
       "    <tr>\n",
       "      <th>3211</th>\n",
       "      <td>12756417</td>\n",
       "      <td>65097ab6cca26a79a28725c4</td>\n",
       "      <td>FCCE 발효율피 다이어트 360정 (24주분)</td>\n",
       "      <td>hju****</td>\n",
       "      <td>꾸준히 섭취하고있으며 가격이 다소 높지만 재구매 의사 있음</td>\n",
       "      <td>2023.06.19</td>\n",
       "      <td>5점만점에 5점</td>\n",
       "    </tr>\n",
       "    <tr>\n",
       "      <th>3212</th>\n",
       "      <td>12756418</td>\n",
       "      <td>65097ab6cca26a79a28725c5</td>\n",
       "      <td>FCCE 발효율피 다이어트 360정 (24주분)</td>\n",
       "      <td>toyt****</td>\n",
       "      <td>아직 먹기 전이지만 요즘 살이 쪄서 후기가 좋아서 구매했어요..</td>\n",
       "      <td>2023.03.07</td>\n",
       "      <td>5점만점에 3점</td>\n",
       "    </tr>\n",
       "    <tr>\n",
       "      <th>3213</th>\n",
       "      <td>12756419</td>\n",
       "      <td>65097ab6cca26a79a28725c6</td>\n",
       "      <td>FCCE 발효율피 다이어트 360정 (24주분)</td>\n",
       "      <td>qwe****</td>\n",
       "      <td>확실히 유산소랑 잘 맞는거같아요!! 좀 비싼편이지만 만족합니다~</td>\n",
       "      <td>2023.03.04</td>\n",
       "      <td>5점만점에 5점</td>\n",
       "    </tr>\n",
       "    <tr>\n",
       "      <th>3214</th>\n",
       "      <td>12756420</td>\n",
       "      <td>65097ab6cca26a79a28725c7</td>\n",
       "      <td>FCCE 발효율피 다이어트 360정 (24주분)</td>\n",
       "      <td>ehdrb****</td>\n",
       "      <td>유지가 됩니다 두달째인데 아주 만족해요ㅎㅎ또 사러 왔네요!</td>\n",
       "      <td>2023.03.04</td>\n",
       "      <td>5점만점에 5점</td>\n",
       "    </tr>\n",
       "    <tr>\n",
       "      <th>3215</th>\n",
       "      <td>12756421</td>\n",
       "      <td>65097ab6cca26a79a28725c8</td>\n",
       "      <td>FCCE 발효율피 다이어트 360정 (24주분)</td>\n",
       "      <td>hm****</td>\n",
       "      <td>비싸요 근데 나쁘진 않은거 같아요\\n식이조절해주고 먹으면 좀더 도움을 주는 느낌입니...</td>\n",
       "      <td>2023.01.31</td>\n",
       "      <td>5점만점에 5점</td>\n",
       "    </tr>\n",
       "  </tbody>\n",
       "</table>\n",
       "<p>3216 rows × 7 columns</p>\n",
       "</div>"
      ],
      "text/plain": [
       "      Unnamed: 0                       _id  \\\n",
       "0              0  65090e01cca26a79a2f5d04c   \n",
       "1              1  65090e01cca26a79a2f5d04d   \n",
       "2              2  65090e01cca26a79a2f5d04e   \n",
       "3              6  65090e02cca26a79a2f5d052   \n",
       "4              7  65090e02cca26a79a2f5d053   \n",
       "...          ...                       ...   \n",
       "3211    12756417  65097ab6cca26a79a28725c4   \n",
       "3212    12756418  65097ab6cca26a79a28725c5   \n",
       "3213    12756419  65097ab6cca26a79a28725c6   \n",
       "3214    12756420  65097ab6cca26a79a28725c7   \n",
       "3215    12756421  65097ab6cca26a79a28725c8   \n",
       "\n",
       "                              product_name review_name  \\\n",
       "0     [주현영, 이나연 찐템]딥트 3일 피치(맛)번 30정 (30일분)        보리오빠   \n",
       "1     [주현영, 이나연 찐템]딥트 3일 피치(맛)번 30정 (30일분)        바보바니   \n",
       "2     [주현영, 이나연 찐템]딥트 3일 피치(맛)번 30정 (30일분)     올영요정임니당   \n",
       "3     [주현영, 이나연 찐템]딥트 3일 피치(맛)번 30정 (30일분)        히드돈이   \n",
       "4     [주현영, 이나연 찐템]딥트 3일 피치(맛)번 30정 (30일분)        짱구덕휴   \n",
       "...                                    ...         ...   \n",
       "3211            FCCE 발효율피 다이어트 360정 (24주분)     hju****   \n",
       "3212            FCCE 발효율피 다이어트 360정 (24주분)    toyt****   \n",
       "3213            FCCE 발효율피 다이어트 360정 (24주분)     qwe****   \n",
       "3214            FCCE 발효율피 다이어트 360정 (24주분)   ehdrb****   \n",
       "3215            FCCE 발효율피 다이어트 360정 (24주분)      hm****   \n",
       "\n",
       "                                         review_content review_date  \\\n",
       "0     없으면 안될 최고의 diet템! 피치번을 추천합니당 ㅎㅎ 사진엔 없지만 4통째 먹고...  2023.08.27   \n",
       "1     알약 통통이하트 넘예뻐요. 자기전 먹고 효과있으면 얼마나 좋을까요 ㅜㅜ 나이들수록 ...  2023.09.14   \n",
       "2     드라마틱하게 뭔가 달라진 건 없지만 자기 전에 죄책감을 덜어주는 의미로 하나씩 먹고...  2023.09.14   \n",
       "3     먹으면 달달한 사탕맛이 나는데\\n2-3초 빨아 먹으면 달달구리는 다 녹아서 맛없는 ...  2023.09.04   \n",
       "4     효과는 모르겠지만 덜찌는것 같아요\\n알약이 이쁘고 입안에 들어갔을때 역하지않아서 좋습니다  2023.09.04   \n",
       "...                                                 ...         ...   \n",
       "3211                   꾸준히 섭취하고있으며 가격이 다소 높지만 재구매 의사 있음  2023.06.19   \n",
       "3212                아직 먹기 전이지만 요즘 살이 쪄서 후기가 좋아서 구매했어요..  2023.03.07   \n",
       "3213                확실히 유산소랑 잘 맞는거같아요!! 좀 비싼편이지만 만족합니다~  2023.03.04   \n",
       "3214                   유지가 됩니다 두달째인데 아주 만족해요ㅎㅎ또 사러 왔네요!  2023.03.04   \n",
       "3215  비싸요 근데 나쁘진 않은거 같아요\\n식이조절해주고 먹으면 좀더 도움을 주는 느낌입니...  2023.01.31   \n",
       "\n",
       "     review_rating  \n",
       "0         5점만점에 5점  \n",
       "1         5점만점에 5점  \n",
       "2         5점만점에 5점  \n",
       "3         5점만점에 5점  \n",
       "4         5점만점에 5점  \n",
       "...            ...  \n",
       "3211      5점만점에 5점  \n",
       "3212      5점만점에 3점  \n",
       "3213      5점만점에 5점  \n",
       "3214      5점만점에 5점  \n",
       "3215      5점만점에 5점  \n",
       "\n",
       "[3216 rows x 7 columns]"
      ]
     },
     "execution_count": 3,
     "metadata": {},
     "output_type": "execute_result"
    }
   ],
   "source": [
    "oliveyoung= pd.read_csv('../datasets/oliveyoung_data.csv')\n",
    "oliveyoung"
   ]
  },
  {
   "cell_type": "code",
   "execution_count": 9,
   "id": "c9ebf52d-f4a7-4d58-a0b2-865154dbb007",
   "metadata": {
    "tags": []
   },
   "outputs": [
    {
     "data": {
      "text/html": [
       "<div>\n",
       "<style scoped>\n",
       "    .dataframe tbody tr th:only-of-type {\n",
       "        vertical-align: middle;\n",
       "    }\n",
       "\n",
       "    .dataframe tbody tr th {\n",
       "        vertical-align: top;\n",
       "    }\n",
       "\n",
       "    .dataframe thead th {\n",
       "        text-align: right;\n",
       "    }\n",
       "</style>\n",
       "<table border=\"1\" class=\"dataframe\">\n",
       "  <thead>\n",
       "    <tr style=\"text-align: right;\">\n",
       "      <th></th>\n",
       "      <th>Unnamed: 0</th>\n",
       "      <th>_id</th>\n",
       "      <th>product_name</th>\n",
       "      <th>review_name</th>\n",
       "      <th>review_content</th>\n",
       "      <th>review_date</th>\n",
       "      <th>review_rating</th>\n",
       "    </tr>\n",
       "  </thead>\n",
       "  <tbody>\n",
       "    <tr>\n",
       "      <th>0</th>\n",
       "      <td>0</td>\n",
       "      <td>650d14de7f46108b295797e1</td>\n",
       "      <td>에버비키니 가르시니아 다이어트커피 빠질라카노 다크로스트 28포 X 4박스</td>\n",
       "      <td>chz*******</td>\n",
       "      <td>택배상자도 아니고 사이즈대충 맞춰서 테이프도 상자열리게 붙이고 그래도 식품인데 그렇네요</td>\n",
       "      <td>2022.11.17</td>\n",
       "      <td>2.0</td>\n",
       "    </tr>\n",
       "    <tr>\n",
       "      <th>1</th>\n",
       "      <td>1</td>\n",
       "      <td>650d14de7f46108b295797e2</td>\n",
       "      <td>에버비키니 가르시니아 다이어트커피 빠질라카노 다크로스트 28포 X 4박스</td>\n",
       "      <td>은린</td>\n",
       "      <td>배송빠르고 찬물에도 잘녹습니다 저 개인적으로는 뜨거운물보단 찬물에 타는게, 기본보다...</td>\n",
       "      <td>2023.01.03</td>\n",
       "      <td>5.0</td>\n",
       "    </tr>\n",
       "    <tr>\n",
       "      <th>2</th>\n",
       "      <td>2</td>\n",
       "      <td>650d14de7f46108b295797e3</td>\n",
       "      <td>에버비키니 가르시니아 다이어트커피 빠질라카노 다크로스트 28포 X 4박스</td>\n",
       "      <td>wee*****</td>\n",
       "      <td>보틀도 다른음료도 서비스네요!감사합니다</td>\n",
       "      <td>2023.01.04</td>\n",
       "      <td>5.0</td>\n",
       "    </tr>\n",
       "    <tr>\n",
       "      <th>3</th>\n",
       "      <td>3</td>\n",
       "      <td>650d14de7f46108b295797e4</td>\n",
       "      <td>에버비키니 가르시니아 다이어트커피 빠질라카노 다크로스트 28포 X 4박스</td>\n",
       "      <td>vg3***</td>\n",
       "      <td>그냥 진한 커피 맛.. 효과는 헤이즐럿과 같이 먹어서 인지 잘 모르겠음..</td>\n",
       "      <td>2023.01.05</td>\n",
       "      <td>3.0</td>\n",
       "    </tr>\n",
       "    <tr>\n",
       "      <th>4</th>\n",
       "      <td>4</td>\n",
       "      <td>650d14de7f46108b295797e5</td>\n",
       "      <td>에버비키니 가르시니아 다이어트커피 빠질라카노 다크로스트 28포 X 4박스</td>\n",
       "      <td>lov*****</td>\n",
       "      <td>꾸준히 먹는데 다크로스트는 처음이라 주문했어요</td>\n",
       "      <td>2022.12.16</td>\n",
       "      <td>5.0</td>\n",
       "    </tr>\n",
       "    <tr>\n",
       "      <th>...</th>\n",
       "      <td>...</td>\n",
       "      <td>...</td>\n",
       "      <td>...</td>\n",
       "      <td>...</td>\n",
       "      <td>...</td>\n",
       "      <td>...</td>\n",
       "      <td>...</td>\n",
       "    </tr>\n",
       "    <tr>\n",
       "      <th>1368</th>\n",
       "      <td>832380</td>\n",
       "      <td>650d3acde17035458de2f286</td>\n",
       "      <td>[4+1] 락토페린 산양유 초유 단백질 분말 스틱 (2g x 30포) / 네덜란드산...</td>\n",
       "      <td>whg******</td>\n",
       "      <td>산양유 단백질 광고보고 어떤지 구매해봤어요. 많이 달지도 않고 먹기 편하고 좋네요.^^</td>\n",
       "      <td>2022.12.14</td>\n",
       "      <td>4.0</td>\n",
       "    </tr>\n",
       "    <tr>\n",
       "      <th>1369</th>\n",
       "      <td>832381</td>\n",
       "      <td>650d3acde17035458de2f287</td>\n",
       "      <td>[4+1] 락토페린 산양유 초유 단백질 분말 스틱 (2g x 30포) / 네덜란드산...</td>\n",
       "      <td>app*****</td>\n",
       "      <td>꾸준히 먹고는있는데 어디가 좋아지는건지..맛있어서 매일 챙겨먹고는 있어요</td>\n",
       "      <td>2023.01.31</td>\n",
       "      <td>4.0</td>\n",
       "    </tr>\n",
       "    <tr>\n",
       "      <th>1370</th>\n",
       "      <td>838062</td>\n",
       "      <td>650d3ad2e17035458de308b8</td>\n",
       "      <td>테이크핏 맥스 바나나맛 250ml X 24입</td>\n",
       "      <td>jih******</td>\n",
       "      <td>뭔가 끈적거려서 보니 제품 하나가 찢어져 있었어요.</td>\n",
       "      <td>2023.09.20</td>\n",
       "      <td>3.0</td>\n",
       "    </tr>\n",
       "    <tr>\n",
       "      <th>1371</th>\n",
       "      <td>838063</td>\n",
       "      <td>650d3ad2e17035458de308b9</td>\n",
       "      <td>테이크핏 맥스 바나나맛 250ml X 24입</td>\n",
       "      <td>jsh****</td>\n",
       "      <td>가격 배송 모두 만족합니다</td>\n",
       "      <td>2023.05.20</td>\n",
       "      <td>5.0</td>\n",
       "    </tr>\n",
       "    <tr>\n",
       "      <th>1372</th>\n",
       "      <td>838064</td>\n",
       "      <td>650d3ad2e17035458de308ba</td>\n",
       "      <td>테이크핏 맥스 바나나맛 250ml X 24입</td>\n",
       "      <td>hop**</td>\n",
       "      <td>NaN</td>\n",
       "      <td>2023.04.22</td>\n",
       "      <td>5.0</td>\n",
       "    </tr>\n",
       "  </tbody>\n",
       "</table>\n",
       "<p>1373 rows × 7 columns</p>\n",
       "</div>"
      ],
      "text/plain": [
       "      Unnamed: 0                       _id  \\\n",
       "0              0  650d14de7f46108b295797e1   \n",
       "1              1  650d14de7f46108b295797e2   \n",
       "2              2  650d14de7f46108b295797e3   \n",
       "3              3  650d14de7f46108b295797e4   \n",
       "4              4  650d14de7f46108b295797e5   \n",
       "...          ...                       ...   \n",
       "1368      832380  650d3acde17035458de2f286   \n",
       "1369      832381  650d3acde17035458de2f287   \n",
       "1370      838062  650d3ad2e17035458de308b8   \n",
       "1371      838063  650d3ad2e17035458de308b9   \n",
       "1372      838064  650d3ad2e17035458de308ba   \n",
       "\n",
       "                                           product_name review_name  \\\n",
       "0              에버비키니 가르시니아 다이어트커피 빠질라카노 다크로스트 28포 X 4박스  chz*******   \n",
       "1              에버비키니 가르시니아 다이어트커피 빠질라카노 다크로스트 28포 X 4박스          은린   \n",
       "2              에버비키니 가르시니아 다이어트커피 빠질라카노 다크로스트 28포 X 4박스    wee*****   \n",
       "3              에버비키니 가르시니아 다이어트커피 빠질라카노 다크로스트 28포 X 4박스      vg3***   \n",
       "4              에버비키니 가르시니아 다이어트커피 빠질라카노 다크로스트 28포 X 4박스    lov*****   \n",
       "...                                                 ...         ...   \n",
       "1368  [4+1] 락토페린 산양유 초유 단백질 분말 스틱 (2g x 30포) / 네덜란드산...   whg******   \n",
       "1369  [4+1] 락토페린 산양유 초유 단백질 분말 스틱 (2g x 30포) / 네덜란드산...    app*****   \n",
       "1370                           테이크핏 맥스 바나나맛 250ml X 24입   jih******   \n",
       "1371                           테이크핏 맥스 바나나맛 250ml X 24입     jsh****   \n",
       "1372                           테이크핏 맥스 바나나맛 250ml X 24입       hop**   \n",
       "\n",
       "                                         review_content review_date  \\\n",
       "0      택배상자도 아니고 사이즈대충 맞춰서 테이프도 상자열리게 붙이고 그래도 식품인데 그렇네요  2022.11.17   \n",
       "1     배송빠르고 찬물에도 잘녹습니다 저 개인적으로는 뜨거운물보단 찬물에 타는게, 기본보다...  2023.01.03   \n",
       "2                                 보틀도 다른음료도 서비스네요!감사합니다  2023.01.04   \n",
       "3             그냥 진한 커피 맛.. 효과는 헤이즐럿과 같이 먹어서 인지 잘 모르겠음..  2023.01.05   \n",
       "4                             꾸준히 먹는데 다크로스트는 처음이라 주문했어요  2022.12.16   \n",
       "...                                                 ...         ...   \n",
       "1368   산양유 단백질 광고보고 어떤지 구매해봤어요. 많이 달지도 않고 먹기 편하고 좋네요.^^  2022.12.14   \n",
       "1369           꾸준히 먹고는있는데 어디가 좋아지는건지..맛있어서 매일 챙겨먹고는 있어요  2023.01.31   \n",
       "1370                       뭔가 끈적거려서 보니 제품 하나가 찢어져 있었어요.  2023.09.20   \n",
       "1371                                     가격 배송 모두 만족합니다  2023.05.20   \n",
       "1372                                                NaN  2023.04.22   \n",
       "\n",
       "      review_rating  \n",
       "0               2.0  \n",
       "1               5.0  \n",
       "2               5.0  \n",
       "3               3.0  \n",
       "4               5.0  \n",
       "...             ...  \n",
       "1368            4.0  \n",
       "1369            4.0  \n",
       "1370            3.0  \n",
       "1371            5.0  \n",
       "1372            5.0  \n",
       "\n",
       "[1373 rows x 7 columns]"
      ]
     },
     "execution_count": 9,
     "metadata": {},
     "output_type": "execute_result"
    }
   ],
   "source": [
    "wemake= pd.read_csv('../datasets/wemake_data.csv')\n",
    "wemake = wemake[['Unnamed: 0.1', '_id', 'product_name', 'review_name',\n",
    "       'review_content', 'review_date', 'review_rating']]\n",
    "wemake.rename(columns={'Unnamed: 0.1': 'Unnamed: 0'}, inplace=True)\n",
    "wemake"
   ]
  },
  {
   "cell_type": "code",
   "execution_count": 12,
   "id": "117a43ea-be18-4379-a16f-01e47d9a995f",
   "metadata": {
    "tags": []
   },
   "outputs": [
    {
     "data": {
      "text/html": [
       "<div>\n",
       "<style scoped>\n",
       "    .dataframe tbody tr th:only-of-type {\n",
       "        vertical-align: middle;\n",
       "    }\n",
       "\n",
       "    .dataframe tbody tr th {\n",
       "        vertical-align: top;\n",
       "    }\n",
       "\n",
       "    .dataframe thead th {\n",
       "        text-align: right;\n",
       "    }\n",
       "</style>\n",
       "<table border=\"1\" class=\"dataframe\">\n",
       "  <thead>\n",
       "    <tr style=\"text-align: right;\">\n",
       "      <th></th>\n",
       "      <th>product_name</th>\n",
       "      <th>review_name</th>\n",
       "      <th>review_content</th>\n",
       "      <th>review_date</th>\n",
       "      <th>review_rating</th>\n",
       "    </tr>\n",
       "  </thead>\n",
       "  <tbody>\n",
       "    <tr>\n",
       "      <th>0</th>\n",
       "      <td>[주현영, 이나연 찐템]딥트 3일 피치(맛)번 30정 (30일분)</td>\n",
       "      <td>보리오빠</td>\n",
       "      <td>없으면 안될 최고의 diet템! 피치번을 추천합니당 ㅎㅎ 사진엔 없지만 4통째 먹고...</td>\n",
       "      <td>2023.08.27</td>\n",
       "      <td>5점만점에 5점</td>\n",
       "    </tr>\n",
       "    <tr>\n",
       "      <th>1</th>\n",
       "      <td>[주현영, 이나연 찐템]딥트 3일 피치(맛)번 30정 (30일분)</td>\n",
       "      <td>바보바니</td>\n",
       "      <td>알약 통통이하트 넘예뻐요. 자기전 먹고 효과있으면 얼마나 좋을까요 ㅜㅜ 나이들수록 ...</td>\n",
       "      <td>2023.09.14</td>\n",
       "      <td>5점만점에 5점</td>\n",
       "    </tr>\n",
       "    <tr>\n",
       "      <th>2</th>\n",
       "      <td>[주현영, 이나연 찐템]딥트 3일 피치(맛)번 30정 (30일분)</td>\n",
       "      <td>올영요정임니당</td>\n",
       "      <td>드라마틱하게 뭔가 달라진 건 없지만 자기 전에 죄책감을 덜어주는 의미로 하나씩 먹고...</td>\n",
       "      <td>2023.09.14</td>\n",
       "      <td>5점만점에 5점</td>\n",
       "    </tr>\n",
       "  </tbody>\n",
       "</table>\n",
       "</div>"
      ],
      "text/plain": [
       "                           product_name review_name  \\\n",
       "0  [주현영, 이나연 찐템]딥트 3일 피치(맛)번 30정 (30일분)        보리오빠   \n",
       "1  [주현영, 이나연 찐템]딥트 3일 피치(맛)번 30정 (30일분)        바보바니   \n",
       "2  [주현영, 이나연 찐템]딥트 3일 피치(맛)번 30정 (30일분)     올영요정임니당   \n",
       "\n",
       "                                      review_content review_date review_rating  \n",
       "0  없으면 안될 최고의 diet템! 피치번을 추천합니당 ㅎㅎ 사진엔 없지만 4통째 먹고...  2023.08.27      5점만점에 5점  \n",
       "1  알약 통통이하트 넘예뻐요. 자기전 먹고 효과있으면 얼마나 좋을까요 ㅜㅜ 나이들수록 ...  2023.09.14      5점만점에 5점  \n",
       "2  드라마틱하게 뭔가 달라진 건 없지만 자기 전에 죄책감을 덜어주는 의미로 하나씩 먹고...  2023.09.14      5점만점에 5점  "
      ]
     },
     "execution_count": 12,
     "metadata": {},
     "output_type": "execute_result"
    }
   ],
   "source": [
    "df = pd.concat([oliveyoung, wemake], axis=0)\n",
    "df = df[['product_name', 'review_name', 'review_content','review_date', 'review_rating']]\n",
    "df[:3]"
   ]
  },
  {
   "cell_type": "code",
   "execution_count": 13,
   "id": "36ff3244-83b5-47e3-bda7-39c52ecb39d6",
   "metadata": {
    "tags": []
   },
   "outputs": [],
   "source": [
    "df.to_csv('../datasets/oliveyoung_wemake_data.csv')"
   ]
  },
  {
   "cell_type": "code",
   "execution_count": null,
   "id": "227297e5-0193-495c-8cab-012bd9e6ea84",
   "metadata": {},
   "outputs": [],
   "source": []
  }
 ],
 "metadata": {
  "kernelspec": {
   "display_name": "Python 3 (ipykernel)",
   "language": "python",
   "name": "python3"
  },
  "language_info": {
   "codemirror_mode": {
    "name": "ipython",
    "version": 3
   },
   "file_extension": ".py",
   "mimetype": "text/x-python",
   "name": "python",
   "nbconvert_exporter": "python",
   "pygments_lexer": "ipython3",
   "version": "3.11.3"
  }
 },
 "nbformat": 4,
 "nbformat_minor": 5
}
