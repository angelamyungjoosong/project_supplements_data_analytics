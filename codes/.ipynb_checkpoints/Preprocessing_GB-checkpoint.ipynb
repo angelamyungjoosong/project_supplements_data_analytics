{
 "cells": [
  {
   "cell_type": "markdown",
   "id": "16088df5-8c08-4d00-a0d0-c292924c661b",
   "metadata": {},
   "source": [
    "## 데이터 전처리 진행"
   ]
  },
  {
   "cell_type": "code",
   "execution_count": null,
   "id": "829d7290-4ab3-48dd-ae23-0a8ab9a40c0f",
   "metadata": {},
   "outputs": [],
   "source": [
    "#!pip install python-mecab-ko pyLDAvis"
   ]
  },
  {
   "cell_type": "code",
   "execution_count": 1,
   "id": "b120d99e-70ac-46e1-ae33-bf9cb7050b99",
   "metadata": {
    "tags": []
   },
   "outputs": [],
   "source": [
    "import numpy as np\n",
    "import pandas as pd"
   ]
  },
  {
   "cell_type": "code",
   "execution_count": 2,
   "id": "c386734e-abe5-4287-b424-94387f3942f3",
   "metadata": {
    "tags": []
   },
   "outputs": [
    {
     "data": {
      "text/html": [
       "<div>\n",
       "<style scoped>\n",
       "    .dataframe tbody tr th:only-of-type {\n",
       "        vertical-align: middle;\n",
       "    }\n",
       "\n",
       "    .dataframe tbody tr th {\n",
       "        vertical-align: top;\n",
       "    }\n",
       "\n",
       "    .dataframe thead th {\n",
       "        text-align: right;\n",
       "    }\n",
       "</style>\n",
       "<table border=\"1\" class=\"dataframe\">\n",
       "  <thead>\n",
       "    <tr style=\"text-align: right;\">\n",
       "      <th></th>\n",
       "      <th>Unnamed: 0</th>\n",
       "      <th>_id</th>\n",
       "      <th>product_name</th>\n",
       "      <th>review_name</th>\n",
       "      <th>review_content</th>\n",
       "      <th>review_date</th>\n",
       "      <th>review_rating</th>\n",
       "    </tr>\n",
       "  </thead>\n",
       "  <tbody>\n",
       "    <tr>\n",
       "      <th>0</th>\n",
       "      <td>0</td>\n",
       "      <td>65090e01cca26a79a2f5d04c</td>\n",
       "      <td>[주현영, 이나연 찐템]딥트 3일 피치(맛)번 30정 (30일분)</td>\n",
       "      <td>보리오빠</td>\n",
       "      <td>없으면 안될 최고의 diet템! 피치번을 추천합니당 ㅎㅎ 사진엔 없지만 4통째 먹고...</td>\n",
       "      <td>2023.08.27</td>\n",
       "      <td>5점만점에 5점</td>\n",
       "    </tr>\n",
       "    <tr>\n",
       "      <th>1</th>\n",
       "      <td>1</td>\n",
       "      <td>65090e01cca26a79a2f5d04d</td>\n",
       "      <td>[주현영, 이나연 찐템]딥트 3일 피치(맛)번 30정 (30일분)</td>\n",
       "      <td>바보바니</td>\n",
       "      <td>알약 통통이하트 넘예뻐요. 자기전 먹고 효과있으면 얼마나 좋을까요 ㅜㅜ 나이들수록 ...</td>\n",
       "      <td>2023.09.14</td>\n",
       "      <td>5점만점에 5점</td>\n",
       "    </tr>\n",
       "  </tbody>\n",
       "</table>\n",
       "</div>"
      ],
      "text/plain": [
       "   Unnamed: 0                       _id                          product_name  \\\n",
       "0           0  65090e01cca26a79a2f5d04c  [주현영, 이나연 찐템]딥트 3일 피치(맛)번 30정 (30일분)   \n",
       "1           1  65090e01cca26a79a2f5d04d  [주현영, 이나연 찐템]딥트 3일 피치(맛)번 30정 (30일분)   \n",
       "\n",
       "  review_name                                     review_content review_date  \\\n",
       "0        보리오빠  없으면 안될 최고의 diet템! 피치번을 추천합니당 ㅎㅎ 사진엔 없지만 4통째 먹고...  2023.08.27   \n",
       "1        바보바니  알약 통통이하트 넘예뻐요. 자기전 먹고 효과있으면 얼마나 좋을까요 ㅜㅜ 나이들수록 ...  2023.09.14   \n",
       "\n",
       "  review_rating  \n",
       "0      5점만점에 5점  \n",
       "1      5점만점에 5점  "
      ]
     },
     "execution_count": 2,
     "metadata": {},
     "output_type": "execute_result"
    }
   ],
   "source": [
    "df = pd.read_csv('../datasets/oliveyoung_data.csv')\n",
    "df[:2]"
   ]
  },
  {
   "cell_type": "markdown",
   "id": "eeab572a-31cd-42ff-b3f0-1873bd25422d",
   "metadata": {},
   "source": [
    "### 결측치 처리 "
   ]
  },
  {
   "cell_type": "code",
   "execution_count": 3,
   "id": "b7a59053-94e4-4ab2-9b6f-48eda75171b7",
   "metadata": {
    "tags": []
   },
   "outputs": [
    {
     "name": "stdout",
     "output_type": "stream",
     "text": [
      "<class 'pandas.core.frame.DataFrame'>\n",
      "RangeIndex: 3216 entries, 0 to 3215\n",
      "Data columns (total 7 columns):\n",
      " #   Column          Non-Null Count  Dtype \n",
      "---  ------          --------------  ----- \n",
      " 0   Unnamed: 0      3216 non-null   int64 \n",
      " 1   _id             3216 non-null   object\n",
      " 2   product_name    3216 non-null   object\n",
      " 3   review_name     3198 non-null   object\n",
      " 4   review_content  3024 non-null   object\n",
      " 5   review_date     3093 non-null   object\n",
      " 6   review_rating   3054 non-null   object\n",
      "dtypes: int64(1), object(6)\n",
      "memory usage: 176.0+ KB\n"
     ]
    }
   ],
   "source": [
    "df.info()"
   ]
  },
  {
   "cell_type": "code",
   "execution_count": 6,
   "id": "8ccc43d9-9c57-47e4-9558-f763acaa8e3f",
   "metadata": {
    "tags": []
   },
   "outputs": [
    {
     "data": {
      "text/plain": [
       "Unnamed: 0          0\n",
       "_id                 0\n",
       "product_name        0\n",
       "review_name        18\n",
       "review_content    192\n",
       "review_date       123\n",
       "review_rating     162\n",
       "dtype: int64"
      ]
     },
     "execution_count": 6,
     "metadata": {},
     "output_type": "execute_result"
    }
   ],
   "source": [
    "df.isnull().sum()"
   ]
  },
  {
   "cell_type": "code",
   "execution_count": 5,
   "id": "52ef8d3f-d0ff-4248-9d42-1441e9d9fa11",
   "metadata": {
    "tags": []
   },
   "outputs": [],
   "source": [
    "df_dite = df.dropna()"
   ]
  },
  {
   "cell_type": "code",
   "execution_count": 7,
   "id": "5b35e638-5d6b-4db2-af59-d5664163232b",
   "metadata": {
    "tags": []
   },
   "outputs": [
    {
     "data": {
      "text/plain": [
       "Unnamed: 0        0\n",
       "_id               0\n",
       "product_name      0\n",
       "review_name       0\n",
       "review_content    0\n",
       "review_date       0\n",
       "review_rating     0\n",
       "dtype: int64"
      ]
     },
     "execution_count": 7,
     "metadata": {},
     "output_type": "execute_result"
    }
   ],
   "source": [
    "df_dite.isnull().sum()"
   ]
  },
  {
   "cell_type": "markdown",
   "id": "b608ed5c-2dac-4908-9c8d-4dcfce21effe",
   "metadata": {},
   "source": [
    "### 자연어 전처리 "
   ]
  },
  {
   "cell_type": "markdown",
   "id": "ed7543b2-0972-43bc-abea-1371d019fe3b",
   "metadata": {},
   "source": [
    "### 불용어 처리 "
   ]
  },
  {
   "cell_type": "code",
   "execution_count": 8,
   "id": "bc77f6d3-bd75-4d61-91a6-263664822f16",
   "metadata": {
    "tags": []
   },
   "outputs": [],
   "source": [
    "import konlpy.tag"
   ]
  },
  {
   "cell_type": "code",
   "execution_count": null,
   "id": "676f8414-e2ce-4856-b8b9-14e93f8d3c4b",
   "metadata": {},
   "outputs": [],
   "source": [
    "df_stopwords = pd.re"
   ]
  }
 ],
 "metadata": {
  "kernelspec": {
   "display_name": "Python 3 (ipykernel)",
   "language": "python",
   "name": "python3"
  },
  "language_info": {
   "codemirror_mode": {
    "name": "ipython",
    "version": 3
   },
   "file_extension": ".py",
   "mimetype": "text/x-python",
   "name": "python",
   "nbconvert_exporter": "python",
   "pygments_lexer": "ipython3",
   "version": "3.11.3"
  }
 },
 "nbformat": 4,
 "nbformat_minor": 5
}
