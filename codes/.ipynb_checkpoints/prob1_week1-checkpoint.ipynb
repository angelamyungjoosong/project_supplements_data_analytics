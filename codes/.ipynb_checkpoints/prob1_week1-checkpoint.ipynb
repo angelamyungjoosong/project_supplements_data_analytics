{
 "cells": [
  {
   "cell_type": "code",
   "execution_count": 6,
   "id": "eb64b25a",
   "metadata": {},
   "outputs": [],
   "source": [
    "question = ['Q2', 'Q3', 'Q4', 'Q5', 'Q6_1', 'Q6_2', 'Q6_3', 'Q6_4', 'Q6_5', 'Q6_6',\n",
    "       'Q6_7', 'Q6_8', 'Q6_9', 'Q6_10', 'Q6_11', 'Q6_12', 'Q7_1', 'Q7_2',\n",
    "       'Q7_3', 'Q7_4', 'Q7_5', 'Q7_6', 'Q7_7', 'Q8', 'Q9', 'Q10_1', 'Q10_2',\n",
    "       'Q10_3']"
   ]
  },
  {
   "cell_type": "code",
   "execution_count": 7,
   "id": "b8cb9232",
   "metadata": {},
   "outputs": [],
   "source": [
    "single_choice = []\n",
    "multiple_choice = []\n",
    "\n",
    "# single choice와 multiple choice 구분\n",
    "for i in question:\n",
    "    if '_' not in i:\n",
    "        single_choice.append(i)\n",
    "    else:\n",
    "        multiple_choice.append(i)"
   ]
  },
  {
   "cell_type": "code",
   "execution_count": 8,
   "id": "0a36e69d",
   "metadata": {},
   "outputs": [
    {
     "data": {
      "text/plain": [
       "['Q2', 'Q3', 'Q4', 'Q5', 'Q8', 'Q9']"
      ]
     },
     "execution_count": 8,
     "metadata": {},
     "output_type": "execute_result"
    }
   ],
   "source": [
    "single_choice"
   ]
  }
 ],
 "metadata": {
  "kernelspec": {
   "display_name": "Python 3 (ipykernel)",
   "language": "python",
   "name": "python3"
  },
  "language_info": {
   "codemirror_mode": {
    "name": "ipython",
    "version": 3
   },
   "file_extension": ".py",
   "mimetype": "text/x-python",
   "name": "python",
   "nbconvert_exporter": "python",
   "pygments_lexer": "ipython3",
   "version": "3.9.13"
  }
 },
 "nbformat": 4,
 "nbformat_minor": 5
}
