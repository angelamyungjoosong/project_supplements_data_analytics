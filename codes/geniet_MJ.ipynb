{
 "cells": [
  {
   "cell_type": "markdown",
   "id": "04c454b5-27d6-4bfb-b490-0587368361dd",
   "metadata": {},
   "source": [
    "###### 지니어트 다이어트 보조제 리뷰\n",
    "- https://geniet.co.kr/review2?word=&field=&page=1"
   ]
  },
  {
   "cell_type": "code",
   "execution_count": 1,
   "id": "769b3484-caf2-4433-a4db-b4be6ac83765",
   "metadata": {
    "tags": []
   },
   "outputs": [],
   "source": [
    "from selenium import webdriver\n",
    "import time\n",
    "import pandas as pd \n",
    "import pymongo as mg "
   ]
  },
  {
   "cell_type": "code",
   "execution_count": 2,
   "id": "a75340ef-eb41-456a-8d4e-b76f7a65781b",
   "metadata": {
    "tags": []
   },
   "outputs": [],
   "source": [
    "browser = webdriver.Chrome(executable_path='../../chromedriver.exe')"
   ]
  },
  {
   "cell_type": "code",
   "execution_count": 3,
   "id": "3656f6c8-cd8c-4b90-a1ce-98543861f463",
   "metadata": {
    "tags": []
   },
   "outputs": [],
   "source": [
    "browser.get('https://geniet.co.kr/review2?word=&field=&page=1')"
   ]
  },
  {
   "cell_type": "code",
   "execution_count": 8,
   "id": "2f51a8e4-7945-4b7d-8d96-dd1bf73bfedf",
   "metadata": {
    "tags": []
   },
   "outputs": [
    {
     "name": "stdout",
     "output_type": "stream",
     "text": [
      "[['ymittang', '요즘 많이드시는 빨간물이에요', '요즘 많이 유행하는 빨간물 다이어트에요\\n물이나 탄산수에 타마시면 맛잇게 다이어트할수잇어요', '2023.09.06 22:15']]\n"
     ]
    }
   ],
   "source": [
    "review_info = []\n",
    "browser.find_element_by_css_selector('tbody > tr:nth-child(5)').click()\n",
    "time.sleep(4)\n",
    "review_name = browser.find_element_by_css_selector('.nickName').text\n",
    "review_title = browser.find_element_by_css_selector('.header-title').text\n",
    "review_content = browser.find_element_by_css_selector('.post-detail').text\n",
    "review_date = browser.find_element_by_css_selector('.createdAt').text \n",
    "review_info.append([review_name, review_title, review_content, review_date])\n",
    "print(review_info)\n",
    "browser.back() "
   ]
  },
  {
   "cell_type": "code",
   "execution_count": null,
   "id": "49ce3ed5-c4de-4115-8c61-879a657f8810",
   "metadata": {},
   "outputs": [],
   "source": []
  }
 ],
 "metadata": {
  "kernelspec": {
   "display_name": "Python 3 (ipykernel)",
   "language": "python",
   "name": "python3"
  },
  "language_info": {
   "codemirror_mode": {
    "name": "ipython",
    "version": 3
   },
   "file_extension": ".py",
   "mimetype": "text/x-python",
   "name": "python",
   "nbconvert_exporter": "python",
   "pygments_lexer": "ipython3",
   "version": "3.11.3"
  }
 },
 "nbformat": 4,
 "nbformat_minor": 5
}
