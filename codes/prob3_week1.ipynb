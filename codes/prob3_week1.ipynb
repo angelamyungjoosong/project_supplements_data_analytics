{
 "cells": [
  {
   "cell_type": "markdown",
   "id": "24254b35",
   "metadata": {},
   "source": [
    "## Pandas를 통한 파일 저장과 불러오기\n",
    "* to_csv(\"파일명\", index=False) : csv 파일로 저장하기\n",
    "* read_csv(\"파일명\") : csv 파일 불러오기\n",
    "* shape를 통한 행과 열의 수 보기\n",
    "* head, tail, sample 을 통한 일부 데이터 가져오기"
   ]
  },
  {
   "cell_type": "markdown",
   "id": "9ffca19a",
   "metadata": {},
   "source": [
    "## DataFrame의 info(), describe() 등을 통한 요약과 기술통계 값 구하기\n",
    "\n",
    "* info()\n",
    "* describe()\n",
    "* nunique()\n",
    "* index\n",
    "* columns\n",
    "* values"
   ]
  },
  {
   "cell_type": "markdown",
   "id": "98ef7330",
   "metadata": {},
   "source": [
    "## Pandas의 DataFrame과 Series의 이해\n",
    "\n",
    "* Series : 1차원 벡터구조\n",
    "* DataFrame : 2차원 행렬구조"
   ]
  },
  {
   "cell_type": "markdown",
   "id": "d2eb7071",
   "metadata": {},
   "source": [
    "## 색인하기\n",
    "\n",
    "* [컬럼]\n",
    "* .loc[행]\n",
    "* .loc[행, 열]\n",
    "* .loc[조건식, 열]"
   ]
  },
  {
   "cell_type": "markdown",
   "id": "88504e34",
   "metadata": {},
   "source": [
    "## DataFrame의 데이터 타입 이해하기\n",
    "\n",
    "* 날짜 데이터의 변환"
   ]
  },
  {
   "cell_type": "markdown",
   "id": "8c80a678",
   "metadata": {},
   "source": [
    "## DataFrame 다루기\n",
    "\n",
    "* 열(column) 인덱싱\n",
    "* 행(index) 인덱싱\n",
    "* 행, 열 인덱싱\n",
    "* 정렬하기 : sort_values 사용하기\n",
    "* 조건식 사용하기"
   ]
  },
  {
   "cell_type": "markdown",
   "id": "ee646d32",
   "metadata": {},
   "source": [
    "## 빈도수 구하기\n",
    "\n",
    "* 한 개의 변수 : series.value_counts()\n",
    "* 두 개의 변수 : pd.crosstab()"
   ]
  },
  {
   "cell_type": "markdown",
   "id": "7b8ad9c2",
   "metadata": {},
   "source": [
    "## groupby 와 pivot_table\n",
    "\n",
    "* 다양한 연산식의 사용 다양한 연산식의 사용"
   ]
  }
 ],
 "metadata": {
  "kernelspec": {
   "display_name": "Python 3 (ipykernel)",
   "language": "python",
   "name": "python3"
  },
  "language_info": {
   "codemirror_mode": {
    "name": "ipython",
    "version": 3
   },
   "file_extension": ".py",
   "mimetype": "text/x-python",
   "name": "python",
   "nbconvert_exporter": "python",
   "pygments_lexer": "ipython3",
   "version": "3.11.3"
  }
 },
 "nbformat": 4,
 "nbformat_minor": 5
}
