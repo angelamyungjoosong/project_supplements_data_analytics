{
 "cells": [
  {
   "cell_type": "markdown",
   "id": "8baf25c4-8040-4f07-9209-572a7e436283",
   "metadata": {},
   "source": [
    "## 올리브영 다이어트 리뷰 스크랩핑"
   ]
  },
  {
   "cell_type": "code",
   "execution_count": 1,
   "id": "58aac5eb-b396-47a2-9bee-388216069954",
   "metadata": {
    "tags": []
   },
   "outputs": [],
   "source": [
    "from selenium import webdriver\n",
    "import pandas as pd \n",
    "import pymongo as mg\n",
    "import time"
   ]
  },
  {
   "cell_type": "markdown",
   "id": "804e6c41-a0d3-4b0f-83e6-59e1fc40e6ea",
   "metadata": {},
   "source": [
    "## single"
   ]
  },
  {
   "cell_type": "markdown",
   "id": "bc1983da-1440-4fbd-a392-06e1cc5abfdf",
   "metadata": {},
   "source": [
    "### 웹사이트(올리브영)\n",
    "- https://www.oliveyoung.co.kr/store/display/getMCategoryList.do?dispCatNo=100000200010023&isLoginCnt=0&aShowCnt=0&bShowCnt=0&cShowCnt=0&trackingCd=Cat100000200010023_MID&trackingCd=Cat100000200010023_MID&t_page=%EC%B9%B4%ED%85%8C%EA%B3%A0%EB%A6%AC%EA%B4%80&t_click=%EC%B9%B4%ED%85%8C%EA%B3%A0%EB%A6%AC%EC%83%81%EC%84%B8_%EC%A4%91%EC%B9%B4%ED%85%8C%EA%B3%A0%EB%A6%AC&t_2nd_category_type=%EC%A4%91_%EC%B2%B4%EC%A4%91%EA%B4%80%EB%A6%AC"
   ]
  },
  {
   "cell_type": "code",
   "execution_count": 2,
   "id": "b82227ed-f2ba-4d83-8fd0-46991debd087",
   "metadata": {
    "tags": []
   },
   "outputs": [],
   "source": [
    "oliveyoung = 'https://www.oliveyoung.co.kr/store/display/getMCategoryList.do?dispCatNo=100000200010023&isLoginCnt=0&aShowCnt=0&bShowCnt=0&cShowCnt=0&trackingCd=Cat100000200010023_MID&trackingCd=Cat100000200010023_MID&t_page=%EC%B9%B4%ED%85%8C%EA%B3%A0%EB%A6%AC%EA%B4%80&t_click=%EC%B9%B4%ED%85%8C%EA%B3%A0%EB%A6%AC%EC%83%81%EC%84%B8_%EC%A4%91%EC%B9%B4%ED%85%8C%EA%B3%A0%EB%A6%AC&t_2nd_category_type=%EC%A4%91_%EC%B2%B4%EC%A4%91%EA%B4%80%EB%A6%AC'"
   ]
  },
  {
   "cell_type": "code",
   "execution_count": 3,
   "id": "064b0d07-f6a1-45ce-b0f1-d32f232deef6",
   "metadata": {
    "tags": []
   },
   "outputs": [],
   "source": [
    "browser = webdriver.Chrome(executable_path='../../chromedriver.exe')\n",
    "browser.get(oliveyoung)"
   ]
  },
  {
   "cell_type": "code",
   "execution_count": 12,
   "id": "ca7d22bf-475b-43ee-9f95-761edc4debca",
   "metadata": {
    "tags": []
   },
   "outputs": [],
   "source": [
    "browser.implicitly_wait(10)"
   ]
  },
  {
   "cell_type": "markdown",
   "id": "7b2fe3c6-6c31-4fa3-9a68-d207a8f972a4",
   "metadata": {},
   "source": [
    "### 제품 정보 \n",
    "- 제품명 : #Contents > ul:nth-child(8) > li.flag > div > div > a > p "
   ]
  },
  {
   "cell_type": "markdown",
   "id": "477ca567-eb02-4f1e-b6bd-940c751a11c7",
   "metadata": {},
   "source": [
    "### 리뷰 정보 \n",
    "- 제품명 : #Contents > div.prd_detail_box.renew > div.right_area > div > p.prd_name \n",
    "- 리뷰 클릭 : #reviewInfo\n",
    "- 작성자명 : #gdasList > li:nth-child(1) > div.info > div > p  / info_user\n",
    "- 제목 : \n",
    "- 내용 : #gdasList > li:nth-child(1) > div.review_cont > div.txt_inner  \n",
    "- 별점 : #gdasList > li:nth-child(1) > div.review_cont > div.score_area > span.review_point > span / review_point"
   ]
  },
  {
   "cell_type": "markdown",
   "id": "eeccc3b8-df1a-461f-abba-f32bc97ca447",
   "metadata": {},
   "source": [
    "### 정보 묶음 \n",
    "- 리뷰 : review_cont\n",
    "- 제품 : prd_info "
   ]
  },
  {
   "cell_type": "code",
   "execution_count": 108,
   "id": "67dd6978-cfeb-46c5-bda0-060bd260fac5",
   "metadata": {
    "tags": []
   },
   "outputs": [],
   "source": [
    "# 한 제품 클릭 \n",
    "click_product = browser.find_element_by_css_selector('div > div > a > p').click()"
   ]
  },
  {
   "cell_type": "code",
   "execution_count": 71,
   "id": "590f2ef3-856e-42e3-b1dd-4719e7b65143",
   "metadata": {
    "tags": []
   },
   "outputs": [
    {
     "data": {
      "text/plain": [
       "'[주현영, 이나연 찐템]딥트 3일 피치(맛)번 30정 (30일분)'"
      ]
     },
     "execution_count": 71,
     "metadata": {},
     "output_type": "execute_result"
    }
   ],
   "source": [
    "product_name = browser.find_element_by_css_selector('#Contents > div.prd_detail_box.renew > div.right_area > div > p.prd_name').text\n",
    "product_name"
   ]
  },
  {
   "cell_type": "code",
   "execution_count": 109,
   "id": "1425ca7f-bfa3-424f-883d-43433a32f409",
   "metadata": {
    "tags": []
   },
   "outputs": [],
   "source": [
    "# 리뷰 이동 \n",
    "click_reviews = browser.find_element_by_css_selector('#reviewInfo').click()"
   ]
  },
  {
   "cell_type": "code",
   "execution_count": 110,
   "id": "6c94d540-1c2f-4da7-8e66-a27e8908f91a",
   "metadata": {
    "tags": []
   },
   "outputs": [
    {
     "data": {
      "text/plain": [
       "['센트 센트디 fast shot 10일 다이어트 리뉴얼 10+2병 (10일분+2일분)',\n",
       " 'shacha2005',\n",
       " '꾸준히 먹으면 확실히 도움이 되는거같아요.먹기에도 힘들지않아요',\n",
       " '5점만점에 5점']"
      ]
     },
     "execution_count": 110,
     "metadata": {},
     "output_type": "execute_result"
    }
   ],
   "source": [
    "# 리뷰 정보 \n",
    "review_name = browser.find_element_by_css_selector('#gdasList > li:nth-child(1) > div.info > div > p').text\n",
    "review_content = browser.find_element_by_css_selector('#gdasList > li:nth-child(1) > div.review_cont > div.txt_inner').text\n",
    "review_rating = browser.find_element_by_css_selector('#gdasList > li:nth-child(1) > div.review_cont > div.score_area > span.review_point > span').text  #get_attribute('review_point')\n",
    "\n",
    "[product_name,review_name, review_content, review_rating]"
   ]
  },
  {
   "cell_type": "markdown",
   "id": "49a639e8-7bef-4b6c-96e1-20a1441848bf",
   "metadata": {},
   "source": [
    "## loops"
   ]
  },
  {
   "cell_type": "code",
   "execution_count": 85,
   "id": "9ef86997-a84e-4501-b9ed-3cf8cb03d302",
   "metadata": {
    "tags": []
   },
   "outputs": [
    {
     "data": {
      "text/plain": [
       "(list, selenium.webdriver.remote.webelement.WebElement, 24)"
      ]
     },
     "execution_count": 85,
     "metadata": {},
     "output_type": "execute_result"
    }
   ],
   "source": [
    "products_number = browser.find_elements_by_css_selector('.prd_info')\n",
    "type(products_number), type(products_number[0]), len(products_number)"
   ]
  },
  {
   "cell_type": "code",
   "execution_count": null,
   "id": "23eddd96-d211-4db3-8a31-24b7001b669b",
   "metadata": {},
   "outputs": [],
   "source": [
    "\n",
    "# 한 제품 클릭 \n",
    "click_product = browser.find_element_by_css_selector('#Contents > ul:nth-child(8) > li.flag > div > div > a > p').click()"
   ]
  },
  {
   "cell_type": "code",
   "execution_count": 86,
   "id": "f913e4cd-90df-45a2-a0a1-58dda5421a0c",
   "metadata": {
    "tags": []
   },
   "outputs": [],
   "source": [
    "#reviews_number = browser.find_elements_by_css_selector('#gdasList > li:nth-child({})'.format())\n",
    "#type(reviews_number), type(reviews_number[0]), len(reviews_number)"
   ]
  },
  {
   "cell_type": "code",
   "execution_count": 67,
   "id": "eeeebffb-b99f-4a5a-9ecc-327fe1f44cab",
   "metadata": {
    "tags": []
   },
   "outputs": [],
   "source": [
    "reviews_number = browser.find_elements_by_css_selector('#gdasList > li:nth-child({})'.format()')\n",
    "#reviews_number = browser.find_elements_by_css_selector('.review_list_wrap')\n",
    "\n",
    "reviews_list = []\n",
    "for review in reviews_number:\n",
    "    #리뷰 클릭 \n",
    "    review.click()\n",
    "    #time.sleep(2) #term을 주기\n",
    "    \n",
    "    try : \n",
    "        review_name = review.find_element_by_css_selector('div.info > div > p > a').text\n",
    "    except : \n",
    "        review_name = str()\n",
    "    try : \n",
    "        review_content = review.find_element_by_css_selector('div.review_cont > div.txt_inner').text\n",
    "    except : \n",
    "        review_content = str()\n",
    "    try : \n",
    "        review_rating = review.find_element_by_css_selector('div.score_area > span.review_point > span').text  #get_attribute('review_point')\n",
    "    except : \n",
    "        review_rating = str()\n",
    "    \n",
    "    review_info  = [review_name, review_content, review_rating]\n",
    "    reviews_list.append(review_info )"
   ]
  },
  {
   "cell_type": "code",
   "execution_count": 71,
   "id": "09d04c51-7c8b-41ef-b94d-522b9ae24385",
   "metadata": {
    "tags": []
   },
   "outputs": [],
   "source": [
    "reviews_list = []\n",
    "\n",
    "for i in range(1, 11):  # 1부터 10까지 반복\n",
    "    selector = '#gdasList > li:nth-child({})'.format(i)\n",
    "    review_elements = browser.find_elements_by_css_selector(selector)\n",
    "\n",
    "    for review in review_elements:\n",
    "        review.click()\n",
    "        #time.sleep(2) #term을 주기\n",
    "\n",
    "        try:\n",
    "            review_name = review.find_element_by_css_selector('div.info > div > p > a').text\n",
    "        except:\n",
    "            review_name = str()\n",
    "        try:\n",
    "            review_content = review.find_element_by_css_selector('div.review_cont > div.txt_inner').text\n",
    "        except:\n",
    "            review_content = str()\n",
    "        try:\n",
    "            review_rating = review.find_element_by_css_selector('div.score_area > span.review_point > span').text\n",
    "        except:\n",
    "            review_rating = str()\n",
    "\n",
    "        review_info = [review_name, review_content, review_rating]\n",
    "        reviews_list.append(review_info)"
   ]
  },
  {
   "cell_type": "code",
   "execution_count": 73,
   "id": "ee6976de-f189-48da-987e-8b36f6281f15",
   "metadata": {
    "collapsed": true,
    "jupyter": {
     "outputs_hidden": true
    },
    "tags": []
   },
   "outputs": [
    {
     "data": {
      "text/plain": [
       "[['김둥당',\n",
       "  '딥트 3일 피치맛번은 올영에서 헤일할대 쟁여두세요\\n자사몰에서 할인하는거보다 올영세일이 더 저렴해요\\n살빼는게 너무 힘들어서 이거 속는셈 치고 사서 먹어봤는데요\\n3일만에 1키로 빠지길래 이거다 싶어서 먹고싶은거 먹으면서 이거 챙겨먹어요..ㅋㅋㅋ(양심고백)',\n",
       "  '5점만점에 5점'],\n",
       " ['shacha2005', '꾸준히 먹으면 확실히 도움이 되는거같아요.먹기에도 힘들지않아요', '5점만점에 5점'],\n",
       " ['미소1004',\n",
       "  '❤️\\u200d🔥돌고 돌아 딥트❤️\\u200d🔥 먹기 간편하고 효과도 딥트만한게 없네욧..❣️',\n",
       "  '5점만점에 5점'],\n",
       " ['김효리',\n",
       "  '저의 장바구니템이 였습니다\\n세일 기간에 무조건 구매했구요\\n지금 매일 열심히 먹는데 이게 맞는건가요?\\n피치번 매일 먹은 이후로 다음날 아침에\\n변을 보고 있고 아주 편안한 화장실 생활중입니다\\n내 몸 반응이 만족스러워서 다 먹은후 재구매할겁니다',\n",
       "  '5점만점에 5점'],\n",
       " ['키크고싶어',\n",
       "  '2통째 복용중입니다 잘때 먹는거 보다 저녁 운동할때 먹으니까 효과 더 좋고 체지방 빠지는데 도움 되네영',\n",
       "  '5점만점에 5점'],\n",
       " ['룰루6', '평소에 되게 잘 붓는 편인데 확실히 먹으면 아침에 덜 부어요 그래서 두 통 더 샀어요!!', '5점만점에 5점'],\n",
       " ['보리오빠',\n",
       "  '리뉴얼 전부터 5통째 꾸준하게 먹고 있는 피치번 ! 처음에 나왔을 때 800kcal 이상을 태워준다고 해서 구매했는데 확실히 이걸 먹기 전 후 차이가 있네요 !\\n\\n한가지 흠이라면 가격 ..? 정가에 구매하면 거의 5만원 ..! 그래서 할인을 할 때만 구매하는 제품이에요 ☺️ 한통에 30알이 들어있어서 한달동안 꾸준히 먹을 수 있고 이런 약은 먹으면 한달은 휴식기를 가져야한다고 하네요 !\\n\\n알약 크기가 생각보다 안크고 입에 넣었을 때 은은하게 복숭아 향이 나요! 약간 사탕처럼 먹다가 삼키는 분들도 있던데 저는 물과 함께 바로 삼키고 있어요\\n\\n전날 음식을 많이 먹고 피치번을 먹으면 다음날 ㅁㅁㄱ가 빠져있어요 ! 진짜 신기하죠?! 아무래도 자는동안 kcal를 태워줘서 그런가봐요 ! 먹고나면 약간 몸이 뜨거워지는 게 느껴지는데 그게 몸이 타는거겠죠?',\n",
       "  '5점만점에 5점'],\n",
       " ['보리오빠',\n",
       "  '없으면 안될 최고의 diet템! 피치번을 추천합니당 ㅎㅎ 사진엔 없지만 4통째 먹고 있을만큼 찐 필수템이 되어버린 제품이에요 💕 처음엔 광고만 보고 혹해서 구매했는데 효과가 너무 좋아서 계속 재구매하고 있는 제품입니당 ㅎㅎ\\n\\n알약 사이즈가 안커서 한번에 삼키기 좋았어요 ! 은은하게 복숭아향이 나는데 사탕처럼 먹다간 쓴맛이 올라오니까 무조건 물이랑 바로 삼키는 걸 추천합니당\\n\\n먹고나면 다음날 몸이 가벼워요 !! 저도 처음엔 거짓말인 줄 알았는데 진짜 덜 붓_고 ㅁㅁㄱ도 빠져있어요 ! 알약을 먹으면 870kcal정도를 태워준다는 말이 진짜네요 ㅎㅎ 효과가 좋아서 자꾸 사먹는 피치번 >_< 딥트에서 나온 제품 중 가장 좋았습니다 !\\n\\n처음엔 먹고 몸이 살짝 뜨거워졌는데 지금은 그런 게 전혀없구요 밥을 많이 먹은 날 챙겨먹기 좋아요 ㅎㅎ 3알밖에 안남아서 할인할 때 또 사려구요 ❤️\\u200d🔥',\n",
       "  '5점만점에 5점'],\n",
       " ['바보바니',\n",
       "  '알약 통통이하트 넘예뻐요. 자기전 먹고 효과있으면 얼마나 좋을까요 ㅜㅜ 나이들수록 안빠지고 자꾸 배에 특히나 쌓이네요 엉엉 ㅠㅠ 요거말고도 딥트 3종류셋트로 묶인것도 샀는데 같이 먹어보고 효과괜찮은지 한달뒤 다시 리뷰쓰려고요..',\n",
       "  '5점만점에 5점'],\n",
       " ['올영요정임니당',\n",
       "  '드라마틱하게 뭔가 달라진 건 없지만 자기 전에 죄책감을 덜어주는 의미로 하나씩 먹고 있어요. 운동이나 식단을 병행하지 않으니 변화는 없네요.ㅎㅎ 더 살이 찌지 않게 막아준다고 생각하고 먹고 있습니다.!',\n",
       "  '5점만점에 5점']]"
      ]
     },
     "execution_count": 73,
     "metadata": {},
     "output_type": "execute_result"
    }
   ],
   "source": [
    "reviews_list"
   ]
  },
  {
   "cell_type": "code",
   "execution_count": 83,
   "id": "b3e4348f-b543-4290-9897-3a75b41eb012",
   "metadata": {
    "collapsed": true,
    "jupyter": {
     "outputs_hidden": true
    },
    "tags": []
   },
   "outputs": [
    {
     "name": "stdout",
     "output_type": "stream",
     "text": [
      "성공 : 2 \n",
      "성공 : 3 \n",
      "성공 : 4 \n",
      "성공 : 5 \n",
      "성공 : 6 \n",
      "성공 : 7 \n",
      "성공 : 8 \n",
      "성공 : 9 \n",
      "성공 : 10 \n",
      "실패 : 2 \n",
      "성공 : 3 \n",
      "성공 : 4 \n",
      "성공 : 5 \n",
      "성공 : 6 \n",
      "성공 : 7 \n",
      "성공 : 8 \n",
      "성공 : 9 \n",
      "성공 : 10 \n",
      "실패 : 2 \n",
      "성공 : 3 \n",
      "성공 : 4 \n",
      "성공 : 5 \n",
      "성공 : 6 \n",
      "실패 : 7 \n",
      "실패 : 8 \n",
      "실패 : 9 \n",
      "실패 : 10 \n"
     ]
    },
    {
     "ename": "NoSuchWindowException",
     "evalue": "Message: no such window: target window already closed\nfrom unknown error: web view not found\n  (Session info: chrome=116.0.5845.188)\n",
     "output_type": "error",
     "traceback": [
      "\u001b[1;31m---------------------------------------------------------------------------\u001b[0m",
      "\u001b[1;31mNoSuchWindowException\u001b[0m                     Traceback (most recent call last)",
      "Cell \u001b[1;32mIn[83], line 12\u001b[0m\n\u001b[0;32m     10\u001b[0m     \u001b[38;5;28;01mexcept\u001b[39;00m : \n\u001b[0;32m     11\u001b[0m         \u001b[38;5;28mprint\u001b[39m(\u001b[38;5;124m\"\u001b[39m\u001b[38;5;124m실패 : \u001b[39m\u001b[38;5;132;01m{}\u001b[39;00m\u001b[38;5;124m \u001b[39m\u001b[38;5;124m\"\u001b[39m\u001b[38;5;241m.\u001b[39mformat(page_number))\n\u001b[1;32m---> 12\u001b[0m next_page \u001b[38;5;241m=\u001b[39m browser\u001b[38;5;241m.\u001b[39mfind_element_by_css_selector(\u001b[38;5;124m'\u001b[39m\u001b[38;5;124m#gdasContentsArea > div > div.pageing > a.next\u001b[39m\u001b[38;5;124m'\u001b[39m)\u001b[38;5;241m.\u001b[39mclick()\n\u001b[0;32m     13\u001b[0m time\u001b[38;5;241m.\u001b[39msleep(\u001b[38;5;241m2\u001b[39m)\n",
      "File \u001b[1;32m~\\anaconda3\\Lib\\site-packages\\selenium\\webdriver\\remote\\webdriver.py:598\u001b[0m, in \u001b[0;36mWebDriver.find_element_by_css_selector\u001b[1;34m(self, css_selector)\u001b[0m\n\u001b[0;32m    582\u001b[0m \u001b[38;5;28;01mdef\u001b[39;00m \u001b[38;5;21mfind_element_by_css_selector\u001b[39m(\u001b[38;5;28mself\u001b[39m, css_selector):\n\u001b[0;32m    583\u001b[0m \u001b[38;5;250m    \u001b[39m\u001b[38;5;124;03m\"\"\"\u001b[39;00m\n\u001b[0;32m    584\u001b[0m \u001b[38;5;124;03m    Finds an element by css selector.\u001b[39;00m\n\u001b[0;32m    585\u001b[0m \n\u001b[1;32m   (...)\u001b[0m\n\u001b[0;32m    596\u001b[0m \u001b[38;5;124;03m        element = driver.find_element_by_css_selector('#foo')\u001b[39;00m\n\u001b[0;32m    597\u001b[0m \u001b[38;5;124;03m    \"\"\"\u001b[39;00m\n\u001b[1;32m--> 598\u001b[0m     \u001b[38;5;28;01mreturn\u001b[39;00m \u001b[38;5;28mself\u001b[39m\u001b[38;5;241m.\u001b[39mfind_element(by\u001b[38;5;241m=\u001b[39mBy\u001b[38;5;241m.\u001b[39mCSS_SELECTOR, value\u001b[38;5;241m=\u001b[39mcss_selector)\n",
      "File \u001b[1;32m~\\anaconda3\\Lib\\site-packages\\selenium\\webdriver\\remote\\webdriver.py:976\u001b[0m, in \u001b[0;36mWebDriver.find_element\u001b[1;34m(self, by, value)\u001b[0m\n\u001b[0;32m    974\u001b[0m         by \u001b[38;5;241m=\u001b[39m By\u001b[38;5;241m.\u001b[39mCSS_SELECTOR\n\u001b[0;32m    975\u001b[0m         value \u001b[38;5;241m=\u001b[39m \u001b[38;5;124m'\u001b[39m\u001b[38;5;124m[name=\u001b[39m\u001b[38;5;124m\"\u001b[39m\u001b[38;5;132;01m%s\u001b[39;00m\u001b[38;5;124m\"\u001b[39m\u001b[38;5;124m]\u001b[39m\u001b[38;5;124m'\u001b[39m \u001b[38;5;241m%\u001b[39m value\n\u001b[1;32m--> 976\u001b[0m \u001b[38;5;28;01mreturn\u001b[39;00m \u001b[38;5;28mself\u001b[39m\u001b[38;5;241m.\u001b[39mexecute(Command\u001b[38;5;241m.\u001b[39mFIND_ELEMENT, {\n\u001b[0;32m    977\u001b[0m     \u001b[38;5;124m'\u001b[39m\u001b[38;5;124musing\u001b[39m\u001b[38;5;124m'\u001b[39m: by,\n\u001b[0;32m    978\u001b[0m     \u001b[38;5;124m'\u001b[39m\u001b[38;5;124mvalue\u001b[39m\u001b[38;5;124m'\u001b[39m: value})[\u001b[38;5;124m'\u001b[39m\u001b[38;5;124mvalue\u001b[39m\u001b[38;5;124m'\u001b[39m]\n",
      "File \u001b[1;32m~\\anaconda3\\Lib\\site-packages\\selenium\\webdriver\\remote\\webdriver.py:321\u001b[0m, in \u001b[0;36mWebDriver.execute\u001b[1;34m(self, driver_command, params)\u001b[0m\n\u001b[0;32m    319\u001b[0m response \u001b[38;5;241m=\u001b[39m \u001b[38;5;28mself\u001b[39m\u001b[38;5;241m.\u001b[39mcommand_executor\u001b[38;5;241m.\u001b[39mexecute(driver_command, params)\n\u001b[0;32m    320\u001b[0m \u001b[38;5;28;01mif\u001b[39;00m response:\n\u001b[1;32m--> 321\u001b[0m     \u001b[38;5;28mself\u001b[39m\u001b[38;5;241m.\u001b[39merror_handler\u001b[38;5;241m.\u001b[39mcheck_response(response)\n\u001b[0;32m    322\u001b[0m     response[\u001b[38;5;124m'\u001b[39m\u001b[38;5;124mvalue\u001b[39m\u001b[38;5;124m'\u001b[39m] \u001b[38;5;241m=\u001b[39m \u001b[38;5;28mself\u001b[39m\u001b[38;5;241m.\u001b[39m_unwrap_value(\n\u001b[0;32m    323\u001b[0m         response\u001b[38;5;241m.\u001b[39mget(\u001b[38;5;124m'\u001b[39m\u001b[38;5;124mvalue\u001b[39m\u001b[38;5;124m'\u001b[39m, \u001b[38;5;28;01mNone\u001b[39;00m))\n\u001b[0;32m    324\u001b[0m     \u001b[38;5;28;01mreturn\u001b[39;00m response\n",
      "File \u001b[1;32m~\\anaconda3\\Lib\\site-packages\\selenium\\webdriver\\remote\\errorhandler.py:242\u001b[0m, in \u001b[0;36mErrorHandler.check_response\u001b[1;34m(self, response)\u001b[0m\n\u001b[0;32m    240\u001b[0m         alert_text \u001b[38;5;241m=\u001b[39m value[\u001b[38;5;124m'\u001b[39m\u001b[38;5;124malert\u001b[39m\u001b[38;5;124m'\u001b[39m]\u001b[38;5;241m.\u001b[39mget(\u001b[38;5;124m'\u001b[39m\u001b[38;5;124mtext\u001b[39m\u001b[38;5;124m'\u001b[39m)\n\u001b[0;32m    241\u001b[0m     \u001b[38;5;28;01mraise\u001b[39;00m exception_class(message, screen, stacktrace, alert_text)\n\u001b[1;32m--> 242\u001b[0m \u001b[38;5;28;01mraise\u001b[39;00m exception_class(message, screen, stacktrace)\n",
      "\u001b[1;31mNoSuchWindowException\u001b[0m: Message: no such window: target window already closed\nfrom unknown error: web view not found\n  (Session info: chrome=116.0.5845.188)\n"
     ]
    }
   ],
   "source": [
    "for next_page in range(1,10) :\n",
    "    # next_page = 'span > a.ico_comm.btn_next'\n",
    "    for page_number in range(2, 11) : # 첫 페이지는 tag가 달라짐\n",
    "        element_path = '#gdasContentsArea > div > div.pageing > a:nth-child({})'.format(page_number)\n",
    "        try : \n",
    "            pagination = browser.find_element_by_css_selector(element_path)\n",
    "            pagination.click()\n",
    "            time.sleep(2)\n",
    "            print(\"성공 : {} \".format(page_number))\n",
    "        except : \n",
    "            print(\"실패 : {} \".format(page_number))\n",
    "    next_page = browser.find_element_by_css_selector('#gdasContentsArea > div > div.pageing > a.next').click()\n",
    "    time.sleep(2)"
   ]
  },
  {
   "cell_type": "markdown",
   "id": "9b8ba1a3-5f09-401f-914d-2ca581e88870",
   "metadata": {},
   "source": [
    "### complete"
   ]
  },
  {
   "cell_type": "code",
   "execution_count": 192,
   "id": "1a4be065-5958-4a53-924f-6f41a992816a",
   "metadata": {
    "tags": []
   },
   "outputs": [],
   "source": [
    "browser = webdriver.Chrome(executable_path='../../chromedriver.exe')\n",
    "browser.get(oliveyoung)"
   ]
  },
  {
   "cell_type": "code",
   "execution_count": 44,
   "id": "3990a185-3213-4697-a4b3-13156b36538e",
   "metadata": {
    "collapsed": true,
    "jupyter": {
     "outputs_hidden": true
    },
    "tags": []
   },
   "outputs": [
    {
     "data": {
      "text/plain": [
       "[['[주현영, 이나연 찐템]딥트 3일 피치(맛)번 30정 (30일분)'],\n",
       " ['경남 칼로 나이트 15포 (15일분)'],\n",
       " ['[올영PICK]콜레올로지 600mg*30정+컷팅젤리2포 (15일분) 기획/단품 중 택1'],\n",
       " ['[올영PICK] 바이탈뷰티 메타그린 슬림업 (14일, 30+7일분 중 택1)'],\n",
       " ['[주현영, 이나연 찐템]딥트 3일 스트롱업 8포 (4일분)'],\n",
       " ['[서현pick]콜레올로지 버닝올로지 디데이 3.8g*5포 (5일분)'],\n",
       " ['티르티르 퍼펙트 더블컷 핑크 56포 (28일분)'],\n",
       " ['grn+ 벨리곰X슬림밸런스 분홍이/초록이 35일분 택 1'],\n",
       " ['[서현Pick]콜레올로지 600mgX60정(1개월분)'],\n",
       " ['NEW 세리박스 세리번 나이트 14포 (2주분)'],\n",
       " ['[서현PICK]콜레올로지 컷팅 젤리 10포+2포 증정(12일분)'],\n",
       " ['경남 칼로 스탑 PLUS 15포 + 칼로 컨트롤 PLUS 15포 기획(30일분)'],\n",
       " ['바이탈뷰티 메타그린 슬림업 30입 단품, 기획 중 택1'],\n",
       " ['[한혜진PICK]바이탈뷰티 메타그린 부스터샷 7일'],\n",
       " ['[9월 올영픽] 센시안 마시는 센시안 14포 (14일분)'],\n",
       " ['센트 센트디 패스트샷 10일 다이어트 리뉴얼 10+2병 2종 중 택 1'],\n",
       " ['grn+ 초록이/분홍이 쓰리데이즈 시즌2 3개입(3일분) 2종 중 택 1'],\n",
       " ['[주현영, 이나연 찐템]딥트 3일 올케어 3일 프로그램 (24입)'],\n",
       " ['[서현pick]콜레올로지 600mg*30정(15일분)+컷팅젤리2포 택 1 (단품/기획)'],\n",
       " ['스키니랩 모로실 다이어트 C3G 테이스티 16포 (8일분)'],\n",
       " ['맥스컷 버닝 400mg 60캡슐 (10일분)'],\n",
       " ['[서현pick]콜레올로지 버닝올로지 티 7,000mg*15포 (15일분)'],\n",
       " ['티르티르 퍼펙트 더블컷 그린 56포 (28일분)'],\n",
       " ['GRN+ 분홍이90정+초록이60정 기획세트 (BT21 에디션) (30일분)(온) 7종 택1']]"
      ]
     },
     "execution_count": 44,
     "metadata": {},
     "output_type": "execute_result"
    }
   ],
   "source": [
    "reviews_list"
   ]
  },
  {
   "cell_type": "markdown",
   "id": "9e446194-4fa8-46f2-8c52-99ccc2d4c011",
   "metadata": {},
   "source": [
    "### 페이지네이션 "
   ]
  },
  {
   "cell_type": "code",
   "execution_count": 134,
   "id": "bc4be3b9-2dd6-4d61-bf09-bb836d9e459c",
   "metadata": {
    "tags": []
   },
   "outputs": [
    {
     "ename": "IndexError",
     "evalue": "list index out of range",
     "output_type": "error",
     "traceback": [
      "\u001b[1;31m---------------------------------------------------------------------------\u001b[0m",
      "\u001b[1;31mIndexError\u001b[0m                                Traceback (most recent call last)",
      "Cell \u001b[1;32mIn[134], line 7\u001b[0m\n\u001b[0;32m      4\u001b[0m \u001b[38;5;28;01mfor\u001b[39;00m i \u001b[38;5;129;01min\u001b[39;00m \u001b[38;5;28mrange\u001b[39m(\u001b[38;5;28mlen\u001b[39m(products_number)): \n\u001b[0;32m      5\u001b[0m     \u001b[38;5;66;03m# 각각의 click_product 클릭\u001b[39;00m\n\u001b[0;32m      6\u001b[0m     products_number \u001b[38;5;241m=\u001b[39m browser\u001b[38;5;241m.\u001b[39mfind_elements_by_css_selector(products_path)  \u001b[38;5;66;03m# 다시 제품 목록 가져오기\u001b[39;00m\n\u001b[1;32m----> 7\u001b[0m     product \u001b[38;5;241m=\u001b[39m products_number[i]  \u001b[38;5;66;03m# i번째 제품 선택\u001b[39;00m\n\u001b[0;32m      8\u001b[0m     product\u001b[38;5;241m.\u001b[39mclick()\n\u001b[0;32m      9\u001b[0m     \u001b[38;5;66;03m#time.sleep(2)\u001b[39;00m\n",
      "\u001b[1;31mIndexError\u001b[0m: list index out of range"
     ]
    }
   ],
   "source": [
    "for productpage in range (2, 7) :\n",
    "    page_path = '#Container > div.pageing > a:nth-child({})'.format(productpage)\n",
    "    pagination = browser.find_element_by_css_selector(page_path)\n",
    "    for i in range(len(products_number)): \n",
    "        # 각각의 click_product 클릭\n",
    "        products_number = browser.find_elements_by_css_selector(products_path)  # 다시 제품 목록 가져오기\n",
    "        product = products_number[i]  # i번째 제품 선택\n",
    "        product.click()\n",
    "        #time.sleep(2)\n",
    "        try : \n",
    "            product_name = browser.find_element_by_css_selector('#Contents > div.prd_detail_box.renew > div.right_area > div > p.prd_name').text\n",
    "        except : \n",
    "            product_name = str()\n",
    "            \n",
    "    time.sleep(2)\n",
    "    pagination.click()"
   ]
  },
  {
   "cell_type": "code",
   "execution_count": 98,
   "id": "364226f0-f679-48bf-9542-d34a4fa847b1",
   "metadata": {
    "collapsed": true,
    "jupyter": {
     "outputs_hidden": true
    },
    "tags": []
   },
   "outputs": [
    {
     "name": "stdout",
     "output_type": "stream",
     "text": [
      "성공 : #Container > div.pageing > a:nth-child(2)\n",
      "성공 : 10 \n",
      "성공 : 10 \n",
      "성공 : 10 \n",
      "성공 : 10 \n",
      "성공 : 10 \n",
      "성공 : 10 \n",
      "성공 : 10 \n",
      "성공 : 10 \n",
      "성공 : 10 \n",
      "성공 : 10 \n",
      "성공 : 10 \n",
      "성공 : 10 \n",
      "성공 : 10 \n",
      "성공 : 10 \n",
      "성공 : 10 \n",
      "성공 : 10 \n",
      "성공 : 10 \n",
      "성공 : 10 \n",
      "성공 : 10 \n",
      "성공 : 10 \n",
      "성공 : 10 \n",
      "실패 : 10 \n",
      "성공 : 10 \n",
      "실패 : 10 \n",
      "성공 : 10 \n",
      "실패 : 10 \n",
      "성공 : 10 \n",
      "실패 : 10 \n"
     ]
    },
    {
     "ename": "StaleElementReferenceException",
     "evalue": "Message: stale element reference: stale element not found\n  (Session info: chrome=116.0.5845.188)\n",
     "output_type": "error",
     "traceback": [
      "\u001b[1;31m---------------------------------------------------------------------------\u001b[0m",
      "\u001b[1;31mStaleElementReferenceException\u001b[0m            Traceback (most recent call last)",
      "Cell \u001b[1;32mIn[98], line 28\u001b[0m\n\u001b[0;32m     26\u001b[0m     \u001b[38;5;28;01mexcept\u001b[39;00m : \n\u001b[0;32m     27\u001b[0m         \u001b[38;5;28mprint\u001b[39m(\u001b[38;5;124m\"\u001b[39m\u001b[38;5;124m실패 : \u001b[39m\u001b[38;5;132;01m{}\u001b[39;00m\u001b[38;5;124m \u001b[39m\u001b[38;5;124m\"\u001b[39m\u001b[38;5;241m.\u001b[39mformat(page_number))\n\u001b[1;32m---> 28\u001b[0m pagination\u001b[38;5;241m.\u001b[39mclick()\n",
      "File \u001b[1;32m~\\anaconda3\\Lib\\site-packages\\selenium\\webdriver\\remote\\webelement.py:80\u001b[0m, in \u001b[0;36mWebElement.click\u001b[1;34m(self)\u001b[0m\n\u001b[0;32m     78\u001b[0m \u001b[38;5;28;01mdef\u001b[39;00m \u001b[38;5;21mclick\u001b[39m(\u001b[38;5;28mself\u001b[39m):\n\u001b[0;32m     79\u001b[0m \u001b[38;5;250m    \u001b[39m\u001b[38;5;124;03m\"\"\"Clicks the element.\"\"\"\u001b[39;00m\n\u001b[1;32m---> 80\u001b[0m     \u001b[38;5;28mself\u001b[39m\u001b[38;5;241m.\u001b[39m_execute(Command\u001b[38;5;241m.\u001b[39mCLICK_ELEMENT)\n",
      "File \u001b[1;32m~\\anaconda3\\Lib\\site-packages\\selenium\\webdriver\\remote\\webelement.py:633\u001b[0m, in \u001b[0;36mWebElement._execute\u001b[1;34m(self, command, params)\u001b[0m\n\u001b[0;32m    631\u001b[0m     params \u001b[38;5;241m=\u001b[39m {}\n\u001b[0;32m    632\u001b[0m params[\u001b[38;5;124m'\u001b[39m\u001b[38;5;124mid\u001b[39m\u001b[38;5;124m'\u001b[39m] \u001b[38;5;241m=\u001b[39m \u001b[38;5;28mself\u001b[39m\u001b[38;5;241m.\u001b[39m_id\n\u001b[1;32m--> 633\u001b[0m \u001b[38;5;28;01mreturn\u001b[39;00m \u001b[38;5;28mself\u001b[39m\u001b[38;5;241m.\u001b[39m_parent\u001b[38;5;241m.\u001b[39mexecute(command, params)\n",
      "File \u001b[1;32m~\\anaconda3\\Lib\\site-packages\\selenium\\webdriver\\remote\\webdriver.py:321\u001b[0m, in \u001b[0;36mWebDriver.execute\u001b[1;34m(self, driver_command, params)\u001b[0m\n\u001b[0;32m    319\u001b[0m response \u001b[38;5;241m=\u001b[39m \u001b[38;5;28mself\u001b[39m\u001b[38;5;241m.\u001b[39mcommand_executor\u001b[38;5;241m.\u001b[39mexecute(driver_command, params)\n\u001b[0;32m    320\u001b[0m \u001b[38;5;28;01mif\u001b[39;00m response:\n\u001b[1;32m--> 321\u001b[0m     \u001b[38;5;28mself\u001b[39m\u001b[38;5;241m.\u001b[39merror_handler\u001b[38;5;241m.\u001b[39mcheck_response(response)\n\u001b[0;32m    322\u001b[0m     response[\u001b[38;5;124m'\u001b[39m\u001b[38;5;124mvalue\u001b[39m\u001b[38;5;124m'\u001b[39m] \u001b[38;5;241m=\u001b[39m \u001b[38;5;28mself\u001b[39m\u001b[38;5;241m.\u001b[39m_unwrap_value(\n\u001b[0;32m    323\u001b[0m         response\u001b[38;5;241m.\u001b[39mget(\u001b[38;5;124m'\u001b[39m\u001b[38;5;124mvalue\u001b[39m\u001b[38;5;124m'\u001b[39m, \u001b[38;5;28;01mNone\u001b[39;00m))\n\u001b[0;32m    324\u001b[0m     \u001b[38;5;28;01mreturn\u001b[39;00m response\n",
      "File \u001b[1;32m~\\anaconda3\\Lib\\site-packages\\selenium\\webdriver\\remote\\errorhandler.py:242\u001b[0m, in \u001b[0;36mErrorHandler.check_response\u001b[1;34m(self, response)\u001b[0m\n\u001b[0;32m    240\u001b[0m         alert_text \u001b[38;5;241m=\u001b[39m value[\u001b[38;5;124m'\u001b[39m\u001b[38;5;124malert\u001b[39m\u001b[38;5;124m'\u001b[39m]\u001b[38;5;241m.\u001b[39mget(\u001b[38;5;124m'\u001b[39m\u001b[38;5;124mtext\u001b[39m\u001b[38;5;124m'\u001b[39m)\n\u001b[0;32m    241\u001b[0m     \u001b[38;5;28;01mraise\u001b[39;00m exception_class(message, screen, stacktrace, alert_text)\n\u001b[1;32m--> 242\u001b[0m \u001b[38;5;28;01mraise\u001b[39;00m exception_class(message, screen, stacktrace)\n",
      "\u001b[1;31mStaleElementReferenceException\u001b[0m: Message: stale element reference: stale element not found\n  (Session info: chrome=116.0.5845.188)\n"
     ]
    }
   ],
   "source": [
    "reviews_list = []\n",
    "products_path = 'div > div > a > p'\n",
    "products_number = browser.find_elements_by_css_selector(products_path)\n",
    "\n",
    "# 제품의 페이지네이션\n",
    "for productpage in range (2, 6) :\n",
    "    page_path = '#Container > div.pageing > a:nth-child({})'.format(productpage)\n",
    "    pagination = browser.find_element_by_css_selector(page_path)\n",
    "    print('성공 : {}'.format(page_path))\n",
    "    \n",
    "    products_path = 'div > div > a > p'\n",
    "    products_number = browser.find_elements_by_css_selector(products_path)\n",
    "    for i in range(len(products_number)): \n",
    "        try :\n",
    "            print(\"성공 : {} \".format(page_number))\n",
    "            # 각각의 click_product 클릭\n",
    "            products_number = browser.find_elements_by_css_selector(products_path)  # 다시 제품 목록 가져오기\n",
    "            product = products_number[i]  # i번째 제품 선택\n",
    "            product.click()\n",
    "            #time.sleep(2)\n",
    "\n",
    "            review_name = browser.find_element_by_css_selector('#Contents > div.prd_detail_box.renew > div.right_area > div > p.prd_name').text\n",
    "            review_info = [review_name]\n",
    "            reviews_list.append(review_info)\n",
    "            browser.back() #팝업 닫기\n",
    "        except : \n",
    "            print(\"실패 : {} \".format(page_number))\n",
    "    pagination.click()"
   ]
  },
  {
   "cell_type": "code",
   "execution_count": 201,
   "id": "799cd09a-c48f-42cc-81e3-fe3dfece5134",
   "metadata": {
    "tags": []
   },
   "outputs": [],
   "source": [
    "browser = webdriver.Chrome(executable_path='../../chromedriver.exe')\n",
    "browser.get(oliveyoung)"
   ]
  },
  {
   "cell_type": "code",
   "execution_count": 160,
   "id": "3443abd6-3e4f-4115-bc97-fbc17386e114",
   "metadata": {
    "tags": []
   },
   "outputs": [
    {
     "data": {
      "text/plain": [
       "'(67)'"
      ]
     },
     "execution_count": 160,
     "metadata": {},
     "output_type": "execute_result"
    }
   ],
   "source": [
    "#리뷰 총갯수 \n",
    "review_count = browser.find_element_by_css_selector('#reviewInfo > a > span').text\n",
    "review_count"
   ]
  },
  {
   "cell_type": "code",
   "execution_count": 169,
   "id": "923685e4-5736-424f-b925-2ef28fd14548",
   "metadata": {
    "tags": []
   },
   "outputs": [
    {
     "data": {
      "text/plain": [
       "572"
      ]
     },
     "execution_count": 169,
     "metadata": {},
     "output_type": "execute_result"
    }
   ],
   "source": [
    "import re #regexpress Function \n",
    "number = int(re.sub(r'[^0-9]', '', review_count))\n",
    "number"
   ]
  },
  {
   "cell_type": "code",
   "execution_count": 168,
   "id": "ef8a47fa-3ae7-4a2a-8079-8bd10a20854e",
   "metadata": {
    "tags": []
   },
   "outputs": [
    {
     "data": {
      "text/plain": [
       "57"
      ]
     },
     "execution_count": 168,
     "metadata": {},
     "output_type": "execute_result"
    }
   ],
   "source": [
    "loop_count = int(number/10)\n",
    "loop_count"
   ]
  },
  {
   "cell_type": "code",
   "execution_count": 4,
   "id": "777d5921-4ebe-4279-b3a4-35636bd14569",
   "metadata": {
    "tags": []
   },
   "outputs": [
    {
     "ename": "NoSuchElementException",
     "evalue": "Message: no such element: Unable to locate element: {\"method\":\"css selector\",\"selector\":\"#reviewInfo\"}\n  (Session info: chrome=116.0.5845.188)\n",
     "output_type": "error",
     "traceback": [
      "\u001b[1;31m---------------------------------------------------------------------------\u001b[0m",
      "\u001b[1;31mNoSuchElementException\u001b[0m                    Traceback (most recent call last)",
      "Cell \u001b[1;32mIn[4], line 32\u001b[0m\n\u001b[0;32m     29\u001b[0m     product_name \u001b[38;5;241m=\u001b[39m \u001b[38;5;28mstr\u001b[39m()\n\u001b[0;32m     31\u001b[0m \u001b[38;5;66;03m# 리뷰 이동 \u001b[39;00m\n\u001b[1;32m---> 32\u001b[0m click_reviews \u001b[38;5;241m=\u001b[39m browser\u001b[38;5;241m.\u001b[39mfind_element_by_css_selector(\u001b[38;5;124m'\u001b[39m\u001b[38;5;124m#reviewInfo\u001b[39m\u001b[38;5;124m'\u001b[39m)\u001b[38;5;241m.\u001b[39mclick()\n\u001b[0;32m     33\u001b[0m \u001b[38;5;28;01mfor\u001b[39;00m next_page \u001b[38;5;129;01min\u001b[39;00m \u001b[38;5;28mrange\u001b[39m(\u001b[38;5;241m1\u001b[39m, \u001b[38;5;241m10\u001b[39m):\n\u001b[0;32m     34\u001b[0m     \u001b[38;5;28;01mfor\u001b[39;00m page_number \u001b[38;5;129;01min\u001b[39;00m \u001b[38;5;28mrange\u001b[39m(\u001b[38;5;241m2\u001b[39m, \u001b[38;5;241m11\u001b[39m):  \u001b[38;5;66;03m# 첫 페이지는 tag가 달라짐\u001b[39;00m\n",
      "File \u001b[1;32m~\\anaconda3\\Lib\\site-packages\\selenium\\webdriver\\remote\\webdriver.py:598\u001b[0m, in \u001b[0;36mWebDriver.find_element_by_css_selector\u001b[1;34m(self, css_selector)\u001b[0m\n\u001b[0;32m    582\u001b[0m \u001b[38;5;28;01mdef\u001b[39;00m \u001b[38;5;21mfind_element_by_css_selector\u001b[39m(\u001b[38;5;28mself\u001b[39m, css_selector):\n\u001b[0;32m    583\u001b[0m \u001b[38;5;250m    \u001b[39m\u001b[38;5;124;03m\"\"\"\u001b[39;00m\n\u001b[0;32m    584\u001b[0m \u001b[38;5;124;03m    Finds an element by css selector.\u001b[39;00m\n\u001b[0;32m    585\u001b[0m \n\u001b[1;32m   (...)\u001b[0m\n\u001b[0;32m    596\u001b[0m \u001b[38;5;124;03m        element = driver.find_element_by_css_selector('#foo')\u001b[39;00m\n\u001b[0;32m    597\u001b[0m \u001b[38;5;124;03m    \"\"\"\u001b[39;00m\n\u001b[1;32m--> 598\u001b[0m     \u001b[38;5;28;01mreturn\u001b[39;00m \u001b[38;5;28mself\u001b[39m\u001b[38;5;241m.\u001b[39mfind_element(by\u001b[38;5;241m=\u001b[39mBy\u001b[38;5;241m.\u001b[39mCSS_SELECTOR, value\u001b[38;5;241m=\u001b[39mcss_selector)\n",
      "File \u001b[1;32m~\\anaconda3\\Lib\\site-packages\\selenium\\webdriver\\remote\\webdriver.py:976\u001b[0m, in \u001b[0;36mWebDriver.find_element\u001b[1;34m(self, by, value)\u001b[0m\n\u001b[0;32m    974\u001b[0m         by \u001b[38;5;241m=\u001b[39m By\u001b[38;5;241m.\u001b[39mCSS_SELECTOR\n\u001b[0;32m    975\u001b[0m         value \u001b[38;5;241m=\u001b[39m \u001b[38;5;124m'\u001b[39m\u001b[38;5;124m[name=\u001b[39m\u001b[38;5;124m\"\u001b[39m\u001b[38;5;132;01m%s\u001b[39;00m\u001b[38;5;124m\"\u001b[39m\u001b[38;5;124m]\u001b[39m\u001b[38;5;124m'\u001b[39m \u001b[38;5;241m%\u001b[39m value\n\u001b[1;32m--> 976\u001b[0m \u001b[38;5;28;01mreturn\u001b[39;00m \u001b[38;5;28mself\u001b[39m\u001b[38;5;241m.\u001b[39mexecute(Command\u001b[38;5;241m.\u001b[39mFIND_ELEMENT, {\n\u001b[0;32m    977\u001b[0m     \u001b[38;5;124m'\u001b[39m\u001b[38;5;124musing\u001b[39m\u001b[38;5;124m'\u001b[39m: by,\n\u001b[0;32m    978\u001b[0m     \u001b[38;5;124m'\u001b[39m\u001b[38;5;124mvalue\u001b[39m\u001b[38;5;124m'\u001b[39m: value})[\u001b[38;5;124m'\u001b[39m\u001b[38;5;124mvalue\u001b[39m\u001b[38;5;124m'\u001b[39m]\n",
      "File \u001b[1;32m~\\anaconda3\\Lib\\site-packages\\selenium\\webdriver\\remote\\webdriver.py:321\u001b[0m, in \u001b[0;36mWebDriver.execute\u001b[1;34m(self, driver_command, params)\u001b[0m\n\u001b[0;32m    319\u001b[0m response \u001b[38;5;241m=\u001b[39m \u001b[38;5;28mself\u001b[39m\u001b[38;5;241m.\u001b[39mcommand_executor\u001b[38;5;241m.\u001b[39mexecute(driver_command, params)\n\u001b[0;32m    320\u001b[0m \u001b[38;5;28;01mif\u001b[39;00m response:\n\u001b[1;32m--> 321\u001b[0m     \u001b[38;5;28mself\u001b[39m\u001b[38;5;241m.\u001b[39merror_handler\u001b[38;5;241m.\u001b[39mcheck_response(response)\n\u001b[0;32m    322\u001b[0m     response[\u001b[38;5;124m'\u001b[39m\u001b[38;5;124mvalue\u001b[39m\u001b[38;5;124m'\u001b[39m] \u001b[38;5;241m=\u001b[39m \u001b[38;5;28mself\u001b[39m\u001b[38;5;241m.\u001b[39m_unwrap_value(\n\u001b[0;32m    323\u001b[0m         response\u001b[38;5;241m.\u001b[39mget(\u001b[38;5;124m'\u001b[39m\u001b[38;5;124mvalue\u001b[39m\u001b[38;5;124m'\u001b[39m, \u001b[38;5;28;01mNone\u001b[39;00m))\n\u001b[0;32m    324\u001b[0m     \u001b[38;5;28;01mreturn\u001b[39;00m response\n",
      "File \u001b[1;32m~\\anaconda3\\Lib\\site-packages\\selenium\\webdriver\\remote\\errorhandler.py:242\u001b[0m, in \u001b[0;36mErrorHandler.check_response\u001b[1;34m(self, response)\u001b[0m\n\u001b[0;32m    240\u001b[0m         alert_text \u001b[38;5;241m=\u001b[39m value[\u001b[38;5;124m'\u001b[39m\u001b[38;5;124malert\u001b[39m\u001b[38;5;124m'\u001b[39m]\u001b[38;5;241m.\u001b[39mget(\u001b[38;5;124m'\u001b[39m\u001b[38;5;124mtext\u001b[39m\u001b[38;5;124m'\u001b[39m)\n\u001b[0;32m    241\u001b[0m     \u001b[38;5;28;01mraise\u001b[39;00m exception_class(message, screen, stacktrace, alert_text)\n\u001b[1;32m--> 242\u001b[0m \u001b[38;5;28;01mraise\u001b[39;00m exception_class(message, screen, stacktrace)\n",
      "\u001b[1;31mNoSuchElementException\u001b[0m: Message: no such element: Unable to locate element: {\"method\":\"css selector\",\"selector\":\"#reviewInfo\"}\n  (Session info: chrome=116.0.5845.188)\n"
     ]
    }
   ],
   "source": [
    "client = mg.MongoClient(host='mongodb://localhost:27017')\n",
    "database = client['project_dietsupplements']\n",
    "collection = database['oliveyoung_data2']\n",
    "\n",
    "oliveyoung_list = []\n",
    "oliveyoung_info_name = ['product_name', 'review_name', 'review_content', 'review_date', 'review_rating']\n",
    "\n",
    "# 제품 리스트 가져오기 \n",
    "products_path = 'div > div > a > p'\n",
    "products_number = browser.find_elements_by_css_selector(products_path)\n",
    "# 제품의 페이지네이션\n",
    "for productpage in range (2, 7) :\n",
    "    try : \n",
    "        page_path = '#Container > div.pageing > a:nth-child({})'.format(productpage)\n",
    "        pagination_page = browser.find_element_by_css_selector(page_path)\n",
    "        pagination_page.click()\n",
    "    except :\n",
    "        pass\n",
    "\n",
    "    for i in range(len(products_number)): \n",
    "        # 각각의 click_product 클릭\n",
    "        products_number = browser.find_elements_by_css_selector(products_path)  # 다시 제품 목록 가져오기\n",
    "        product = products_number[i]  # i번째 제품 선택\n",
    "        product.click()\n",
    "        #time.sleep(3)\n",
    "        try : \n",
    "            product_name = browser.find_element_by_css_selector('div.right_area > div > p.prd_name').text\n",
    "        except : \n",
    "            product_name = str()\n",
    "\n",
    "        # 리뷰 이동 \n",
    "        click_reviews = browser.find_element_by_css_selector('#reviewInfo').click()\n",
    "        for next_page in range(1, 10):\n",
    "            for page_number in range(2, 11):  # 첫 페이지는 tag가 달라짐\n",
    "                element_path = '#gdasContentsArea > div > div.pageing > a:nth-child({})'.format(page_number)\n",
    "                try: \n",
    "\n",
    "                    reviews_list = []\n",
    "                    for i in range(1, 11):  # 1부터 10까지 반복\n",
    "                        selector = '#gdasList > li:nth-child({})'.format(i)\n",
    "                        review_elements = browser.find_elements_by_css_selector(selector)\n",
    "\n",
    "                        for review in review_elements:\n",
    "                            review.click()\n",
    "                            #time.sleep(2) #term을 주기\n",
    "                            try:\n",
    "                                review_name = review.find_element_by_css_selector('div.info > div > p > a').text\n",
    "                            except:\n",
    "                                review_name = str()\n",
    "                            try:\n",
    "                                review_content = review.find_element_by_css_selector('div.review_cont > div.txt_inner').text\n",
    "                            except:\n",
    "                                review_content = str()\n",
    "                            try : \n",
    "                                review_date = review.find_element_by_css_selector('div.review_cont > div.score_area > span.date').text\n",
    "                            except : \n",
    "                                review_date = str()\n",
    "                            try:\n",
    "                                review_rating = review.find_element_by_css_selector('div.score_area > span.review_point > span').text\n",
    "                            except:\n",
    "                                review_rating = str()\n",
    "\n",
    "                            review_info = [product_name,review_name, review_content, review_date, review_rating]\n",
    "                            reviews_list.append(review_info)\n",
    "\n",
    "                    oliveyoung_list.extend(reviews_list)\n",
    "                    reviews_list = []\n",
    "\n",
    "                    # 다음 페이지로 이동\n",
    "                    pagination = browser.find_element_by_css_selector(element_path)\n",
    "                    pagination.click()\n",
    "                    #time.sleep(3)\n",
    "\n",
    "                    # 저장을 위한 작업 \n",
    "                    df_oliveyoung = pd.DataFrame(data=oliveyoung_list, columns=oliveyoung_info_name)\n",
    "                    data_dict = df_oliveyoung.to_dict(orient='records')\n",
    "                    collection.insert_many(data_dict)\n",
    "\n",
    "                except: \n",
    "                    pass\n",
    "\n",
    "        # 리뷰 정보를 모두 가져온 후에 리뷰 팝업 닫기\n",
    "        browser.back()  # 리뷰 페이지로 돌아가기\n",
    "    #time.sleep(3)\n",
    "    print('성공 : {}'.format(page_path))"
   ]
  },
  {
   "cell_type": "code",
   "execution_count": 191,
   "id": "a509c0ca-c2ff-4f09-9266-8ba06cbc240a",
   "metadata": {
    "tags": []
   },
   "outputs": [
    {
     "name": "stdout",
     "output_type": "stream",
     "text": [
      "성공 : #Container > div.pageing > a:nth-child(2)\n",
      "성공 : #Container > div.pageing > a:nth-child(2)\n",
      "성공 : #Container > div.pageing > a:nth-child(2)\n",
      "성공 : #Container > div.pageing > a:nth-child(2)\n",
      "성공 : #Container > div.pageing > a:nth-child(2)\n",
      "성공 : #Container > div.pageing > a:nth-child(2)\n",
      "성공 : #Container > div.pageing > a:nth-child(2)\n"
     ]
    }
   ],
   "source": [
    "client = mg.MongoClient(host='mongodb://localhost:27017')\n",
    "database = client['project_dietsupplements']\n",
    "collection = database['oliveyoung_data']\n",
    "\n",
    "oliveyoung_list = []\n",
    "oliveyoung_info_name = ['product_name', 'review_name', 'review_content', 'review_date', 'review_rating']\n",
    "\n",
    "# 제품 리스트 가져오기 \n",
    "products_path = 'div > div > a > p'\n",
    "products_number = browser.find_elements_by_css_selector(products_path)\n",
    "\n",
    "# 제품의 페이지네이션\n",
    "for productpage in range (1, 7) : \n",
    "    try : \n",
    "        page_path = '#Container > div.pageing > a:nth-child({})'.format(productpage)\n",
    "        pagination_page = browser.find_element_by_css_selector(page_path)\n",
    "        pagination_page.click()\n",
    "\n",
    "        for i in range(len(products_number)): \n",
    "            # 각각의 click_product 클릭\n",
    "            products_number = browser.find_elements_by_css_selector(products_path)  # 다시 제품 목록 가져오기\n",
    "            product = products_number[i]  # i번째 제품 선택\n",
    "            product.click()\n",
    "            time.sleep(3)\n",
    "            try : \n",
    "                product_name = browser.find_element_by_css_selector('div.right_area > div > p.prd_name').text\n",
    "            except : \n",
    "                product_name = str()\n",
    "\n",
    "            # 리뷰 이동 \n",
    "            click_reviews = browser.find_element_by_css_selector('#reviewInfo').click()\n",
    "            \n",
    "            #리뷰 총갯수 \n",
    "            review_count = browser.find_element_by_css_selector('#reviewInfo > a > span').text\n",
    "            import re #regexpress Function \n",
    "            number = int(re.sub(r'[^0-9]', '', review_count))\n",
    "            \n",
    "            loop_count = int(number/10)\n",
    "            for i in range(1, 11):  # 1부터 10까지 반복\n",
    "                for i in range(2, loop_count+1):  # 첫 페이지는 tag가 달라짐\n",
    "                    element_path = '#gdasContentsArea > div > div.pageing > a:nth-child({})'.format(page_number)\n",
    "                    try: \n",
    "\n",
    "                        reviews_list = []\n",
    "                        for i in range(1, 11):  # 1부터 10까지 반복\n",
    "                            selector = '#gdasList > li:nth-child({})'.format(i)\n",
    "                            review_elements = browser.find_elements_by_css_selector(selector)\n",
    "\n",
    "                            for review in review_elements:\n",
    "                                review.click()\n",
    "                                #time.sleep(2) #term을 주기\n",
    "                                try:\n",
    "                                    review_name = review.find_element_by_css_selector('div.info > div > p > a').text\n",
    "                                except:\n",
    "                                    review_name = str()\n",
    "                                try:\n",
    "                                    review_content = review.find_element_by_css_selector('div.review_cont > div.txt_inner').text\n",
    "                                except:\n",
    "                                    review_content = str()\n",
    "                                try : \n",
    "                                    review_date = review.find_element_by_css_selector('div.review_cont > div.score_area > span.date').text\n",
    "                                except : \n",
    "                                    review_date = str()\n",
    "                                try:\n",
    "                                    review_rating = review.find_element_by_css_selector('div.score_area > span.review_point > span').text\n",
    "                                except:\n",
    "                                    review_rating = str()\n",
    "\n",
    "                                review_info = [product_name,review_name, review_content, review_date, review_rating]\n",
    "                                reviews_list.append(review_info)\n",
    "\n",
    "                            oliveyoung_list.extend(reviews_list)\n",
    "                            reviews_list = []\n",
    "\n",
    "                        # 다음 페이지로 이동\n",
    "                        pagination = browser.find_element_by_css_selector(element_path)\n",
    "                        pagination.click()\n",
    "                        time.sleep(3)\n",
    "\n",
    "                        # 저장을 위한 작업 \n",
    "                        df_oliveyoung = pd.DataFrame(data=oliveyoung_list, columns=oliveyoung_info_name)\n",
    "                        data_dict = df_oliveyoung.to_dict(orient='records')\n",
    "                        collection.insert_many(data_dict)\n",
    "\n",
    "                    except: \n",
    "                        pass\n",
    "\n",
    "            # 리뷰 정보를 모두 가져온 후에 리뷰 팝업 닫기\n",
    "            browser.back()  # 리뷰 페이지로 돌아가기\n",
    "            time.sleep(3)\n",
    "            print('성공 : {}'.format(page_path))\n",
    "    except:\n",
    "        pass"
   ]
  },
  {
   "cell_type": "code",
   "execution_count": 127,
   "id": "b0fe54c2-3d56-46bd-97c4-1c49027ce18f",
   "metadata": {},
   "outputs": [
    {
     "data": {
      "text/plain": [
       "[]"
      ]
     },
     "execution_count": 127,
     "metadata": {},
     "output_type": "execute_result"
    }
   ],
   "source": []
  },
  {
   "cell_type": "code",
   "execution_count": null,
   "id": "217750be-4e42-4bd3-93be-748bce89ce0e",
   "metadata": {},
   "outputs": [],
   "source": []
  }
 ],
 "metadata": {
  "kernelspec": {
   "display_name": "Python 3 (ipykernel)",
   "language": "python",
   "name": "python3"
  },
  "language_info": {
   "codemirror_mode": {
    "name": "ipython",
    "version": 3
   },
   "file_extension": ".py",
   "mimetype": "text/x-python",
   "name": "python",
   "nbconvert_exporter": "python",
   "pygments_lexer": "ipython3",
   "version": "3.11.3"
  }
 },
 "nbformat": 4,
 "nbformat_minor": 5
}
